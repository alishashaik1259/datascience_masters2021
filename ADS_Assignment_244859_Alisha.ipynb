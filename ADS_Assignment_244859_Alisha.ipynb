{
  "cells": [
    {
      "cell_type": "markdown",
      "metadata": {
        "id": "view-in-github",
        "colab_type": "text"
      },
      "source": [
        "<a href=\"https://colab.research.google.com/github/alishashaik1259/datascience_masters2021/blob/main/ADS_Assignment_244859_Alisha.ipynb\" target=\"_parent\"><img src=\"https://colab.research.google.com/assets/colab-badge.svg\" alt=\"Open In Colab\"/></a>"
      ]
    },
    {
      "cell_type": "markdown",
      "metadata": {
        "id": "EQPG0WtDtG_U"
      },
      "source": [
        "# Introduction"
      ]
    },
    {
      "cell_type": "markdown",
      "metadata": {
        "id": "vrCs1d1QtG_X"
      },
      "source": [
        "The main goal of this assignment is to study the time complexities of algorithms that are used for finding the similarities between documents theoretically and empirically. This report contains total 5 questions which deals with mainly 2 algorithms Jaccard_similarity and Cosine similarity and types in them. "
      ]
    },
    {
      "cell_type": "code",
      "execution_count": null,
      "metadata": {
        "id": "25Dl8u1htG_X",
        "outputId": "e3631ab9-8f91-4fd5-d4fe-aef6b89f96a5"
      },
      "outputs": [
        {
          "name": "stdout",
          "output_type": "stream",
          "text": [
            "Requirement already satisfied: multiprocess in /Users/alishashaik/opt/anaconda3/lib/python3.8/site-packages (0.70.12.2)\n",
            "Requirement already satisfied: dill>=0.3.4 in /Users/alishashaik/opt/anaconda3/lib/python3.8/site-packages (from multiprocess) (0.3.4)\n",
            "Note: you may need to restart the kernel to use updated packages.\n"
          ]
        }
      ],
      "source": [
        "pip install multiprocess"
      ]
    },
    {
      "cell_type": "code",
      "execution_count": null,
      "metadata": {
        "id": "jcK56GREtG_Z"
      },
      "outputs": [],
      "source": [
        "#importing module\n",
        "import nltk\n",
        "import numpy as np\n",
        "%matplotlib inline\n",
        "import matplotlib.pyplot as plt\n",
        "import numpy as np\n",
        "import scipy.stats as stats\n",
        "import pandas as pd\n",
        "import time\n",
        "\n",
        "import operator\n",
        "from multiprocess import Pool\n",
        "from collections import defaultdict"
      ]
    },
    {
      "cell_type": "code",
      "execution_count": null,
      "metadata": {
        "id": "DCRHxuzrtG_Z",
        "outputId": "9c2017e4-5fc5-4f39-a99f-d3ea45a4a155"
      },
      "outputs": [
        {
          "name": "stderr",
          "output_type": "stream",
          "text": [
            "[nltk_data] Downloading package gutenberg to\n",
            "[nltk_data]     /Users/alishashaik/nltk_data...\n",
            "[nltk_data]   Package gutenberg is already up-to-date!\n"
          ]
        },
        {
          "data": {
            "text/plain": [
              "True"
            ]
          },
          "execution_count": 19,
          "metadata": {},
          "output_type": "execute_result"
        }
      ],
      "source": [
        "nltk.download('gutenberg')"
      ]
    },
    {
      "cell_type": "code",
      "execution_count": null,
      "metadata": {
        "colab": {
          "base_uri": "https://localhost:8080/"
        },
        "id": "k9fSYZ3hyAaB",
        "outputId": "9d4c1de3-fee7-4e7c-d1b6-d37c5a2763ee"
      },
      "outputs": [
        {
          "data": {
            "text/plain": [
              "18"
            ]
          },
          "execution_count": 20,
          "metadata": {},
          "output_type": "execute_result"
        }
      ],
      "source": [
        "#getting the number of books in gutenberg corpus\n",
        "from nltk.corpus import gutenberg\n",
        "book_ids=gutenberg.fileids()\n",
        "books={b:gutenberg.words(b) for b in book_ids}\n",
        "len(books)"
      ]
    },
    {
      "cell_type": "code",
      "execution_count": null,
      "metadata": {
        "colab": {
          "base_uri": "https://localhost:8080/"
        },
        "id": "1m0YOYpWvc0o",
        "outputId": "5d32eeb9-465f-459b-da1c-0ed979ff0bdc"
      },
      "outputs": [
        {
          "data": {
            "text/plain": [
              "2621613"
            ]
          },
          "execution_count": 21,
          "metadata": {},
          "output_type": "execute_result"
        }
      ],
      "source": [
        "#getting all the words from books and adding it to a list\n",
        "gutenberg_corpus1=[]\n",
        "for b in books.values():\n",
        "    gutenberg_corpus1+=list(b)\n",
        "    \n",
        "len(gutenberg_corpus1)"
      ]
    },
    {
      "cell_type": "code",
      "execution_count": null,
      "metadata": {
        "colab": {
          "base_uri": "https://localhost:8080/"
        },
        "id": "lN3UYGhExGow",
        "outputId": "12c501eb-fa2c-4cd9-80db-4df8c0e12d87"
      },
      "outputs": [
        {
          "data": {
            "text/plain": [
              "['[', 'Emma', 'by', 'Jane', 'Austen', '1816', ']', 'VOLUME', 'I', 'CHAPTER']"
            ]
          },
          "execution_count": 22,
          "metadata": {},
          "output_type": "execute_result"
        }
      ],
      "source": [
        "#displaying created gutenberg_corpus list of words\n",
        "gutenberg_corpus1[:10]"
      ]
    },
    {
      "cell_type": "code",
      "execution_count": null,
      "metadata": {
        "id": "Gkq3eP-ktG_b"
      },
      "outputs": [],
      "source": [
        "#Creating unique words for worsr case scenarios\n",
        "i=0\n",
        "gutenberg_corpus=[]\n",
        "for j in gutenberg_corpus1[0:500001]:\n",
        "        \n",
        "        j=j+str(i)\n",
        "        i=i+1\n",
        "        gutenberg_corpus.append(j)\n",
        "        #print(j)"
      ]
    },
    {
      "cell_type": "code",
      "execution_count": null,
      "metadata": {
        "id": "l1wSxBi6SvHJ"
      },
      "outputs": [],
      "source": [
        "#creating the documents with different word sizes\n",
        "x = gutenberg_corpus[:500000]\n",
        "docs=[]\n",
        "chunks= len(x)\n",
        "for i in range(500, 500000, 500):\n",
        "  docs.append(x[i-500:i+i])"
      ]
    },
    {
      "cell_type": "code",
      "execution_count": null,
      "metadata": {
        "colab": {
          "base_uri": "https://localhost:8080/"
        },
        "id": "S7F2SczT7Qs9",
        "outputId": "9d4600d4-a87d-4705-9262-39644b394459"
      },
      "outputs": [
        {
          "name": "stdout",
          "output_type": "stream",
          "text": [
            "Number of documents created 999\n",
            "The lengths of documents are [1000, 1500, 2000, 2500, 3000, 3500, 4000, 4500, 5000, 5500, 6000, 6500, 7000]\n"
          ]
        }
      ],
      "source": [
        "#checking the document sizes\n",
        "lengths=[]\n",
        "for i in range(0,999):\n",
        "  lengths.append(len(docs[i]))\n",
        "\n",
        "print('Number of documents created', len(docs))\n",
        "print('The lengths of documents are', lengths[:13])"
      ]
    },
    {
      "cell_type": "code",
      "execution_count": null,
      "metadata": {
        "id": "2fdOF1Wk0TaG"
      },
      "outputs": [],
      "source": [
        "#function which creates dictionaries of words and their frequencies\n",
        "def make_dict(tokenlist):\n",
        "    res_dict={}\n",
        "    for token in tokenlist:\n",
        "        res_dict[token]=res_dict.get(token,0)+1 \n",
        "    return res_dict"
      ]
    },
    {
      "cell_type": "markdown",
      "metadata": {
        "id": "id1WHzFbtG_d"
      },
      "source": [
        "Here you can see that the size bag of words matches the length of list from which it is created indicating all the words in the bag are unique."
      ]
    },
    {
      "cell_type": "code",
      "execution_count": null,
      "metadata": {
        "id": "46qTHihub9B8",
        "outputId": "6d7e29aa-63f9-43cf-9120-1bc11cd6f5d2"
      },
      "outputs": [
        {
          "name": "stdout",
          "output_type": "stream",
          "text": [
            "Length of the parent list docs[0] is 1000 \n",
            "The length of the bag of words docdicts12[0] is 1000\n"
          ]
        },
        {
          "data": {
            "text/plain": [
              "{'[0': 1,\n",
              " 'Emma1': 1,\n",
              " 'by2': 1,\n",
              " 'Jane3': 1,\n",
              " 'Austen4': 1,\n",
              " '18165': 1,\n",
              " ']6': 1,\n",
              " 'VOLUME7': 1,\n",
              " 'I8': 1,\n",
              " 'CHAPTER9': 1,\n",
              " 'I10': 1,\n",
              " 'Emma11': 1,\n",
              " 'Woodhouse12': 1,\n",
              " ',13': 1,\n",
              " 'handsome14': 1,\n",
              " ',15': 1,\n",
              " 'clever16': 1,\n",
              " ',17': 1,\n",
              " 'and18': 1,\n",
              " 'rich19': 1,\n",
              " ',20': 1,\n",
              " 'with21': 1,\n",
              " 'a22': 1,\n",
              " 'comfortable23': 1,\n",
              " 'home24': 1,\n",
              " 'and25': 1,\n",
              " 'happy26': 1,\n",
              " 'disposition27': 1,\n",
              " ',28': 1,\n",
              " 'seemed29': 1,\n",
              " 'to30': 1,\n",
              " 'unite31': 1,\n",
              " 'some32': 1,\n",
              " 'of33': 1,\n",
              " 'the34': 1,\n",
              " 'best35': 1,\n",
              " 'blessings36': 1,\n",
              " 'of37': 1,\n",
              " 'existence38': 1,\n",
              " ';39': 1,\n",
              " 'and40': 1,\n",
              " 'had41': 1,\n",
              " 'lived42': 1,\n",
              " 'nearly43': 1,\n",
              " 'twenty44': 1,\n",
              " '-45': 1,\n",
              " 'one46': 1,\n",
              " 'years47': 1,\n",
              " 'in48': 1,\n",
              " 'the49': 1,\n",
              " 'world50': 1,\n",
              " 'with51': 1,\n",
              " 'very52': 1,\n",
              " 'little53': 1,\n",
              " 'to54': 1,\n",
              " 'distress55': 1,\n",
              " 'or56': 1,\n",
              " 'vex57': 1,\n",
              " 'her58': 1,\n",
              " '.59': 1,\n",
              " 'She60': 1,\n",
              " 'was61': 1,\n",
              " 'the62': 1,\n",
              " 'youngest63': 1,\n",
              " 'of64': 1,\n",
              " 'the65': 1,\n",
              " 'two66': 1,\n",
              " 'daughters67': 1,\n",
              " 'of68': 1,\n",
              " 'a69': 1,\n",
              " 'most70': 1,\n",
              " 'affectionate71': 1,\n",
              " ',72': 1,\n",
              " 'indulgent73': 1,\n",
              " 'father74': 1,\n",
              " ';75': 1,\n",
              " 'and76': 1,\n",
              " 'had77': 1,\n",
              " ',78': 1,\n",
              " 'in79': 1,\n",
              " 'consequence80': 1,\n",
              " 'of81': 1,\n",
              " 'her82': 1,\n",
              " 'sister83': 1,\n",
              " \"'84\": 1,\n",
              " 's85': 1,\n",
              " 'marriage86': 1,\n",
              " ',87': 1,\n",
              " 'been88': 1,\n",
              " 'mistress89': 1,\n",
              " 'of90': 1,\n",
              " 'his91': 1,\n",
              " 'house92': 1,\n",
              " 'from93': 1,\n",
              " 'a94': 1,\n",
              " 'very95': 1,\n",
              " 'early96': 1,\n",
              " 'period97': 1,\n",
              " '.98': 1,\n",
              " 'Her99': 1,\n",
              " 'mother100': 1,\n",
              " 'had101': 1,\n",
              " 'died102': 1,\n",
              " 'too103': 1,\n",
              " 'long104': 1,\n",
              " 'ago105': 1,\n",
              " 'for106': 1,\n",
              " 'her107': 1,\n",
              " 'to108': 1,\n",
              " 'have109': 1,\n",
              " 'more110': 1,\n",
              " 'than111': 1,\n",
              " 'an112': 1,\n",
              " 'indistinct113': 1,\n",
              " 'remembrance114': 1,\n",
              " 'of115': 1,\n",
              " 'her116': 1,\n",
              " 'caresses117': 1,\n",
              " ';118': 1,\n",
              " 'and119': 1,\n",
              " 'her120': 1,\n",
              " 'place121': 1,\n",
              " 'had122': 1,\n",
              " 'been123': 1,\n",
              " 'supplied124': 1,\n",
              " 'by125': 1,\n",
              " 'an126': 1,\n",
              " 'excellent127': 1,\n",
              " 'woman128': 1,\n",
              " 'as129': 1,\n",
              " 'governess130': 1,\n",
              " ',131': 1,\n",
              " 'who132': 1,\n",
              " 'had133': 1,\n",
              " 'fallen134': 1,\n",
              " 'little135': 1,\n",
              " 'short136': 1,\n",
              " 'of137': 1,\n",
              " 'a138': 1,\n",
              " 'mother139': 1,\n",
              " 'in140': 1,\n",
              " 'affection141': 1,\n",
              " '.142': 1,\n",
              " 'Sixteen143': 1,\n",
              " 'years144': 1,\n",
              " 'had145': 1,\n",
              " 'Miss146': 1,\n",
              " 'Taylor147': 1,\n",
              " 'been148': 1,\n",
              " 'in149': 1,\n",
              " 'Mr150': 1,\n",
              " '.151': 1,\n",
              " 'Woodhouse152': 1,\n",
              " \"'153\": 1,\n",
              " 's154': 1,\n",
              " 'family155': 1,\n",
              " ',156': 1,\n",
              " 'less157': 1,\n",
              " 'as158': 1,\n",
              " 'a159': 1,\n",
              " 'governess160': 1,\n",
              " 'than161': 1,\n",
              " 'a162': 1,\n",
              " 'friend163': 1,\n",
              " ',164': 1,\n",
              " 'very165': 1,\n",
              " 'fond166': 1,\n",
              " 'of167': 1,\n",
              " 'both168': 1,\n",
              " 'daughters169': 1,\n",
              " ',170': 1,\n",
              " 'but171': 1,\n",
              " 'particularly172': 1,\n",
              " 'of173': 1,\n",
              " 'Emma174': 1,\n",
              " '.175': 1,\n",
              " 'Between176': 1,\n",
              " '_them_177': 1,\n",
              " 'it178': 1,\n",
              " 'was179': 1,\n",
              " 'more180': 1,\n",
              " 'the181': 1,\n",
              " 'intimacy182': 1,\n",
              " 'of183': 1,\n",
              " 'sisters184': 1,\n",
              " '.185': 1,\n",
              " 'Even186': 1,\n",
              " 'before187': 1,\n",
              " 'Miss188': 1,\n",
              " 'Taylor189': 1,\n",
              " 'had190': 1,\n",
              " 'ceased191': 1,\n",
              " 'to192': 1,\n",
              " 'hold193': 1,\n",
              " 'the194': 1,\n",
              " 'nominal195': 1,\n",
              " 'office196': 1,\n",
              " 'of197': 1,\n",
              " 'governess198': 1,\n",
              " ',199': 1,\n",
              " 'the200': 1,\n",
              " 'mildness201': 1,\n",
              " 'of202': 1,\n",
              " 'her203': 1,\n",
              " 'temper204': 1,\n",
              " 'had205': 1,\n",
              " 'hardly206': 1,\n",
              " 'allowed207': 1,\n",
              " 'her208': 1,\n",
              " 'to209': 1,\n",
              " 'impose210': 1,\n",
              " 'any211': 1,\n",
              " 'restraint212': 1,\n",
              " ';213': 1,\n",
              " 'and214': 1,\n",
              " 'the215': 1,\n",
              " 'shadow216': 1,\n",
              " 'of217': 1,\n",
              " 'authority218': 1,\n",
              " 'being219': 1,\n",
              " 'now220': 1,\n",
              " 'long221': 1,\n",
              " 'passed222': 1,\n",
              " 'away223': 1,\n",
              " ',224': 1,\n",
              " 'they225': 1,\n",
              " 'had226': 1,\n",
              " 'been227': 1,\n",
              " 'living228': 1,\n",
              " 'together229': 1,\n",
              " 'as230': 1,\n",
              " 'friend231': 1,\n",
              " 'and232': 1,\n",
              " 'friend233': 1,\n",
              " 'very234': 1,\n",
              " 'mutually235': 1,\n",
              " 'attached236': 1,\n",
              " ',237': 1,\n",
              " 'and238': 1,\n",
              " 'Emma239': 1,\n",
              " 'doing240': 1,\n",
              " 'just241': 1,\n",
              " 'what242': 1,\n",
              " 'she243': 1,\n",
              " 'liked244': 1,\n",
              " ';245': 1,\n",
              " 'highly246': 1,\n",
              " 'esteeming247': 1,\n",
              " 'Miss248': 1,\n",
              " 'Taylor249': 1,\n",
              " \"'250\": 1,\n",
              " 's251': 1,\n",
              " 'judgment252': 1,\n",
              " ',253': 1,\n",
              " 'but254': 1,\n",
              " 'directed255': 1,\n",
              " 'chiefly256': 1,\n",
              " 'by257': 1,\n",
              " 'her258': 1,\n",
              " 'own259': 1,\n",
              " '.260': 1,\n",
              " 'The261': 1,\n",
              " 'real262': 1,\n",
              " 'evils263': 1,\n",
              " ',264': 1,\n",
              " 'indeed265': 1,\n",
              " ',266': 1,\n",
              " 'of267': 1,\n",
              " 'Emma268': 1,\n",
              " \"'269\": 1,\n",
              " 's270': 1,\n",
              " 'situation271': 1,\n",
              " 'were272': 1,\n",
              " 'the273': 1,\n",
              " 'power274': 1,\n",
              " 'of275': 1,\n",
              " 'having276': 1,\n",
              " 'rather277': 1,\n",
              " 'too278': 1,\n",
              " 'much279': 1,\n",
              " 'her280': 1,\n",
              " 'own281': 1,\n",
              " 'way282': 1,\n",
              " ',283': 1,\n",
              " 'and284': 1,\n",
              " 'a285': 1,\n",
              " 'disposition286': 1,\n",
              " 'to287': 1,\n",
              " 'think288': 1,\n",
              " 'a289': 1,\n",
              " 'little290': 1,\n",
              " 'too291': 1,\n",
              " 'well292': 1,\n",
              " 'of293': 1,\n",
              " 'herself294': 1,\n",
              " ';295': 1,\n",
              " 'these296': 1,\n",
              " 'were297': 1,\n",
              " 'the298': 1,\n",
              " 'disadvantages299': 1,\n",
              " 'which300': 1,\n",
              " 'threatened301': 1,\n",
              " 'alloy302': 1,\n",
              " 'to303': 1,\n",
              " 'her304': 1,\n",
              " 'many305': 1,\n",
              " 'enjoyments306': 1,\n",
              " '.307': 1,\n",
              " 'The308': 1,\n",
              " 'danger309': 1,\n",
              " ',310': 1,\n",
              " 'however311': 1,\n",
              " ',312': 1,\n",
              " 'was313': 1,\n",
              " 'at314': 1,\n",
              " 'present315': 1,\n",
              " 'so316': 1,\n",
              " 'unperceived317': 1,\n",
              " ',318': 1,\n",
              " 'that319': 1,\n",
              " 'they320': 1,\n",
              " 'did321': 1,\n",
              " 'not322': 1,\n",
              " 'by323': 1,\n",
              " 'any324': 1,\n",
              " 'means325': 1,\n",
              " 'rank326': 1,\n",
              " 'as327': 1,\n",
              " 'misfortunes328': 1,\n",
              " 'with329': 1,\n",
              " 'her330': 1,\n",
              " '.331': 1,\n",
              " 'Sorrow332': 1,\n",
              " 'came333': 1,\n",
              " '--334': 1,\n",
              " 'a335': 1,\n",
              " 'gentle336': 1,\n",
              " 'sorrow337': 1,\n",
              " '--338': 1,\n",
              " 'but339': 1,\n",
              " 'not340': 1,\n",
              " 'at341': 1,\n",
              " 'all342': 1,\n",
              " 'in343': 1,\n",
              " 'the344': 1,\n",
              " 'shape345': 1,\n",
              " 'of346': 1,\n",
              " 'any347': 1,\n",
              " 'disagreeable348': 1,\n",
              " 'consciousness349': 1,\n",
              " '.--350': 1,\n",
              " 'Miss351': 1,\n",
              " 'Taylor352': 1,\n",
              " 'married353': 1,\n",
              " '.354': 1,\n",
              " 'It355': 1,\n",
              " 'was356': 1,\n",
              " 'Miss357': 1,\n",
              " 'Taylor358': 1,\n",
              " \"'359\": 1,\n",
              " 's360': 1,\n",
              " 'loss361': 1,\n",
              " 'which362': 1,\n",
              " 'first363': 1,\n",
              " 'brought364': 1,\n",
              " 'grief365': 1,\n",
              " '.366': 1,\n",
              " 'It367': 1,\n",
              " 'was368': 1,\n",
              " 'on369': 1,\n",
              " 'the370': 1,\n",
              " 'wedding371': 1,\n",
              " '-372': 1,\n",
              " 'day373': 1,\n",
              " 'of374': 1,\n",
              " 'this375': 1,\n",
              " 'beloved376': 1,\n",
              " 'friend377': 1,\n",
              " 'that378': 1,\n",
              " 'Emma379': 1,\n",
              " 'first380': 1,\n",
              " 'sat381': 1,\n",
              " 'in382': 1,\n",
              " 'mournful383': 1,\n",
              " 'thought384': 1,\n",
              " 'of385': 1,\n",
              " 'any386': 1,\n",
              " 'continuance387': 1,\n",
              " '.388': 1,\n",
              " 'The389': 1,\n",
              " 'wedding390': 1,\n",
              " 'over391': 1,\n",
              " ',392': 1,\n",
              " 'and393': 1,\n",
              " 'the394': 1,\n",
              " 'bride395': 1,\n",
              " '-396': 1,\n",
              " 'people397': 1,\n",
              " 'gone398': 1,\n",
              " ',399': 1,\n",
              " 'her400': 1,\n",
              " 'father401': 1,\n",
              " 'and402': 1,\n",
              " 'herself403': 1,\n",
              " 'were404': 1,\n",
              " 'left405': 1,\n",
              " 'to406': 1,\n",
              " 'dine407': 1,\n",
              " 'together408': 1,\n",
              " ',409': 1,\n",
              " 'with410': 1,\n",
              " 'no411': 1,\n",
              " 'prospect412': 1,\n",
              " 'of413': 1,\n",
              " 'a414': 1,\n",
              " 'third415': 1,\n",
              " 'to416': 1,\n",
              " 'cheer417': 1,\n",
              " 'a418': 1,\n",
              " 'long419': 1,\n",
              " 'evening420': 1,\n",
              " '.421': 1,\n",
              " 'Her422': 1,\n",
              " 'father423': 1,\n",
              " 'composed424': 1,\n",
              " 'himself425': 1,\n",
              " 'to426': 1,\n",
              " 'sleep427': 1,\n",
              " 'after428': 1,\n",
              " 'dinner429': 1,\n",
              " ',430': 1,\n",
              " 'as431': 1,\n",
              " 'usual432': 1,\n",
              " ',433': 1,\n",
              " 'and434': 1,\n",
              " 'she435': 1,\n",
              " 'had436': 1,\n",
              " 'then437': 1,\n",
              " 'only438': 1,\n",
              " 'to439': 1,\n",
              " 'sit440': 1,\n",
              " 'and441': 1,\n",
              " 'think442': 1,\n",
              " 'of443': 1,\n",
              " 'what444': 1,\n",
              " 'she445': 1,\n",
              " 'had446': 1,\n",
              " 'lost447': 1,\n",
              " '.448': 1,\n",
              " 'The449': 1,\n",
              " 'event450': 1,\n",
              " 'had451': 1,\n",
              " 'every452': 1,\n",
              " 'promise453': 1,\n",
              " 'of454': 1,\n",
              " 'happiness455': 1,\n",
              " 'for456': 1,\n",
              " 'her457': 1,\n",
              " 'friend458': 1,\n",
              " '.459': 1,\n",
              " 'Mr460': 1,\n",
              " '.461': 1,\n",
              " 'Weston462': 1,\n",
              " 'was463': 1,\n",
              " 'a464': 1,\n",
              " 'man465': 1,\n",
              " 'of466': 1,\n",
              " 'unexceptionable467': 1,\n",
              " 'character468': 1,\n",
              " ',469': 1,\n",
              " 'easy470': 1,\n",
              " 'fortune471': 1,\n",
              " ',472': 1,\n",
              " 'suitable473': 1,\n",
              " 'age474': 1,\n",
              " ',475': 1,\n",
              " 'and476': 1,\n",
              " 'pleasant477': 1,\n",
              " 'manners478': 1,\n",
              " ';479': 1,\n",
              " 'and480': 1,\n",
              " 'there481': 1,\n",
              " 'was482': 1,\n",
              " 'some483': 1,\n",
              " 'satisfaction484': 1,\n",
              " 'in485': 1,\n",
              " 'considering486': 1,\n",
              " 'with487': 1,\n",
              " 'what488': 1,\n",
              " 'self489': 1,\n",
              " '-490': 1,\n",
              " 'denying491': 1,\n",
              " ',492': 1,\n",
              " 'generous493': 1,\n",
              " 'friendship494': 1,\n",
              " 'she495': 1,\n",
              " 'had496': 1,\n",
              " 'always497': 1,\n",
              " 'wished498': 1,\n",
              " 'and499': 1,\n",
              " 'promoted500': 1,\n",
              " 'the501': 1,\n",
              " 'match502': 1,\n",
              " ';503': 1,\n",
              " 'but504': 1,\n",
              " 'it505': 1,\n",
              " 'was506': 1,\n",
              " 'a507': 1,\n",
              " 'black508': 1,\n",
              " 'morning509': 1,\n",
              " \"'510\": 1,\n",
              " 's511': 1,\n",
              " 'work512': 1,\n",
              " 'for513': 1,\n",
              " 'her514': 1,\n",
              " '.515': 1,\n",
              " 'The516': 1,\n",
              " 'want517': 1,\n",
              " 'of518': 1,\n",
              " 'Miss519': 1,\n",
              " 'Taylor520': 1,\n",
              " 'would521': 1,\n",
              " 'be522': 1,\n",
              " 'felt523': 1,\n",
              " 'every524': 1,\n",
              " 'hour525': 1,\n",
              " 'of526': 1,\n",
              " 'every527': 1,\n",
              " 'day528': 1,\n",
              " '.529': 1,\n",
              " 'She530': 1,\n",
              " 'recalled531': 1,\n",
              " 'her532': 1,\n",
              " 'past533': 1,\n",
              " 'kindness534': 1,\n",
              " '--535': 1,\n",
              " 'the536': 1,\n",
              " 'kindness537': 1,\n",
              " ',538': 1,\n",
              " 'the539': 1,\n",
              " 'affection540': 1,\n",
              " 'of541': 1,\n",
              " 'sixteen542': 1,\n",
              " 'years543': 1,\n",
              " '--544': 1,\n",
              " 'how545': 1,\n",
              " 'she546': 1,\n",
              " 'had547': 1,\n",
              " 'taught548': 1,\n",
              " 'and549': 1,\n",
              " 'how550': 1,\n",
              " 'she551': 1,\n",
              " 'had552': 1,\n",
              " 'played553': 1,\n",
              " 'with554': 1,\n",
              " 'her555': 1,\n",
              " 'from556': 1,\n",
              " 'five557': 1,\n",
              " 'years558': 1,\n",
              " 'old559': 1,\n",
              " '--560': 1,\n",
              " 'how561': 1,\n",
              " 'she562': 1,\n",
              " 'had563': 1,\n",
              " 'devoted564': 1,\n",
              " 'all565': 1,\n",
              " 'her566': 1,\n",
              " 'powers567': 1,\n",
              " 'to568': 1,\n",
              " 'attach569': 1,\n",
              " 'and570': 1,\n",
              " 'amuse571': 1,\n",
              " 'her572': 1,\n",
              " 'in573': 1,\n",
              " 'health574': 1,\n",
              " '--575': 1,\n",
              " 'and576': 1,\n",
              " 'how577': 1,\n",
              " 'nursed578': 1,\n",
              " 'her579': 1,\n",
              " 'through580': 1,\n",
              " 'the581': 1,\n",
              " 'various582': 1,\n",
              " 'illnesses583': 1,\n",
              " 'of584': 1,\n",
              " 'childhood585': 1,\n",
              " '.586': 1,\n",
              " 'A587': 1,\n",
              " 'large588': 1,\n",
              " 'debt589': 1,\n",
              " 'of590': 1,\n",
              " 'gratitude591': 1,\n",
              " 'was592': 1,\n",
              " 'owing593': 1,\n",
              " 'here594': 1,\n",
              " ';595': 1,\n",
              " 'but596': 1,\n",
              " 'the597': 1,\n",
              " 'intercourse598': 1,\n",
              " 'of599': 1,\n",
              " 'the600': 1,\n",
              " 'last601': 1,\n",
              " 'seven602': 1,\n",
              " 'years603': 1,\n",
              " ',604': 1,\n",
              " 'the605': 1,\n",
              " 'equal606': 1,\n",
              " 'footing607': 1,\n",
              " 'and608': 1,\n",
              " 'perfect609': 1,\n",
              " 'unreserve610': 1,\n",
              " 'which611': 1,\n",
              " 'had612': 1,\n",
              " 'soon613': 1,\n",
              " 'followed614': 1,\n",
              " 'Isabella615': 1,\n",
              " \"'616\": 1,\n",
              " 's617': 1,\n",
              " 'marriage618': 1,\n",
              " ',619': 1,\n",
              " 'on620': 1,\n",
              " 'their621': 1,\n",
              " 'being622': 1,\n",
              " 'left623': 1,\n",
              " 'to624': 1,\n",
              " 'each625': 1,\n",
              " 'other626': 1,\n",
              " ',627': 1,\n",
              " 'was628': 1,\n",
              " 'yet629': 1,\n",
              " 'a630': 1,\n",
              " 'dearer631': 1,\n",
              " ',632': 1,\n",
              " 'tenderer633': 1,\n",
              " 'recollection634': 1,\n",
              " '.635': 1,\n",
              " 'She636': 1,\n",
              " 'had637': 1,\n",
              " 'been638': 1,\n",
              " 'a639': 1,\n",
              " 'friend640': 1,\n",
              " 'and641': 1,\n",
              " 'companion642': 1,\n",
              " 'such643': 1,\n",
              " 'as644': 1,\n",
              " 'few645': 1,\n",
              " 'possessed646': 1,\n",
              " ':647': 1,\n",
              " 'intelligent648': 1,\n",
              " ',649': 1,\n",
              " 'well650': 1,\n",
              " '-651': 1,\n",
              " 'informed652': 1,\n",
              " ',653': 1,\n",
              " 'useful654': 1,\n",
              " ',655': 1,\n",
              " 'gentle656': 1,\n",
              " ',657': 1,\n",
              " 'knowing658': 1,\n",
              " 'all659': 1,\n",
              " 'the660': 1,\n",
              " 'ways661': 1,\n",
              " 'of662': 1,\n",
              " 'the663': 1,\n",
              " 'family664': 1,\n",
              " ',665': 1,\n",
              " 'interested666': 1,\n",
              " 'in667': 1,\n",
              " 'all668': 1,\n",
              " 'its669': 1,\n",
              " 'concerns670': 1,\n",
              " ',671': 1,\n",
              " 'and672': 1,\n",
              " 'peculiarly673': 1,\n",
              " 'interested674': 1,\n",
              " 'in675': 1,\n",
              " 'herself676': 1,\n",
              " ',677': 1,\n",
              " 'in678': 1,\n",
              " 'every679': 1,\n",
              " 'pleasure680': 1,\n",
              " ',681': 1,\n",
              " 'every682': 1,\n",
              " 'scheme683': 1,\n",
              " 'of684': 1,\n",
              " 'hers685': 1,\n",
              " '--686': 1,\n",
              " 'one687': 1,\n",
              " 'to688': 1,\n",
              " 'whom689': 1,\n",
              " 'she690': 1,\n",
              " 'could691': 1,\n",
              " 'speak692': 1,\n",
              " 'every693': 1,\n",
              " 'thought694': 1,\n",
              " 'as695': 1,\n",
              " 'it696': 1,\n",
              " 'arose697': 1,\n",
              " ',698': 1,\n",
              " 'and699': 1,\n",
              " 'who700': 1,\n",
              " 'had701': 1,\n",
              " 'such702': 1,\n",
              " 'an703': 1,\n",
              " 'affection704': 1,\n",
              " 'for705': 1,\n",
              " 'her706': 1,\n",
              " 'as707': 1,\n",
              " 'could708': 1,\n",
              " 'never709': 1,\n",
              " 'find710': 1,\n",
              " 'fault711': 1,\n",
              " '.712': 1,\n",
              " 'How713': 1,\n",
              " 'was714': 1,\n",
              " 'she715': 1,\n",
              " 'to716': 1,\n",
              " 'bear717': 1,\n",
              " 'the718': 1,\n",
              " 'change719': 1,\n",
              " '?--720': 1,\n",
              " 'It721': 1,\n",
              " 'was722': 1,\n",
              " 'true723': 1,\n",
              " 'that724': 1,\n",
              " 'her725': 1,\n",
              " 'friend726': 1,\n",
              " 'was727': 1,\n",
              " 'going728': 1,\n",
              " 'only729': 1,\n",
              " 'half730': 1,\n",
              " 'a731': 1,\n",
              " 'mile732': 1,\n",
              " 'from733': 1,\n",
              " 'them734': 1,\n",
              " ';735': 1,\n",
              " 'but736': 1,\n",
              " 'Emma737': 1,\n",
              " 'was738': 1,\n",
              " 'aware739': 1,\n",
              " 'that740': 1,\n",
              " 'great741': 1,\n",
              " 'must742': 1,\n",
              " 'be743': 1,\n",
              " 'the744': 1,\n",
              " 'difference745': 1,\n",
              " 'between746': 1,\n",
              " 'a747': 1,\n",
              " 'Mrs748': 1,\n",
              " '.749': 1,\n",
              " 'Weston750': 1,\n",
              " ',751': 1,\n",
              " 'only752': 1,\n",
              " 'half753': 1,\n",
              " 'a754': 1,\n",
              " 'mile755': 1,\n",
              " 'from756': 1,\n",
              " 'them757': 1,\n",
              " ',758': 1,\n",
              " 'and759': 1,\n",
              " 'a760': 1,\n",
              " 'Miss761': 1,\n",
              " 'Taylor762': 1,\n",
              " 'in763': 1,\n",
              " 'the764': 1,\n",
              " 'house765': 1,\n",
              " ';766': 1,\n",
              " 'and767': 1,\n",
              " 'with768': 1,\n",
              " 'all769': 1,\n",
              " 'her770': 1,\n",
              " 'advantages771': 1,\n",
              " ',772': 1,\n",
              " 'natural773': 1,\n",
              " 'and774': 1,\n",
              " 'domestic775': 1,\n",
              " ',776': 1,\n",
              " 'she777': 1,\n",
              " 'was778': 1,\n",
              " 'now779': 1,\n",
              " 'in780': 1,\n",
              " 'great781': 1,\n",
              " 'danger782': 1,\n",
              " 'of783': 1,\n",
              " 'suffering784': 1,\n",
              " 'from785': 1,\n",
              " 'intellectual786': 1,\n",
              " 'solitude787': 1,\n",
              " '.788': 1,\n",
              " 'She789': 1,\n",
              " 'dearly790': 1,\n",
              " 'loved791': 1,\n",
              " 'her792': 1,\n",
              " 'father793': 1,\n",
              " ',794': 1,\n",
              " 'but795': 1,\n",
              " 'he796': 1,\n",
              " 'was797': 1,\n",
              " 'no798': 1,\n",
              " 'companion799': 1,\n",
              " 'for800': 1,\n",
              " 'her801': 1,\n",
              " '.802': 1,\n",
              " 'He803': 1,\n",
              " 'could804': 1,\n",
              " 'not805': 1,\n",
              " 'meet806': 1,\n",
              " 'her807': 1,\n",
              " 'in808': 1,\n",
              " 'conversation809': 1,\n",
              " ',810': 1,\n",
              " 'rational811': 1,\n",
              " 'or812': 1,\n",
              " 'playful813': 1,\n",
              " '.814': 1,\n",
              " 'The815': 1,\n",
              " 'evil816': 1,\n",
              " 'of817': 1,\n",
              " 'the818': 1,\n",
              " 'actual819': 1,\n",
              " 'disparity820': 1,\n",
              " 'in821': 1,\n",
              " 'their822': 1,\n",
              " 'ages823': 1,\n",
              " '(824': 1,\n",
              " 'and825': 1,\n",
              " 'Mr826': 1,\n",
              " '.827': 1,\n",
              " 'Woodhouse828': 1,\n",
              " 'had829': 1,\n",
              " 'not830': 1,\n",
              " 'married831': 1,\n",
              " 'early832': 1,\n",
              " ')833': 1,\n",
              " 'was834': 1,\n",
              " 'much835': 1,\n",
              " 'increased836': 1,\n",
              " 'by837': 1,\n",
              " 'his838': 1,\n",
              " 'constitution839': 1,\n",
              " 'and840': 1,\n",
              " 'habits841': 1,\n",
              " ';842': 1,\n",
              " 'for843': 1,\n",
              " 'having844': 1,\n",
              " 'been845': 1,\n",
              " 'a846': 1,\n",
              " 'valetudinarian847': 1,\n",
              " 'all848': 1,\n",
              " 'his849': 1,\n",
              " 'life850': 1,\n",
              " ',851': 1,\n",
              " 'without852': 1,\n",
              " 'activity853': 1,\n",
              " 'of854': 1,\n",
              " 'mind855': 1,\n",
              " 'or856': 1,\n",
              " 'body857': 1,\n",
              " ',858': 1,\n",
              " 'he859': 1,\n",
              " 'was860': 1,\n",
              " 'a861': 1,\n",
              " 'much862': 1,\n",
              " 'older863': 1,\n",
              " 'man864': 1,\n",
              " 'in865': 1,\n",
              " 'ways866': 1,\n",
              " 'than867': 1,\n",
              " 'in868': 1,\n",
              " 'years869': 1,\n",
              " ';870': 1,\n",
              " 'and871': 1,\n",
              " 'though872': 1,\n",
              " 'everywhere873': 1,\n",
              " 'beloved874': 1,\n",
              " 'for875': 1,\n",
              " 'the876': 1,\n",
              " 'friendliness877': 1,\n",
              " 'of878': 1,\n",
              " 'his879': 1,\n",
              " 'heart880': 1,\n",
              " 'and881': 1,\n",
              " 'his882': 1,\n",
              " 'amiable883': 1,\n",
              " 'temper884': 1,\n",
              " ',885': 1,\n",
              " 'his886': 1,\n",
              " 'talents887': 1,\n",
              " 'could888': 1,\n",
              " 'not889': 1,\n",
              " 'have890': 1,\n",
              " 'recommended891': 1,\n",
              " 'him892': 1,\n",
              " 'at893': 1,\n",
              " 'any894': 1,\n",
              " 'time895': 1,\n",
              " '.896': 1,\n",
              " 'Her897': 1,\n",
              " 'sister898': 1,\n",
              " ',899': 1,\n",
              " 'though900': 1,\n",
              " 'comparatively901': 1,\n",
              " 'but902': 1,\n",
              " 'little903': 1,\n",
              " 'removed904': 1,\n",
              " 'by905': 1,\n",
              " 'matrimony906': 1,\n",
              " ',907': 1,\n",
              " 'being908': 1,\n",
              " 'settled909': 1,\n",
              " 'in910': 1,\n",
              " 'London911': 1,\n",
              " ',912': 1,\n",
              " 'only913': 1,\n",
              " 'sixteen914': 1,\n",
              " 'miles915': 1,\n",
              " 'off916': 1,\n",
              " ',917': 1,\n",
              " 'was918': 1,\n",
              " 'much919': 1,\n",
              " 'beyond920': 1,\n",
              " 'her921': 1,\n",
              " 'daily922': 1,\n",
              " 'reach923': 1,\n",
              " ';924': 1,\n",
              " 'and925': 1,\n",
              " 'many926': 1,\n",
              " 'a927': 1,\n",
              " 'long928': 1,\n",
              " 'October929': 1,\n",
              " 'and930': 1,\n",
              " 'November931': 1,\n",
              " 'evening932': 1,\n",
              " 'must933': 1,\n",
              " 'be934': 1,\n",
              " 'struggled935': 1,\n",
              " 'through936': 1,\n",
              " 'at937': 1,\n",
              " 'Hartfield938': 1,\n",
              " ',939': 1,\n",
              " 'before940': 1,\n",
              " 'Christmas941': 1,\n",
              " 'brought942': 1,\n",
              " 'the943': 1,\n",
              " 'next944': 1,\n",
              " 'visit945': 1,\n",
              " 'from946': 1,\n",
              " 'Isabella947': 1,\n",
              " 'and948': 1,\n",
              " 'her949': 1,\n",
              " 'husband950': 1,\n",
              " ',951': 1,\n",
              " 'and952': 1,\n",
              " 'their953': 1,\n",
              " 'little954': 1,\n",
              " 'children955': 1,\n",
              " ',956': 1,\n",
              " 'to957': 1,\n",
              " 'fill958': 1,\n",
              " 'the959': 1,\n",
              " 'house960': 1,\n",
              " ',961': 1,\n",
              " 'and962': 1,\n",
              " 'give963': 1,\n",
              " 'her964': 1,\n",
              " 'pleasant965': 1,\n",
              " 'society966': 1,\n",
              " 'again967': 1,\n",
              " '.968': 1,\n",
              " 'Highbury969': 1,\n",
              " ',970': 1,\n",
              " 'the971': 1,\n",
              " 'large972': 1,\n",
              " 'and973': 1,\n",
              " 'populous974': 1,\n",
              " 'village975': 1,\n",
              " ',976': 1,\n",
              " 'almost977': 1,\n",
              " 'amounting978': 1,\n",
              " 'to979': 1,\n",
              " 'a980': 1,\n",
              " 'town981': 1,\n",
              " ',982': 1,\n",
              " 'to983': 1,\n",
              " 'which984': 1,\n",
              " 'Hartfield985': 1,\n",
              " ',986': 1,\n",
              " 'in987': 1,\n",
              " 'spite988': 1,\n",
              " 'of989': 1,\n",
              " 'its990': 1,\n",
              " 'separate991': 1,\n",
              " 'lawn992': 1,\n",
              " ',993': 1,\n",
              " 'and994': 1,\n",
              " 'shrubberies995': 1,\n",
              " ',996': 1,\n",
              " 'and997': 1,\n",
              " 'name998': 1,\n",
              " ',999': 1}"
            ]
          },
          "execution_count": 102,
          "metadata": {},
          "output_type": "execute_result"
        }
      ],
      "source": [
        "#creating bag of words with varying sizes\n",
        "docdicts12=[]\n",
        "for tokens in docs:\n",
        "    docdicts12.append(make_dict(tokens))\n",
        "\n",
        "print('Length of the parent list docs[0] is {} \\nThe length of the bag of words docdicts12[0] is {}'.format(len(docdicts12[0]),len(docs[0])))\n",
        "docdicts12[0]"
      ]
    },
    {
      "cell_type": "code",
      "execution_count": null,
      "metadata": {
        "id": "pXAnQC425vSD"
      },
      "outputs": [],
      "source": [
        "#creating timeit function to record the run time of the algorithms\n",
        "import time\n",
        "import numpy as np\n",
        "\n",
        "def timeit(somefunc,*args,repeats=10,**kwargs):\n",
        "\n",
        "    times=[]\n",
        "\n",
        "    while repeats>0:\n",
        "\n",
        "        starttime=time.time() #starting timer \n",
        "\n",
        "        ans=somefunc(*args,**kwargs)\n",
        "\n",
        "        endtime=time.time() #stopping timer\n",
        "\n",
        "        timetaken=endtime-starttime #calculating the run time for each repeat\n",
        "\n",
        "        times.append(timetaken) #appending it to times list\n",
        "\n",
        "        repeats-=1\n",
        "\n",
        "    mean=np.mean(times) #taking mean of times for n repeats\n",
        "\n",
        "    stdev=np.std(times)\n",
        "\n",
        "    error=stdev/(len(times)**0.5)\n",
        "\n",
        "    return (ans, mean,error)"
      ]
    },
    {
      "cell_type": "code",
      "execution_count": null,
      "metadata": {
        "id": "CfgKp2xdtG_e"
      },
      "outputs": [],
      "source": [
        "#function used for plotting different plots.\n",
        "def draw_graph(X,Y,similarity):\n",
        "    x_val=[x for x in X]\n",
        "    y_val=[y for y in Y]\n",
        "    logx_val=[np.log10(x) for x in X]\n",
        "    logy_val=[np.log10(y) for y in Y]\n",
        "    \n",
        "    plt.subplots_adjust(1,0,2.5,0.5)\n",
        "    plt.subplot(121)\n",
        "    #plt.figure(figsize=(4,6))\n",
        "    plt.plot(x_val,y_val)\n",
        "    if similarity in('Cosine similarity','Cosine numpy.dot similarity' ):\n",
        "        plt.xlabel(\"Lengths of vectors of documents compared\")\n",
        "    elif similarity in('Jaccard all_pair', 'Cosine all_pair'):\n",
        "        plt.xlabel(\"Number of docs compared\")\n",
        "    elif similarity in('MP_Jaccard all_pair', 'MP_Cosine all_pair'):\n",
        "        plt.xlabel(\"Number of docs compared\")\n",
        "    else:\n",
        "        plt.xlabel(\"Bag of words size\")\n",
        "    plt.ylabel(\"Average time(s)\")\n",
        "    if similarity in('Jaccard similarity','Cosine sparse similarity' ):\n",
        "        plt.title(\"Running Time of \"+ similarity)\n",
        "    else:\n",
        "        plt.title(\"Worst Case Running Time of \"+ similarity)\n",
        "    #plt.ylim(-6,-3)\n",
        "    \n",
        "    plt.subplot(122)\n",
        "    #plt.figure(figsize=(4,6))\n",
        "    plt.scatter(logx_val,logy_val)\n",
        "    if similarity in('Cosine similarity','Cosine numpy.dot similarity' ):\n",
        "        plt.xlabel(\"log(Lengths of vectors of documents compared)\")\n",
        "    elif similarity in('Jaccard all_pair', 'Cosine all_pair'):\n",
        "        plt.xlabel(\"log(Number of docs compared)\")\n",
        "    elif similarity in('MP_Jaccard all_pair', 'MP_Cosine all_pair'):\n",
        "        plt.xlabel(\"log(Number of docs compared)\")\n",
        "    else:\n",
        "        plt.xlabel(\"log(Bag of words size)\")\n",
        "    plt.ylabel(\"log(Average time(s))\")\n",
        "    if similarity in('Jaccard similarity','Cosine sparse similarity' ):\n",
        "        plt.title(\"Running Time of \"+ similarity)\n",
        "    else:\n",
        "        plt.title(\"Worst Case Running Time of \"+ similarity)\n",
        "    plt.show()\n",
        "    \n",
        "    return x_val[:5], y_val[:5]\n",
        "\n",
        "\n",
        "def slope_fun(x_val, y_val):\n",
        "    slope, intercept, r_value, p_value, std_err = stats.linregress(x_val, y_val)\n",
        "    slope_log, intercept_log, r_value_log, p_value_log, std_err_log = stats.linregress(np.log(x_val), np.log(y_val))\n",
        "    print(\"Slope is {} and intercept is {}\".format(slope,intercept))\n",
        "    print(\"log_Slope is {} and log_intercept is {}\".format(slope_log,intercept_log))\n",
        "    print('slope_log rounded off to',round(slope_log, 4))\n",
        "    print('intercept_log rounded off to',round(intercept_log, 4))"
      ]
    },
    {
      "cell_type": "code",
      "execution_count": null,
      "metadata": {
        "id": "aPDH66j9tG_e"
      },
      "outputs": [],
      "source": [
        "def constant_estimate(intercept, simlilarity):\n",
        "    constant=10**intercept\n",
        "    print('The constant(ca) of my computer for {} would be approximately {}'.format(simlilarity,constant))"
      ]
    },
    {
      "cell_type": "markdown",
      "metadata": {
        "id": "cMCIeccptG_e"
      },
      "source": [
        "# 1. Jaccard’s similarity measure applied to large documents represented as bags of words"
      ]
    },
    {
      "cell_type": "markdown",
      "metadata": {
        "id": "NW7D3lagtG_f"
      },
      "source": [
        "\n",
        "\n",
        "\n",
        " \n",
        "\\begin{eqnarray*}\n",
        "J=\\frac{|A∩B|}{|A| +|B|−|A∩B|}\n",
        "\\end{eqnarray*}\n",
        "\n"
      ]
    },
    {
      "cell_type": "markdown",
      "metadata": {
        "id": "Q0rOWhzztG_f"
      },
      "source": [
        "The theoretical running time of Jaccard’s similarity measure of large documents represented as bags of words is O(n). The theoretical running time is also known as time complexity. It means the run time of Jaccard’s similarity measure is the size of the input for larger documents. Assume that dict1 and dict2 each hold n items and take O(n). Because there are two loops (for and if) in the below code, this is **$O{(n^2)}$** (O(n) and O(n)), but assuming there are no hash collisions, the 'if' statement only takes O(1) to execute, merely to check what is contained in the item's hash. As a result, the time complexity is **O(n)** (O(n) and O(1)) for Jaccard’s similarity measure applied to larger documents represented as bags of words.\n",
        "\n",
        "The Empirical running time for the implementation of this algorithm matches the theoretical running time which is **O(n)**. The Order of n(slope) from the experiment below is near to **1**(1.0091) and the Intercept is approximately **-14 to -15** (-14.7205).\n",
        "\n",
        "PS: The above mentioned values are subjected to change each time you run the cell, but the slope values will be approximately 1, and the intercept changes according to the computer on which the cell is executed. "
      ]
    },
    {
      "cell_type": "code",
      "execution_count": null,
      "metadata": {
        "id": "zCXn4RQyuzVt"
      },
      "outputs": [],
      "source": [
        "#function for jaccard similarity\n",
        "def maketotal(dict1):\n",
        "    total=0\n",
        "    for item in dict1:\n",
        "        total += dict1[item]\n",
        "    return total\n",
        "\n",
        "def jaccard(dict1,dict2):\n",
        "    intersection={}\n",
        "    for item in dict1.keys():\n",
        "        if item in dict2.keys():\n",
        "            intersection[item]=min(dict1[item],dict2[item]) \n",
        "            \n",
        "    intersectiontot=maketotal(intersection) #taking the intersection of the comapred docs\n",
        "    union = maketotal(dict1)+maketotal(dict2)-intersectiontot #taking union of comapred docs\n",
        "    return intersectiontot/union #returns the similarity score for compared documents\n",
        "\n"
      ]
    },
    {
      "cell_type": "code",
      "execution_count": null,
      "metadata": {
        "id": "KPOTe4Xy78MR",
        "outputId": "79cd4370-135b-42a4-b7b5-e14b2312a222"
      },
      "outputs": [
        {
          "name": "stdout",
          "output_type": "stream",
          "text": [
            "[1000, 1500, 2000, 2500, 3000, 3500, 4000, 4500, 5000, 5500] [0.0003462696075439453, 0.0005894947052001953, 0.0014668655395507811, 0.0010650062561035156, 0.0013361930847167968, 0.0018212413787841797, 0.0016687583923339843, 0.001932239532470703, 0.002118234634399414, 0.0022789287567138673]\n"
          ]
        }
      ],
      "source": [
        "#calculating the similarites of the consecutive documents of varying sizes\n",
        "#timing the algorithm\n",
        "xs=[] #contains size of bag of words of first document compared\n",
        "ys=[] #contains mean time taken for each comparision\n",
        "\n",
        "for index,n in enumerate(docdicts12[:100]):\n",
        "    docA=docdicts12[index]\n",
        "    docB=docdicts12[(index+1)]\n",
        "    xs=xs+[len(docA)]\n",
        "    (ans,mean,error)=timeit(jaccard,docA,docB,repeats=25)\n",
        "    ys.append(mean)\n",
        "    \n",
        "print(xs[:10],ys[:10])"
      ]
    },
    {
      "cell_type": "code",
      "execution_count": null,
      "metadata": {
        "id": "rJckZWvWtG_f",
        "outputId": "adad938c-114c-47e6-ff84-79454569f19d"
      },
      "outputs": [
        {
          "data": {
            "image/png": "[encoded data removed]",
            "text/plain": [
              "<Figure size 432x288 with 2 Axes>"
            ]
          },
          "metadata": {
            "needs_background": "light"
          },
          "output_type": "display_data"
        },
        {
          "data": {
            "text/plain": [
              "([1000, 1500, 2000, 2500, 3000],\n",
              " [0.0003462696075439453,\n",
              "  0.0005894947052001953,\n",
              "  0.0014668655395507811,\n",
              "  0.0010650062561035156,\n",
              "  0.0013361930847167968])"
            ]
          },
          "execution_count": 33,
          "metadata": {},
          "output_type": "execute_result"
        }
      ],
      "source": [
        "draw_graph(xs,ys,'Jaccard similarity')"
      ]
    },
    {
      "cell_type": "code",
      "execution_count": null,
      "metadata": {
        "id": "OfH1MpbKtG_g",
        "outputId": "32437619-843d-47c6-beb7-ff2e68523f7a"
      },
      "outputs": [
        {
          "name": "stdout",
          "output_type": "stream",
          "text": [
            "Slope is 4.496217989184783e-07 and intercept is -0.00011359649289666325\n",
            "log_Slope is 1.0091383152883164 and log_intercept is -14.720535545412455\n",
            "slope_log rounded off to 1.0091\n",
            "intercept_log rounded off to -14.7205\n"
          ]
        }
      ],
      "source": [
        "slope_fun(xs,ys)"
      ]
    },
    {
      "cell_type": "markdown",
      "metadata": {
        "id": "XeBtxorQtG_g"
      },
      "source": [
        "### Estimation of Constants(Jaccard similarity) for my Computer"
      ]
    },
    {
      "cell_type": "markdown",
      "metadata": {
        "id": "yHAVONaEtG_g"
      },
      "source": [
        "Here my slope is 1.0091 which is almost 1, so I am taking the order of my n as 1, which makes it O(n).\n",
        "From the equation $𝑦=𝑐𝑎.𝑥^𝑛$, ca is constant and n is slope. After applying log, it becomes, log(𝑦)=log(𝑐𝑎)+𝑛log(𝑥), which is in the form of an equation of straight line y=mx+c, where m=slope and c= intercept.\n",
        "According to this, from the above log graph, the empirical values are:\n",
        "Intercept log10(ca)= -14.7205 and\n",
        "slope n=1\n",
        "\n",
        "So, the constant(ca) of my computer for Jaccard similarity would be approximately $10^{-14.7205}$ , which is nearly equal to 1.9032 × $10^{-15}$\n",
        "\n",
        "\n"
      ]
    },
    {
      "cell_type": "code",
      "execution_count": null,
      "metadata": {
        "id": "NeD1dmfMtG_g",
        "outputId": "c52f25bb-1555-4bec-d956-80226d089786"
      },
      "outputs": [
        {
          "name": "stdout",
          "output_type": "stream",
          "text": [
            "The constant(ca) of my computer for Jaccard similarity would be approximately 1.9032682375763525e-15\n"
          ]
        }
      ],
      "source": [
        "constant_estimate(-14.7205, 'Jaccard similarity')"
      ]
    },
    {
      "cell_type": "markdown",
      "metadata": {
        "id": "4Tp3sJyIUaAe"
      },
      "source": [
        "# 2. Cosine similarity measure applied to documents represented as (dense representation) vectors"
      ]
    },
    {
      "cell_type": "markdown",
      "metadata": {
        "id": "TXTl6okatG_g"
      },
      "source": [
        "\n",
        "\\begin{eqnarray*}\n",
        "cos\\theta=\\frac{A\\cdot B}{\\sqrt{(A\\cdot A) (B\\cdot B)}}\n",
        "\\end{eqnarray*}\n",
        "\n",
        "A dense representation of a bag of words is created by transforming texts into vectors with the frequencies of the words as vector values; if a word is not present in the bag of words, its vector value is set to 0. As a result, the dense representation of compared vectors will always be the same length. \n",
        "\n",
        "The theoretical worst case running time of the cosine similarity measure occurs when the documents in similarity comparision is completely unique, yielding a similarity score of 0(approx 0).The theoretical worst case running time of the cosine similarity measure applied to documents represented as (dense representation) vectors is O(n).This is because a single 'for' loop is iterated through arrays to calculate the dot product of each corresponding vectors of a document.Finally, the dot product results are divided by the magnitude of the documents. Based on this analysis, the theoritical worst case running time is about **O(n)** . Furthermore, it would be compared to the cosine function utilising the numpy dot product. In both these cases, **empirical runtime matches with theoritical run time** and constants for the computer are evaluated."
      ]
    },
    {
      "cell_type": "code",
      "execution_count": null,
      "metadata": {
        "id": "eXaQ2_EZQIle"
      },
      "outputs": [],
      "source": [
        "#creating a function which transforms documents into vectors(dense representation)\n",
        "def make_matrix(list_of_dicts):\n",
        "    #first of all make a list of all of the features that occur in any document - these will be the dimensions of the matrix\n",
        "    allfeatures={}    \n",
        "    for docdict in list_of_dicts:\n",
        "        for feat in docdict.keys():\n",
        "            allfeatures[feat]=1\n",
        "    \n",
        "    dimensions=list(allfeatures.keys())\n",
        "    #don't strictly need to sort it - but it is good practise to make sure it is reproducible\n",
        "    sorted(dimensions)\n",
        "    \n",
        "    matrix=[]\n",
        "    #each row in the matrix will be one of the dimensions\n",
        "    for dimension in dimensions:\n",
        "        row=[]\n",
        "        #look up the appropriate value for each document\n",
        "        for docdict in list_of_dicts:\n",
        "            row.append(docdict.get(dimension,0)) #this will append the document's value if present, 0 otherwise\n",
        "        matrix.append(row)\n",
        "        \n",
        "        \n",
        "    return matrix\n",
        "\n",
        "# it might be useful to be able to transpose a matrix so we can compare documents\n",
        "def transpose(matrix):\n",
        "    transposed=[]\n",
        "    for i in range(0,len(matrix[0])):\n",
        "        transposed.append([row[i] for row in matrix])\n",
        "        \n",
        "    return transposed"
      ]
    },
    {
      "cell_type": "code",
      "execution_count": null,
      "metadata": {
        "id": "ubXayk1TU_un"
      },
      "outputs": [],
      "source": [
        "#creating function which calculates cosine similarity of the documents\n",
        "import math\n",
        "\n",
        "def dot(v1,v2):\n",
        "    total=0\n",
        "    for i in range(0,len(v1)):\n",
        "        total+=v1[i]*v2[i]\n",
        "        \n",
        "    return total\n",
        "\n",
        "def cosine(v1,v2):\n",
        "    \n",
        "    return dot(v1,v2)/math.sqrt(dot(v1,v1)*dot(v2,v2))"
      ]
    },
    {
      "cell_type": "code",
      "execution_count": null,
      "metadata": {
        "colab": {
          "base_uri": "https://localhost:8080/",
          "height": 53
        },
        "id": "lx5I_elzw1hq",
        "outputId": "4775dbd3-e05a-4dd2-aa71-4c20771444d8"
      },
      "outputs": [
        {
          "data": {
            "application/vnd.google.colaboratory.intrinsic+json": {
              "type": "string"
            },
            "text/plain": [
              "\"As you can below, the vectots compared are all 1's and 0's indicating words in the compared bag of words are all unique, thus achieving the worst case scenario.\\n\\nPS: For visualization purpose the vectors and their lengths of the last comparision in the loop is displayed.\""
            ]
          },
          "execution_count": 13,
          "metadata": {},
          "output_type": "execute_result"
        }
      ],
      "source": [
        "'''As you can below, the vectots compared are all 1's and 0's indicating words in the compared bag of words are all unique, thus achieving the worst case scenario.\n",
        "\n",
        "PS: For visualization purpose the vectors and their lengths of the last comparision in the loop is displayed.'''"
      ]
    },
    {
      "cell_type": "code",
      "execution_count": null,
      "metadata": {
        "colab": {
          "base_uri": "https://localhost:8080/"
        },
        "id": "dEK_Zd8ruqEC",
        "outputId": "228c01bb-c11d-49b1-b077-4788fbf84b58"
      },
      "outputs": [
        {
          "name": "stdout",
          "output_type": "stream",
          "text": [
            "The length of the vectors compared are 81000 81000 (last document) \n",
            " \n",
            "The vectors compared are [1, 1, 1, 1, 1, 1, 1, 1, 1, 1, 1, 1, 1, 1, 1, 1, 1, 1, 1, 1, 1, 1, 1, 1, 1, 1, 1, 1, 1, 1] [0, 0, 0, 0, 0, 0, 0, 0, 0, 0, 0, 0, 0, 0, 0, 0, 0, 0, 0, 0, 0, 0, 0, 0, 0, 0, 0, 0, 0, 0] (last document)\n",
            "[2000, 3000, 4000, 5000, 6000, 7000, 8000, 9000, 10000, 11000] [0.0005213664128230169, 0.0007670897703904372, 0.0010503823940570538, 0.0013198192302997297, 0.0015817880630493164, 0.0018640261430006762, 0.002123566774221567, 0.002399752690241887, 0.0026731454409085788, 0.0029150082514836236]\n"
          ]
        }
      ],
      "source": [
        "#calculating the similarites of the consecutive documents of varying sizes\n",
        "#timing the algorithm\n",
        "xs1=[] #contains size of comparing vectors \n",
        "ys1=[] #contains mean time taken for each comparision\n",
        "\n",
        "for i in range(1,161,2):\n",
        "  amatrixA=make_matrix(docdicts12[i-1:i+1])\n",
        "  doc_vectorsA=transpose(amatrixA)\n",
        "  A=doc_vectorsA[0]\n",
        "  B=doc_vectorsA[1]\n",
        "  doc1=len(A)\n",
        "  xs1=xs1+[doc1]\n",
        "  (ans,mean,error)=timeit(cosine,A,B,repeats=130)\n",
        "  ys1.append(mean)\n",
        "\n",
        "print('The length of the vectors compared are {} {} (last document) \\n \\nThe vectors compared are {} {} (last document)'.format(len(A),len(B),A[:30],B[:30]))\n",
        "\n",
        "print(xs1[:10],ys1[:10])"
      ]
    },
    {
      "cell_type": "code",
      "execution_count": null,
      "metadata": {
        "id": "Z2J9FJuNtG_h",
        "outputId": "8c467755-fdbf-425b-e912-9c28b09a3df4"
      },
      "outputs": [
        {
          "data": {
            "image/png": "[encoded data removed]",
            "text/plain": [
              "<Figure size 432x288 with 2 Axes>"
            ]
          },
          "metadata": {
            "needs_background": "light"
          },
          "output_type": "display_data"
        },
        {
          "data": {
            "text/plain": [
              "([2000, 3000, 4000, 5000, 6000],\n",
              " [0.0005213664128230169,\n",
              "  0.0007670897703904372,\n",
              "  0.0010503823940570538,\n",
              "  0.0013198192302997297,\n",
              "  0.0015817880630493164])"
            ]
          },
          "execution_count": 39,
          "metadata": {},
          "output_type": "execute_result"
        }
      ],
      "source": [
        "draw_graph(xs1,ys1,'Cosine similarity')"
      ]
    },
    {
      "cell_type": "code",
      "execution_count": null,
      "metadata": {
        "id": "ktEmZIYPtG_h",
        "outputId": "14ec0c01-51a7-4827-a942-da4750c0c850"
      },
      "outputs": [
        {
          "name": "stdout",
          "output_type": "stream",
          "text": [
            "Slope is 2.623263820094953e-07 and intercept is 3.0363507050528565e-05\n",
            "log_Slope is 1.0001894742003399 and log_intercept is -15.152441938022852\n",
            "slope_log rounded off to 1.0002\n",
            "intercept_log rounded off to -15.1524\n"
          ]
        }
      ],
      "source": [
        "slope_fun(xs1,ys1)"
      ]
    },
    {
      "cell_type": "markdown",
      "metadata": {
        "id": "KMNF60Y5NKtK"
      },
      "source": [
        "## Cosine similarity using numpy.dot "
      ]
    },
    {
      "cell_type": "code",
      "execution_count": null,
      "metadata": {
        "id": "CeaoKDmc-BqR"
      },
      "outputs": [],
      "source": [
        "#creating a function to compute cosine similarity using numpy dot product.\n",
        "def cosine_numpy(v1,v2):\n",
        "    \n",
        "    return np.dot(v1,v2)/math.sqrt(np.dot(v1,v1)*np.dot(v2,v2))"
      ]
    },
    {
      "cell_type": "code",
      "execution_count": null,
      "metadata": {
        "colab": {
          "base_uri": "https://localhost:8080/"
        },
        "id": "jQEkLJwJ81bq",
        "outputId": "65a434d0-ec5e-4b79-e73e-75716b1689d5"
      },
      "outputs": [
        {
          "name": "stdout",
          "output_type": "stream",
          "text": [
            "The length of the vectors compared are 81000 81000 (last document) \n",
            " \n",
            "The vectors compared are [1, 1, 1, 1, 1, 1, 1, 1, 1, 1, 1, 1, 1, 1, 1, 1, 1, 1, 1, 1, 1, 1, 1, 1, 1, 1, 1, 1, 1, 1] [0, 0, 0, 0, 0, 0, 0, 0, 0, 0, 0, 0, 0, 0, 0, 0, 0, 0, 0, 0, 0, 0, 0, 0, 0, 0, 0, 0, 0, 0] (last document)\n",
            "[2000, 3000, 4000, 5000, 6000, 7000, 8000, 9000, 10000, 11000] [0.0005213664128230169, 0.0007670897703904372, 0.0010503823940570538, 0.0013198192302997297, 0.0015817880630493164, 0.0018640261430006762, 0.002123566774221567, 0.002399752690241887, 0.0026731454409085788, 0.0029150082514836236]\n"
          ]
        }
      ],
      "source": [
        "#calculating the similarites of the consecutive documents of varying sizes\n",
        "#timing the algorithm\n",
        "xs2=[]  #contains size of comparing vectors\n",
        "ys2=[]  #contains mean time taken for each comparision\n",
        "\n",
        "for i in range(1,161,2):\n",
        "  amatrixA=make_matrix(docdicts12[i-1:i+1])\n",
        "  doc_vectorsA=transpose(amatrixA)\n",
        "  A=doc_vectorsA[0]\n",
        "  B=doc_vectorsA[1]\n",
        "  doc1=len(A)\n",
        "  xs2=xs2+[doc1]\n",
        "  (ans,mean,error)=timeit(cosine_numpy,A,B,repeats=10)\n",
        "  ys2.append(mean)\n",
        "\n",
        "print('The length of the vectors compared are {} {} (last document) \\n \\nThe vectors compared are {} {} (last document)'.format(len(A),len(B),A[:30],B[:30]))\n",
        "print(xs1[:10],ys1[:10])"
      ]
    },
    {
      "cell_type": "code",
      "execution_count": null,
      "metadata": {
        "id": "xJceSDgCtG_i",
        "outputId": "ee558048-1119-46d9-fa5e-28abd81588ed"
      },
      "outputs": [
        {
          "data": {
            "image/png": "[encoded data removed]",
            "text/plain": [
              "<Figure size 432x288 with 2 Axes>"
            ]
          },
          "metadata": {
            "needs_background": "light"
          },
          "output_type": "display_data"
        },
        {
          "data": {
            "text/plain": [
              "([2000, 3000, 4000, 5000, 6000],\n",
              " [0.0007925748825073243,\n",
              "  0.0011430978775024414,\n",
              "  0.0014369726181030274,\n",
              "  0.0017675399780273438,\n",
              "  0.002870464324951172])"
            ]
          },
          "execution_count": 43,
          "metadata": {},
          "output_type": "execute_result"
        }
      ],
      "source": [
        "draw_graph(xs2,ys2,'Cosine numpy.dot similarity')"
      ]
    },
    {
      "cell_type": "code",
      "execution_count": null,
      "metadata": {
        "id": "zKy_yhXOtG_i",
        "outputId": "751c7252-4cae-44d1-f564-1386253254bd"
      },
      "outputs": [
        {
          "name": "stdout",
          "output_type": "stream",
          "text": [
            "Slope is 3.4727120449774376e-07 and intercept is 4.9861589061561684e-05\n",
            "log_Slope is 0.9765007246177583 and log_intercept is -14.618658544374757\n",
            "slope_log rounded off to 0.9765\n",
            "intercept_log rounded off to -14.6187\n"
          ]
        }
      ],
      "source": [
        "slope_fun(xs2,ys2)"
      ]
    },
    {
      "cell_type": "markdown",
      "metadata": {
        "id": "pvrdx0eqtG_i"
      },
      "source": [
        "## Comparing the dot product cosine version in numpy with own implementation"
      ]
    },
    {
      "cell_type": "markdown",
      "metadata": {
        "id": "Jo7v-CSvtG_i"
      },
      "source": [
        "Both np. dot product cosine and cosine data points are presented on a same graph for comparison. Both versions seems to have an increasing trend in run time as the size of input increases. The value of n in the case of the cosine np.dot product version is 0.9765, whereas the slope of the own implemented cosine is 1.001. As a result, the cosine np.dot product version is clearly superior to the latter. This difference may not be significant for smaller inputs (document sizes), but when the input size is too large, the cosine np.dot product version works significantly better."
      ]
    },
    {
      "cell_type": "code",
      "execution_count": null,
      "metadata": {
        "colab": {
          "base_uri": "https://localhost:8080/",
          "height": 404
        },
        "id": "0vIeV_Hj08l5",
        "outputId": "daeed725-cd84-4ac6-df46-544144d57052"
      },
      "outputs": [
        {
          "data": {
            "image/png": "[encoded data removed]",
            "text/plain": [
              "<Figure size 576x432 with 1 Axes>"
            ]
          },
          "metadata": {
            "needs_background": "light"
          },
          "output_type": "display_data"
        }
      ],
      "source": [
        "#comparing cosine similarities numpy and non-numpy version \n",
        "import matplotlib.pyplot as plt\n",
        "%matplotlib inline\n",
        "plt.figure(figsize=(8,6))\n",
        "plt.scatter(xs1, ys1)\n",
        "plt.scatter(xs2, ys2)\n",
        "plt.legend(('Cosine similarity measure (numpy dot product version)','Cosine similarity measure'),loc='upper left')\n",
        "plt.xlabel(\"Lengths of vectors of documents compared\")\n",
        "plt.ylabel(\"Time (s)\")\n",
        "plt.title(\"Cosine vs Cosine(np.dot) version\")\n",
        "plt.show()"
      ]
    },
    {
      "cell_type": "code",
      "execution_count": null,
      "metadata": {
        "colab": {
          "base_uri": "https://localhost:8080/"
        },
        "id": "12cp6YmI1iuJ",
        "outputId": "885c8fc4-35ea-4e88-e710-d1e0fa01af15"
      },
      "outputs": [
        {
          "name": "stdout",
          "output_type": "stream",
          "text": [
            "Cosine function is 2.623263820094953e-07 and intercept is 3.0363507050528565e-05\n",
            "Numpy_version is 3.4727120449774376e-07 and intercept is 4.9861589061561684e-05\n"
          ]
        }
      ],
      "source": [
        "#calculating slope and intercept\n",
        "import scipy.stats as stats\n",
        "\n",
        "slope, intercept, r_value, p_value, std_err = stats.linregress(xs1, ys1)\n",
        "slope_np, intercept_np, r_value_np, p_value_np, std_err_np = stats.linregress(xs2, ys2)\n",
        "print(\"Cosine function is {} and intercept is {}\".format(slope,intercept))\n",
        "print(\"Numpy_version is {} and intercept is {}\".format(slope_np,intercept_np))"
      ]
    },
    {
      "cell_type": "code",
      "execution_count": null,
      "metadata": {
        "colab": {
          "base_uri": "https://localhost:8080/",
          "height": 404
        },
        "id": "H-CGBuNizh8h",
        "outputId": "54f4aeba-4a31-4849-adc6-a6916517fb1f"
      },
      "outputs": [
        {
          "data": {
            "image/png": "[encoded data removed]",
            "text/plain": [
              "<Figure size 576x432 with 1 Axes>"
            ]
          },
          "metadata": {
            "needs_background": "light"
          },
          "output_type": "display_data"
        }
      ],
      "source": [
        "#comparing cosine similarities numpy and non-numpy version (log)\n",
        "import matplotlib.pyplot as plt\n",
        "%matplotlib inline\n",
        "plt.figure(figsize=(8,6))\n",
        "plt.scatter(np.log(xs1), np.log(ys1))\n",
        "plt.scatter(np.log(xs2), np.log(ys2))\n",
        "plt.legend(('Cosine similarity measure (numpy dot product version)','Cosine similarity measure'),loc='upper left')\n",
        "plt.xlabel(\"Length of the bag\")\n",
        "plt.ylabel(\"time (s)\")\n",
        "plt.title(\"Cosine vs Cosine(np.dot) version\")\n",
        "plt.show()"
      ]
    },
    {
      "cell_type": "code",
      "execution_count": null,
      "metadata": {
        "colab": {
          "base_uri": "https://localhost:8080/"
        },
        "id": "SWcGDJTz2WI2",
        "outputId": "e00153d5-751e-49a3-d692-c9cfe62a7fe3"
      },
      "outputs": [
        {
          "name": "stdout",
          "output_type": "stream",
          "text": [
            "Cosine function Slope is 1.0001894742003399 and intercept is -15.152441938022852\n",
            "Numpy_version Slope is 0.9765007246177583 and intercept is -14.618658544374757\n"
          ]
        }
      ],
      "source": [
        "#calculating slope and intercept\n",
        "import scipy.stats as stats\n",
        "\n",
        "slope, intercept, r_value, p_value, std_err = stats.linregress(np.log(xs1), np.log(ys1))\n",
        "slope_np, intercept_np, r_value_np, p_value_np, std_err_np = stats.linregress(np.log(xs2), np.log(ys2))\n",
        "print(\"Cosine function Slope is {} and intercept is {}\".format(slope,intercept))\n",
        "print(\"Numpy_version Slope is {} and intercept is {}\".format(slope_np,intercept_np))"
      ]
    },
    {
      "cell_type": "markdown",
      "metadata": {
        "id": "h8yPovDttG_i"
      },
      "source": [
        "### Estimation of Constants(Cosine vector and cosine numpy) for my Computer"
      ]
    },
    {
      "cell_type": "markdown",
      "metadata": {
        "id": "zzk_Q5dutG_i"
      },
      "source": [
        "\n",
        "The constant(ca) of my computer for Cosine similarity would be approximately $10^{-15.1524}$ , which is nearly equal to 7.0404 × $10^{-16}$.\n",
        "and slope n is around 1.0001,which makes it O( 𝑛1.0001 ). Similarly, constants for cosine numpy.dot product version is estimated."
      ]
    },
    {
      "cell_type": "code",
      "execution_count": null,
      "metadata": {
        "id": "TmpRe-IvtG_i",
        "outputId": "37114a62-b590-4975-8d69-b4da132d4c15"
      },
      "outputs": [
        {
          "name": "stdout",
          "output_type": "stream",
          "text": [
            "The constant(ca) of my computer for Cosine vector would be approximately 7.040443214699753e-16\n"
          ]
        }
      ],
      "source": [
        "constant_estimate(-15.1524,'Cosine vector')"
      ]
    },
    {
      "cell_type": "markdown",
      "metadata": {
        "id": "7NBw4FPJtG_i"
      },
      "source": [
        "The constant(ca) of my computer for Cosine np.dot product version similarity would be approximately $10^{-14.6186}$ , which is nearly equal to 2.4065 × $10^{-15}$ and slope n is around 0.97,which makes it O($n^{0.97}$)."
      ]
    },
    {
      "cell_type": "code",
      "execution_count": null,
      "metadata": {
        "id": "ay-M1q-GtG_i",
        "outputId": "f213faa6-9659-4d2e-8019-c9b0b8b86a4e"
      },
      "outputs": [
        {
          "name": "stdout",
          "output_type": "stream",
          "text": [
            "The constant(ca) of my computer for Cosine np.dot product version would be approximately 2.4065783201116014e-15\n"
          ]
        }
      ],
      "source": [
        "constant_estimate(-14.6186,'Cosine np.dot product version')"
      ]
    },
    {
      "cell_type": "markdown",
      "metadata": {
        "id": "q8IKmnq45gWI"
      },
      "source": [
        "# 3. Cosine similarity directly from sparse (dictionary) representations without converting them into dense (vector) representations"
      ]
    },
    {
      "cell_type": "markdown",
      "metadata": {
        "id": "GJ8TnPGhtG_i"
      },
      "source": [
        "In sparse representation, the documents which are in the form of bag of words are directly taken as input to the function, and the similarity is calculated. The output below displays the inputs and the lengths of input that are being supplied as input to the sparse function. Here the input is python dictionary/bag of words and are not vectors."
      ]
    },
    {
      "cell_type": "code",
      "execution_count": null,
      "metadata": {
        "id": "u0LCTu8RdsGL"
      },
      "outputs": [],
      "source": [
        "#creating function which calculates cosine similarity of the documents of sparse representation\n",
        "def cosine_sparse(dict1,dict2):\n",
        "  v1=[]\n",
        "  v2=[]  \n",
        "  total=0\n",
        "  for item in dict1.keys():\n",
        "    v1.append(dict1[item])  #collecting word frequencies of each word from first doc and appending to v1\n",
        "  for item1 in dict2.keys():\n",
        "    v2.append(dict2[item1])  #collecting word frequencies of each word from second doc and appending to v2\n",
        "  return dot(v1,v2)/math.sqrt(dot(v1,v1)*dot(v2,v2))\n",
        "  "
      ]
    },
    {
      "cell_type": "code",
      "execution_count": null,
      "metadata": {
        "id": "R1cxkMyJhxuF"
      },
      "outputs": [],
      "source": [
        "#calculating the similarites of the consecutive documents of varying sizes\n",
        "#timing the algorithm\n",
        "xs3=[]  #contains size of bag of words of first document compared\n",
        "ys3=[]  #contains mean time taken for each comparision\n",
        "\n",
        "for index,n in enumerate(docdicts12[68:149]):\n",
        "    docA=docdicts12[68+index]\n",
        "    docB=docdicts12[(68+index+1)]\n",
        "    xs3=xs3+[len(docA)]\n",
        "    (ans,mean,error)=timeit(cosine_sparse,docA,docB,repeats=50)\n",
        "    ys3.append(mean)\n",
        "\n",
        "print('The length of the bags compared are {} {} (last document) \\nThe bags compared are {} {} (last document)'.format(len(docA),len(docB),docA,docB))\n",
        "print(xs3[:10],ys3[:10])"
      ]
    },
    {
      "cell_type": "code",
      "execution_count": null,
      "metadata": {
        "id": "c_tk3GPstG_j",
        "outputId": "41eafc67-12c7-4975-f4f9-51ec05ff6eb2"
      },
      "outputs": [
        {
          "data": {
            "image/png": "[encoded data removed]",
            "text/plain": [
              "<Figure size 432x288 with 2 Axes>"
            ]
          },
          "metadata": {
            "needs_background": "light"
          },
          "output_type": "display_data"
        },
        {
          "data": {
            "text/plain": [
              "([35000, 35500, 36000, 36500, 37000],\n",
              " [0.014414148330688476,\n",
              "  0.014356851577758789,\n",
              "  0.014565291404724122,\n",
              "  0.014748005867004395,\n",
              "  0.014959144592285156])"
            ]
          },
          "execution_count": 53,
          "metadata": {},
          "output_type": "execute_result"
        }
      ],
      "source": [
        "draw_graph(xs3,ys3,'Cosine sparse similarity')"
      ]
    },
    {
      "cell_type": "code",
      "execution_count": null,
      "metadata": {
        "id": "OXrnNz_rtG_j",
        "outputId": "bab186dc-f5b4-484e-925e-b122c55f42e8"
      },
      "outputs": [
        {
          "name": "stdout",
          "output_type": "stream",
          "text": [
            "Slope is 4.0451719315071417e-07 and intercept is -0.00012606480149611465\n",
            "log_Slope is 0.9973481059644103 and log_intercept is -14.69742759046665\n",
            "slope_log rounded off to 0.9973\n",
            "intercept_log rounded off to -14.6974\n"
          ]
        }
      ],
      "source": [
        "slope_fun(xs3,ys3)"
      ]
    },
    {
      "cell_type": "markdown",
      "metadata": {
        "id": "IdvZuuHCtG_j"
      },
      "source": [
        "### Estimation of Constants(Cosine Sparse) for my Computer"
      ]
    },
    {
      "cell_type": "markdown",
      "metadata": {
        "id": "MTpfjKHGtG_j"
      },
      "source": [
        "The constant(ca) of my computer for Cosine sparse similarity would be approximately $10^{-14.6974}$ , which is nearly equal to 2.0072 × $10^{-15}$ and slope n is around 1(0.9973), which makes it O(n)."
      ]
    },
    {
      "cell_type": "code",
      "execution_count": null,
      "metadata": {
        "id": "-yXCpBsXtG_j",
        "outputId": "91239d0e-172e-4748-f8e9-7c9cb07a63c4"
      },
      "outputs": [
        {
          "name": "stdout",
          "output_type": "stream",
          "text": [
            "The constant(ca) of my computer for Cosine Sparse would be approximately 2.0072432216432944e-15\n"
          ]
        }
      ],
      "source": [
        "constant_estimate(-14.6974,'Cosine Sparse')"
      ]
    },
    {
      "cell_type": "markdown",
      "metadata": {
        "id": "rMooCdl3tG_j"
      },
      "source": [
        "## Testing function for correctness and comparing its efficiency theoretically and empirically with previous implementation of the cosine similarity, and Jaccard’s measure."
      ]
    },
    {
      "cell_type": "markdown",
      "metadata": {
        "id": "kz4nbNobtG_j"
      },
      "source": [
        "**Empirical Comparision**\n",
        "\n",
        "From the below graph, cosine sparse similarity takes more run time than cosine vector and cosine np.dot version, and it takes less time than jaccard. But according to slopes, sparse is slightly efficient than jaccard and cosine vector and slightly less efficient than cosine np.dot version, which means for documents of larger sizes, cosine sparse is more efficient than jaccard and cosine vector.\n",
        "\n",
        "**Theoretical comparision**\n",
        "\n",
        "Coming to the theory, the time complexity of all 4 algorithms are of O(n). But if there are hash collisions in jaccard similarity, the order of it is ${O(n^2)}$. Just in this case, cosine sparse and other 2 algorithms are more efficient. "
      ]
    },
    {
      "cell_type": "code",
      "execution_count": null,
      "metadata": {
        "id": "XTxUo00MtG_j",
        "outputId": "bffcb0c4-1ae4-45eb-9386-3c056bf2ff69"
      },
      "outputs": [
        {
          "data": {
            "image/png": "[encoded data removed]",
            "text/plain": [
              "<Figure size 576x432 with 1 Axes>"
            ]
          },
          "metadata": {
            "needs_background": "light"
          },
          "output_type": "display_data"
        }
      ],
      "source": [
        "#comparision between, jaccard, cosine, cosine numpy version, and cosine sparse\n",
        "plt.figure(figsize=(8,6))\n",
        "plt.scatter(xs, ys)\n",
        "plt.scatter(xs1, ys1)\n",
        "plt.scatter(xs2, ys2)\n",
        "plt.scatter(xs3, ys3)\n",
        "plt.legend(('Jaccard','Cosine similarity measure (numpy dot product version)','Cosine similarity measure','cosine_sparse'),loc='upper left')\n",
        "plt.xlabel(\"Lengths of vectors of documents compared\")\n",
        "plt.ylabel(\"Time (s)\")\n",
        "plt.title(\"Runtime comparition between various algorithms \")\n",
        "plt.show()"
      ]
    },
    {
      "cell_type": "code",
      "execution_count": null,
      "metadata": {
        "id": "1dItD-39tG_j",
        "outputId": "10ca5048-4eeb-4f37-a307-bc869cefe378"
      },
      "outputs": [
        {
          "name": "stdout",
          "output_type": "stream",
          "text": [
            "Jaccard function Slope is 1.0091383152883164 and intercept is -14.720535545412455\n",
            "Cosine Slope is 1.0001894742003399 and intercept is -15.152441938022852\n",
            "Cosine_np.dot Slope is 0.9765007246177583 and intercept is -14.618658544374757\n",
            "Cosine_sparse Slope is 0.9973481059644103 and intercept is -14.69742759046665\n"
          ]
        }
      ],
      "source": [
        "#calculating slope and intercept\n",
        "import scipy.stats as stats\n",
        "slope1, intercept1, r_value1, p_value1, std_err1 = stats.linregress(np.log(xs), np.log(ys))\n",
        "slope2, intercept2, r_value2, p_value2, std_err2 = stats.linregress(np.log(xs1), np.log(ys1))\n",
        "slope3, intercept3, r_value3, p_value3, std_err3 = stats.linregress(np.log(xs2), np.log(ys2))\n",
        "slope4, intercept4, r_value4, p_value4, std_err4 = stats.linregress(np.log(xs3), np.log(ys3))\n",
        "print(\"Jaccard function Slope is {} and intercept is {}\".format(slope1,intercept1))\n",
        "print(\"Cosine Slope is {} and intercept is {}\".format(slope2,intercept2))\n",
        "print(\"Cosine_np.dot Slope is {} and intercept is {}\".format(slope3,intercept3))\n",
        "print(\"Cosine_sparse Slope is {} and intercept is {}\".format(slope4,intercept4))"
      ]
    },
    {
      "cell_type": "markdown",
      "metadata": {
        "id": "w07PBvfdf_IR"
      },
      "source": [
        "# 4. All-pairs similarities for a collection of documents"
      ]
    },
    {
      "cell_type": "markdown",
      "metadata": {
        "id": "89FFz9AjtG_j"
      },
      "source": [
        "All pair similarity means when a collection of documents are sent as input to the similarity algorithm, the output should be similarity of all pairs in the collection. For example if the input is [doc11,doc2,doc3], the out shouls return similarities of all pairs i.e [(doc1,doc1),(doc1,doc2),(doc1,doc3),(doc2,doc1),(doc2,doc2),(doc2,doc3),...].\n",
        "\n",
        "The function below takes list of dictionaries/bag of words and type of similarity measure as input and returns all pair similarities."
      ]
    },
    {
      "cell_type": "code",
      "execution_count": null,
      "metadata": {
        "id": "zG7JTw0qQz0i",
        "outputId": "efae253b-2fd3-4b23-b718-63acc6f026ae"
      },
      "outputs": [
        {
          "name": "stdout",
          "output_type": "stream",
          "text": [
            "Cosine similarity Output \n",
            " [[1.0, 0.4082482904638631, 0.0], [0.4082482904638631, 1.0, 0.5773502691896258], [0.0, 0.5773502691896258, 1.0]]\n",
            "Jaccard similarity Output \n",
            " [[1.0, 0.25, 0.0], [0.25, 1.0, 0.4], [0.0, 0.4, 1.0]]\n"
          ]
        }
      ],
      "source": [
        "#creating function which computes all similarities of inputed documents\n",
        "def all_sim(docdicts, similarity):\n",
        "  sims=[]\n",
        "  if similarity==jaccard:\n",
        "    for docA in docdicts:\n",
        "        rowsims=[]\n",
        "        for docB in docdicts:\n",
        "            rowsims.append(similarity(docA,docB))\n",
        "        sims.append(rowsims)\n",
        "  elif similarity==cosine:\n",
        "    amatrix=make_matrix(docdicts)\n",
        "    doc_vectors=transpose(amatrix)\n",
        "    for docA in doc_vectors:\n",
        "        rowsims=[]\n",
        "        for docB in doc_vectors:\n",
        "          rowsims.append(similarity(docA,docB))\n",
        "        sims.append(rowsims)\n",
        "\n",
        "  return(sims)\n",
        "\n",
        "#testing my all_sim function\n",
        "print('Cosine similarity Output \\n', all_sim(docdicts12[:3], cosine))\n",
        "print('Jaccard similarity Output \\n', all_sim(docdicts12[:3], jaccard))"
      ]
    },
    {
      "cell_type": "markdown",
      "metadata": {
        "id": "CE6jqrpStG_j"
      },
      "source": [
        "## The theoretical worst-case running time for computing all-pairs similarities"
      ]
    },
    {
      "cell_type": "markdown",
      "metadata": {
        "id": "k0JXd3VMtG_k"
      },
      "source": [
        "### Jaccard"
      ]
    },
    {
      "cell_type": "markdown",
      "metadata": {
        "id": "A5x3rCtStG_k"
      },
      "source": [
        "From the function `all_sim` if the similarity is 'Jaccard' and the documents are unique, there are two `for` loops out of which, in the second for loop, the jaccard function is called, the jaccard function has a for loop inside it(assuming no hash collisions) making a total of 3 for loops of order n in big O notation (O(n)) each. Hence the theoretical worst case runtime for jaccard for all pair similarities is ${O(n^3)}$. The if statements in the function `all_sim` is just an conditional statement and hence it has an order of 1, O(1)."
      ]
    },
    {
      "cell_type": "markdown",
      "metadata": {
        "id": "_lYPHMjBtG_k"
      },
      "source": [
        "### Cosine"
      ]
    },
    {
      "cell_type": "markdown",
      "metadata": {
        "id": "VToO6A5atG_k"
      },
      "source": [
        "For cosine, there are 2 `for` loops in which a cosine function is called in 2nd for loop. Cosine function in turn calls `dot` function which has a for loop inside it making a total of 3 for loops for similarity comparision. These 3 for loops has an order of n in big O notation (O(n)) each. And hence theoretical worst case runtime(all unique docs) for cosine for all pair similarities is ${O(n^3)}$."
      ]
    },
    {
      "cell_type": "markdown",
      "metadata": {
        "id": "BIcYb7FYtG_k"
      },
      "source": [
        "## Jaccard all_pair"
      ]
    },
    {
      "cell_type": "code",
      "execution_count": null,
      "metadata": {
        "id": "eWSnaJenimph",
        "outputId": "1e6844c4-67ad-474b-9ca2-acc664043e44"
      },
      "outputs": [
        {
          "name": "stdout",
          "output_type": "stream",
          "text": [
            "[1, 2, 3, 4, 5, 6, 7, 8, 9, 10] [0.0017219384511311848, 0.0034085909525553384, 0.005900382995605469, 0.012248039245605469, 0.015022754669189453, 0.02282436688741048, 0.03400603930155436, 0.048602660497029625, 0.06704799334208171, 0.08902907371520996]\n"
          ]
        }
      ],
      "source": [
        "#calculating all similarites of the consecutive documents of varying sizes\n",
        "#timing the algorithm\n",
        "x1=[] #contains input number of docs for all similarities\n",
        "y1=[] #contains mean time taken \n",
        "\n",
        "for i in range(1,30):\n",
        "  x1.append(i)\n",
        "  (ans,mean,error)=timeit(all_sim,docdicts12[:i],jaccard,repeats=3)\n",
        "  y1.append(mean)\n",
        "\n",
        "print(x1[:10],y1[:10])"
      ]
    },
    {
      "cell_type": "code",
      "execution_count": null,
      "metadata": {
        "id": "upD_lgpptG_k",
        "outputId": "689e287f-d7d6-491a-973b-a9339e4a4386"
      },
      "outputs": [
        {
          "data": {
            "image/png": "[encoded data removed]",
            "text/plain": [
              "<Figure size 432x288 with 2 Axes>"
            ]
          },
          "metadata": {
            "needs_background": "light"
          },
          "output_type": "display_data"
        },
        {
          "data": {
            "text/plain": [
              "([1, 2, 3, 4, 5],\n",
              " [0.0017219384511311848,\n",
              "  0.0034085909525553384,\n",
              "  0.005900382995605469,\n",
              "  0.012248039245605469,\n",
              "  0.015022754669189453])"
            ]
          },
          "execution_count": 212,
          "metadata": {},
          "output_type": "execute_result"
        }
      ],
      "source": [
        "draw_graph(x1,y1,'Jaccard all_pair')"
      ]
    },
    {
      "cell_type": "code",
      "execution_count": null,
      "metadata": {
        "colab": {
          "base_uri": "https://localhost:8080/",
          "height": 53
        },
        "id": "OByW-7w3wlTw",
        "outputId": "693031c3-da45-47bd-b82e-4aca322da834"
      },
      "outputs": [
        {
          "data": {
            "application/vnd.google.colaboratory.intrinsic+json": {
              "type": "string"
            },
            "text/plain": [
              "'30 Documents is a very small size for input, as you can see below, for this small input itself the order of n starts to increase from 2.It will eventually reach theoretical value 3 ${O(n^3)}$ for larger number of documents.'"
            ]
          },
          "execution_count": 12,
          "metadata": {},
          "output_type": "execute_result"
        }
      ],
      "source": [
        "'''30 Documents is a very small size for input, as you can see below, for this small input itself the order of n starts to increase from 2.It will eventually reach theoretical value 3 ${O(n^3)}$ for larger number of documents.'''"
      ]
    },
    {
      "cell_type": "code",
      "execution_count": null,
      "metadata": {
        "id": "jLFX-pvFtG_k",
        "outputId": "1f6a5f19-180e-4218-d1fa-aee2b223c968"
      },
      "outputs": [
        {
          "name": "stdout",
          "output_type": "stream",
          "text": [
            "Slope is 0.06087750319776863 and intercept is -0.4065182853019098\n",
            "log_Slope is 2.311038032004556 and log_intercept is -7.47394336294777\n",
            "slope_log rounded off to 2.311\n",
            "intercept_log rounded off to -7.4739\n"
          ]
        }
      ],
      "source": [
        "slope_fun(x1,y1)"
      ]
    },
    {
      "cell_type": "markdown",
      "metadata": {
        "id": "3mc7xAhctG_k"
      },
      "source": [
        "## Cosine all_pair"
      ]
    },
    {
      "cell_type": "code",
      "execution_count": null,
      "metadata": {
        "id": "apaPoPOMmi7L",
        "outputId": "720c5dc3-a8d3-47e8-8182-bee61c0f7886"
      },
      "outputs": [
        {
          "name": "stdout",
          "output_type": "stream",
          "text": [
            "[1, 2, 3, 4, 5, 6, 7, 8, 9, 10] [0.003312349319458008, 0.0075117746988932295, 0.013549089431762695, 0.02036706606547038, 0.036266326904296875, 0.06083202362060547, 0.09453042348225911, 0.13906137148539224, 0.6335842609405518, 0.26514999071757, 0.35099371274312335, 0.45814768473307294, 0.8481842676798502, 0.7141003608703613, 0.8692417939503988]\n"
          ]
        }
      ],
      "source": [
        "#calculating all similarites of the consecutive documents of varying sizes\n",
        "#timing the algorithm\n",
        "x2=[]  #contains input number of docs for all similarities\n",
        "y2=[]  #contains mean time taken \n",
        "#try:\n",
        "\n",
        "for i in range(1,20):\n",
        "  x2.append(i)\n",
        "  (ans,mean,error)=timeit(all_sim,docdicts12[:i],cosine,repeats=3)\n",
        "  y2.append(mean)\n",
        "\n",
        "print(x2[:10],y2[:15])"
      ]
    },
    {
      "cell_type": "code",
      "execution_count": null,
      "metadata": {
        "id": "VRTf3dGmtG_k",
        "outputId": "1d3cbf14-931a-471c-f0b5-2c8eff7eb2e9"
      },
      "outputs": [
        {
          "data": {
            "image/png": "[encoded data removed]",
            "text/plain": [
              "<Figure size 432x288 with 2 Axes>"
            ]
          },
          "metadata": {
            "needs_background": "light"
          },
          "output_type": "display_data"
        },
        {
          "data": {
            "text/plain": [
              "([1, 2, 3, 4, 5],\n",
              " [0.003312349319458008,\n",
              "  0.0075117746988932295,\n",
              "  0.013549089431762695,\n",
              "  0.02036706606547038,\n",
              "  0.036266326904296875])"
            ]
          },
          "execution_count": 215,
          "metadata": {},
          "output_type": "execute_result"
        }
      ],
      "source": [
        "draw_graph(x2,y2,'Cosine all_pair')"
      ]
    },
    {
      "cell_type": "code",
      "execution_count": null,
      "metadata": {
        "id": "XYXqNM-ctG_k",
        "outputId": "c364965d-d8f9-438a-b42a-4360e7855f4a"
      },
      "outputs": [
        {
          "name": "stdout",
          "output_type": "stream",
          "text": [
            "Slope is 0.09799525598336382 and intercept is -0.42055612976788104\n",
            "log_Slope is 2.3800598173701544 and log_intercept is -6.604209697595408\n",
            "slope_log rounded off to 2.3801\n",
            "intercept_log rounded off to -6.6042\n"
          ]
        }
      ],
      "source": [
        "slope_fun(x2,y2)"
      ]
    },
    {
      "cell_type": "markdown",
      "metadata": {
        "id": "UCcY89vKtG_k"
      },
      "source": [
        "## Estimation of runtime of algorithms to compute all-pairs similarities for 200K documents"
      ]
    },
    {
      "cell_type": "markdown",
      "metadata": {
        "id": "FEIZtIb0tG_k"
      },
      "source": [
        "In order to compute the runtime, we need to compute the value of y from the equation $𝑦=𝑐𝑎.𝑥^𝑛$. ca is constant of the computer , x is the number of documents provided as input for all similarity, which is 200k(200000) in this case, and n is the order of n in big O notation, which is also known as slope. By substituting these values into the equation, we will get the required runtime(y). "
      ]
    },
    {
      "cell_type": "code",
      "execution_count": null,
      "metadata": {
        "id": "C0J_ifwMtG_k"
      },
      "outputs": [],
      "source": [
        "#function for runtime estimation\n",
        "def estimate_runtime(ca,x,n,sim):\n",
        "    y=round(ca*(x**n),2)\n",
        "    y_min=round(y/60, 2)\n",
        "    y_hrs=round(y_min/60, 2)\n",
        "    print('Estimation of runtime of {} to compute all-pairs similarities for 200K documents is {} seconds'.format(sim,y))\n",
        "    print('Estimation of runtime of {} to compute all-pairs similarities for 200K documents is {} minutes'.format(sim,y_min))\n",
        "    print('Estimation of runtime of {} to compute all-pairs similarities for 200K documents is {} hours'.format(sim,y_hrs))\n",
        "    "
      ]
    },
    {
      "cell_type": "markdown",
      "metadata": {
        "id": "YLOfkzdLtG_k"
      },
      "source": [
        "## Empirical estimation"
      ]
    },
    {
      "cell_type": "markdown",
      "metadata": {
        "id": "aqFHbR3gtG_k"
      },
      "source": [
        "### Jaccard"
      ]
    },
    {
      "cell_type": "markdown",
      "metadata": {
        "id": "43CuJzOhtG_k"
      },
      "source": [
        "The slope(n) of Jaccard all_pair is 2.311, which makes it runtime as $𝑂(𝑛^{2.3})$ and the constant is 3.3581 × $10^{-8}$"
      ]
    },
    {
      "cell_type": "code",
      "execution_count": null,
      "metadata": {
        "id": "2XahWyjGtG_l",
        "outputId": "e8600b16-894d-4c38-b739-41c13bedcc75"
      },
      "outputs": [
        {
          "name": "stdout",
          "output_type": "stream",
          "text": [
            "The constant(ca) of my computer for Jaccard all_pair would be approximately 3.3581492958644195e-08\n"
          ]
        }
      ],
      "source": [
        "constant_estimate(-7.4739,'Jaccard all_pair')"
      ]
    },
    {
      "cell_type": "code",
      "execution_count": null,
      "metadata": {
        "id": "dFh86eHttG_l",
        "outputId": "5c0e8a18-6f57-4ed9-a0b1-307e8d53207d"
      },
      "outputs": [
        {
          "name": "stdout",
          "output_type": "stream",
          "text": [
            "Estimation of runtime of Jaccard to compute all-pairs similarities for 200K documents is 59810.9 seconds\n",
            "Estimation of runtime of Jaccard to compute all-pairs similarities for 200K documents is 996.85 minutes\n",
            "Estimation of runtime of Jaccard to compute all-pairs similarities for 200K documents is 16.61 hours\n"
          ]
        }
      ],
      "source": [
        "estimate_runtime(10**(-7.4739),200000,2.311,'Jaccard')"
      ]
    },
    {
      "cell_type": "markdown",
      "metadata": {
        "id": "Wb0ftXn5tG_l"
      },
      "source": [
        "### Cosine"
      ]
    },
    {
      "cell_type": "markdown",
      "metadata": {
        "id": "9Pw8ax6JtG_l"
      },
      "source": [
        "The slope(n) of Cosine all_pair is 2.3801 which is approximately 2, which makes it runtime as $𝑂(𝑛^{2.3})$ and the constant is 2.4877 × $10^{-7}$"
      ]
    },
    {
      "cell_type": "code",
      "execution_count": null,
      "metadata": {
        "id": "VZtRkJb8tG_l",
        "outputId": "b087f920-c03f-4cfe-c614-c1f6439a93c3"
      },
      "outputs": [
        {
          "name": "stdout",
          "output_type": "stream",
          "text": [
            "The constant(ca) of my computer for Cosine all_pair would be approximately 2.4877114210033104e-07\n"
          ]
        }
      ],
      "source": [
        "constant_estimate(-6.6042,'Cosine all_pair')"
      ]
    },
    {
      "cell_type": "code",
      "execution_count": null,
      "metadata": {
        "id": "O6uMbVKztG_l",
        "outputId": "fb88609f-63f2-4dfe-afed-15a7c68baf45"
      },
      "outputs": [
        {
          "name": "stdout",
          "output_type": "stream",
          "text": [
            "Estimation of runtime of Cosine to compute all-pairs similarities for 200K documents is 1029867.83 seconds\n",
            "Estimation of runtime of Cosine to compute all-pairs similarities for 200K documents is 17164.46 minutes\n",
            "Estimation of runtime of Cosine to compute all-pairs similarities for 200K documents is 286.07 hours\n"
          ]
        }
      ],
      "source": [
        "estimate_runtime(10**(-6.6042),200000,2.3801,'Cosine')"
      ]
    },
    {
      "cell_type": "code",
      "execution_count": null,
      "metadata": {
        "colab": {
          "base_uri": "https://localhost:8080/",
          "height": 53
        },
        "id": "zgBHmzWEwb3a",
        "outputId": "c3a0b8dc-2aa2-415c-9eef-81dcaf0e525e"
      },
      "outputs": [
        {
          "data": {
            "application/vnd.google.colaboratory.intrinsic+json": {
              "type": "string"
            },
            "text/plain": [
              "'Please note that the above 2 estimations are based on the order of n(2.3) for smaller number of documents(30). But ideally, for 200k documents the n value will be 3, since the input is very large. If this can be considered, the runtime for jaccard and cosine can be computed with n value as 3.'"
            ]
          },
          "execution_count": 11,
          "metadata": {},
          "output_type": "execute_result"
        }
      ],
      "source": [
        "'''Please note that the above 2 estimations are based on the order of n(2.3) for smaller number of documents(30). But ideally, for 200k documents the n value will be 3, since the input is very large. If this can be considered, the runtime for jaccard and cosine can be computed with n value as 3.'''"
      ]
    },
    {
      "cell_type": "markdown",
      "metadata": {
        "id": "TtfTBYmjtG_l"
      },
      "source": [
        "## Does it matter what the similarity measure is?"
      ]
    },
    {
      "cell_type": "markdown",
      "metadata": {
        "id": "Rs7WQmWrtG_l"
      },
      "source": [
        "Yes, it does matter what similarity measure is being used. From the above runtime analysis for 200k documents, it was proved that jaccard all similarity algorithm outperforms cosine algorithm. Hence, in case of larger inputs the most efficeint algorithm, which is jaccard in this case, should be used."
      ]
    },
    {
      "cell_type": "markdown",
      "metadata": {
        "id": "BwmqVvIVtG_l"
      },
      "source": [
        "# 5. All-pairs similarities for documents Using some form of parallel computing"
      ]
    },
    {
      "cell_type": "markdown",
      "metadata": {
        "id": "hRYYKqWRtG_l"
      },
      "source": [
        "MapReduce is a distributed computing processing technology and programme architecture . Map and Reduce are two fundamental tasks in the MapReduce algorithm. Map turns a set of data into another set of data by breaking down individual elements into tuples (key/value pairs). Second, there's the reduction job, which takes the result of a map as an input and condenses the data tuples into a smaller set. The reduction work is always executed after the map job, as the name MapReduce suggests.MapReduce's main advantage is that it's simple to expand data processing over several computing nodes.It is possible in a distributed network where number of computers are connected together,but in the case of a single computer system, the mapper tasks are distubuted betwen the number of cores in the computer using multiprocess library.In my case, my computer has a total of 8 cores. The data processing primitives of the MapReduce model are known as mappers and reducers. \n",
        "\n",
        "Here, for the all pair similarity computation, a mapper function `mapper_parallel` and 2 reducer functions`reducer_parallel_jaccard` and `reducer_parallel_cosine`(one for jaccard and other for cosine) are created. The mapper function simply forms a tuples (key/value pairs) of my individual data, i.e if my input is 3 documents, it creates key value pairs like below, where 0,1,2 are the document indexes.\n",
        "\n",
        "\n",
        "[('[0, 0]', [[0, 0], [0, 1], [0, 2]]),\n",
        " ('[1, 0]', [[1, 0], [1, 1], [1, 2]]),\n",
        " ('[2, 0]', [[2, 0], [2, 1], [2, 2]])]\n",
        " \n",
        "The first tuple ('[0, 0]', [[0, 0], [0, 1], [0, 2]]), corresponds to all pairs with the number of input documents, where [0,1] means comparision of 0 and 1 documents.so, if there are n number of documents the mapper will create n tuples which has values as 'all pairs'. This output of the mapper function is sent to corresponding reducer function, which calculates the similarities of documents in the order returned by the mapper.\n",
        "\n",
        "So far, we have divided our tasks, but that does not mean there will be any effect on runtime. To cut the runtime and make the function efficient, we need to assign the mapper task to more than 1 node/core, where each core assigned with mapper task behaves as a mapper and the huge number of documents are distributed among the specified mappers and processing of the distributed inputs are done in parallel. In a similar way, we can assign reducer job to more than one node/core, where the mapper outputs are distributed among reducers and perform all similarities in a parallel way.\n",
        "\n",
        "To achieve this parallel computing, a function called `map_reduce_parallel` is created, which takes documents, mapper, reducer, number of mappers and number of reducers as inputs and returns the all_pair similarities of documents.\n",
        " "
      ]
    },
    {
      "cell_type": "code",
      "execution_count": null,
      "metadata": {
        "id": "qUDkPRnQtG_l"
      },
      "outputs": [],
      "source": [
        "def all_pair(documents):\n",
        "    all_sim= []\n",
        "    for i in range(len(documents)):\n",
        "        all_sim.append([])\n",
        "        for j in range(0, len(documents)):\n",
        "            all_sim[i].append([i,j])\n",
        "    return all_sim"
      ]
    },
    {
      "cell_type": "code",
      "execution_count": null,
      "metadata": {
        "id": "sK1ivvP0tG_l"
      },
      "outputs": [],
      "source": [
        "def mapper_parallel(sim_list):\n",
        "     output=[]\n",
        "     for num in sim_list:\n",
        "        output.append((str(num[0]),num))\n",
        "     return output   "
      ]
    },
    {
      "cell_type": "code",
      "execution_count": null,
      "metadata": {
        "id": "r_0cSWAetG_l"
      },
      "outputs": [],
      "source": [
        "#Jaccard similarity reducer  function\n",
        "def reducer_parallel_jaccard(sim_list):\n",
        "    output=[]\n",
        "    (word,counts)=sim_list \n",
        "    for count in counts: \n",
        "        docA=docdicts12[count[0]]\n",
        "        docB=docdicts12[count[1]]\n",
        "        union = docA.keys() | docB.keys()\n",
        "        Intersection = docA.keys() & docB.keys()\n",
        "        jaccard_similarity =  len(Intersection) / len(union)\n",
        "        output.append(((count[0],count[1]),jaccard_similarity))\n",
        "    return output"
      ]
    },
    {
      "cell_type": "code",
      "execution_count": null,
      "metadata": {
        "id": "Re4VQnOntG_l"
      },
      "outputs": [],
      "source": [
        "#cosine similarity sparse reducer  function\n",
        "def reducer_parallel_cosine(sim_list):\n",
        "    output=[]\n",
        "    (word,counts)=sim_list \n",
        "    for count in counts: \n",
        "        docA=docdicts12[count[0]]\n",
        "        docB=docdicts12[count[1]]\n",
        "        numerator = dot_product(docA,docB)\n",
        "        denominator = sqrt(dot_product(docA,docA)*dot_product(docB,docB))\n",
        "        cosine_similarity=numerator/denominator\n",
        "        output.append(((count[0],count[1]),cosine_similarity))\n",
        "    return output"
      ]
    },
    {
      "cell_type": "code",
      "execution_count": null,
      "metadata": {
        "id": "_iDj6ZGRtG_l"
      },
      "outputs": [],
      "source": [
        "from collections import defaultdict\n",
        "from multiprocess import Pool\n",
        "def map_reduce_parallel(doc,mapper,reducer,mapprocesses=4,reduceprocesses=4):\n",
        "  outputs=[]\n",
        "  collector=defaultdict(list)  #this dictionary is where we will store intermediate results\n",
        "                                 #it will map keys to lists of values (default value of a list is [])\n",
        "                                 #in a real system, this would be stored in individual files at the map nodes\n",
        "                                 #and then transferred to the reduce nodes\n",
        "        \n",
        "  processed_doc=all_pair(doc)\n",
        "  #mapprocesses=4\n",
        "  #reduceprocesses=4\n",
        "  mappool = Pool(processes=mapprocesses)\n",
        "    \n",
        "  #map stage\n",
        "  mapresults=mappool.map(mapper,processed_doc)\n",
        "  mappool.close()\n",
        "  for mapresult in mapresults:\n",
        "    for (key, value) in mapresult:     #pass each input to the mapper function and receive back each key,value pair yielded\n",
        "      collector[key].append(value)     #append the value to the list for that key in the intermediate store\n",
        "\n",
        "  #reduce stage\n",
        "  reducepool = Pool(processes=reduceprocesses)\n",
        "  reduceresults=reducepool.map(reducer,collector.items())\n",
        "  reducepool.close()\n",
        "  for reduceresult in reduceresults:\n",
        "    outputs+=reduceresult\n",
        "  return outputs"
      ]
    },
    {
      "cell_type": "code",
      "execution_count": null,
      "metadata": {
        "id": "q3Oe38rXtG_m"
      },
      "outputs": [],
      "source": [
        "def my_func_all_sim(docdicts,similarity):\n",
        "  sims=[]\n",
        "  if similarity==jaccard:\n",
        "    for docA in docdicts:\n",
        "        rowsims=[]\n",
        "        for docB in docdicts:\n",
        "            union = docA.keys() | docB.keys()\n",
        "            Intersection = docA.keys() & docB.keys()\n",
        "            jaccard_similarity =  len(Intersection) / len(union)\n",
        "            rowsims.append(jaccard_similarity)\n",
        "        sims.append(rowsims)\n",
        "  elif similarity==cosine:\n",
        "    amatrix=make_matrix(docdicts)\n",
        "    doc_vectors=transpose(amatrix)\n",
        "    for docA in doc_vectors:\n",
        "        rowsims=[]\n",
        "        for docB in doc_vectors:\n",
        "          rowsims.append(similarity(docA,docB))\n",
        "        sims.append(rowsims)\n",
        "\n",
        "  return(sims)"
      ]
    },
    {
      "cell_type": "markdown",
      "metadata": {
        "id": "rJUtwr5ltG_m"
      },
      "source": [
        "## Testing the function empirically for correctness"
      ]
    },
    {
      "cell_type": "markdown",
      "metadata": {
        "id": "J-xl17a5tG_m"
      },
      "source": [
        "Here, the outputs of map_reduce jaccard and cosine algorithms are computed and validated against actual jaccard and cosine similarities algorithms as below. This method can be used to test the function empirically for correctness."
      ]
    },
    {
      "cell_type": "markdown",
      "metadata": {
        "id": "7V6swO6ItG_m"
      },
      "source": [
        "### Actual Jaccard Runtime"
      ]
    },
    {
      "cell_type": "code",
      "execution_count": null,
      "metadata": {
        "id": "RBZ58FOHtG_m",
        "outputId": "97ae52da-93d6-4667-bfd2-627aa148bb91"
      },
      "outputs": [
        {
          "data": {
            "text/plain": [
              "[[1.0, 0.25, 0.0], [0.25, 1.0, 0.4], [0.0, 0.4, 1.0]]"
            ]
          },
          "execution_count": 74,
          "metadata": {},
          "output_type": "execute_result"
        }
      ],
      "source": [
        "my_func_all_sim(docdicts12[:3],jaccard)"
      ]
    },
    {
      "cell_type": "code",
      "execution_count": null,
      "metadata": {
        "id": "QQ466riftG_m"
      },
      "outputs": [],
      "source": [
        "(jacc_ans,jacc_mean_time,jacc_error)=timeit(my_func_all_sim,docdicts12[:50],jaccard,repeats=3)"
      ]
    },
    {
      "cell_type": "code",
      "execution_count": null,
      "metadata": {
        "id": "5HSHmP2LtG_m",
        "outputId": "e8cf5102-2dba-491c-c2ef-8fb261f92f21"
      },
      "outputs": [
        {
          "data": {
            "text/plain": [
              "3.8191404342651367"
            ]
          },
          "execution_count": 76,
          "metadata": {},
          "output_type": "execute_result"
        }
      ],
      "source": [
        "jacc_mean_time"
      ]
    },
    {
      "cell_type": "markdown",
      "metadata": {
        "id": "Jum4y_1StG_m"
      },
      "source": [
        "### Map reduce Jaccard Runtime"
      ]
    },
    {
      "cell_type": "code",
      "execution_count": null,
      "metadata": {
        "id": "zBZduXAqtG_m",
        "outputId": "00c08642-d657-41da-967a-b6c299338b21"
      },
      "outputs": [
        {
          "data": {
            "text/plain": [
              "[((0, 0), 1.0),\n",
              " ((0, 1), 0.25),\n",
              " ((0, 2), 0.0),\n",
              " ((1, 0), 0.25),\n",
              " ((1, 1), 1.0),\n",
              " ((1, 2), 0.4),\n",
              " ((2, 0), 0.0),\n",
              " ((2, 1), 0.4),\n",
              " ((2, 2), 1.0)]"
            ]
          },
          "execution_count": 77,
          "metadata": {},
          "output_type": "execute_result"
        }
      ],
      "source": [
        "map_reduce_parallel(docdicts12[:3], mapper_parallel, reducer_parallel_jaccard)"
      ]
    },
    {
      "cell_type": "code",
      "execution_count": null,
      "metadata": {
        "id": "ufmtdl0YtG_m"
      },
      "outputs": [],
      "source": [
        "(mpj_ans,mpj_mean_time,mpj_error)=timeit(map_reduce_parallel,docdicts12[:50],mapper_parallel,reducer_parallel_jaccard,repeats=3)"
      ]
    },
    {
      "cell_type": "code",
      "execution_count": null,
      "metadata": {
        "id": "HlV-PmD6tG_m",
        "outputId": "62180c64-0c09-4b4d-f483-53d3f75d765b"
      },
      "outputs": [
        {
          "data": {
            "text/plain": [
              "1.8095370133717854"
            ]
          },
          "execution_count": 79,
          "metadata": {},
          "output_type": "execute_result"
        }
      ],
      "source": [
        "mpj_mean_time"
      ]
    },
    {
      "cell_type": "markdown",
      "metadata": {
        "id": "B2fGDrM7tG_m"
      },
      "source": [
        "### Actual Cosine Runtime"
      ]
    },
    {
      "cell_type": "code",
      "execution_count": null,
      "metadata": {
        "id": "AvqonEcqtG_m"
      },
      "outputs": [],
      "source": [
        "from math import sqrt\n",
        "def dot_product(d1,d2):\n",
        "    if len(d1) < len(d2):\n",
        "        a = d1\n",
        "        b = d2\n",
        "    else:\n",
        "        a = d2\n",
        "        b = d1\n",
        "    dotproduct = 0\n",
        "    for word,count in a.items():\n",
        "        dotproduct += count * b.get(word,0)\n",
        "    return dotproduct"
      ]
    },
    {
      "cell_type": "code",
      "execution_count": null,
      "metadata": {
        "id": "SRS046zLtG_m",
        "outputId": "805d0a69-7d00-4647-eef6-029453fea106"
      },
      "outputs": [
        {
          "data": {
            "text/plain": [
              "[[1.0, 0.4082482904638631, 0.0],\n",
              " [0.4082482904638631, 1.0, 0.5773502691896258],\n",
              " [0.0, 0.5773502691896258, 1.0]]"
            ]
          },
          "execution_count": 81,
          "metadata": {},
          "output_type": "execute_result"
        }
      ],
      "source": [
        "my_func_all_sim(docdicts12[:3],cosine)"
      ]
    },
    {
      "cell_type": "code",
      "execution_count": null,
      "metadata": {
        "id": "p1-jDRcgtG_m"
      },
      "outputs": [],
      "source": [
        "(cos_ans,cos_mean_time,cos_error)=timeit(my_func_all_sim,docdicts12[:25],cosine,repeats=3)"
      ]
    },
    {
      "cell_type": "code",
      "execution_count": null,
      "metadata": {
        "id": "SfGYBufztG_m",
        "outputId": "fba3e305-eabc-4980-fe2c-c8c87a02dffc"
      },
      "outputs": [
        {
          "data": {
            "text/plain": [
              "4.40985385576884"
            ]
          },
          "execution_count": 83,
          "metadata": {},
          "output_type": "execute_result"
        }
      ],
      "source": [
        "cos_mean_time"
      ]
    },
    {
      "cell_type": "markdown",
      "metadata": {
        "id": "Za8nPVwvtG_n"
      },
      "source": [
        "### Map_reduce Cosine Runtime"
      ]
    },
    {
      "cell_type": "code",
      "execution_count": null,
      "metadata": {
        "id": "9noELTjvtG_n",
        "outputId": "cd15e71f-f500-4ad3-848d-bdde68822a2a"
      },
      "outputs": [
        {
          "data": {
            "text/plain": [
              "[((0, 0), 1.0),\n",
              " ((0, 1), 0.4082482904638631),\n",
              " ((0, 2), 0.0),\n",
              " ((1, 0), 0.4082482904638631),\n",
              " ((1, 1), 1.0),\n",
              " ((1, 2), 0.5773502691896258),\n",
              " ((2, 0), 0.0),\n",
              " ((2, 1), 0.5773502691896258),\n",
              " ((2, 2), 1.0)]"
            ]
          },
          "execution_count": 84,
          "metadata": {},
          "output_type": "execute_result"
        }
      ],
      "source": [
        "map_reduce_parallel(docdicts12[:3], mapper_parallel, reducer_parallel_cosine)"
      ]
    },
    {
      "cell_type": "code",
      "execution_count": null,
      "metadata": {
        "id": "gowCrHLptG_n"
      },
      "outputs": [],
      "source": [
        "(mpc_ans,mpc_mean_time,mpc_error)=timeit(map_reduce_parallel,docdicts12[:25],mapper_parallel,reducer_parallel_cosine,repeats=3)"
      ]
    },
    {
      "cell_type": "code",
      "execution_count": null,
      "metadata": {
        "id": "_o6QUvmRtG_n",
        "outputId": "98715286-21d7-4454-ad4b-a16513a72dea"
      },
      "outputs": [
        {
          "data": {
            "text/plain": [
              "0.4087997277577718"
            ]
          },
          "execution_count": 86,
          "metadata": {},
          "output_type": "execute_result"
        }
      ],
      "source": [
        "mpc_mean_time"
      ]
    },
    {
      "cell_type": "markdown",
      "metadata": {
        "id": "N-aTU4fXtG_n"
      },
      "source": [
        "## Testing the function empirically for Efficiency"
      ]
    },
    {
      "cell_type": "markdown",
      "metadata": {
        "id": "d9HtJ1cntG_n"
      },
      "source": [
        "In this section, the time complexity of both map_reduce jaccard and cosine algorithms are calculated and they were compared to actual jaccard and cosine time complexities. On comparision, the n value for all_paie similarities jaccard and cosine is nearly 2.5, but for mapreduce jaccard and cosine is almost equal to 0.5 for smaler number of documents which makes the map_reduce parallel processing(jaccard and cosine) super efficient."
      ]
    },
    {
      "cell_type": "markdown",
      "metadata": {
        "id": "ZHkl5N86tG_n"
      },
      "source": [
        "### Jaccard Map reduce version"
      ]
    },
    {
      "cell_type": "code",
      "execution_count": null,
      "metadata": {
        "id": "dD2oscbotG_n",
        "outputId": "b8508f65-8862-4250-d997-c6d02b5a7fa2"
      },
      "outputs": [
        {
          "name": "stdout",
          "output_type": "stream",
          "text": [
            "[1, 2, 3, 4, 5, 6, 7, 8, 9, 10] [0.08211914698282878, 0.05700413386027018, 0.05860455830891927, 0.05952270825703939, 0.0601499875386556, 0.06396206219991048, 0.06852833429972331, 0.06615503629048665, 0.07178409894307454, 0.07420627276102702]\n"
          ]
        }
      ],
      "source": [
        "m=[]  #contains input number of docs for all similarities\n",
        "p=[]  #contains mean time taken \n",
        "#try:\n",
        "\n",
        "for i in range(1,30):\n",
        "  m.append(i)\n",
        "  (ans,mean,error)=timeit(map_reduce_parallel,docdicts12[:i],mapper_parallel,reducer_parallel_jaccard,repeats=3)\n",
        "  p.append(mean)\n",
        "\n",
        "print(m[:10],p[:10])"
      ]
    },
    {
      "cell_type": "code",
      "execution_count": null,
      "metadata": {
        "id": "yS9wb8sUtG_n",
        "outputId": "375f05a0-b3ff-4161-acc5-a5fdbf41042c"
      },
      "outputs": [
        {
          "data": {
            "image/png": "[encoded data removed]",
            "text/plain": [
              "<Figure size 432x288 with 2 Axes>"
            ]
          },
          "metadata": {
            "needs_background": "light"
          },
          "output_type": "display_data"
        },
        {
          "data": {
            "text/plain": [
              "([1, 2, 3, 4, 5],\n",
              " [0.08211914698282878,\n",
              "  0.05700413386027018,\n",
              "  0.05860455830891927,\n",
              "  0.05952270825703939,\n",
              "  0.0601499875386556])"
            ]
          },
          "execution_count": 254,
          "metadata": {},
          "output_type": "execute_result"
        }
      ],
      "source": [
        "draw_graph(m,p,'MP_Jaccard all_pair')"
      ]
    },
    {
      "cell_type": "code",
      "execution_count": null,
      "metadata": {
        "id": "9LNCTEWJtG_n",
        "outputId": "08263e53-ff56-49e4-9414-a5b8fd02beed"
      },
      "outputs": [
        {
          "name": "stdout",
          "output_type": "stream",
          "text": [
            "Slope is 0.007248261879230368 and intercept is 0.015474072818098386\n",
            "log_Slope is 0.4718895794565229 and log_intercept is -3.371692229802158\n",
            "slope_log rounded off to 0.4719\n",
            "intercept_log rounded off to -3.3717\n"
          ]
        }
      ],
      "source": [
        "slope_fun(m,p)"
      ]
    },
    {
      "cell_type": "markdown",
      "metadata": {
        "id": "c9asRey6tG_n"
      },
      "source": [
        "#### Comparing normal Jaccard all_sim with Mapreduce Jaccard all_sim"
      ]
    },
    {
      "cell_type": "code",
      "execution_count": null,
      "metadata": {
        "id": "OU_zbXRDtG_n",
        "outputId": "6f4f0923-eb7a-4d6b-e4cd-a0301432adc4"
      },
      "outputs": [
        {
          "data": {
            "image/png": "[encoded data removed]",
            "text/plain": [
              "<Figure size 576x432 with 1 Axes>"
            ]
          },
          "metadata": {
            "needs_background": "light"
          },
          "output_type": "display_data"
        }
      ],
      "source": [
        "import matplotlib.pyplot as plt\n",
        "%matplotlib inline\n",
        "plt.figure(figsize=(8,6))\n",
        "plt.scatter(x1, y1)\n",
        "plt.scatter(m, p)\n",
        "plt.legend((' Normal Jaccard all pair similarity ','Map_reduce Jaccard all pair similarity'),loc='upper left')\n",
        "plt.xlabel(\"Number of docs compared\")\n",
        "plt.ylabel(\"Average time (s)\")\n",
        "plt.title(\"Normal Jaccard vs Mapreduce Jaccard\")\n",
        "plt.show()"
      ]
    },
    {
      "cell_type": "code",
      "execution_count": null,
      "metadata": {
        "colab": {
          "base_uri": "https://localhost:8080/",
          "height": 53
        },
        "id": "gTPCNjz6wR70",
        "outputId": "013fa424-26b2-4899-ac11-04c3084b77eb"
      },
      "outputs": [
        {
          "data": {
            "application/vnd.google.colaboratory.intrinsic+json": {
              "type": "string"
            },
            "text/plain": [
              "'From the above graph, it is evident that the run time of jaccard increases drastically with number of docs compared whereas Map_reduce Jaccard all pair similarity is kind of constant proving its efficiency.'"
            ]
          },
          "execution_count": 10,
          "metadata": {},
          "output_type": "execute_result"
        }
      ],
      "source": [
        "'''From the above graph, it is evident that the run time of jaccard increases drastically with number of docs compared whereas Map_reduce Jaccard all pair similarity is kind of constant proving its efficiency.'''"
      ]
    },
    {
      "cell_type": "code",
      "execution_count": null,
      "metadata": {
        "id": "ypWgRv0qtG_n",
        "outputId": "598c614b-6644-46a5-886b-89154052bd2b"
      },
      "outputs": [
        {
          "name": "stdout",
          "output_type": "stream",
          "text": [
            "Jaccard function Slope is 2.311038032004556 and intercept is -7.47394336294777\n",
            "Mapreduce_version Slope is 0.4718895794565229 and intercept is -3.371692229802158\n"
          ]
        }
      ],
      "source": [
        "#calculating slope and intercept\n",
        "import scipy.stats as stats\n",
        "\n",
        "slope, intercept, r_value, p_value, std_err = stats.linregress(np.log(x1), np.log(y1))\n",
        "slope_np, intercept_np, r_value_np, p_value_np, std_err_np = stats.linregress(np.log(m), np.log(p))\n",
        "print(\"Jaccard function Slope is {} and intercept is {}\".format(slope,intercept))\n",
        "print(\"Mapreduce_version Slope is {} and intercept is {}\".format(slope_np,intercept_np))"
      ]
    },
    {
      "cell_type": "markdown",
      "metadata": {
        "id": "L0QwuQu3tG_n"
      },
      "source": [
        "### Cosine(sparse) Map reduce version"
      ]
    },
    {
      "cell_type": "code",
      "execution_count": null,
      "metadata": {
        "id": "q_Es0mgWtG_n",
        "outputId": "4e801c65-0163-4d09-eaa3-84a95293031e"
      },
      "outputs": [
        {
          "name": "stdout",
          "output_type": "stream",
          "text": [
            "[1, 2, 3, 4, 5, 6, 7, 8, 9, 10] [0.07973814010620117, 0.062494516372680664, 0.06252455711364746, 0.06378928820292155, 0.06656622886657715, 0.07106844584147136, 0.07752108573913574, 0.07561858495076497, 0.0849307378133138, 0.08929101626078288]\n"
          ]
        }
      ],
      "source": [
        "mc=[]  #contains input number of docs for all similarities\n",
        "pc=[]  #contains mean time taken \n",
        "#try:\n",
        "\n",
        "for i in range(1,20):\n",
        "  mc.append(i)\n",
        "  (ans,mean,error)=timeit(map_reduce_parallel,docdicts12[:i],mapper_parallel,reducer_parallel_cosine,repeats=3)\n",
        "  pc.append(mean)\n",
        "\n",
        "print(mc[:10],pc[:10])"
      ]
    },
    {
      "cell_type": "code",
      "execution_count": null,
      "metadata": {
        "id": "dSdrXNgctG_o",
        "outputId": "0eada757-f73e-42e1-adb1-5f4be0cf052e"
      },
      "outputs": [
        {
          "data": {
            "image/png": "[encoded data removed]",
            "text/plain": [
              "<Figure size 432x288 with 2 Axes>"
            ]
          },
          "metadata": {
            "needs_background": "light"
          },
          "output_type": "display_data"
        },
        {
          "data": {
            "text/plain": [
              "([1, 2, 3, 4, 5],\n",
              " [0.07973814010620117,\n",
              "  0.062494516372680664,\n",
              "  0.06252455711364746,\n",
              "  0.06378928820292155,\n",
              "  0.06656622886657715])"
            ]
          },
          "execution_count": 258,
          "metadata": {},
          "output_type": "execute_result"
        }
      ],
      "source": [
        "draw_graph(mc,pc,'MP_Cosine all_pair')"
      ]
    },
    {
      "cell_type": "code",
      "execution_count": null,
      "metadata": {
        "id": "tDlR7B6utG_o",
        "outputId": "2779f22b-9ada-4ff0-e244-75e68d5841f3"
      },
      "outputs": [
        {
          "name": "stdout",
          "output_type": "stream",
          "text": [
            "Slope is 0.00875186794682553 and intercept is 0.025350052013731833\n",
            "log_Slope is 0.41568029204221346 and log_intercept is -3.1377201565291575\n",
            "slope_log rounded off to 0.4157\n",
            "intercept_log rounded off to -3.1377\n"
          ]
        }
      ],
      "source": [
        "slope_fun(mc,pc)"
      ]
    },
    {
      "cell_type": "markdown",
      "metadata": {
        "id": "BLtrE7GqtG_o"
      },
      "source": [
        "#### Comparing normal Cosine all_sim with Mapreduce Cosine all_sim"
      ]
    },
    {
      "cell_type": "code",
      "execution_count": null,
      "metadata": {
        "id": "7n7HKDtytG_o",
        "outputId": "fdb29007-eba7-421b-9dcf-991d01746026"
      },
      "outputs": [
        {
          "data": {
            "image/png": "[encoded data removed]",
            "text/plain": [
              "<Figure size 576x432 with 1 Axes>"
            ]
          },
          "metadata": {
            "needs_background": "light"
          },
          "output_type": "display_data"
        }
      ],
      "source": [
        "import matplotlib.pyplot as plt\n",
        "%matplotlib inline\n",
        "plt.figure(figsize=(8,6))\n",
        "plt.scatter(x2, y2)\n",
        "plt.scatter(mc, pc)\n",
        "plt.legend((' Normal Cosine all pair similarity ','Map_reduce Cosine all pair similarity'),loc='upper left')\n",
        "plt.xlabel(\"Number of docs compared\")\n",
        "plt.ylabel(\"Average time (s)\")\n",
        "plt.title(\"Normal Cosine vs Mapreduce Cosine\")\n",
        "plt.show()"
      ]
    },
    {
      "cell_type": "code",
      "execution_count": null,
      "metadata": {
        "colab": {
          "base_uri": "https://localhost:8080/",
          "height": 53
        },
        "id": "GkOhRHvSwBKX",
        "outputId": "3092572e-31c3-4f21-9218-78ba278581b7"
      },
      "outputs": [
        {
          "data": {
            "application/vnd.google.colaboratory.intrinsic+json": {
              "type": "string"
            },
            "text/plain": [
              "'From the above graph, it is evident that the run time of cosine also increases drastically with number of docs compared whereas Map_reduce cosine all pair similarity is kind of constant proving its efficiency.'"
            ]
          },
          "execution_count": 7,
          "metadata": {},
          "output_type": "execute_result"
        }
      ],
      "source": [
        "'''From the above graph, it is evident that the run time of cosine also increases drastically with number of docs compared whereas Map_reduce cosine all pair similarity is kind of constant proving its efficiency.'''"
      ]
    },
    {
      "cell_type": "code",
      "execution_count": null,
      "metadata": {
        "id": "qRk9Y8edtG_o",
        "outputId": "07be1fd1-3e59-46e0-87d4-cf42e02b75f4"
      },
      "outputs": [
        {
          "name": "stdout",
          "output_type": "stream",
          "text": [
            "Cosine function Slope is 2.3800598173701544 and intercept is -6.604209697595408\n",
            "Mapreduce_version Slope is 0.41568029204221346 and intercept is -3.1377201565291575\n"
          ]
        }
      ],
      "source": [
        "#calculating slope and intercept\n",
        "import scipy.stats as stats\n",
        "\n",
        "slope, intercept, r_value, p_value, std_err = stats.linregress(np.log(x2), np.log(y2))\n",
        "slope_np, intercept_np, r_value_np, p_value_np, std_err_np = stats.linregress(np.log(mc), np.log(pc))\n",
        "print(\"Cosine function Slope is {} and intercept is {}\".format(slope,intercept))\n",
        "print(\"Mapreduce_version Slope is {} and intercept is {}\".format(slope_np,intercept_np))"
      ]
    },
    {
      "cell_type": "markdown",
      "metadata": {
        "id": "9kpnN2zStG_o"
      },
      "source": [
        "## Optimal results"
      ]
    },
    {
      "cell_type": "markdown",
      "metadata": {
        "id": "o8YiT2XXtG_o"
      },
      "source": [
        "In order to get the optimal results, an appropriate number of mappers and reducers should be assigned to the task.To find the appropriate number, here, I have calculated the runtimes of all pairs of mappers and reducers available for both jaccard and cosine.\n",
        "\n",
        "From the results for both Jaccard and Cosine, when I used 1 mapper,4 reducer and 2 mappers,4 reducers I got the best runtime of around 0.30 seconds for jaccard similarity and 0.74 seconds for cosine similarity, all_pair similarities of 30 documents."
      ]
    },
    {
      "cell_type": "markdown",
      "metadata": {
        "id": "41S4aodltG_o"
      },
      "source": [
        "## Jaccard"
      ]
    },
    {
      "cell_type": "code",
      "execution_count": null,
      "metadata": {
        "id": "EgHuPDVLtG_o",
        "outputId": "be8a89c2-64d9-4e2c-bf53-7fec4aa91cfb"
      },
      "outputs": [
        {
          "name": "stdout",
          "output_type": "stream",
          "text": [
            "Time taken when mappers= 1, reducers= 1 is 0.8333766460418701s\n",
            "Time taken when mappers= 1, reducers= 2 is 0.4597795804341634s\n",
            "Time taken when mappers= 1, reducers= 3 is 0.3871939977010091s\n",
            "Time taken when mappers= 1, reducers= 4 is 0.30617205301920575s\n",
            "Time taken when mappers= 2, reducers= 1 is 0.828335682551066s\n",
            "Time taken when mappers= 2, reducers= 2 is 0.4592532316843669s\n",
            "Time taken when mappers= 2, reducers= 3 is 0.3790277640024821s\n",
            "Time taken when mappers= 2, reducers= 4 is 0.3021423816680908s\n",
            "Time taken when mappers= 3, reducers= 1 is 0.8348356088002523s\n",
            "Time taken when mappers= 3, reducers= 2 is 0.46793174743652344s\n",
            "Time taken when mappers= 3, reducers= 3 is 0.3902897834777832s\n",
            "Time taken when mappers= 3, reducers= 4 is 0.30625732739766437s\n",
            "Time taken when mappers= 4, reducers= 1 is 0.8362589677174886s\n",
            "Time taken when mappers= 4, reducers= 2 is 0.47123154004414874s\n",
            "Time taken when mappers= 4, reducers= 3 is 0.8281073570251465s\n",
            "Time taken when mappers= 4, reducers= 4 is 0.31880935033162433s\n"
          ]
        }
      ],
      "source": [
        "for i in range(1,5):\n",
        "    for j in range(1,5):\n",
        "        (ans,mean,error)=timeit(map_reduce_parallel,docdicts12[:30],mapper_parallel,reducer_parallel_jaccard,mapprocesses=i,reduceprocesses=j,repeats=3)\n",
        "        print('Time taken when mappers= {}, reducers= {} is {}s'.format(i,j,mean))"
      ]
    },
    {
      "cell_type": "markdown",
      "metadata": {
        "id": "IHYus58wtG_o"
      },
      "source": [
        "## Cosine"
      ]
    },
    {
      "cell_type": "code",
      "execution_count": null,
      "metadata": {
        "id": "e7Vt_GXCtG_o",
        "outputId": "0d764c89-81b4-416d-eecd-3629e0ad8059",
        "scrolled": true
      },
      "outputs": [
        {
          "name": "stdout",
          "output_type": "stream",
          "text": [
            "Time taken when mappers= 1, reducers= 1 is 2.088525374730428s\n",
            "Time taken when mappers= 1, reducers= 2 is 1.1439836025238037s\n",
            "Time taken when mappers= 1, reducers= 3 is 0.9555777708689371s\n",
            "Time taken when mappers= 1, reducers= 4 is 0.735028346379598s\n",
            "Time taken when mappers= 2, reducers= 1 is 2.118299722671509s\n",
            "Time taken when mappers= 2, reducers= 2 is 1.1894853115081787s\n",
            "Time taken when mappers= 2, reducers= 3 is 0.951242208480835s\n",
            "Time taken when mappers= 2, reducers= 4 is 0.7402479648590088s\n",
            "Time taken when mappers= 3, reducers= 1 is 2.1034059524536133s\n",
            "Time taken when mappers= 3, reducers= 2 is 1.183463493982951s\n",
            "Time taken when mappers= 3, reducers= 3 is 0.9669702847798666s\n",
            "Time taken when mappers= 3, reducers= 4 is 0.7612055142720541s\n",
            "Time taken when mappers= 4, reducers= 1 is 2.056252638498942s\n",
            "Time taken when mappers= 4, reducers= 2 is 1.195140282313029s\n",
            "Time taken when mappers= 4, reducers= 3 is 0.9753230412801107s\n",
            "Time taken when mappers= 4, reducers= 4 is 0.7741327285766602s\n"
          ]
        }
      ],
      "source": [
        "for i in range(1,5):\n",
        "    for j in range(1,5):\n",
        "        (ans,mean,error)=timeit(map_reduce_parallel,docdicts12[:30],mapper_parallel,reducer_parallel_cosine,mapprocesses=i,reduceprocesses=j,repeats=3)\n",
        "        print('Time taken when mappers= {}, reducers= {} is {}s'.format(i,j,mean))"
      ]
    },
    {
      "cell_type": "markdown",
      "metadata": {
        "id": "ycm6OOm3tG_o"
      },
      "source": [
        "# Summary"
      ]
    },
    {
      "cell_type": "markdown",
      "metadata": {
        "id": "aB0cpPxOtG_o"
      },
      "source": [
        "1. The theoretical and empirical time complexities of Jaccard, Cosine, Cosine numpy.dot product version and, cosine sparse version algorithms are **O(n)**.\n",
        "2. The numpy version of cosine outperforms own implemented cosine in case of larger inputs(documents with larger number of words).\n",
        "3. The empirical values will be nearer to theoretical values when the input is significantly large causing  asymptomatic behaviour to kick in.\n",
        "4. The cosine and jaccard all pair similarity for smaller number of documents is near to the order of 2.5 $𝑂(𝑛^{2.5})$, for larger number of documents it becomes 3, $O({n^3})$.\n",
        "5. MapReduce parallel processing proves to be very efficient than normal algorithms, cutting the runtime to more than half. But, number of mappers and reducers should be carefully chosed for optimal results.\n",
        "6. While choosing the number of mapper and reducers along with the efficiency, the cost associated with them should also be considered."
      ]
    },
    {
      "cell_type": "code",
      "execution_count": null,
      "metadata": {
        "colab": {
          "base_uri": "https://localhost:8080/"
        },
        "id": "MwrGf6uEtG_o",
        "outputId": "55c22022-e8bf-402b-936d-6564f3de240f"
      },
      "outputs": [
        {
          "name": "stdout",
          "output_type": "stream",
          "text": [
            "Submission length is 1992\n"
          ]
        }
      ],
      "source": [
        "##This code will word count all of the markdown cells in the notebook saved at filepath\n",
        "##Running it before providing any answers shows that the questions have a word count of 437\n",
        "#Please run this cell in google colab for word count\n",
        "import io\n",
        "from nbformat import current\n",
        "\n",
        "#filepath=\"/content/drive/My Drive/NLE Notebooks/assessment/assignment1.ipynb\"\n",
        "filepath=\"/content/drive/MyDrive/Colab Notebooks/Dec 5 ADS.ipynb\"\n",
        "question_count=100\n",
        "\n",
        "with io.open(filepath, 'r', encoding='utf-8') as f:\n",
        "    nb = current.read(f, 'json')\n",
        "\n",
        "word_count = 0\n",
        "for cell in nb.worksheets[0].cells:\n",
        "    if cell.cell_type == \"markdown\":\n",
        "        word_count += len(cell['source'].replace('#', '').lstrip().split(' '))\n",
        "print(\"Submission length is {}\".format(word_count-question_count))"
      ]
    },
    {
      "cell_type": "code",
      "execution_count": null,
      "metadata": {
        "colab": {
          "base_uri": "https://localhost:8080/"
        },
        "id": "aZjk5Wp7tS_H",
        "outputId": "4c1f9e2b-24bf-424e-81e2-fbd30d75df92"
      },
      "outputs": [
        {
          "name": "stdout",
          "output_type": "stream",
          "text": [
            "Mounted at /content/drive\n"
          ]
        }
      ],
      "source": [
        "#run this cell if using google co-lab\n",
        "from google.colab import drive\n",
        "drive.mount('/content/drive')"
      ]
    }
  ],
  "metadata": {
    "colab": {
      "collapsed_sections": [],
      "name": "ADS_Assignment_244859_Alisha.ipynb",
      "provenance": [],
      "include_colab_link": true
    },
    "kernelspec": {
      "display_name": "Python 3",
      "language": "python",
      "name": "python3"
    },
    "language_info": {
      "codemirror_mode": {
        "name": "ipython",
        "version": 3
      },
      "file_extension": ".py",
      "mimetype": "text/x-python",
      "name": "python",
      "nbconvert_exporter": "python",
      "pygments_lexer": "ipython3",
      "version": "3.8.8"
    }
  },
  "nbformat": 4,
  "nbformat_minor": 0
}