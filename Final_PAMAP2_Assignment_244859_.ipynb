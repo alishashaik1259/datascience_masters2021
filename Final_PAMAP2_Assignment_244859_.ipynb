{
  "cells": [
    {
      "cell_type": "markdown",
      "metadata": {
        "id": "view-in-github",
        "colab_type": "text"
      },
      "source": [
        "<a href=\"https://colab.research.google.com/github/alishashaik1259/datascience_masters2021/blob/main/Final_PAMAP2_Assignment_244859_.ipynb\" target=\"_parent\"><img src=\"https://colab.research.google.com/assets/colab-badge.svg\" alt=\"Open In Colab\"/></a>"
      ]
    },
    {
      "cell_type": "markdown",
      "metadata": {
        "id": "o2h_CT_lY2gu"
      },
      "source": [
        "# Analysis of PAMAP2 Physical Activity Monitoring dataset"
      ]
    },
    {
      "cell_type": "markdown",
      "metadata": {
        "id": "2SLRt0ekY2gy"
      },
      "source": [
        "## Background"
      ]
    },
    {
      "cell_type": "markdown",
      "metadata": {
        "id": "RbLH-y_0Y2gy"
      },
      "source": [
        "The PAMAP2 Physical Activity Monitoring dataset contains data from 18 different physical activities (such as walking, cycling, and playing soccer) performed by 9 subjects while wearing three inertial measurement units (IMU) and a heart rate monitor.\n",
        "\n",
        "The 18 different physical activities and their activityID's are given as follows.\n",
        "              \n",
        "              0: 'transient',\n",
        "              \n",
        "              1: 'lying',\n",
        "              \n",
        "              2: 'sitting',\n",
        "              \n",
        "              3: 'standing',\n",
        "              \n",
        "              4: 'walking',\n",
        "              \n",
        "              5: 'running',\n",
        "              \n",
        "              6: 'cycling',\n",
        "              \n",
        "              7: 'Nordic_walking',\n",
        "              \n",
        "              9: 'watching_TV',\n",
        "              \n",
        "              10: 'computer_work',\n",
        "              \n",
        "              11: 'car driving',\n",
        "              \n",
        "              12: 'ascending_stairs',\n",
        "              \n",
        "              13: 'descending_stairs',\n",
        "              \n",
        "              16: 'vacuum_cleaning',\n",
        "              \n",
        "              17: 'ironing',\n",
        "              \n",
        "              18: 'folding_laundry',\n",
        "              \n",
        "              19: 'house_cleaning',\n",
        "              \n",
        "              20: 'playing_soccer',\n",
        "              \n",
        "              24: 'rope_jumping'"
      ]
    },
    {
      "cell_type": "markdown",
      "metadata": {
        "id": "m8y8yOQzY2gz"
      },
      "source": [
        "## Source"
      ]
    },
    {
      "cell_type": "markdown",
      "metadata": {
        "id": "2GWGbs5DY2g0"
      },
      "source": [
        "This information was saved in separate text files for each subject. Each row in each file corresponds to a single reading and contains 54 attributes (including timestamp, activity ID, heart rate and IMU sensory data)."
      ]
    },
    {
      "cell_type": "markdown",
      "metadata": {
        "id": "4nkJpbN6Y2g0"
      },
      "source": [
        "## Goal of the report"
      ]
    },
    {
      "cell_type": "markdown",
      "metadata": {
        "id": "ZcJlGMRnY2g1"
      },
      "source": [
        "What actionable insights can be derived from the dataset if the goal is to develop hardware and/or software that can determine the amount and type of physical activity performed by an individual?\n",
        "\n",
        "1.Carry out thorough exploratory data analysis and appropriately handle missing or dirty data;\n",
        "\n",
        "2.Develop and test at least one hypothesis for a relationship between a single pair of attributes;\n",
        "\n",
        "3.Develop and test at least one model which uses multiple attributes to make predictions."
      ]
    },
    {
      "cell_type": "markdown",
      "metadata": {
        "id": "MhyXzRkuY2g2"
      },
      "source": [
        "NB:\n",
        "C– 1 temperature (°C)\n",
        "\n",
        "ACC16– 2-4 3D-acceleration data (ms-2), scale: ±16g\n",
        "\n",
        "ACC– 5-7 3D-acceleration data (ms-2), scale: ±6g\n",
        "\n",
        "G– 8-10 3D-gyroscope data (rad/s)\n",
        "\n",
        "M– 11-13 3D-magnetometer data (μT)\n",
        "\n",
        "O– 14-17 orientation (invalid in this data collection)\n",
        "\n"
      ]
    },
    {
      "cell_type": "markdown",
      "metadata": {
        "id": "mqVeNOxqY2g3"
      },
      "source": [
        "# Introduction"
      ]
    },
    {
      "cell_type": "markdown",
      "metadata": {
        "id": "5BvOdipaY2g3"
      },
      "source": [
        "As said earlier, the mail goal is to develop a software/hardware which predicts the type and amount of activity done by a individual. The PAMAP2 Physical Activity Monitoring dataset is a huge dataset with large amounts of data. First, the suitable imports are done required for the analysis, next the data is loaded into dataframe using `load_subjects_data` function, this function takes, the file path as an input and returns a dataframe. The data in the PAMAP2 dataset is in the form of dat files , with no column names, so, in the `load_subjects_data` function the column names are provided for the dataframe. There are a total of 9 dat files for 9 individuals participated in the study, all these 9 dat files data is converted into a single dataframe `df`, for identification of participant data, a new column called `'subject_id'` is created with subject_id values ranging from 101 to 109 for the participants. The PAMAP2 dataset also has an optional dataset which has additional activities, this was not considered for analysis because of computational issues and also the considered dataset(Protocol) has an abundance of data. The output data frame has 55 columns and 2872533 rows. This dataframe is addressed as `df` going forward."
      ]
    },
    {
      "cell_type": "code",
      "source": [
        "from google.colab import drive\n",
        "drive.mount('/content/drive')"
      ],
      "metadata": {
        "colab": {
          "base_uri": "https://localhost:8080/"
        },
        "id": "j3i49OatY-pp",
        "outputId": "c2b28529-c61f-48bc-cde3-df1842386882"
      },
      "execution_count": null,
      "outputs": [
        {
          "output_type": "stream",
          "name": "stdout",
          "text": [
            "Drive already mounted at /content/drive; to attempt to forcibly remount, call drive.mount(\"/content/drive\", force_remount=True).\n"
          ]
        }
      ]
    },
    {
      "cell_type": "code",
      "execution_count": null,
      "metadata": {
        "id": "VbAQ7KQSdeL3"
      },
      "outputs": [],
      "source": [
        "import numpy as np\n",
        "import pandas as pd\n",
        "import seaborn as sns\n",
        "from matplotlib import pyplot as plt\n",
        "from sklearn.preprocessing import scale\n",
        "from sklearn.linear_model import LinearRegression,LogisticRegression\n",
        "from sklearn.metrics import confusion_matrix,accuracy_score,log_loss\n",
        "from sklearn.ensemble import RandomForestClassifier\n",
        "from sklearn.tree import DecisionTreeClassifier\n",
        "from sklearn.utils import resample\n",
        "from sklearn.model_selection import train_test_split\n",
        "from sklearn import metrics\n",
        "from sklearn.preprocessing import MinMaxScaler"
      ]
    },
    {
      "cell_type": "code",
      "execution_count": null,
      "metadata": {
        "id": "8B0GUJifDprf"
      },
      "outputs": [],
      "source": [
        "def load_subjects_data(root='/content/drive/MyDrive/Colab Notebooks/Data Science research methods/Assignments/Final Assignment /PAMAP2_Dataset/Protocol/subject'):\n",
        "    output = pd.DataFrame()\n",
        "    cols =['timestamp (s)','activityID','heart rate (bpm)',' hand temperature (°C)','hand 3D acc ±16g x ',' hand 3D acc ±16g y',' hand 3D acc ±16g z',' hand 3D acc ±6g x',' hand 3D acc ±6g y',' hand 3D acc ±6g z',' hand 3D-gyr x',' hand 3D-gyr y' ,' hand 3D-gyr z',' hand 3D-magn x',' hand 3D-magn y',' hand 3D-magn z','hand orientation1','hand orientation2','hand orientation3','hand orientation4',\n",
        "          ' chest temperature (°C)',' chest 3D acc ±16g x ',' chest 3D acc ±16g y',' chest 3D acc ±16g z',' chest 3D acc ±6g x',' chest 3D acc ±6g y',' chest 3D acc ±6g z',' chest 3D-gyr x',' chest 3D-gyr y' ,' chest 3D-gyr z',' chest 3D-magn x',' chest 3D-magn y',' chest 3D-magn z','chest orientation1','chest orientation2','chest orientation3','chest orientation4',\n",
        "          ' ankle temperature (°C)',' ankle 3D acc ±16g x ',' ankle 3D acc ±16g y',' ankle 3D acc ±16g z',' ankle 3D acc ±6g x',' ankle 3D acc ±6g y',' ankle 3D acc ±6g z',' ankle 3D-gyr x',' ankle 3D-gyr y' ,' ankle 3D-gyr z',' ankle 3D-magn x',' ankle 3D-magn y',' ankle 3D-magn z','ankle orientation1','ankle orientation2','ankle orientation3','ankle orientation4']\n",
        "    for i in range(101,110):\n",
        "        path = root + str(i) +'.dat'\n",
        "        subject = pd.read_table(path, header=None, sep='\\s+')\n",
        "        subject.columns = cols \n",
        "        subject['subject_id'] = i\n",
        "        output = output.append(subject, ignore_index=True)\n",
        "    output.reset_index(drop=True, inplace=True)\n",
        "    return output"
      ]
    },
    {
      "cell_type": "code",
      "execution_count": null,
      "metadata": {
        "colab": {
          "base_uri": "https://localhost:8080/",
          "height": 522
        },
        "id": "KCA3Xlb4EUwG",
        "outputId": "7997ec19-08cb-4a87-ce52-f8aac19401d6"
      },
      "outputs": [
        {
          "output_type": "execute_result",
          "data": {
            "text/html": [
              "\n",
              "  <div id=\"df-1eb5bf27-0a61-485a-a105-e833c4d646ec\">\n",
              "    <div class=\"colab-df-container\">\n",
              "      <div>\n",
              "<style scoped>\n",
              "    .dataframe tbody tr th:only-of-type {\n",
              "        vertical-align: middle;\n",
              "    }\n",
              "\n",
              "    .dataframe tbody tr th {\n",
              "        vertical-align: top;\n",
              "    }\n",
              "\n",
              "    .dataframe thead th {\n",
              "        text-align: right;\n",
              "    }\n",
              "</style>\n",
              "<table border=\"1\" class=\"dataframe\">\n",
              "  <thead>\n",
              "    <tr style=\"text-align: right;\">\n",
              "      <th></th>\n",
              "      <th>timestamp (s)</th>\n",
              "      <th>activityID</th>\n",
              "      <th>heart rate (bpm)</th>\n",
              "      <th>hand temperature (°C)</th>\n",
              "      <th>hand 3D acc ±16g x</th>\n",
              "      <th>hand 3D acc ±16g y</th>\n",
              "      <th>hand 3D acc ±16g z</th>\n",
              "      <th>hand 3D acc ±6g x</th>\n",
              "      <th>hand 3D acc ±6g y</th>\n",
              "      <th>hand 3D acc ±6g z</th>\n",
              "      <th>hand 3D-gyr x</th>\n",
              "      <th>hand 3D-gyr y</th>\n",
              "      <th>hand 3D-gyr z</th>\n",
              "      <th>hand 3D-magn x</th>\n",
              "      <th>hand 3D-magn y</th>\n",
              "      <th>hand 3D-magn z</th>\n",
              "      <th>hand orientation1</th>\n",
              "      <th>hand orientation2</th>\n",
              "      <th>hand orientation3</th>\n",
              "      <th>hand orientation4</th>\n",
              "      <th>chest temperature (°C)</th>\n",
              "      <th>chest 3D acc ±16g x</th>\n",
              "      <th>chest 3D acc ±16g y</th>\n",
              "      <th>chest 3D acc ±16g z</th>\n",
              "      <th>chest 3D acc ±6g x</th>\n",
              "      <th>chest 3D acc ±6g y</th>\n",
              "      <th>chest 3D acc ±6g z</th>\n",
              "      <th>chest 3D-gyr x</th>\n",
              "      <th>chest 3D-gyr y</th>\n",
              "      <th>chest 3D-gyr z</th>\n",
              "      <th>chest 3D-magn x</th>\n",
              "      <th>chest 3D-magn y</th>\n",
              "      <th>chest 3D-magn z</th>\n",
              "      <th>chest orientation1</th>\n",
              "      <th>chest orientation2</th>\n",
              "      <th>chest orientation3</th>\n",
              "      <th>chest orientation4</th>\n",
              "      <th>ankle temperature (°C)</th>\n",
              "      <th>ankle 3D acc ±16g x</th>\n",
              "      <th>ankle 3D acc ±16g y</th>\n",
              "      <th>ankle 3D acc ±16g z</th>\n",
              "      <th>ankle 3D acc ±6g x</th>\n",
              "      <th>ankle 3D acc ±6g y</th>\n",
              "      <th>ankle 3D acc ±6g z</th>\n",
              "      <th>ankle 3D-gyr x</th>\n",
              "      <th>ankle 3D-gyr y</th>\n",
              "      <th>ankle 3D-gyr z</th>\n",
              "      <th>ankle 3D-magn x</th>\n",
              "      <th>ankle 3D-magn y</th>\n",
              "      <th>ankle 3D-magn z</th>\n",
              "      <th>ankle orientation1</th>\n",
              "      <th>ankle orientation2</th>\n",
              "      <th>ankle orientation3</th>\n",
              "      <th>ankle orientation4</th>\n",
              "      <th>subject_id</th>\n",
              "    </tr>\n",
              "  </thead>\n",
              "  <tbody>\n",
              "    <tr>\n",
              "      <th>0</th>\n",
              "      <td>8.38</td>\n",
              "      <td>0</td>\n",
              "      <td>104.0</td>\n",
              "      <td>30.0000</td>\n",
              "      <td>2.37223</td>\n",
              "      <td>8.60074</td>\n",
              "      <td>3.51048</td>\n",
              "      <td>2.43954</td>\n",
              "      <td>8.76165</td>\n",
              "      <td>3.35465</td>\n",
              "      <td>-0.092217</td>\n",
              "      <td>0.056812</td>\n",
              "      <td>-0.015845</td>\n",
              "      <td>14.6806</td>\n",
              "      <td>-69.2128</td>\n",
              "      <td>-5.58905</td>\n",
              "      <td>1.000000</td>\n",
              "      <td>0.000000</td>\n",
              "      <td>0.000000</td>\n",
              "      <td>0.000000</td>\n",
              "      <td>31.8125</td>\n",
              "      <td>0.238080</td>\n",
              "      <td>9.80003</td>\n",
              "      <td>-1.688960</td>\n",
              "      <td>0.265304</td>\n",
              "      <td>9.81549</td>\n",
              "      <td>-1.413440</td>\n",
              "      <td>-0.005065</td>\n",
              "      <td>-0.006781</td>\n",
              "      <td>-0.005663</td>\n",
              "      <td>0.471960</td>\n",
              "      <td>-51.0499</td>\n",
              "      <td>43.2903</td>\n",
              "      <td>1.000000</td>\n",
              "      <td>0.000000</td>\n",
              "      <td>0.000000</td>\n",
              "      <td>0.000000</td>\n",
              "      <td>30.3125</td>\n",
              "      <td>9.65918</td>\n",
              "      <td>-1.655690</td>\n",
              "      <td>-0.099797</td>\n",
              "      <td>9.64689</td>\n",
              "      <td>-1.555760</td>\n",
              "      <td>0.310404</td>\n",
              "      <td>0.008300</td>\n",
              "      <td>0.009250</td>\n",
              "      <td>-0.017580</td>\n",
              "      <td>-61.1888</td>\n",
              "      <td>-38.95990</td>\n",
              "      <td>-58.143800</td>\n",
              "      <td>1.000000</td>\n",
              "      <td>0.000000</td>\n",
              "      <td>0.000000</td>\n",
              "      <td>0.000000</td>\n",
              "      <td>101</td>\n",
              "    </tr>\n",
              "    <tr>\n",
              "      <th>1</th>\n",
              "      <td>8.39</td>\n",
              "      <td>0</td>\n",
              "      <td>NaN</td>\n",
              "      <td>30.0000</td>\n",
              "      <td>2.18837</td>\n",
              "      <td>8.56560</td>\n",
              "      <td>3.66179</td>\n",
              "      <td>2.39494</td>\n",
              "      <td>8.55081</td>\n",
              "      <td>3.64207</td>\n",
              "      <td>-0.024413</td>\n",
              "      <td>0.047758</td>\n",
              "      <td>0.006474</td>\n",
              "      <td>14.8991</td>\n",
              "      <td>-69.2224</td>\n",
              "      <td>-5.82311</td>\n",
              "      <td>1.000000</td>\n",
              "      <td>0.000000</td>\n",
              "      <td>0.000000</td>\n",
              "      <td>0.000000</td>\n",
              "      <td>31.8125</td>\n",
              "      <td>0.319530</td>\n",
              "      <td>9.61282</td>\n",
              "      <td>-1.493280</td>\n",
              "      <td>0.234939</td>\n",
              "      <td>9.78539</td>\n",
              "      <td>-1.428460</td>\n",
              "      <td>0.013685</td>\n",
              "      <td>0.001486</td>\n",
              "      <td>-0.041522</td>\n",
              "      <td>1.016900</td>\n",
              "      <td>-50.3966</td>\n",
              "      <td>43.1768</td>\n",
              "      <td>1.000000</td>\n",
              "      <td>0.000000</td>\n",
              "      <td>0.000000</td>\n",
              "      <td>0.000000</td>\n",
              "      <td>30.3125</td>\n",
              "      <td>9.69370</td>\n",
              "      <td>-1.579020</td>\n",
              "      <td>-0.215687</td>\n",
              "      <td>9.61670</td>\n",
              "      <td>-1.616300</td>\n",
              "      <td>0.280488</td>\n",
              "      <td>-0.006577</td>\n",
              "      <td>-0.004638</td>\n",
              "      <td>0.000368</td>\n",
              "      <td>-59.8479</td>\n",
              "      <td>-38.89190</td>\n",
              "      <td>-58.525300</td>\n",
              "      <td>1.000000</td>\n",
              "      <td>0.000000</td>\n",
              "      <td>0.000000</td>\n",
              "      <td>0.000000</td>\n",
              "      <td>101</td>\n",
              "    </tr>\n",
              "    <tr>\n",
              "      <th>2</th>\n",
              "      <td>8.40</td>\n",
              "      <td>0</td>\n",
              "      <td>NaN</td>\n",
              "      <td>30.0000</td>\n",
              "      <td>2.37357</td>\n",
              "      <td>8.60107</td>\n",
              "      <td>3.54898</td>\n",
              "      <td>2.30514</td>\n",
              "      <td>8.53644</td>\n",
              "      <td>3.73280</td>\n",
              "      <td>-0.057976</td>\n",
              "      <td>0.032574</td>\n",
              "      <td>-0.006988</td>\n",
              "      <td>14.2420</td>\n",
              "      <td>-69.5197</td>\n",
              "      <td>-5.12442</td>\n",
              "      <td>1.000000</td>\n",
              "      <td>0.000000</td>\n",
              "      <td>0.000000</td>\n",
              "      <td>0.000000</td>\n",
              "      <td>31.8125</td>\n",
              "      <td>0.235593</td>\n",
              "      <td>9.72421</td>\n",
              "      <td>-1.766210</td>\n",
              "      <td>0.173850</td>\n",
              "      <td>9.72528</td>\n",
              "      <td>-1.518940</td>\n",
              "      <td>-0.039923</td>\n",
              "      <td>0.034056</td>\n",
              "      <td>-0.002113</td>\n",
              "      <td>0.383136</td>\n",
              "      <td>-51.8336</td>\n",
              "      <td>43.7782</td>\n",
              "      <td>1.000000</td>\n",
              "      <td>0.000000</td>\n",
              "      <td>0.000000</td>\n",
              "      <td>0.000000</td>\n",
              "      <td>30.3125</td>\n",
              "      <td>9.58944</td>\n",
              "      <td>-1.732760</td>\n",
              "      <td>0.092914</td>\n",
              "      <td>9.63173</td>\n",
              "      <td>-1.586050</td>\n",
              "      <td>0.280311</td>\n",
              "      <td>0.003014</td>\n",
              "      <td>0.000148</td>\n",
              "      <td>0.022495</td>\n",
              "      <td>-60.7361</td>\n",
              "      <td>-39.41380</td>\n",
              "      <td>-58.399900</td>\n",
              "      <td>1.000000</td>\n",
              "      <td>0.000000</td>\n",
              "      <td>0.000000</td>\n",
              "      <td>0.000000</td>\n",
              "      <td>101</td>\n",
              "    </tr>\n",
              "    <tr>\n",
              "      <th>3</th>\n",
              "      <td>8.41</td>\n",
              "      <td>0</td>\n",
              "      <td>NaN</td>\n",
              "      <td>30.0000</td>\n",
              "      <td>2.07473</td>\n",
              "      <td>8.52853</td>\n",
              "      <td>3.66021</td>\n",
              "      <td>2.33528</td>\n",
              "      <td>8.53622</td>\n",
              "      <td>3.73277</td>\n",
              "      <td>-0.002352</td>\n",
              "      <td>0.032810</td>\n",
              "      <td>-0.003747</td>\n",
              "      <td>14.8908</td>\n",
              "      <td>-69.5439</td>\n",
              "      <td>-6.17367</td>\n",
              "      <td>1.000000</td>\n",
              "      <td>0.000000</td>\n",
              "      <td>0.000000</td>\n",
              "      <td>0.000000</td>\n",
              "      <td>31.8125</td>\n",
              "      <td>0.388697</td>\n",
              "      <td>9.53572</td>\n",
              "      <td>-1.724100</td>\n",
              "      <td>0.157969</td>\n",
              "      <td>9.64994</td>\n",
              "      <td>-1.579520</td>\n",
              "      <td>0.007513</td>\n",
              "      <td>-0.010498</td>\n",
              "      <td>-0.020684</td>\n",
              "      <td>0.315400</td>\n",
              "      <td>-49.8144</td>\n",
              "      <td>43.1670</td>\n",
              "      <td>1.000000</td>\n",
              "      <td>0.000000</td>\n",
              "      <td>0.000000</td>\n",
              "      <td>0.000000</td>\n",
              "      <td>30.3125</td>\n",
              "      <td>9.58814</td>\n",
              "      <td>-1.770400</td>\n",
              "      <td>0.054545</td>\n",
              "      <td>9.63197</td>\n",
              "      <td>-1.631350</td>\n",
              "      <td>0.340997</td>\n",
              "      <td>0.003175</td>\n",
              "      <td>-0.020301</td>\n",
              "      <td>0.011275</td>\n",
              "      <td>-60.4091</td>\n",
              "      <td>-38.76350</td>\n",
              "      <td>-58.395600</td>\n",
              "      <td>1.000000</td>\n",
              "      <td>0.000000</td>\n",
              "      <td>0.000000</td>\n",
              "      <td>0.000000</td>\n",
              "      <td>101</td>\n",
              "    </tr>\n",
              "    <tr>\n",
              "      <th>4</th>\n",
              "      <td>8.42</td>\n",
              "      <td>0</td>\n",
              "      <td>NaN</td>\n",
              "      <td>30.0000</td>\n",
              "      <td>2.22936</td>\n",
              "      <td>8.83122</td>\n",
              "      <td>3.70000</td>\n",
              "      <td>2.23055</td>\n",
              "      <td>8.59741</td>\n",
              "      <td>3.76295</td>\n",
              "      <td>0.012269</td>\n",
              "      <td>0.018305</td>\n",
              "      <td>-0.053325</td>\n",
              "      <td>15.5612</td>\n",
              "      <td>-68.8196</td>\n",
              "      <td>-6.28927</td>\n",
              "      <td>1.000000</td>\n",
              "      <td>0.000000</td>\n",
              "      <td>0.000000</td>\n",
              "      <td>0.000000</td>\n",
              "      <td>31.8125</td>\n",
              "      <td>0.315800</td>\n",
              "      <td>9.49908</td>\n",
              "      <td>-1.609140</td>\n",
              "      <td>0.233506</td>\n",
              "      <td>9.57411</td>\n",
              "      <td>-1.444180</td>\n",
              "      <td>-0.003822</td>\n",
              "      <td>-0.011217</td>\n",
              "      <td>-0.025975</td>\n",
              "      <td>-0.297733</td>\n",
              "      <td>-51.8097</td>\n",
              "      <td>43.6453</td>\n",
              "      <td>1.000000</td>\n",
              "      <td>0.000000</td>\n",
              "      <td>0.000000</td>\n",
              "      <td>0.000000</td>\n",
              "      <td>30.3125</td>\n",
              "      <td>9.69771</td>\n",
              "      <td>-1.656250</td>\n",
              "      <td>-0.060809</td>\n",
              "      <td>9.64699</td>\n",
              "      <td>-1.646470</td>\n",
              "      <td>0.340965</td>\n",
              "      <td>0.012698</td>\n",
              "      <td>-0.014303</td>\n",
              "      <td>-0.002823</td>\n",
              "      <td>-61.5199</td>\n",
              "      <td>-39.38790</td>\n",
              "      <td>-58.269400</td>\n",
              "      <td>1.000000</td>\n",
              "      <td>0.000000</td>\n",
              "      <td>0.000000</td>\n",
              "      <td>0.000000</td>\n",
              "      <td>101</td>\n",
              "    </tr>\n",
              "    <tr>\n",
              "      <th>...</th>\n",
              "      <td>...</td>\n",
              "      <td>...</td>\n",
              "      <td>...</td>\n",
              "      <td>...</td>\n",
              "      <td>...</td>\n",
              "      <td>...</td>\n",
              "      <td>...</td>\n",
              "      <td>...</td>\n",
              "      <td>...</td>\n",
              "      <td>...</td>\n",
              "      <td>...</td>\n",
              "      <td>...</td>\n",
              "      <td>...</td>\n",
              "      <td>...</td>\n",
              "      <td>...</td>\n",
              "      <td>...</td>\n",
              "      <td>...</td>\n",
              "      <td>...</td>\n",
              "      <td>...</td>\n",
              "      <td>...</td>\n",
              "      <td>...</td>\n",
              "      <td>...</td>\n",
              "      <td>...</td>\n",
              "      <td>...</td>\n",
              "      <td>...</td>\n",
              "      <td>...</td>\n",
              "      <td>...</td>\n",
              "      <td>...</td>\n",
              "      <td>...</td>\n",
              "      <td>...</td>\n",
              "      <td>...</td>\n",
              "      <td>...</td>\n",
              "      <td>...</td>\n",
              "      <td>...</td>\n",
              "      <td>...</td>\n",
              "      <td>...</td>\n",
              "      <td>...</td>\n",
              "      <td>...</td>\n",
              "      <td>...</td>\n",
              "      <td>...</td>\n",
              "      <td>...</td>\n",
              "      <td>...</td>\n",
              "      <td>...</td>\n",
              "      <td>...</td>\n",
              "      <td>...</td>\n",
              "      <td>...</td>\n",
              "      <td>...</td>\n",
              "      <td>...</td>\n",
              "      <td>...</td>\n",
              "      <td>...</td>\n",
              "      <td>...</td>\n",
              "      <td>...</td>\n",
              "      <td>...</td>\n",
              "      <td>...</td>\n",
              "      <td>...</td>\n",
              "    </tr>\n",
              "    <tr>\n",
              "      <th>2872528</th>\n",
              "      <td>100.19</td>\n",
              "      <td>0</td>\n",
              "      <td>NaN</td>\n",
              "      <td>25.1875</td>\n",
              "      <td>-4.71493</td>\n",
              "      <td>10.22250</td>\n",
              "      <td>4.66893</td>\n",
              "      <td>-5.04654</td>\n",
              "      <td>9.94944</td>\n",
              "      <td>4.50736</td>\n",
              "      <td>1.784060</td>\n",
              "      <td>0.087985</td>\n",
              "      <td>0.934673</td>\n",
              "      <td>21.1701</td>\n",
              "      <td>-35.3878</td>\n",
              "      <td>-34.04430</td>\n",
              "      <td>0.558630</td>\n",
              "      <td>-0.593878</td>\n",
              "      <td>0.292228</td>\n",
              "      <td>0.499844</td>\n",
              "      <td>32.3750</td>\n",
              "      <td>2.926640</td>\n",
              "      <td>10.21030</td>\n",
              "      <td>-0.983335</td>\n",
              "      <td>3.125630</td>\n",
              "      <td>10.62120</td>\n",
              "      <td>0.642058</td>\n",
              "      <td>-0.034671</td>\n",
              "      <td>-0.222172</td>\n",
              "      <td>-0.191336</td>\n",
              "      <td>15.599100</td>\n",
              "      <td>-40.9116</td>\n",
              "      <td>14.9966</td>\n",
              "      <td>0.625172</td>\n",
              "      <td>-0.760781</td>\n",
              "      <td>-0.039443</td>\n",
              "      <td>-0.169753</td>\n",
              "      <td>31.5000</td>\n",
              "      <td>9.38737</td>\n",
              "      <td>-0.565040</td>\n",
              "      <td>-3.273700</td>\n",
              "      <td>9.09401</td>\n",
              "      <td>-0.228554</td>\n",
              "      <td>-2.687700</td>\n",
              "      <td>-0.037788</td>\n",
              "      <td>-0.062676</td>\n",
              "      <td>-0.127084</td>\n",
              "      <td>-46.5153</td>\n",
              "      <td>3.58240</td>\n",
              "      <td>-0.035995</td>\n",
              "      <td>0.598531</td>\n",
              "      <td>0.033615</td>\n",
              "      <td>0.799791</td>\n",
              "      <td>-0.031075</td>\n",
              "      <td>109</td>\n",
              "    </tr>\n",
              "    <tr>\n",
              "      <th>2872529</th>\n",
              "      <td>100.20</td>\n",
              "      <td>0</td>\n",
              "      <td>NaN</td>\n",
              "      <td>25.1875</td>\n",
              "      <td>-4.95932</td>\n",
              "      <td>10.37130</td>\n",
              "      <td>4.12594</td>\n",
              "      <td>-4.96890</td>\n",
              "      <td>10.29620</td>\n",
              "      <td>4.43102</td>\n",
              "      <td>1.475210</td>\n",
              "      <td>-0.028917</td>\n",
              "      <td>0.806540</td>\n",
              "      <td>20.7931</td>\n",
              "      <td>-34.9954</td>\n",
              "      <td>-34.17720</td>\n",
              "      <td>0.555545</td>\n",
              "      <td>-0.596490</td>\n",
              "      <td>0.299264</td>\n",
              "      <td>0.495995</td>\n",
              "      <td>32.3750</td>\n",
              "      <td>2.722810</td>\n",
              "      <td>9.37125</td>\n",
              "      <td>-2.649300</td>\n",
              "      <td>2.839650</td>\n",
              "      <td>9.86963</td>\n",
              "      <td>-1.111460</td>\n",
              "      <td>-0.068015</td>\n",
              "      <td>-0.217669</td>\n",
              "      <td>-0.211320</td>\n",
              "      <td>15.363700</td>\n",
              "      <td>-41.2887</td>\n",
              "      <td>14.0101</td>\n",
              "      <td>0.625592</td>\n",
              "      <td>-0.760751</td>\n",
              "      <td>-0.039538</td>\n",
              "      <td>-0.168312</td>\n",
              "      <td>31.5000</td>\n",
              "      <td>9.45875</td>\n",
              "      <td>-1.020820</td>\n",
              "      <td>-3.308730</td>\n",
              "      <td>9.27291</td>\n",
              "      <td>-0.607010</td>\n",
              "      <td>-2.990140</td>\n",
              "      <td>-0.068904</td>\n",
              "      <td>-0.027006</td>\n",
              "      <td>-0.089808</td>\n",
              "      <td>-45.7474</td>\n",
              "      <td>3.54453</td>\n",
              "      <td>0.108583</td>\n",
              "      <td>0.598428</td>\n",
              "      <td>0.033012</td>\n",
              "      <td>0.799933</td>\n",
              "      <td>-0.030018</td>\n",
              "      <td>109</td>\n",
              "    </tr>\n",
              "    <tr>\n",
              "      <th>2872530</th>\n",
              "      <td>100.21</td>\n",
              "      <td>0</td>\n",
              "      <td>NaN</td>\n",
              "      <td>25.1875</td>\n",
              "      <td>-4.93997</td>\n",
              "      <td>9.83615</td>\n",
              "      <td>3.70468</td>\n",
              "      <td>-5.04613</td>\n",
              "      <td>10.35690</td>\n",
              "      <td>4.14405</td>\n",
              "      <td>1.290990</td>\n",
              "      <td>-0.155493</td>\n",
              "      <td>0.762446</td>\n",
              "      <td>20.6763</td>\n",
              "      <td>-36.6013</td>\n",
              "      <td>-32.46120</td>\n",
              "      <td>0.553254</td>\n",
              "      <td>-0.598417</td>\n",
              "      <td>0.305463</td>\n",
              "      <td>0.492442</td>\n",
              "      <td>32.3750</td>\n",
              "      <td>2.657220</td>\n",
              "      <td>9.07285</td>\n",
              "      <td>-2.262310</td>\n",
              "      <td>2.648130</td>\n",
              "      <td>9.29824</td>\n",
              "      <td>-2.351200</td>\n",
              "      <td>-0.077873</td>\n",
              "      <td>-0.152311</td>\n",
              "      <td>-0.237024</td>\n",
              "      <td>15.880900</td>\n",
              "      <td>-41.4368</td>\n",
              "      <td>14.0146</td>\n",
              "      <td>0.625921</td>\n",
              "      <td>-0.760792</td>\n",
              "      <td>-0.039435</td>\n",
              "      <td>-0.166927</td>\n",
              "      <td>31.5000</td>\n",
              "      <td>9.57580</td>\n",
              "      <td>-0.528578</td>\n",
              "      <td>-3.233400</td>\n",
              "      <td>9.43813</td>\n",
              "      <td>-0.697724</td>\n",
              "      <td>-2.990720</td>\n",
              "      <td>-0.070888</td>\n",
              "      <td>-0.038024</td>\n",
              "      <td>-0.064709</td>\n",
              "      <td>-46.3997</td>\n",
              "      <td>4.22078</td>\n",
              "      <td>0.105504</td>\n",
              "      <td>0.598233</td>\n",
              "      <td>0.033172</td>\n",
              "      <td>0.800095</td>\n",
              "      <td>-0.029416</td>\n",
              "      <td>109</td>\n",
              "    </tr>\n",
              "    <tr>\n",
              "      <th>2872531</th>\n",
              "      <td>100.22</td>\n",
              "      <td>0</td>\n",
              "      <td>NaN</td>\n",
              "      <td>25.1875</td>\n",
              "      <td>-4.64941</td>\n",
              "      <td>9.11129</td>\n",
              "      <td>3.51904</td>\n",
              "      <td>-5.06854</td>\n",
              "      <td>9.75268</td>\n",
              "      <td>3.87359</td>\n",
              "      <td>1.207940</td>\n",
              "      <td>-0.311214</td>\n",
              "      <td>0.748814</td>\n",
              "      <td>20.5408</td>\n",
              "      <td>-35.8494</td>\n",
              "      <td>-32.33420</td>\n",
              "      <td>0.551068</td>\n",
              "      <td>-0.599876</td>\n",
              "      <td>0.311399</td>\n",
              "      <td>0.489390</td>\n",
              "      <td>32.3750</td>\n",
              "      <td>2.612890</td>\n",
              "      <td>8.88341</td>\n",
              "      <td>-2.456100</td>\n",
              "      <td>2.557410</td>\n",
              "      <td>9.02648</td>\n",
              "      <td>-2.139860</td>\n",
              "      <td>0.138759</td>\n",
              "      <td>0.027529</td>\n",
              "      <td>-0.333854</td>\n",
              "      <td>15.635100</td>\n",
              "      <td>-42.2015</td>\n",
              "      <td>14.0172</td>\n",
              "      <td>0.625555</td>\n",
              "      <td>-0.761266</td>\n",
              "      <td>-0.040452</td>\n",
              "      <td>-0.165888</td>\n",
              "      <td>31.5000</td>\n",
              "      <td>9.49894</td>\n",
              "      <td>-0.489493</td>\n",
              "      <td>-3.311610</td>\n",
              "      <td>9.49875</td>\n",
              "      <td>-0.576563</td>\n",
              "      <td>-2.870350</td>\n",
              "      <td>0.018961</td>\n",
              "      <td>-0.025796</td>\n",
              "      <td>-0.064357</td>\n",
              "      <td>-46.5282</td>\n",
              "      <td>4.48593</td>\n",
              "      <td>0.530240</td>\n",
              "      <td>0.598116</td>\n",
              "      <td>0.033427</td>\n",
              "      <td>0.800180</td>\n",
              "      <td>-0.029207</td>\n",
              "      <td>109</td>\n",
              "    </tr>\n",
              "    <tr>\n",
              "      <th>2872532</th>\n",
              "      <td>100.23</td>\n",
              "      <td>0</td>\n",
              "      <td>161.0</td>\n",
              "      <td>25.1875</td>\n",
              "      <td>-4.09726</td>\n",
              "      <td>8.15642</td>\n",
              "      <td>3.29961</td>\n",
              "      <td>-4.73244</td>\n",
              "      <td>8.82870</td>\n",
              "      <td>3.54305</td>\n",
              "      <td>1.404170</td>\n",
              "      <td>-0.396125</td>\n",
              "      <td>0.728581</td>\n",
              "      <td>20.3057</td>\n",
              "      <td>-37.3255</td>\n",
              "      <td>-31.53740</td>\n",
              "      <td>0.548065</td>\n",
              "      <td>-0.601715</td>\n",
              "      <td>0.317869</td>\n",
              "      <td>0.486336</td>\n",
              "      <td>32.3750</td>\n",
              "      <td>2.771960</td>\n",
              "      <td>9.22311</td>\n",
              "      <td>-2.260720</td>\n",
              "      <td>2.526470</td>\n",
              "      <td>8.90583</td>\n",
              "      <td>-2.155140</td>\n",
              "      <td>0.250226</td>\n",
              "      <td>0.035799</td>\n",
              "      <td>-0.396232</td>\n",
              "      <td>16.001500</td>\n",
              "      <td>-41.0545</td>\n",
              "      <td>14.1542</td>\n",
              "      <td>0.624731</td>\n",
              "      <td>-0.762119</td>\n",
              "      <td>-0.041858</td>\n",
              "      <td>-0.164721</td>\n",
              "      <td>31.5000</td>\n",
              "      <td>9.42169</td>\n",
              "      <td>-0.526345</td>\n",
              "      <td>-3.389350</td>\n",
              "      <td>9.51292</td>\n",
              "      <td>-0.470945</td>\n",
              "      <td>-3.082660</td>\n",
              "      <td>-0.027472</td>\n",
              "      <td>0.011866</td>\n",
              "      <td>-0.042858</td>\n",
              "      <td>-46.2704</td>\n",
              "      <td>4.21475</td>\n",
              "      <td>0.247798</td>\n",
              "      <td>0.598119</td>\n",
              "      <td>0.033685</td>\n",
              "      <td>0.800188</td>\n",
              "      <td>-0.028602</td>\n",
              "      <td>109</td>\n",
              "    </tr>\n",
              "  </tbody>\n",
              "</table>\n",
              "<p>2872533 rows × 55 columns</p>\n",
              "</div>\n",
              "      <button class=\"colab-df-convert\" onclick=\"convertToInteractive('df-1eb5bf27-0a61-485a-a105-e833c4d646ec')\"\n",
              "              title=\"Convert this dataframe to an interactive table.\"\n",
              "              style=\"display:none;\">\n",
              "        \n",
              "  <svg xmlns=\"http://www.w3.org/2000/svg\" height=\"24px\"viewBox=\"0 0 24 24\"\n",
              "       width=\"24px\">\n",
              "    <path d=\"M0 0h24v24H0V0z\" fill=\"none\"/>\n",
              "    <path d=\"M18.56 5.44l.94 2.06.94-2.06 2.06-.94-2.06-.94-.94-2.06-.94 2.06-2.06.94zm-11 1L8.5 8.5l.94-2.06 2.06-.94-2.06-.94L8.5 2.5l-.94 2.06-2.06.94zm10 10l.94 2.06.94-2.06 2.06-.94-2.06-.94-.94-2.06-.94 2.06-2.06.94z\"/><path d=\"M17.41 7.96l-1.37-1.37c-.4-.4-.92-.59-1.43-.59-.52 0-1.04.2-1.43.59L10.3 9.45l-7.72 7.72c-.78.78-.78 2.05 0 2.83L4 21.41c.39.39.9.59 1.41.59.51 0 1.02-.2 1.41-.59l7.78-7.78 2.81-2.81c.8-.78.8-2.07 0-2.86zM5.41 20L4 18.59l7.72-7.72 1.47 1.35L5.41 20z\"/>\n",
              "  </svg>\n",
              "      </button>\n",
              "      \n",
              "  <style>\n",
              "    .colab-df-container {\n",
              "      display:flex;\n",
              "      flex-wrap:wrap;\n",
              "      gap: 12px;\n",
              "    }\n",
              "\n",
              "    .colab-df-convert {\n",
              "      background-color: #E8F0FE;\n",
              "      border: none;\n",
              "      border-radius: 50%;\n",
              "      cursor: pointer;\n",
              "      display: none;\n",
              "      fill: #1967D2;\n",
              "      height: 32px;\n",
              "      padding: 0 0 0 0;\n",
              "      width: 32px;\n",
              "    }\n",
              "\n",
              "    .colab-df-convert:hover {\n",
              "      background-color: #E2EBFA;\n",
              "      box-shadow: 0px 1px 2px rgba(60, 64, 67, 0.3), 0px 1px 3px 1px rgba(60, 64, 67, 0.15);\n",
              "      fill: #174EA6;\n",
              "    }\n",
              "\n",
              "    [theme=dark] .colab-df-convert {\n",
              "      background-color: #3B4455;\n",
              "      fill: #D2E3FC;\n",
              "    }\n",
              "\n",
              "    [theme=dark] .colab-df-convert:hover {\n",
              "      background-color: #434B5C;\n",
              "      box-shadow: 0px 1px 3px 1px rgba(0, 0, 0, 0.15);\n",
              "      filter: drop-shadow(0px 1px 2px rgba(0, 0, 0, 0.3));\n",
              "      fill: #FFFFFF;\n",
              "    }\n",
              "  </style>\n",
              "\n",
              "      <script>\n",
              "        const buttonEl =\n",
              "          document.querySelector('#df-1eb5bf27-0a61-485a-a105-e833c4d646ec button.colab-df-convert');\n",
              "        buttonEl.style.display =\n",
              "          google.colab.kernel.accessAllowed ? 'block' : 'none';\n",
              "\n",
              "        async function convertToInteractive(key) {\n",
              "          const element = document.querySelector('#df-1eb5bf27-0a61-485a-a105-e833c4d646ec');\n",
              "          const dataTable =\n",
              "            await google.colab.kernel.invokeFunction('convertToInteractive',\n",
              "                                                     [key], {});\n",
              "          if (!dataTable) return;\n",
              "\n",
              "          const docLinkHtml = 'Like what you see? Visit the ' +\n",
              "            '<a target=\"_blank\" href=https://colab.research.google.com/notebooks/data_table.ipynb>data table notebook</a>'\n",
              "            + ' to learn more about interactive tables.';\n",
              "          element.innerHTML = '';\n",
              "          dataTable['output_type'] = 'display_data';\n",
              "          await google.colab.output.renderOutput(dataTable, element);\n",
              "          const docLink = document.createElement('div');\n",
              "          docLink.innerHTML = docLinkHtml;\n",
              "          element.appendChild(docLink);\n",
              "        }\n",
              "      </script>\n",
              "    </div>\n",
              "  </div>\n",
              "  "
            ],
            "text/plain": [
              "         timestamp (s)  activityID  ...  ankle orientation4  subject_id\n",
              "0                 8.38           0  ...            0.000000         101\n",
              "1                 8.39           0  ...            0.000000         101\n",
              "2                 8.40           0  ...            0.000000         101\n",
              "3                 8.41           0  ...            0.000000         101\n",
              "4                 8.42           0  ...            0.000000         101\n",
              "...                ...         ...  ...                 ...         ...\n",
              "2872528         100.19           0  ...           -0.031075         109\n",
              "2872529         100.20           0  ...           -0.030018         109\n",
              "2872530         100.21           0  ...           -0.029416         109\n",
              "2872531         100.22           0  ...           -0.029207         109\n",
              "2872532         100.23           0  ...           -0.028602         109\n",
              "\n",
              "[2872533 rows x 55 columns]"
            ]
          },
          "metadata": {},
          "execution_count": 4
        }
      ],
      "source": [
        "df = load_subjects_data()\n",
        "df"
      ]
    },
    {
      "cell_type": "markdown",
      "metadata": {
        "id": "WRwGDF7rY2g7"
      },
      "source": [
        "# 1.Carry out thorough exploratory data analysis and appropriately handle missing or dirty data."
      ]
    },
    {
      "cell_type": "markdown",
      "metadata": {
        "id": "WvD6xFNQY2g7"
      },
      "source": [
        "In this stage the data in the `df` is screened for NaN values, which found to be many in most of the columns, mainly the column `heart rate (bpm)` has lots of NaN values, because the data is captured for heart rate for each micro second and the sensor lost contact while doing activity. Since the `heart rate (bpm)` is one of the important column for analysis, these NaN values are filled with interpolated values using `interpolate` method instead of dropping them, to avoid data loss. Also, the activityID '0' is transient meaning that, in this period there is no activity done, it is just a resting/transition period from one activity to another, hence, the records with activityID `0` are dropped for better analysis. And the NaN's in rest of the columns of the dataframe are very less compared to heart rate (bpm) columns, and hence they were replaced by mean of their respective column.\n",
        "\n",
        "All these operations explained above are modularised into a function called `clean_data` which takes dataframe as an input and returns cleaned dataframe. The statistical aspects are analysed using describe method, and then the dataframe is scanned for any duplicates, on screening there were no duplicates found. And then the shape, size, number of columns, number of unique subject_id's, unique activityID's are found by grouping by the respective columns."
      ]
    },
    {
      "cell_type": "markdown",
      "metadata": {
        "id": "POXGFHabY2g7"
      },
      "source": [
        "## Exploratory data analysis (EDA)"
      ]
    },
    {
      "cell_type": "code",
      "execution_count": null,
      "metadata": {
        "id": "7OvVSfwSSGO2"
      },
      "outputs": [],
      "source": [
        "def clean_data(data):\n",
        "    data = data.drop(data[data['activityID']==0].index)\n",
        "    data = data.interpolate()\n",
        "    # fill all the NaN values in a coulmn with the mean values of the column\n",
        "    for col in data.columns:\n",
        "        data[col] = data[col].fillna(data[col].mean())\n",
        "    activity_mean = data.groupby(['activityID']).mean().reset_index()\n",
        "    return data\n",
        "\n",
        "df = clean_data(df)"
      ]
    },
    {
      "cell_type": "code",
      "execution_count": null,
      "metadata": {
        "colab": {
          "base_uri": "https://localhost:8080/",
          "height": 305
        },
        "id": "JMLb-G5kY2g8",
        "outputId": "f71a418b-7ae0-4e2a-8dd8-305fdd9d5011"
      },
      "outputs": [
        {
          "output_type": "execute_result",
          "data": {
            "text/html": [
              "\n",
              "  <div id=\"df-94d6c400-4071-4804-aeca-8e9282815dc7\">\n",
              "    <div class=\"colab-df-container\">\n",
              "      <div>\n",
              "<style scoped>\n",
              "    .dataframe tbody tr th:only-of-type {\n",
              "        vertical-align: middle;\n",
              "    }\n",
              "\n",
              "    .dataframe tbody tr th {\n",
              "        vertical-align: top;\n",
              "    }\n",
              "\n",
              "    .dataframe thead th {\n",
              "        text-align: right;\n",
              "    }\n",
              "</style>\n",
              "<table border=\"1\" class=\"dataframe\">\n",
              "  <thead>\n",
              "    <tr style=\"text-align: right;\">\n",
              "      <th></th>\n",
              "      <th>timestamp (s)</th>\n",
              "      <th>activityID</th>\n",
              "      <th>heart rate (bpm)</th>\n",
              "      <th>hand temperature (°C)</th>\n",
              "      <th>hand 3D acc ±16g x</th>\n",
              "      <th>hand 3D acc ±16g y</th>\n",
              "      <th>hand 3D acc ±16g z</th>\n",
              "      <th>hand 3D acc ±6g x</th>\n",
              "      <th>hand 3D acc ±6g y</th>\n",
              "      <th>hand 3D acc ±6g z</th>\n",
              "      <th>hand 3D-gyr x</th>\n",
              "      <th>hand 3D-gyr y</th>\n",
              "      <th>hand 3D-gyr z</th>\n",
              "      <th>hand 3D-magn x</th>\n",
              "      <th>hand 3D-magn y</th>\n",
              "      <th>hand 3D-magn z</th>\n",
              "      <th>hand orientation1</th>\n",
              "      <th>hand orientation2</th>\n",
              "      <th>hand orientation3</th>\n",
              "      <th>hand orientation4</th>\n",
              "      <th>chest temperature (°C)</th>\n",
              "      <th>chest 3D acc ±16g x</th>\n",
              "      <th>chest 3D acc ±16g y</th>\n",
              "      <th>chest 3D acc ±16g z</th>\n",
              "      <th>chest 3D acc ±6g x</th>\n",
              "      <th>chest 3D acc ±6g y</th>\n",
              "      <th>chest 3D acc ±6g z</th>\n",
              "      <th>chest 3D-gyr x</th>\n",
              "      <th>chest 3D-gyr y</th>\n",
              "      <th>chest 3D-gyr z</th>\n",
              "      <th>chest 3D-magn x</th>\n",
              "      <th>chest 3D-magn y</th>\n",
              "      <th>chest 3D-magn z</th>\n",
              "      <th>chest orientation1</th>\n",
              "      <th>chest orientation2</th>\n",
              "      <th>chest orientation3</th>\n",
              "      <th>chest orientation4</th>\n",
              "      <th>ankle temperature (°C)</th>\n",
              "      <th>ankle 3D acc ±16g x</th>\n",
              "      <th>ankle 3D acc ±16g y</th>\n",
              "      <th>ankle 3D acc ±16g z</th>\n",
              "      <th>ankle 3D acc ±6g x</th>\n",
              "      <th>ankle 3D acc ±6g y</th>\n",
              "      <th>ankle 3D acc ±6g z</th>\n",
              "      <th>ankle 3D-gyr x</th>\n",
              "      <th>ankle 3D-gyr y</th>\n",
              "      <th>ankle 3D-gyr z</th>\n",
              "      <th>ankle 3D-magn x</th>\n",
              "      <th>ankle 3D-magn y</th>\n",
              "      <th>ankle 3D-magn z</th>\n",
              "      <th>ankle orientation1</th>\n",
              "      <th>ankle orientation2</th>\n",
              "      <th>ankle orientation3</th>\n",
              "      <th>ankle orientation4</th>\n",
              "      <th>subject_id</th>\n",
              "    </tr>\n",
              "  </thead>\n",
              "  <tbody>\n",
              "    <tr>\n",
              "      <th>2928</th>\n",
              "      <td>37.66</td>\n",
              "      <td>1</td>\n",
              "      <td>107.487925</td>\n",
              "      <td>30.375</td>\n",
              "      <td>2.21530</td>\n",
              "      <td>8.27915</td>\n",
              "      <td>5.58753</td>\n",
              "      <td>2.24689</td>\n",
              "      <td>8.55387</td>\n",
              "      <td>5.77143</td>\n",
              "      <td>-0.004750</td>\n",
              "      <td>0.037579</td>\n",
              "      <td>-0.011145</td>\n",
              "      <td>8.93200</td>\n",
              "      <td>-67.9326</td>\n",
              "      <td>-19.9755</td>\n",
              "      <td>1.0</td>\n",
              "      <td>0.0</td>\n",
              "      <td>0.0</td>\n",
              "      <td>0.0</td>\n",
              "      <td>32.1875</td>\n",
              "      <td>0.124482</td>\n",
              "      <td>9.65003</td>\n",
              "      <td>-1.65181</td>\n",
              "      <td>0.143941</td>\n",
              "      <td>9.71019</td>\n",
              "      <td>-1.47347</td>\n",
              "      <td>0.036668</td>\n",
              "      <td>0.016559</td>\n",
              "      <td>-0.052791</td>\n",
              "      <td>0.567566</td>\n",
              "      <td>-50.7269</td>\n",
              "      <td>44.2728</td>\n",
              "      <td>1.0</td>\n",
              "      <td>0.0</td>\n",
              "      <td>0.0</td>\n",
              "      <td>0.0</td>\n",
              "      <td>30.75</td>\n",
              "      <td>9.73855</td>\n",
              "      <td>-1.84761</td>\n",
              "      <td>0.095156</td>\n",
              "      <td>9.63162</td>\n",
              "      <td>-1.76757</td>\n",
              "      <td>0.265761</td>\n",
              "      <td>0.002908</td>\n",
              "      <td>-0.027714</td>\n",
              "      <td>0.001752</td>\n",
              "      <td>-61.1081</td>\n",
              "      <td>-36.8636</td>\n",
              "      <td>-58.3696</td>\n",
              "      <td>1.0</td>\n",
              "      <td>0.0</td>\n",
              "      <td>0.0</td>\n",
              "      <td>0.0</td>\n",
              "      <td>101</td>\n",
              "    </tr>\n",
              "    <tr>\n",
              "      <th>2929</th>\n",
              "      <td>37.67</td>\n",
              "      <td>1</td>\n",
              "      <td>107.487925</td>\n",
              "      <td>30.375</td>\n",
              "      <td>2.29196</td>\n",
              "      <td>7.67288</td>\n",
              "      <td>5.74467</td>\n",
              "      <td>2.27373</td>\n",
              "      <td>8.14592</td>\n",
              "      <td>5.78739</td>\n",
              "      <td>-0.171710</td>\n",
              "      <td>0.025479</td>\n",
              "      <td>-0.009538</td>\n",
              "      <td>9.58300</td>\n",
              "      <td>-67.9584</td>\n",
              "      <td>-20.9091</td>\n",
              "      <td>1.0</td>\n",
              "      <td>0.0</td>\n",
              "      <td>0.0</td>\n",
              "      <td>0.0</td>\n",
              "      <td>32.1875</td>\n",
              "      <td>0.200711</td>\n",
              "      <td>9.64980</td>\n",
              "      <td>-1.65043</td>\n",
              "      <td>0.129092</td>\n",
              "      <td>9.74041</td>\n",
              "      <td>-1.47329</td>\n",
              "      <td>0.019343</td>\n",
              "      <td>-0.024304</td>\n",
              "      <td>-0.059843</td>\n",
              "      <td>0.904990</td>\n",
              "      <td>-50.5080</td>\n",
              "      <td>43.5427</td>\n",
              "      <td>1.0</td>\n",
              "      <td>0.0</td>\n",
              "      <td>0.0</td>\n",
              "      <td>0.0</td>\n",
              "      <td>30.75</td>\n",
              "      <td>9.69762</td>\n",
              "      <td>-1.88438</td>\n",
              "      <td>-0.020804</td>\n",
              "      <td>9.58649</td>\n",
              "      <td>-1.75247</td>\n",
              "      <td>0.250816</td>\n",
              "      <td>0.020882</td>\n",
              "      <td>0.000945</td>\n",
              "      <td>0.006007</td>\n",
              "      <td>-60.8916</td>\n",
              "      <td>-36.3197</td>\n",
              "      <td>-58.3656</td>\n",
              "      <td>1.0</td>\n",
              "      <td>0.0</td>\n",
              "      <td>0.0</td>\n",
              "      <td>0.0</td>\n",
              "      <td>101</td>\n",
              "    </tr>\n",
              "    <tr>\n",
              "      <th>2930</th>\n",
              "      <td>37.68</td>\n",
              "      <td>1</td>\n",
              "      <td>107.487925</td>\n",
              "      <td>30.375</td>\n",
              "      <td>2.29090</td>\n",
              "      <td>7.14240</td>\n",
              "      <td>5.82342</td>\n",
              "      <td>2.26966</td>\n",
              "      <td>7.66268</td>\n",
              "      <td>5.78846</td>\n",
              "      <td>-0.238241</td>\n",
              "      <td>0.011214</td>\n",
              "      <td>0.000831</td>\n",
              "      <td>9.05516</td>\n",
              "      <td>-67.4017</td>\n",
              "      <td>-19.5083</td>\n",
              "      <td>1.0</td>\n",
              "      <td>0.0</td>\n",
              "      <td>0.0</td>\n",
              "      <td>0.0</td>\n",
              "      <td>32.1875</td>\n",
              "      <td>0.270277</td>\n",
              "      <td>9.72331</td>\n",
              "      <td>-1.88174</td>\n",
              "      <td>0.144685</td>\n",
              "      <td>9.77048</td>\n",
              "      <td>-1.41285</td>\n",
              "      <td>-0.001428</td>\n",
              "      <td>0.038466</td>\n",
              "      <td>-0.046464</td>\n",
              "      <td>0.455480</td>\n",
              "      <td>-50.7209</td>\n",
              "      <td>44.0259</td>\n",
              "      <td>1.0</td>\n",
              "      <td>0.0</td>\n",
              "      <td>0.0</td>\n",
              "      <td>0.0</td>\n",
              "      <td>30.75</td>\n",
              "      <td>9.69633</td>\n",
              "      <td>-1.92203</td>\n",
              "      <td>-0.059173</td>\n",
              "      <td>9.60196</td>\n",
              "      <td>-1.73721</td>\n",
              "      <td>0.356632</td>\n",
              "      <td>-0.035392</td>\n",
              "      <td>-0.052422</td>\n",
              "      <td>-0.004882</td>\n",
              "      <td>-60.3407</td>\n",
              "      <td>-35.7842</td>\n",
              "      <td>-58.6119</td>\n",
              "      <td>1.0</td>\n",
              "      <td>0.0</td>\n",
              "      <td>0.0</td>\n",
              "      <td>0.0</td>\n",
              "      <td>101</td>\n",
              "    </tr>\n",
              "    <tr>\n",
              "      <th>2931</th>\n",
              "      <td>37.69</td>\n",
              "      <td>1</td>\n",
              "      <td>107.487925</td>\n",
              "      <td>30.375</td>\n",
              "      <td>2.21800</td>\n",
              "      <td>7.14365</td>\n",
              "      <td>5.89930</td>\n",
              "      <td>2.22177</td>\n",
              "      <td>7.25535</td>\n",
              "      <td>5.88000</td>\n",
              "      <td>-0.192912</td>\n",
              "      <td>0.019053</td>\n",
              "      <td>0.013374</td>\n",
              "      <td>9.92698</td>\n",
              "      <td>-67.4387</td>\n",
              "      <td>-20.5602</td>\n",
              "      <td>1.0</td>\n",
              "      <td>0.0</td>\n",
              "      <td>0.0</td>\n",
              "      <td>0.0</td>\n",
              "      <td>32.1875</td>\n",
              "      <td>0.236737</td>\n",
              "      <td>9.72447</td>\n",
              "      <td>-1.72746</td>\n",
              "      <td>0.174402</td>\n",
              "      <td>9.75538</td>\n",
              "      <td>-1.45841</td>\n",
              "      <td>0.017277</td>\n",
              "      <td>-0.048547</td>\n",
              "      <td>-0.074946</td>\n",
              "      <td>0.324284</td>\n",
              "      <td>-50.1544</td>\n",
              "      <td>43.6570</td>\n",
              "      <td>1.0</td>\n",
              "      <td>0.0</td>\n",
              "      <td>0.0</td>\n",
              "      <td>0.0</td>\n",
              "      <td>30.75</td>\n",
              "      <td>9.66370</td>\n",
              "      <td>-1.84714</td>\n",
              "      <td>0.094385</td>\n",
              "      <td>9.58674</td>\n",
              "      <td>-1.78264</td>\n",
              "      <td>0.311453</td>\n",
              "      <td>-0.032514</td>\n",
              "      <td>-0.018844</td>\n",
              "      <td>0.026950</td>\n",
              "      <td>-60.7646</td>\n",
              "      <td>-37.1028</td>\n",
              "      <td>-57.8799</td>\n",
              "      <td>1.0</td>\n",
              "      <td>0.0</td>\n",
              "      <td>0.0</td>\n",
              "      <td>0.0</td>\n",
              "      <td>101</td>\n",
              "    </tr>\n",
              "    <tr>\n",
              "      <th>2932</th>\n",
              "      <td>37.70</td>\n",
              "      <td>1</td>\n",
              "      <td>100.000000</td>\n",
              "      <td>30.375</td>\n",
              "      <td>2.30106</td>\n",
              "      <td>7.25857</td>\n",
              "      <td>6.09259</td>\n",
              "      <td>2.20720</td>\n",
              "      <td>7.24042</td>\n",
              "      <td>5.95555</td>\n",
              "      <td>-0.069961</td>\n",
              "      <td>-0.018328</td>\n",
              "      <td>0.004582</td>\n",
              "      <td>9.15626</td>\n",
              "      <td>-67.1825</td>\n",
              "      <td>-20.0857</td>\n",
              "      <td>1.0</td>\n",
              "      <td>0.0</td>\n",
              "      <td>0.0</td>\n",
              "      <td>0.0</td>\n",
              "      <td>32.1875</td>\n",
              "      <td>0.352225</td>\n",
              "      <td>9.72437</td>\n",
              "      <td>-1.68665</td>\n",
              "      <td>0.173568</td>\n",
              "      <td>9.69512</td>\n",
              "      <td>-1.53414</td>\n",
              "      <td>0.000275</td>\n",
              "      <td>-0.013352</td>\n",
              "      <td>-0.039315</td>\n",
              "      <td>0.462317</td>\n",
              "      <td>-50.7110</td>\n",
              "      <td>42.9228</td>\n",
              "      <td>1.0</td>\n",
              "      <td>0.0</td>\n",
              "      <td>0.0</td>\n",
              "      <td>0.0</td>\n",
              "      <td>30.75</td>\n",
              "      <td>9.77578</td>\n",
              "      <td>-1.88582</td>\n",
              "      <td>0.095775</td>\n",
              "      <td>9.64677</td>\n",
              "      <td>-1.75240</td>\n",
              "      <td>0.295902</td>\n",
              "      <td>0.001351</td>\n",
              "      <td>-0.048878</td>\n",
              "      <td>-0.006328</td>\n",
              "      <td>-60.2040</td>\n",
              "      <td>-37.1225</td>\n",
              "      <td>-57.8847</td>\n",
              "      <td>1.0</td>\n",
              "      <td>0.0</td>\n",
              "      <td>0.0</td>\n",
              "      <td>0.0</td>\n",
              "      <td>101</td>\n",
              "    </tr>\n",
              "  </tbody>\n",
              "</table>\n",
              "</div>\n",
              "      <button class=\"colab-df-convert\" onclick=\"convertToInteractive('df-94d6c400-4071-4804-aeca-8e9282815dc7')\"\n",
              "              title=\"Convert this dataframe to an interactive table.\"\n",
              "              style=\"display:none;\">\n",
              "        \n",
              "  <svg xmlns=\"http://www.w3.org/2000/svg\" height=\"24px\"viewBox=\"0 0 24 24\"\n",
              "       width=\"24px\">\n",
              "    <path d=\"M0 0h24v24H0V0z\" fill=\"none\"/>\n",
              "    <path d=\"M18.56 5.44l.94 2.06.94-2.06 2.06-.94-2.06-.94-.94-2.06-.94 2.06-2.06.94zm-11 1L8.5 8.5l.94-2.06 2.06-.94-2.06-.94L8.5 2.5l-.94 2.06-2.06.94zm10 10l.94 2.06.94-2.06 2.06-.94-2.06-.94-.94-2.06-.94 2.06-2.06.94z\"/><path d=\"M17.41 7.96l-1.37-1.37c-.4-.4-.92-.59-1.43-.59-.52 0-1.04.2-1.43.59L10.3 9.45l-7.72 7.72c-.78.78-.78 2.05 0 2.83L4 21.41c.39.39.9.59 1.41.59.51 0 1.02-.2 1.41-.59l7.78-7.78 2.81-2.81c.8-.78.8-2.07 0-2.86zM5.41 20L4 18.59l7.72-7.72 1.47 1.35L5.41 20z\"/>\n",
              "  </svg>\n",
              "      </button>\n",
              "      \n",
              "  <style>\n",
              "    .colab-df-container {\n",
              "      display:flex;\n",
              "      flex-wrap:wrap;\n",
              "      gap: 12px;\n",
              "    }\n",
              "\n",
              "    .colab-df-convert {\n",
              "      background-color: #E8F0FE;\n",
              "      border: none;\n",
              "      border-radius: 50%;\n",
              "      cursor: pointer;\n",
              "      display: none;\n",
              "      fill: #1967D2;\n",
              "      height: 32px;\n",
              "      padding: 0 0 0 0;\n",
              "      width: 32px;\n",
              "    }\n",
              "\n",
              "    .colab-df-convert:hover {\n",
              "      background-color: #E2EBFA;\n",
              "      box-shadow: 0px 1px 2px rgba(60, 64, 67, 0.3), 0px 1px 3px 1px rgba(60, 64, 67, 0.15);\n",
              "      fill: #174EA6;\n",
              "    }\n",
              "\n",
              "    [theme=dark] .colab-df-convert {\n",
              "      background-color: #3B4455;\n",
              "      fill: #D2E3FC;\n",
              "    }\n",
              "\n",
              "    [theme=dark] .colab-df-convert:hover {\n",
              "      background-color: #434B5C;\n",
              "      box-shadow: 0px 1px 3px 1px rgba(0, 0, 0, 0.15);\n",
              "      filter: drop-shadow(0px 1px 2px rgba(0, 0, 0, 0.3));\n",
              "      fill: #FFFFFF;\n",
              "    }\n",
              "  </style>\n",
              "\n",
              "      <script>\n",
              "        const buttonEl =\n",
              "          document.querySelector('#df-94d6c400-4071-4804-aeca-8e9282815dc7 button.colab-df-convert');\n",
              "        buttonEl.style.display =\n",
              "          google.colab.kernel.accessAllowed ? 'block' : 'none';\n",
              "\n",
              "        async function convertToInteractive(key) {\n",
              "          const element = document.querySelector('#df-94d6c400-4071-4804-aeca-8e9282815dc7');\n",
              "          const dataTable =\n",
              "            await google.colab.kernel.invokeFunction('convertToInteractive',\n",
              "                                                     [key], {});\n",
              "          if (!dataTable) return;\n",
              "\n",
              "          const docLinkHtml = 'Like what you see? Visit the ' +\n",
              "            '<a target=\"_blank\" href=https://colab.research.google.com/notebooks/data_table.ipynb>data table notebook</a>'\n",
              "            + ' to learn more about interactive tables.';\n",
              "          element.innerHTML = '';\n",
              "          dataTable['output_type'] = 'display_data';\n",
              "          await google.colab.output.renderOutput(dataTable, element);\n",
              "          const docLink = document.createElement('div');\n",
              "          docLink.innerHTML = docLinkHtml;\n",
              "          element.appendChild(docLink);\n",
              "        }\n",
              "      </script>\n",
              "    </div>\n",
              "  </div>\n",
              "  "
            ],
            "text/plain": [
              "      timestamp (s)  activityID  ...  ankle orientation4  subject_id\n",
              "2928          37.66           1  ...                 0.0         101\n",
              "2929          37.67           1  ...                 0.0         101\n",
              "2930          37.68           1  ...                 0.0         101\n",
              "2931          37.69           1  ...                 0.0         101\n",
              "2932          37.70           1  ...                 0.0         101\n",
              "\n",
              "[5 rows x 55 columns]"
            ]
          },
          "metadata": {},
          "execution_count": 6
        }
      ],
      "source": [
        "df.head(5)"
      ]
    },
    {
      "cell_type": "markdown",
      "metadata": {
        "id": "B8JQ1QjIY2g8"
      },
      "source": [
        "After eliminating activityID's with 0, the timestamp values were starting from irregular time intervals, in order to make all the activities starting from 0 seconds(which is necessary for determining the amount of activity), the first timestamp value for each subject_id is subtracted from the rest of the timestamp values, this is done using the code below."
      ]
    },
    {
      "cell_type": "code",
      "execution_count": null,
      "metadata": {
        "id": "_lsjJZx0Y2g8"
      },
      "outputs": [],
      "source": [
        "df.loc[df['subject_id']==101,'timestamp (s)'] -= df[df['subject_id']==101]['timestamp (s)'].iloc[0]\n",
        "df.loc[df['subject_id']==102,'timestamp (s)'] -= df[df['subject_id']==102]['timestamp (s)'].iloc[0]\n",
        "df.loc[df['subject_id']==103,'timestamp (s)'] -= df[df['subject_id']==103]['timestamp (s)'].iloc[0]\n",
        "df.loc[df['subject_id']==104,'timestamp (s)'] -= df[df['subject_id']==104]['timestamp (s)'].iloc[0]\n",
        "df.loc[df['subject_id']==105,'timestamp (s)'] -= df[df['subject_id']==105]['timestamp (s)'].iloc[0]\n",
        "df.loc[df['subject_id']==106,'timestamp (s)'] -= df[df['subject_id']==106]['timestamp (s)'].iloc[0]\n",
        "df.loc[df['subject_id']==107,'timestamp (s)'] -= df[df['subject_id']==107]['timestamp (s)'].iloc[0]\n",
        "df.loc[df['subject_id']==108,'timestamp (s)'] -= df[df['subject_id']==108]['timestamp (s)'].iloc[0]\n",
        "df.loc[df['subject_id']==109,'timestamp (s)'] -= df[df['subject_id']==109]['timestamp (s)'].iloc[0]"
      ]
    },
    {
      "cell_type": "code",
      "execution_count": null,
      "metadata": {
        "colab": {
          "base_uri": "https://localhost:8080/",
          "height": 305
        },
        "id": "SQ84IhqDSSkZ",
        "outputId": "ec2a4a8d-99cd-4137-b06f-321526c0d73a"
      },
      "outputs": [
        {
          "output_type": "execute_result",
          "data": {
            "text/html": [
              "\n",
              "  <div id=\"df-3e4c5a8f-9caf-462a-a95d-5f63aed6daba\">\n",
              "    <div class=\"colab-df-container\">\n",
              "      <div>\n",
              "<style scoped>\n",
              "    .dataframe tbody tr th:only-of-type {\n",
              "        vertical-align: middle;\n",
              "    }\n",
              "\n",
              "    .dataframe tbody tr th {\n",
              "        vertical-align: top;\n",
              "    }\n",
              "\n",
              "    .dataframe thead th {\n",
              "        text-align: right;\n",
              "    }\n",
              "</style>\n",
              "<table border=\"1\" class=\"dataframe\">\n",
              "  <thead>\n",
              "    <tr style=\"text-align: right;\">\n",
              "      <th></th>\n",
              "      <th>timestamp (s)</th>\n",
              "      <th>activityID</th>\n",
              "      <th>heart rate (bpm)</th>\n",
              "      <th>hand temperature (°C)</th>\n",
              "      <th>hand 3D acc ±16g x</th>\n",
              "      <th>hand 3D acc ±16g y</th>\n",
              "      <th>hand 3D acc ±16g z</th>\n",
              "      <th>hand 3D acc ±6g x</th>\n",
              "      <th>hand 3D acc ±6g y</th>\n",
              "      <th>hand 3D acc ±6g z</th>\n",
              "      <th>hand 3D-gyr x</th>\n",
              "      <th>hand 3D-gyr y</th>\n",
              "      <th>hand 3D-gyr z</th>\n",
              "      <th>hand 3D-magn x</th>\n",
              "      <th>hand 3D-magn y</th>\n",
              "      <th>hand 3D-magn z</th>\n",
              "      <th>hand orientation1</th>\n",
              "      <th>hand orientation2</th>\n",
              "      <th>hand orientation3</th>\n",
              "      <th>hand orientation4</th>\n",
              "      <th>chest temperature (°C)</th>\n",
              "      <th>chest 3D acc ±16g x</th>\n",
              "      <th>chest 3D acc ±16g y</th>\n",
              "      <th>chest 3D acc ±16g z</th>\n",
              "      <th>chest 3D acc ±6g x</th>\n",
              "      <th>chest 3D acc ±6g y</th>\n",
              "      <th>chest 3D acc ±6g z</th>\n",
              "      <th>chest 3D-gyr x</th>\n",
              "      <th>chest 3D-gyr y</th>\n",
              "      <th>chest 3D-gyr z</th>\n",
              "      <th>chest 3D-magn x</th>\n",
              "      <th>chest 3D-magn y</th>\n",
              "      <th>chest 3D-magn z</th>\n",
              "      <th>chest orientation1</th>\n",
              "      <th>chest orientation2</th>\n",
              "      <th>chest orientation3</th>\n",
              "      <th>chest orientation4</th>\n",
              "      <th>ankle temperature (°C)</th>\n",
              "      <th>ankle 3D acc ±16g x</th>\n",
              "      <th>ankle 3D acc ±16g y</th>\n",
              "      <th>ankle 3D acc ±16g z</th>\n",
              "      <th>ankle 3D acc ±6g x</th>\n",
              "      <th>ankle 3D acc ±6g y</th>\n",
              "      <th>ankle 3D acc ±6g z</th>\n",
              "      <th>ankle 3D-gyr x</th>\n",
              "      <th>ankle 3D-gyr y</th>\n",
              "      <th>ankle 3D-gyr z</th>\n",
              "      <th>ankle 3D-magn x</th>\n",
              "      <th>ankle 3D-magn y</th>\n",
              "      <th>ankle 3D-magn z</th>\n",
              "      <th>ankle orientation1</th>\n",
              "      <th>ankle orientation2</th>\n",
              "      <th>ankle orientation3</th>\n",
              "      <th>ankle orientation4</th>\n",
              "      <th>subject_id</th>\n",
              "    </tr>\n",
              "  </thead>\n",
              "  <tbody>\n",
              "    <tr>\n",
              "      <th>2928</th>\n",
              "      <td>0.00</td>\n",
              "      <td>1</td>\n",
              "      <td>107.487925</td>\n",
              "      <td>30.375</td>\n",
              "      <td>2.21530</td>\n",
              "      <td>8.27915</td>\n",
              "      <td>5.58753</td>\n",
              "      <td>2.24689</td>\n",
              "      <td>8.55387</td>\n",
              "      <td>5.77143</td>\n",
              "      <td>-0.004750</td>\n",
              "      <td>0.037579</td>\n",
              "      <td>-0.011145</td>\n",
              "      <td>8.93200</td>\n",
              "      <td>-67.9326</td>\n",
              "      <td>-19.9755</td>\n",
              "      <td>1.0</td>\n",
              "      <td>0.0</td>\n",
              "      <td>0.0</td>\n",
              "      <td>0.0</td>\n",
              "      <td>32.1875</td>\n",
              "      <td>0.124482</td>\n",
              "      <td>9.65003</td>\n",
              "      <td>-1.65181</td>\n",
              "      <td>0.143941</td>\n",
              "      <td>9.71019</td>\n",
              "      <td>-1.47347</td>\n",
              "      <td>0.036668</td>\n",
              "      <td>0.016559</td>\n",
              "      <td>-0.052791</td>\n",
              "      <td>0.567566</td>\n",
              "      <td>-50.7269</td>\n",
              "      <td>44.2728</td>\n",
              "      <td>1.0</td>\n",
              "      <td>0.0</td>\n",
              "      <td>0.0</td>\n",
              "      <td>0.0</td>\n",
              "      <td>30.75</td>\n",
              "      <td>9.73855</td>\n",
              "      <td>-1.84761</td>\n",
              "      <td>0.095156</td>\n",
              "      <td>9.63162</td>\n",
              "      <td>-1.76757</td>\n",
              "      <td>0.265761</td>\n",
              "      <td>0.002908</td>\n",
              "      <td>-0.027714</td>\n",
              "      <td>0.001752</td>\n",
              "      <td>-61.1081</td>\n",
              "      <td>-36.8636</td>\n",
              "      <td>-58.3696</td>\n",
              "      <td>1.0</td>\n",
              "      <td>0.0</td>\n",
              "      <td>0.0</td>\n",
              "      <td>0.0</td>\n",
              "      <td>101</td>\n",
              "    </tr>\n",
              "    <tr>\n",
              "      <th>2929</th>\n",
              "      <td>0.01</td>\n",
              "      <td>1</td>\n",
              "      <td>107.487925</td>\n",
              "      <td>30.375</td>\n",
              "      <td>2.29196</td>\n",
              "      <td>7.67288</td>\n",
              "      <td>5.74467</td>\n",
              "      <td>2.27373</td>\n",
              "      <td>8.14592</td>\n",
              "      <td>5.78739</td>\n",
              "      <td>-0.171710</td>\n",
              "      <td>0.025479</td>\n",
              "      <td>-0.009538</td>\n",
              "      <td>9.58300</td>\n",
              "      <td>-67.9584</td>\n",
              "      <td>-20.9091</td>\n",
              "      <td>1.0</td>\n",
              "      <td>0.0</td>\n",
              "      <td>0.0</td>\n",
              "      <td>0.0</td>\n",
              "      <td>32.1875</td>\n",
              "      <td>0.200711</td>\n",
              "      <td>9.64980</td>\n",
              "      <td>-1.65043</td>\n",
              "      <td>0.129092</td>\n",
              "      <td>9.74041</td>\n",
              "      <td>-1.47329</td>\n",
              "      <td>0.019343</td>\n",
              "      <td>-0.024304</td>\n",
              "      <td>-0.059843</td>\n",
              "      <td>0.904990</td>\n",
              "      <td>-50.5080</td>\n",
              "      <td>43.5427</td>\n",
              "      <td>1.0</td>\n",
              "      <td>0.0</td>\n",
              "      <td>0.0</td>\n",
              "      <td>0.0</td>\n",
              "      <td>30.75</td>\n",
              "      <td>9.69762</td>\n",
              "      <td>-1.88438</td>\n",
              "      <td>-0.020804</td>\n",
              "      <td>9.58649</td>\n",
              "      <td>-1.75247</td>\n",
              "      <td>0.250816</td>\n",
              "      <td>0.020882</td>\n",
              "      <td>0.000945</td>\n",
              "      <td>0.006007</td>\n",
              "      <td>-60.8916</td>\n",
              "      <td>-36.3197</td>\n",
              "      <td>-58.3656</td>\n",
              "      <td>1.0</td>\n",
              "      <td>0.0</td>\n",
              "      <td>0.0</td>\n",
              "      <td>0.0</td>\n",
              "      <td>101</td>\n",
              "    </tr>\n",
              "    <tr>\n",
              "      <th>2930</th>\n",
              "      <td>0.02</td>\n",
              "      <td>1</td>\n",
              "      <td>107.487925</td>\n",
              "      <td>30.375</td>\n",
              "      <td>2.29090</td>\n",
              "      <td>7.14240</td>\n",
              "      <td>5.82342</td>\n",
              "      <td>2.26966</td>\n",
              "      <td>7.66268</td>\n",
              "      <td>5.78846</td>\n",
              "      <td>-0.238241</td>\n",
              "      <td>0.011214</td>\n",
              "      <td>0.000831</td>\n",
              "      <td>9.05516</td>\n",
              "      <td>-67.4017</td>\n",
              "      <td>-19.5083</td>\n",
              "      <td>1.0</td>\n",
              "      <td>0.0</td>\n",
              "      <td>0.0</td>\n",
              "      <td>0.0</td>\n",
              "      <td>32.1875</td>\n",
              "      <td>0.270277</td>\n",
              "      <td>9.72331</td>\n",
              "      <td>-1.88174</td>\n",
              "      <td>0.144685</td>\n",
              "      <td>9.77048</td>\n",
              "      <td>-1.41285</td>\n",
              "      <td>-0.001428</td>\n",
              "      <td>0.038466</td>\n",
              "      <td>-0.046464</td>\n",
              "      <td>0.455480</td>\n",
              "      <td>-50.7209</td>\n",
              "      <td>44.0259</td>\n",
              "      <td>1.0</td>\n",
              "      <td>0.0</td>\n",
              "      <td>0.0</td>\n",
              "      <td>0.0</td>\n",
              "      <td>30.75</td>\n",
              "      <td>9.69633</td>\n",
              "      <td>-1.92203</td>\n",
              "      <td>-0.059173</td>\n",
              "      <td>9.60196</td>\n",
              "      <td>-1.73721</td>\n",
              "      <td>0.356632</td>\n",
              "      <td>-0.035392</td>\n",
              "      <td>-0.052422</td>\n",
              "      <td>-0.004882</td>\n",
              "      <td>-60.3407</td>\n",
              "      <td>-35.7842</td>\n",
              "      <td>-58.6119</td>\n",
              "      <td>1.0</td>\n",
              "      <td>0.0</td>\n",
              "      <td>0.0</td>\n",
              "      <td>0.0</td>\n",
              "      <td>101</td>\n",
              "    </tr>\n",
              "    <tr>\n",
              "      <th>2931</th>\n",
              "      <td>0.03</td>\n",
              "      <td>1</td>\n",
              "      <td>107.487925</td>\n",
              "      <td>30.375</td>\n",
              "      <td>2.21800</td>\n",
              "      <td>7.14365</td>\n",
              "      <td>5.89930</td>\n",
              "      <td>2.22177</td>\n",
              "      <td>7.25535</td>\n",
              "      <td>5.88000</td>\n",
              "      <td>-0.192912</td>\n",
              "      <td>0.019053</td>\n",
              "      <td>0.013374</td>\n",
              "      <td>9.92698</td>\n",
              "      <td>-67.4387</td>\n",
              "      <td>-20.5602</td>\n",
              "      <td>1.0</td>\n",
              "      <td>0.0</td>\n",
              "      <td>0.0</td>\n",
              "      <td>0.0</td>\n",
              "      <td>32.1875</td>\n",
              "      <td>0.236737</td>\n",
              "      <td>9.72447</td>\n",
              "      <td>-1.72746</td>\n",
              "      <td>0.174402</td>\n",
              "      <td>9.75538</td>\n",
              "      <td>-1.45841</td>\n",
              "      <td>0.017277</td>\n",
              "      <td>-0.048547</td>\n",
              "      <td>-0.074946</td>\n",
              "      <td>0.324284</td>\n",
              "      <td>-50.1544</td>\n",
              "      <td>43.6570</td>\n",
              "      <td>1.0</td>\n",
              "      <td>0.0</td>\n",
              "      <td>0.0</td>\n",
              "      <td>0.0</td>\n",
              "      <td>30.75</td>\n",
              "      <td>9.66370</td>\n",
              "      <td>-1.84714</td>\n",
              "      <td>0.094385</td>\n",
              "      <td>9.58674</td>\n",
              "      <td>-1.78264</td>\n",
              "      <td>0.311453</td>\n",
              "      <td>-0.032514</td>\n",
              "      <td>-0.018844</td>\n",
              "      <td>0.026950</td>\n",
              "      <td>-60.7646</td>\n",
              "      <td>-37.1028</td>\n",
              "      <td>-57.8799</td>\n",
              "      <td>1.0</td>\n",
              "      <td>0.0</td>\n",
              "      <td>0.0</td>\n",
              "      <td>0.0</td>\n",
              "      <td>101</td>\n",
              "    </tr>\n",
              "    <tr>\n",
              "      <th>2932</th>\n",
              "      <td>0.04</td>\n",
              "      <td>1</td>\n",
              "      <td>100.000000</td>\n",
              "      <td>30.375</td>\n",
              "      <td>2.30106</td>\n",
              "      <td>7.25857</td>\n",
              "      <td>6.09259</td>\n",
              "      <td>2.20720</td>\n",
              "      <td>7.24042</td>\n",
              "      <td>5.95555</td>\n",
              "      <td>-0.069961</td>\n",
              "      <td>-0.018328</td>\n",
              "      <td>0.004582</td>\n",
              "      <td>9.15626</td>\n",
              "      <td>-67.1825</td>\n",
              "      <td>-20.0857</td>\n",
              "      <td>1.0</td>\n",
              "      <td>0.0</td>\n",
              "      <td>0.0</td>\n",
              "      <td>0.0</td>\n",
              "      <td>32.1875</td>\n",
              "      <td>0.352225</td>\n",
              "      <td>9.72437</td>\n",
              "      <td>-1.68665</td>\n",
              "      <td>0.173568</td>\n",
              "      <td>9.69512</td>\n",
              "      <td>-1.53414</td>\n",
              "      <td>0.000275</td>\n",
              "      <td>-0.013352</td>\n",
              "      <td>-0.039315</td>\n",
              "      <td>0.462317</td>\n",
              "      <td>-50.7110</td>\n",
              "      <td>42.9228</td>\n",
              "      <td>1.0</td>\n",
              "      <td>0.0</td>\n",
              "      <td>0.0</td>\n",
              "      <td>0.0</td>\n",
              "      <td>30.75</td>\n",
              "      <td>9.77578</td>\n",
              "      <td>-1.88582</td>\n",
              "      <td>0.095775</td>\n",
              "      <td>9.64677</td>\n",
              "      <td>-1.75240</td>\n",
              "      <td>0.295902</td>\n",
              "      <td>0.001351</td>\n",
              "      <td>-0.048878</td>\n",
              "      <td>-0.006328</td>\n",
              "      <td>-60.2040</td>\n",
              "      <td>-37.1225</td>\n",
              "      <td>-57.8847</td>\n",
              "      <td>1.0</td>\n",
              "      <td>0.0</td>\n",
              "      <td>0.0</td>\n",
              "      <td>0.0</td>\n",
              "      <td>101</td>\n",
              "    </tr>\n",
              "  </tbody>\n",
              "</table>\n",
              "</div>\n",
              "      <button class=\"colab-df-convert\" onclick=\"convertToInteractive('df-3e4c5a8f-9caf-462a-a95d-5f63aed6daba')\"\n",
              "              title=\"Convert this dataframe to an interactive table.\"\n",
              "              style=\"display:none;\">\n",
              "        \n",
              "  <svg xmlns=\"http://www.w3.org/2000/svg\" height=\"24px\"viewBox=\"0 0 24 24\"\n",
              "       width=\"24px\">\n",
              "    <path d=\"M0 0h24v24H0V0z\" fill=\"none\"/>\n",
              "    <path d=\"M18.56 5.44l.94 2.06.94-2.06 2.06-.94-2.06-.94-.94-2.06-.94 2.06-2.06.94zm-11 1L8.5 8.5l.94-2.06 2.06-.94-2.06-.94L8.5 2.5l-.94 2.06-2.06.94zm10 10l.94 2.06.94-2.06 2.06-.94-2.06-.94-.94-2.06-.94 2.06-2.06.94z\"/><path d=\"M17.41 7.96l-1.37-1.37c-.4-.4-.92-.59-1.43-.59-.52 0-1.04.2-1.43.59L10.3 9.45l-7.72 7.72c-.78.78-.78 2.05 0 2.83L4 21.41c.39.39.9.59 1.41.59.51 0 1.02-.2 1.41-.59l7.78-7.78 2.81-2.81c.8-.78.8-2.07 0-2.86zM5.41 20L4 18.59l7.72-7.72 1.47 1.35L5.41 20z\"/>\n",
              "  </svg>\n",
              "      </button>\n",
              "      \n",
              "  <style>\n",
              "    .colab-df-container {\n",
              "      display:flex;\n",
              "      flex-wrap:wrap;\n",
              "      gap: 12px;\n",
              "    }\n",
              "\n",
              "    .colab-df-convert {\n",
              "      background-color: #E8F0FE;\n",
              "      border: none;\n",
              "      border-radius: 50%;\n",
              "      cursor: pointer;\n",
              "      display: none;\n",
              "      fill: #1967D2;\n",
              "      height: 32px;\n",
              "      padding: 0 0 0 0;\n",
              "      width: 32px;\n",
              "    }\n",
              "\n",
              "    .colab-df-convert:hover {\n",
              "      background-color: #E2EBFA;\n",
              "      box-shadow: 0px 1px 2px rgba(60, 64, 67, 0.3), 0px 1px 3px 1px rgba(60, 64, 67, 0.15);\n",
              "      fill: #174EA6;\n",
              "    }\n",
              "\n",
              "    [theme=dark] .colab-df-convert {\n",
              "      background-color: #3B4455;\n",
              "      fill: #D2E3FC;\n",
              "    }\n",
              "\n",
              "    [theme=dark] .colab-df-convert:hover {\n",
              "      background-color: #434B5C;\n",
              "      box-shadow: 0px 1px 3px 1px rgba(0, 0, 0, 0.15);\n",
              "      filter: drop-shadow(0px 1px 2px rgba(0, 0, 0, 0.3));\n",
              "      fill: #FFFFFF;\n",
              "    }\n",
              "  </style>\n",
              "\n",
              "      <script>\n",
              "        const buttonEl =\n",
              "          document.querySelector('#df-3e4c5a8f-9caf-462a-a95d-5f63aed6daba button.colab-df-convert');\n",
              "        buttonEl.style.display =\n",
              "          google.colab.kernel.accessAllowed ? 'block' : 'none';\n",
              "\n",
              "        async function convertToInteractive(key) {\n",
              "          const element = document.querySelector('#df-3e4c5a8f-9caf-462a-a95d-5f63aed6daba');\n",
              "          const dataTable =\n",
              "            await google.colab.kernel.invokeFunction('convertToInteractive',\n",
              "                                                     [key], {});\n",
              "          if (!dataTable) return;\n",
              "\n",
              "          const docLinkHtml = 'Like what you see? Visit the ' +\n",
              "            '<a target=\"_blank\" href=https://colab.research.google.com/notebooks/data_table.ipynb>data table notebook</a>'\n",
              "            + ' to learn more about interactive tables.';\n",
              "          element.innerHTML = '';\n",
              "          dataTable['output_type'] = 'display_data';\n",
              "          await google.colab.output.renderOutput(dataTable, element);\n",
              "          const docLink = document.createElement('div');\n",
              "          docLink.innerHTML = docLinkHtml;\n",
              "          element.appendChild(docLink);\n",
              "        }\n",
              "      </script>\n",
              "    </div>\n",
              "  </div>\n",
              "  "
            ],
            "text/plain": [
              "      timestamp (s)  activityID  ...  ankle orientation4  subject_id\n",
              "2928           0.00           1  ...                 0.0         101\n",
              "2929           0.01           1  ...                 0.0         101\n",
              "2930           0.02           1  ...                 0.0         101\n",
              "2931           0.03           1  ...                 0.0         101\n",
              "2932           0.04           1  ...                 0.0         101\n",
              "\n",
              "[5 rows x 55 columns]"
            ]
          },
          "metadata": {},
          "execution_count": 8
        }
      ],
      "source": [
        "df.head(5)"
      ]
    },
    {
      "cell_type": "code",
      "execution_count": null,
      "metadata": {
        "colab": {
          "base_uri": "https://localhost:8080/",
          "height": 399
        },
        "id": "cE-YcRLMrV_Y",
        "outputId": "6902f1bd-80be-496a-8e60-7432ffbf6396"
      },
      "outputs": [
        {
          "output_type": "execute_result",
          "data": {
            "text/html": [
              "\n",
              "  <div id=\"df-a697018e-6f26-4385-9a0c-43ad160b0668\">\n",
              "    <div class=\"colab-df-container\">\n",
              "      <div>\n",
              "<style scoped>\n",
              "    .dataframe tbody tr th:only-of-type {\n",
              "        vertical-align: middle;\n",
              "    }\n",
              "\n",
              "    .dataframe tbody tr th {\n",
              "        vertical-align: top;\n",
              "    }\n",
              "\n",
              "    .dataframe thead th {\n",
              "        text-align: right;\n",
              "    }\n",
              "</style>\n",
              "<table border=\"1\" class=\"dataframe\">\n",
              "  <thead>\n",
              "    <tr style=\"text-align: right;\">\n",
              "      <th></th>\n",
              "      <th>timestamp (s)</th>\n",
              "      <th>activityID</th>\n",
              "      <th>heart rate (bpm)</th>\n",
              "      <th>hand temperature (°C)</th>\n",
              "      <th>hand 3D acc ±16g x</th>\n",
              "      <th>hand 3D acc ±16g y</th>\n",
              "      <th>hand 3D acc ±16g z</th>\n",
              "      <th>hand 3D acc ±6g x</th>\n",
              "      <th>hand 3D acc ±6g y</th>\n",
              "      <th>hand 3D acc ±6g z</th>\n",
              "      <th>hand 3D-gyr x</th>\n",
              "      <th>hand 3D-gyr y</th>\n",
              "      <th>hand 3D-gyr z</th>\n",
              "      <th>hand 3D-magn x</th>\n",
              "      <th>hand 3D-magn y</th>\n",
              "      <th>hand 3D-magn z</th>\n",
              "      <th>hand orientation1</th>\n",
              "      <th>hand orientation2</th>\n",
              "      <th>hand orientation3</th>\n",
              "      <th>hand orientation4</th>\n",
              "      <th>chest temperature (°C)</th>\n",
              "      <th>chest 3D acc ±16g x</th>\n",
              "      <th>chest 3D acc ±16g y</th>\n",
              "      <th>chest 3D acc ±16g z</th>\n",
              "      <th>chest 3D acc ±6g x</th>\n",
              "      <th>chest 3D acc ±6g y</th>\n",
              "      <th>chest 3D acc ±6g z</th>\n",
              "      <th>chest 3D-gyr x</th>\n",
              "      <th>chest 3D-gyr y</th>\n",
              "      <th>chest 3D-gyr z</th>\n",
              "      <th>chest 3D-magn x</th>\n",
              "      <th>chest 3D-magn y</th>\n",
              "      <th>chest 3D-magn z</th>\n",
              "      <th>chest orientation1</th>\n",
              "      <th>chest orientation2</th>\n",
              "      <th>chest orientation3</th>\n",
              "      <th>chest orientation4</th>\n",
              "      <th>ankle temperature (°C)</th>\n",
              "      <th>ankle 3D acc ±16g x</th>\n",
              "      <th>ankle 3D acc ±16g y</th>\n",
              "      <th>ankle 3D acc ±16g z</th>\n",
              "      <th>ankle 3D acc ±6g x</th>\n",
              "      <th>ankle 3D acc ±6g y</th>\n",
              "      <th>ankle 3D acc ±6g z</th>\n",
              "      <th>ankle 3D-gyr x</th>\n",
              "      <th>ankle 3D-gyr y</th>\n",
              "      <th>ankle 3D-gyr z</th>\n",
              "      <th>ankle 3D-magn x</th>\n",
              "      <th>ankle 3D-magn y</th>\n",
              "      <th>ankle 3D-magn z</th>\n",
              "      <th>ankle orientation1</th>\n",
              "      <th>ankle orientation2</th>\n",
              "      <th>ankle orientation3</th>\n",
              "      <th>ankle orientation4</th>\n",
              "      <th>subject_id</th>\n",
              "    </tr>\n",
              "  </thead>\n",
              "  <tbody>\n",
              "    <tr>\n",
              "      <th>count</th>\n",
              "      <td>1.942872e+06</td>\n",
              "      <td>1.942872e+06</td>\n",
              "      <td>1.942872e+06</td>\n",
              "      <td>1.942872e+06</td>\n",
              "      <td>1.942872e+06</td>\n",
              "      <td>1.942872e+06</td>\n",
              "      <td>1.942872e+06</td>\n",
              "      <td>1.942872e+06</td>\n",
              "      <td>1.942872e+06</td>\n",
              "      <td>1.942872e+06</td>\n",
              "      <td>1.942872e+06</td>\n",
              "      <td>1.942872e+06</td>\n",
              "      <td>1.942872e+06</td>\n",
              "      <td>1.942872e+06</td>\n",
              "      <td>1.942872e+06</td>\n",
              "      <td>1.942872e+06</td>\n",
              "      <td>1.942872e+06</td>\n",
              "      <td>1.942872e+06</td>\n",
              "      <td>1.942872e+06</td>\n",
              "      <td>1.942872e+06</td>\n",
              "      <td>1.942872e+06</td>\n",
              "      <td>1.942872e+06</td>\n",
              "      <td>1.942872e+06</td>\n",
              "      <td>1.942872e+06</td>\n",
              "      <td>1.942872e+06</td>\n",
              "      <td>1.942872e+06</td>\n",
              "      <td>1.942872e+06</td>\n",
              "      <td>1.942872e+06</td>\n",
              "      <td>1.942872e+06</td>\n",
              "      <td>1.942872e+06</td>\n",
              "      <td>1.942872e+06</td>\n",
              "      <td>1.942872e+06</td>\n",
              "      <td>1.942872e+06</td>\n",
              "      <td>1.942872e+06</td>\n",
              "      <td>1.942872e+06</td>\n",
              "      <td>1.942872e+06</td>\n",
              "      <td>1.942872e+06</td>\n",
              "      <td>1.942872e+06</td>\n",
              "      <td>1.942872e+06</td>\n",
              "      <td>1.942872e+06</td>\n",
              "      <td>1.942872e+06</td>\n",
              "      <td>1.942872e+06</td>\n",
              "      <td>1.942872e+06</td>\n",
              "      <td>1.942872e+06</td>\n",
              "      <td>1.942872e+06</td>\n",
              "      <td>1.942872e+06</td>\n",
              "      <td>1.942872e+06</td>\n",
              "      <td>1.942872e+06</td>\n",
              "      <td>1.942872e+06</td>\n",
              "      <td>1.942872e+06</td>\n",
              "      <td>1.942872e+06</td>\n",
              "      <td>1.942872e+06</td>\n",
              "      <td>1.942872e+06</td>\n",
              "      <td>1.942872e+06</td>\n",
              "      <td>1.942872e+06</td>\n",
              "    </tr>\n",
              "    <tr>\n",
              "      <th>mean</th>\n",
              "      <td>1.621965e+03</td>\n",
              "      <td>8.081830e+00</td>\n",
              "      <td>1.074879e+02</td>\n",
              "      <td>3.275126e+01</td>\n",
              "      <td>-4.952973e+00</td>\n",
              "      <td>3.585079e+00</td>\n",
              "      <td>3.602232e+00</td>\n",
              "      <td>-4.886286e+00</td>\n",
              "      <td>3.573597e+00</td>\n",
              "      <td>3.786931e+00</td>\n",
              "      <td>1.480977e-03</td>\n",
              "      <td>3.974584e-02</td>\n",
              "      <td>-3.182852e-03</td>\n",
              "      <td>2.114699e+01</td>\n",
              "      <td>-1.396831e+01</td>\n",
              "      <td>-2.437034e+01</td>\n",
              "      <td>5.658328e-01</td>\n",
              "      <td>-4.135042e-02</td>\n",
              "      <td>-1.213226e-01</td>\n",
              "      <td>-4.817431e-02</td>\n",
              "      <td>3.617908e+01</td>\n",
              "      <td>3.333707e-01</td>\n",
              "      <td>8.152683e+00</td>\n",
              "      <td>-1.450553e+00</td>\n",
              "      <td>1.993197e-01</td>\n",
              "      <td>8.148290e+00</td>\n",
              "      <td>-1.121257e+00</td>\n",
              "      <td>5.575033e-03</td>\n",
              "      <td>1.174622e-02</td>\n",
              "      <td>-2.290167e-02</td>\n",
              "      <td>4.470582e+00</td>\n",
              "      <td>-3.065308e+01</td>\n",
              "      <td>4.585338e+00</td>\n",
              "      <td>5.346176e-01</td>\n",
              "      <td>-3.954376e-01</td>\n",
              "      <td>8.782836e-02</td>\n",
              "      <td>8.694449e-02</td>\n",
              "      <td>3.371194e+01</td>\n",
              "      <td>9.408387e+00</td>\n",
              "      <td>-1.531939e-01</td>\n",
              "      <td>-2.592432e+00</td>\n",
              "      <td>9.378478e+00</td>\n",
              "      <td>-4.550154e-02</td>\n",
              "      <td>-2.174212e+00</td>\n",
              "      <td>9.960309e-03</td>\n",
              "      <td>-3.652767e-02</td>\n",
              "      <td>6.658552e-03</td>\n",
              "      <td>-3.158971e+01</td>\n",
              "      <td>1.396960e+00</td>\n",
              "      <td>1.725039e+01</td>\n",
              "      <td>3.812299e-01</td>\n",
              "      <td>-8.998437e-03</td>\n",
              "      <td>3.023855e-01</td>\n",
              "      <td>-5.698127e-02</td>\n",
              "      <td>1.045664e+02</td>\n",
              "    </tr>\n",
              "    <tr>\n",
              "      <th>std</th>\n",
              "      <td>1.098026e+03</td>\n",
              "      <td>6.174789e+00</td>\n",
              "      <td>2.699215e+01</td>\n",
              "      <td>1.794162e+00</td>\n",
              "      <td>6.239663e+00</td>\n",
              "      <td>6.893705e+00</td>\n",
              "      <td>3.956957e+00</td>\n",
              "      <td>6.245972e+00</td>\n",
              "      <td>6.589666e+00</td>\n",
              "      <td>3.942860e+00</td>\n",
              "      <td>1.332331e+00</td>\n",
              "      <td>9.562312e-01</td>\n",
              "      <td>1.598818e+00</td>\n",
              "      <td>2.380841e+01</td>\n",
              "      <td>2.423180e+01</td>\n",
              "      <td>2.007772e+01</td>\n",
              "      <td>3.086261e-01</td>\n",
              "      <td>3.631710e-01</td>\n",
              "      <td>3.333906e-01</td>\n",
              "      <td>5.681133e-01</td>\n",
              "      <td>1.495082e+00</td>\n",
              "      <td>1.742569e+00</td>\n",
              "      <td>4.889461e+00</td>\n",
              "      <td>4.762784e+00</td>\n",
              "      <td>1.738353e+00</td>\n",
              "      <td>4.849979e+00</td>\n",
              "      <td>4.770992e+00</td>\n",
              "      <td>4.498953e-01</td>\n",
              "      <td>5.644552e-01</td>\n",
              "      <td>3.173265e-01</td>\n",
              "      <td>1.704069e+01</td>\n",
              "      <td>1.753230e+01</td>\n",
              "      <td>2.159140e+01</td>\n",
              "      <td>3.007659e-01</td>\n",
              "      <td>3.009480e-01</td>\n",
              "      <td>4.746242e-01</td>\n",
              "      <td>3.691103e-01</td>\n",
              "      <td>1.092343e+00</td>\n",
              "      <td>6.528143e+00</td>\n",
              "      <td>7.739433e+00</td>\n",
              "      <td>3.936154e+00</td>\n",
              "      <td>6.067634e+00</td>\n",
              "      <td>7.190996e+00</td>\n",
              "      <td>3.475429e+00</td>\n",
              "      <td>1.126903e+00</td>\n",
              "      <td>6.383285e-01</td>\n",
              "      <td>2.012898e+00</td>\n",
              "      <td>1.834639e+01</td>\n",
              "      <td>2.168678e+01</td>\n",
              "      <td>1.970652e+01</td>\n",
              "      <td>3.036803e-01</td>\n",
              "      <td>5.714335e-01</td>\n",
              "      <td>3.326730e-01</td>\n",
              "      <td>4.800388e-01</td>\n",
              "      <td>2.333052e+00</td>\n",
              "    </tr>\n",
              "    <tr>\n",
              "      <th>min</th>\n",
              "      <td>0.000000e+00</td>\n",
              "      <td>1.000000e+00</td>\n",
              "      <td>5.700000e+01</td>\n",
              "      <td>2.487500e+01</td>\n",
              "      <td>-1.453670e+02</td>\n",
              "      <td>-1.043010e+02</td>\n",
              "      <td>-1.014520e+02</td>\n",
              "      <td>-6.121470e+01</td>\n",
              "      <td>-6.184170e+01</td>\n",
              "      <td>-6.193470e+01</td>\n",
              "      <td>-2.813540e+01</td>\n",
              "      <td>-1.784950e+01</td>\n",
              "      <td>-1.426470e+01</td>\n",
              "      <td>-1.039410e+02</td>\n",
              "      <td>-2.000430e+02</td>\n",
              "      <td>-1.649370e+02</td>\n",
              "      <td>1.364250e-07</td>\n",
              "      <td>-9.989440e-01</td>\n",
              "      <td>-9.749160e-01</td>\n",
              "      <td>-9.993260e-01</td>\n",
              "      <td>3.193750e+01</td>\n",
              "      <td>-3.920340e+01</td>\n",
              "      <td>-4.692460e+01</td>\n",
              "      <td>-8.016680e+01</td>\n",
              "      <td>-3.420400e+01</td>\n",
              "      <td>-4.825720e+01</td>\n",
              "      <td>-6.180410e+01</td>\n",
              "      <td>-1.252510e+01</td>\n",
              "      <td>-5.068580e+00</td>\n",
              "      <td>-4.404200e+00</td>\n",
              "      <td>-7.006270e+01</td>\n",
              "      <td>-1.224800e+02</td>\n",
              "      <td>-6.668470e+01</td>\n",
              "      <td>7.710670e-08</td>\n",
              "      <td>-9.994670e-01</td>\n",
              "      <td>-9.996350e-01</td>\n",
              "      <td>-8.801950e-01</td>\n",
              "      <td>3.000000e+01</td>\n",
              "      <td>-1.550680e+02</td>\n",
              "      <td>-1.574430e+02</td>\n",
              "      <td>-1.589260e+02</td>\n",
              "      <td>-6.114200e+01</td>\n",
              "      <td>-6.190640e+01</td>\n",
              "      <td>-6.231480e+01</td>\n",
              "      <td>-2.399500e+01</td>\n",
              "      <td>-1.812690e+01</td>\n",
              "      <td>-1.401960e+01</td>\n",
              "      <td>-1.728650e+02</td>\n",
              "      <td>-1.379080e+02</td>\n",
              "      <td>-1.027160e+02</td>\n",
              "      <td>1.521280e-06</td>\n",
              "      <td>-9.568760e-01</td>\n",
              "      <td>-8.768380e-01</td>\n",
              "      <td>-9.972810e-01</td>\n",
              "      <td>1.010000e+02</td>\n",
              "    </tr>\n",
              "    <tr>\n",
              "      <th>25%</th>\n",
              "      <td>6.580200e+02</td>\n",
              "      <td>3.000000e+00</td>\n",
              "      <td>8.600000e+01</td>\n",
              "      <td>3.168750e+01</td>\n",
              "      <td>-8.969760e+00</td>\n",
              "      <td>1.058210e+00</td>\n",
              "      <td>1.161470e+00</td>\n",
              "      <td>-8.866490e+00</td>\n",
              "      <td>1.057690e+00</td>\n",
              "      <td>1.363370e+00</td>\n",
              "      <td>-3.784182e-01</td>\n",
              "      <td>-2.240660e-01</td>\n",
              "      <td>-3.857312e-01</td>\n",
              "      <td>4.853775e+00</td>\n",
              "      <td>-2.907890e+01</td>\n",
              "      <td>-3.870343e+01</td>\n",
              "      <td>2.933980e-01</td>\n",
              "      <td>-3.091373e-01</td>\n",
              "      <td>-3.898502e-01</td>\n",
              "      <td>-5.990935e-01</td>\n",
              "      <td>3.518750e+01</td>\n",
              "      <td>-5.129543e-01</td>\n",
              "      <td>5.947307e+00</td>\n",
              "      <td>-4.206803e+00</td>\n",
              "      <td>-6.317245e-01</td>\n",
              "      <td>5.903117e+00</td>\n",
              "      <td>-3.878583e+00</td>\n",
              "      <td>-1.096140e-01</td>\n",
              "      <td>-1.363850e-01</td>\n",
              "      <td>-1.312003e-01</td>\n",
              "      <td>-6.094660e+00</td>\n",
              "      <td>-3.991250e+01</td>\n",
              "      <td>-9.829978e+00</td>\n",
              "      <td>2.973540e-01</td>\n",
              "      <td>-6.313840e-01</td>\n",
              "      <td>-2.982327e-01</td>\n",
              "      <td>-1.492360e-01</td>\n",
              "      <td>3.300000e+01</td>\n",
              "      <td>8.426530e+00</td>\n",
              "      <td>-2.173030e+00</td>\n",
              "      <td>-3.811010e+00</td>\n",
              "      <td>8.398308e+00</td>\n",
              "      <td>-2.073670e+00</td>\n",
              "      <td>-3.398540e+00</td>\n",
              "      <td>-2.086955e-01</td>\n",
              "      <td>-1.066083e-01</td>\n",
              "      <td>-4.416998e-01</td>\n",
              "      <td>-4.171632e+01</td>\n",
              "      <td>-1.248465e+01</td>\n",
              "      <td>3.794668e+00</td>\n",
              "      <td>1.426340e-01</td>\n",
              "      <td>-6.129580e-01</td>\n",
              "      <td>4.914657e-03</td>\n",
              "      <td>-5.378710e-01</td>\n",
              "      <td>1.020000e+02</td>\n",
              "    </tr>\n",
              "    <tr>\n",
              "      <th>50%</th>\n",
              "      <td>1.392520e+03</td>\n",
              "      <td>6.000000e+00</td>\n",
              "      <td>1.040000e+02</td>\n",
              "      <td>3.312500e+01</td>\n",
              "      <td>-5.450280e+00</td>\n",
              "      <td>3.526550e+00</td>\n",
              "      <td>3.431410e+00</td>\n",
              "      <td>-5.378515e+00</td>\n",
              "      <td>3.567850e+00</td>\n",
              "      <td>3.662640e+00</td>\n",
              "      <td>-5.993640e-03</td>\n",
              "      <td>5.932665e-03</td>\n",
              "      <td>-5.635270e-03</td>\n",
              "      <td>2.295240e+01</td>\n",
              "      <td>-1.612830e+01</td>\n",
              "      <td>-2.387340e+01</td>\n",
              "      <td>5.820525e-01</td>\n",
              "      <td>0.000000e+00</td>\n",
              "      <td>-1.081540e-01</td>\n",
              "      <td>0.000000e+00</td>\n",
              "      <td>3.643750e+01</td>\n",
              "      <td>4.398730e-01</td>\n",
              "      <td>9.197460e+00</td>\n",
              "      <td>-1.462170e+00</td>\n",
              "      <td>3.089465e-01</td>\n",
              "      <td>9.137370e+00</td>\n",
              "      <td>-1.105510e+00</td>\n",
              "      <td>2.695790e-03</td>\n",
              "      <td>6.823410e-04</td>\n",
              "      <td>-1.689240e-02</td>\n",
              "      <td>2.710045e+00</td>\n",
              "      <td>-3.344450e+01</td>\n",
              "      <td>2.966885e+00</td>\n",
              "      <td>4.943180e-01</td>\n",
              "      <td>-4.546715e-01</td>\n",
              "      <td>4.467040e-02</td>\n",
              "      <td>9.380170e-02</td>\n",
              "      <td>3.406250e+01</td>\n",
              "      <td>9.538370e+00</td>\n",
              "      <td>-2.906860e-01</td>\n",
              "      <td>-2.419090e+00</td>\n",
              "      <td>9.551120e+00</td>\n",
              "      <td>-2.252230e-01</td>\n",
              "      <td>-1.991685e+00</td>\n",
              "      <td>4.606210e-03</td>\n",
              "      <td>-3.950165e-03</td>\n",
              "      <td>-2.327570e-03</td>\n",
              "      <td>-3.400820e+01</td>\n",
              "      <td>7.769370e-01</td>\n",
              "      <td>1.876755e+01</td>\n",
              "      <td>2.838390e-01</td>\n",
              "      <td>0.000000e+00</td>\n",
              "      <td>3.055330e-01</td>\n",
              "      <td>0.000000e+00</td>\n",
              "      <td>1.050000e+02</td>\n",
              "    </tr>\n",
              "    <tr>\n",
              "      <th>75%</th>\n",
              "      <td>2.582920e+03</td>\n",
              "      <td>1.300000e+01</td>\n",
              "      <td>1.240000e+02</td>\n",
              "      <td>3.406250e+01</td>\n",
              "      <td>-9.577087e-01</td>\n",
              "      <td>6.453505e+00</td>\n",
              "      <td>6.531522e+00</td>\n",
              "      <td>-9.058870e-01</td>\n",
              "      <td>6.458670e+00</td>\n",
              "      <td>6.775980e+00</td>\n",
              "      <td>3.360765e-01</td>\n",
              "      <td>2.675663e-01</td>\n",
              "      <td>3.680633e-01</td>\n",
              "      <td>3.940460e+01</td>\n",
              "      <td>2.146630e+00</td>\n",
              "      <td>-1.117830e+01</td>\n",
              "      <td>8.331703e-01</td>\n",
              "      <td>2.082065e-01</td>\n",
              "      <td>1.020103e-01</td>\n",
              "      <td>4.200193e-01</td>\n",
              "      <td>3.743750e+01</td>\n",
              "      <td>1.126242e+00</td>\n",
              "      <td>9.776510e+00</td>\n",
              "      <td>5.210380e-01</td>\n",
              "      <td>9.736110e-01</td>\n",
              "      <td>9.797060e+00</td>\n",
              "      <td>9.305642e-01</td>\n",
              "      <td>1.121532e-01</td>\n",
              "      <td>1.655330e-01</td>\n",
              "      <td>8.410437e-02</td>\n",
              "      <td>1.391420e+01</td>\n",
              "      <td>-2.401950e+01</td>\n",
              "      <td>2.022393e+01</td>\n",
              "      <td>7.466660e-01</td>\n",
              "      <td>-1.148600e-01</td>\n",
              "      <td>5.527900e-01</td>\n",
              "      <td>4.176862e-01</td>\n",
              "      <td>3.450000e+01</td>\n",
              "      <td>1.029332e+01</td>\n",
              "      <td>1.780233e+00</td>\n",
              "      <td>-1.042910e+00</td>\n",
              "      <td>1.028590e+01</td>\n",
              "      <td>1.921310e+00</td>\n",
              "      <td>-5.946650e-01</td>\n",
              "      <td>1.310400e-01</td>\n",
              "      <td>1.162570e-01</td>\n",
              "      <td>9.181807e-02</td>\n",
              "      <td>-1.790600e+01</td>\n",
              "      <td>1.783892e+01</td>\n",
              "      <td>3.121160e+01</td>\n",
              "      <td>5.600202e-01</td>\n",
              "      <td>6.153723e-01</td>\n",
              "      <td>5.960633e-01</td>\n",
              "      <td>4.382870e-01</td>\n",
              "      <td>1.070000e+02</td>\n",
              "    </tr>\n",
              "    <tr>\n",
              "      <th>max</th>\n",
              "      <td>4.190480e+03</td>\n",
              "      <td>2.400000e+01</td>\n",
              "      <td>2.020000e+02</td>\n",
              "      <td>3.550000e+01</td>\n",
              "      <td>6.285960e+01</td>\n",
              "      <td>1.556990e+02</td>\n",
              "      <td>1.577600e+02</td>\n",
              "      <td>5.282140e+01</td>\n",
              "      <td>6.225980e+01</td>\n",
              "      <td>6.192340e+01</td>\n",
              "      <td>2.641580e+01</td>\n",
              "      <td>2.307790e+01</td>\n",
              "      <td>1.433840e+01</td>\n",
              "      <td>1.375440e+02</td>\n",
              "      <td>1.094870e+02</td>\n",
              "      <td>1.017580e+02</td>\n",
              "      <td>1.000000e+00</td>\n",
              "      <td>9.993700e-01</td>\n",
              "      <td>9.764060e-01</td>\n",
              "      <td>9.996770e-01</td>\n",
              "      <td>3.856250e+01</td>\n",
              "      <td>2.752230e+01</td>\n",
              "      <td>1.535820e+02</td>\n",
              "      <td>4.406930e+01</td>\n",
              "      <td>2.573610e+01</td>\n",
              "      <td>6.193730e+01</td>\n",
              "      <td>3.696760e+01</td>\n",
              "      <td>1.851590e+01</td>\n",
              "      <td>6.015280e+00</td>\n",
              "      <td>3.052590e+00</td>\n",
              "      <td>8.047390e+01</td>\n",
              "      <td>4.025890e+01</td>\n",
              "      <td>9.635850e+01</td>\n",
              "      <td>1.000000e+00</td>\n",
              "      <td>9.992700e-01</td>\n",
              "      <td>9.968640e-01</td>\n",
              "      <td>9.004420e-01</td>\n",
              "      <td>3.543750e+01</td>\n",
              "      <td>1.572320e+02</td>\n",
              "      <td>1.572930e+02</td>\n",
              "      <td>1.588720e+02</td>\n",
              "      <td>6.196930e+01</td>\n",
              "      <td>6.204900e+01</td>\n",
              "      <td>6.093570e+01</td>\n",
              "      <td>1.742040e+01</td>\n",
              "      <td>1.358820e+01</td>\n",
              "      <td>1.652880e+01</td>\n",
              "      <td>9.155160e+01</td>\n",
              "      <td>9.424780e+01</td>\n",
              "      <td>1.469000e+02</td>\n",
              "      <td>1.000000e+00</td>\n",
              "      <td>9.595380e-01</td>\n",
              "      <td>9.514820e-01</td>\n",
              "      <td>9.961050e-01</td>\n",
              "      <td>1.090000e+02</td>\n",
              "    </tr>\n",
              "  </tbody>\n",
              "</table>\n",
              "</div>\n",
              "      <button class=\"colab-df-convert\" onclick=\"convertToInteractive('df-a697018e-6f26-4385-9a0c-43ad160b0668')\"\n",
              "              title=\"Convert this dataframe to an interactive table.\"\n",
              "              style=\"display:none;\">\n",
              "        \n",
              "  <svg xmlns=\"http://www.w3.org/2000/svg\" height=\"24px\"viewBox=\"0 0 24 24\"\n",
              "       width=\"24px\">\n",
              "    <path d=\"M0 0h24v24H0V0z\" fill=\"none\"/>\n",
              "    <path d=\"M18.56 5.44l.94 2.06.94-2.06 2.06-.94-2.06-.94-.94-2.06-.94 2.06-2.06.94zm-11 1L8.5 8.5l.94-2.06 2.06-.94-2.06-.94L8.5 2.5l-.94 2.06-2.06.94zm10 10l.94 2.06.94-2.06 2.06-.94-2.06-.94-.94-2.06-.94 2.06-2.06.94z\"/><path d=\"M17.41 7.96l-1.37-1.37c-.4-.4-.92-.59-1.43-.59-.52 0-1.04.2-1.43.59L10.3 9.45l-7.72 7.72c-.78.78-.78 2.05 0 2.83L4 21.41c.39.39.9.59 1.41.59.51 0 1.02-.2 1.41-.59l7.78-7.78 2.81-2.81c.8-.78.8-2.07 0-2.86zM5.41 20L4 18.59l7.72-7.72 1.47 1.35L5.41 20z\"/>\n",
              "  </svg>\n",
              "      </button>\n",
              "      \n",
              "  <style>\n",
              "    .colab-df-container {\n",
              "      display:flex;\n",
              "      flex-wrap:wrap;\n",
              "      gap: 12px;\n",
              "    }\n",
              "\n",
              "    .colab-df-convert {\n",
              "      background-color: #E8F0FE;\n",
              "      border: none;\n",
              "      border-radius: 50%;\n",
              "      cursor: pointer;\n",
              "      display: none;\n",
              "      fill: #1967D2;\n",
              "      height: 32px;\n",
              "      padding: 0 0 0 0;\n",
              "      width: 32px;\n",
              "    }\n",
              "\n",
              "    .colab-df-convert:hover {\n",
              "      background-color: #E2EBFA;\n",
              "      box-shadow: 0px 1px 2px rgba(60, 64, 67, 0.3), 0px 1px 3px 1px rgba(60, 64, 67, 0.15);\n",
              "      fill: #174EA6;\n",
              "    }\n",
              "\n",
              "    [theme=dark] .colab-df-convert {\n",
              "      background-color: #3B4455;\n",
              "      fill: #D2E3FC;\n",
              "    }\n",
              "\n",
              "    [theme=dark] .colab-df-convert:hover {\n",
              "      background-color: #434B5C;\n",
              "      box-shadow: 0px 1px 3px 1px rgba(0, 0, 0, 0.15);\n",
              "      filter: drop-shadow(0px 1px 2px rgba(0, 0, 0, 0.3));\n",
              "      fill: #FFFFFF;\n",
              "    }\n",
              "  </style>\n",
              "\n",
              "      <script>\n",
              "        const buttonEl =\n",
              "          document.querySelector('#df-a697018e-6f26-4385-9a0c-43ad160b0668 button.colab-df-convert');\n",
              "        buttonEl.style.display =\n",
              "          google.colab.kernel.accessAllowed ? 'block' : 'none';\n",
              "\n",
              "        async function convertToInteractive(key) {\n",
              "          const element = document.querySelector('#df-a697018e-6f26-4385-9a0c-43ad160b0668');\n",
              "          const dataTable =\n",
              "            await google.colab.kernel.invokeFunction('convertToInteractive',\n",
              "                                                     [key], {});\n",
              "          if (!dataTable) return;\n",
              "\n",
              "          const docLinkHtml = 'Like what you see? Visit the ' +\n",
              "            '<a target=\"_blank\" href=https://colab.research.google.com/notebooks/data_table.ipynb>data table notebook</a>'\n",
              "            + ' to learn more about interactive tables.';\n",
              "          element.innerHTML = '';\n",
              "          dataTable['output_type'] = 'display_data';\n",
              "          await google.colab.output.renderOutput(dataTable, element);\n",
              "          const docLink = document.createElement('div');\n",
              "          docLink.innerHTML = docLinkHtml;\n",
              "          element.appendChild(docLink);\n",
              "        }\n",
              "      </script>\n",
              "    </div>\n",
              "  </div>\n",
              "  "
            ],
            "text/plain": [
              "       timestamp (s)    activityID  ...  ankle orientation4    subject_id\n",
              "count   1.942872e+06  1.942872e+06  ...        1.942872e+06  1.942872e+06\n",
              "mean    1.621965e+03  8.081830e+00  ...       -5.698127e-02  1.045664e+02\n",
              "std     1.098026e+03  6.174789e+00  ...        4.800388e-01  2.333052e+00\n",
              "min     0.000000e+00  1.000000e+00  ...       -9.972810e-01  1.010000e+02\n",
              "25%     6.580200e+02  3.000000e+00  ...       -5.378710e-01  1.020000e+02\n",
              "50%     1.392520e+03  6.000000e+00  ...        0.000000e+00  1.050000e+02\n",
              "75%     2.582920e+03  1.300000e+01  ...        4.382870e-01  1.070000e+02\n",
              "max     4.190480e+03  2.400000e+01  ...        9.961050e-01  1.090000e+02\n",
              "\n",
              "[8 rows x 55 columns]"
            ]
          },
          "metadata": {},
          "execution_count": 9
        }
      ],
      "source": [
        "df.describe()"
      ]
    },
    {
      "cell_type": "code",
      "execution_count": null,
      "metadata": {
        "colab": {
          "base_uri": "https://localhost:8080/"
        },
        "id": "7jpk0_7Fyei9",
        "outputId": "8d0c503c-4989-4056-eb02-726e0b57b340"
      },
      "outputs": [
        {
          "output_type": "execute_result",
          "data": {
            "text/plain": [
              "0"
            ]
          },
          "metadata": {},
          "execution_count": 10
        }
      ],
      "source": [
        "#Checking for duplicates\n",
        "df.duplicated().sum()"
      ]
    },
    {
      "cell_type": "code",
      "execution_count": null,
      "metadata": {
        "colab": {
          "base_uri": "https://localhost:8080/"
        },
        "id": "wy1EtgrkPzV5",
        "outputId": "6a4a49da-175e-496e-80c5-e86ebf783013"
      },
      "outputs": [
        {
          "output_type": "stream",
          "name": "stdout",
          "text": [
            "Shape of the dataframe:  (1942872, 55)\n",
            "Size of the dataframe:  106857960\n",
            "Number of columns in the dataframe:  55\n",
            "Number of uniqe ids in the dataframe:  9\n",
            "Numbe of uniqe activityIDs in the dataframe:  12\n"
          ]
        }
      ],
      "source": [
        "print('Shape of the dataframe: ', df.shape)\n",
        "print('Size of the dataframe: ', df.size)\n",
        "print('Number of columns in the dataframe: ', len(df.columns))\n",
        "subjectID_df = df.groupby(['subject_id']).mean().reset_index()\n",
        "print('Number of uniqe ids in the dataframe: ', len(subjectID_df))\n",
        "activity_df = df.groupby(['activityID']).mean().reset_index()\n",
        "print('Numbe of uniqe activityIDs in the dataframe: ',len(activity_df))"
      ]
    },
    {
      "cell_type": "markdown",
      "metadata": {
        "id": "itMB8DNanyiv"
      },
      "source": [
        "### Data Visualizations"
      ]
    },
    {
      "cell_type": "markdown",
      "metadata": {
        "id": "nV-iTXrYY2hA"
      },
      "source": [
        "In this part, the dataframe is thoroughly studied and various aspects are visualised using bar graphs and line graphs. To avoid writing the same code for all the visualizations, a function called `draw_plot` is developed which takes groupby column name, y_val and y_val1 variable for the graph, attribute,colornm and Title for the graph as inputs and returns the bar graph as output. Below are a few observations from the visualizations of the data.\n",
        "\n",
        "1.From `Number of samples by subject` graph, it was evident that subject_id 109 has very less samples when compared to other subjects and subject 105 has more samples.\n",
        "\n",
        "2.From `Number of samples by activityID` graph, activity with ID 24, which is rope_jumping has less samples comparatively and activities 4(walking) and 17(ironing) has almost same and has more samples comparatively.\n",
        "\n",
        "3.`Average Heartrate by subject` graph tells us that, subject 109 has higher rates of heart beat through the study and all the other subjects has similar heart rates.\n",
        "\n",
        "4.`Average Heartrate by activityID` graph depicts that, activities 5(running) and 24(rope_jumping) has higher hear rates and activities 1(lying) and 2(sitting) has lower heart rates. It is kind of obvious because, activities like running and rope jumping requires a lot of physical effort and thus heart rates are high, whereas, for lying and sitting, it doesn’t require much effort comparatively and hence heart rates are relatively less.\n",
        "\n",
        "5.From `Average activity by subject` graph, subject 102 has done comparatively high activity and subject 109 has done less activity. The amount of activity here is specified by taking `timestamp (s)` column into consideration.\n",
        "\n",
        "6.From `Average activity time by activityID` graph, it was found that individuals has done activity 5(running) and 24(rope_jumping) comparatively high and activities 1(lying) and 2(sitting) found to be less."
      ]
    },
    {
      "cell_type": "code",
      "execution_count": null,
      "metadata": {
        "id": "4g_YUAsh9oWM"
      },
      "outputs": [],
      "source": [
        "def draw_plot(groupby_colname,y_val,y_val1,attribute,colornm,Title ):\n",
        "  plt.rcParams.update({'font.size': 14})\n",
        "  if attribute=='mean':\n",
        "    sample_df=df.groupby([groupby_colname]).mean().reset_index()\n",
        "  elif attribute=='count':\n",
        "    sample_df=df.groupby([groupby_colname]).count().reset_index()\n",
        "    #sample_df['Num of samples']=sample_df[y_val]\n",
        "  return sample_df.plot.bar(x=groupby_colname,y=y_val, color=colornm,figsize=(10,7),ylabel=y_val1, title=Title,legend=None)"
      ]
    },
    {
      "cell_type": "code",
      "execution_count": null,
      "metadata": {
        "colab": {
          "base_uri": "https://localhost:8080/",
          "height": 500
        },
        "id": "QmS9nXh0LLay",
        "outputId": "4b425bde-32c6-4f12-88e6-38dc18e9e794"
      },
      "outputs": [
        {
          "output_type": "execute_result",
          "data": {
            "text/plain": [
              "<matplotlib.axes._subplots.AxesSubplot at 0x7f4fa5cf8cd0>"
            ]
          },
          "metadata": {},
          "execution_count": 13
        },
        {
          "output_type": "display_data",
          "data": {
            "image/png": "[encoded data removed]",
            "text/plain": [
              "<Figure size 720x504 with 1 Axes>"
            ]
          },
          "metadata": {
            "needs_background": "light"
          }
        }
      ],
      "source": [
        "draw_plot('subject_id','activityID','Num of samples','count','tan','Number of samples by subject')"
      ]
    },
    {
      "cell_type": "code",
      "execution_count": null,
      "metadata": {
        "colab": {
          "base_uri": "https://localhost:8080/",
          "height": 491
        },
        "id": "CRMP5oT2OSan",
        "outputId": "8072e64f-a9d5-48f0-ac64-c1ea6de6cbe3"
      },
      "outputs": [
        {
          "output_type": "execute_result",
          "data": {
            "text/plain": [
              "<matplotlib.axes._subplots.AxesSubplot at 0x7f4fa490f3d0>"
            ]
          },
          "metadata": {},
          "execution_count": 14
        },
        {
          "output_type": "display_data",
          "data": {
            "image/png": "[encoded data removed]",
            "text/plain": [
              "<Figure size 720x504 with 1 Axes>"
            ]
          },
          "metadata": {
            "needs_background": "light"
          }
        }
      ],
      "source": [
        "draw_plot('activityID','subject_id','Num of samples','count','slategrey','Number of samples by activityID')"
      ]
    },
    {
      "cell_type": "code",
      "execution_count": null,
      "metadata": {
        "colab": {
          "base_uri": "https://localhost:8080/",
          "height": 500
        },
        "id": "aMMRHFy_BLtJ",
        "outputId": "526ee022-953c-4928-faae-b8d030b35700"
      },
      "outputs": [
        {
          "output_type": "execute_result",
          "data": {
            "text/plain": [
              "<matplotlib.axes._subplots.AxesSubplot at 0x7f4fa43fa390>"
            ]
          },
          "metadata": {},
          "execution_count": 15
        },
        {
          "output_type": "display_data",
          "data": {
            "image/png": "[encoded data removed]",
            "text/plain": [
              "<Figure size 720x504 with 1 Axes>"
            ]
          },
          "metadata": {
            "needs_background": "light"
          }
        }
      ],
      "source": [
        "draw_plot('subject_id','heart rate (bpm)','heart rate (bpm)','mean','plum','Average Heartrate by subject')"
      ]
    },
    {
      "cell_type": "code",
      "execution_count": null,
      "metadata": {
        "colab": {
          "base_uri": "https://localhost:8080/",
          "height": 491
        },
        "id": "j22ADbNRB5K_",
        "outputId": "0c79cbc0-da52-4e4c-a40b-f1c57f66c72b"
      },
      "outputs": [
        {
          "output_type": "execute_result",
          "data": {
            "text/plain": [
              "<matplotlib.axes._subplots.AxesSubplot at 0x7f4fa437ef50>"
            ]
          },
          "metadata": {},
          "execution_count": 16
        },
        {
          "output_type": "display_data",
          "data": {
            "image/png": "[encoded data removed]",
            "text/plain": [
              "<Figure size 720x504 with 1 Axes>"
            ]
          },
          "metadata": {
            "needs_background": "light"
          }
        }
      ],
      "source": [
        "draw_plot('activityID','heart rate (bpm)','heart rate (bpm)','mean','steelblue','Average Heartrate by activityID')"
      ]
    },
    {
      "cell_type": "code",
      "execution_count": null,
      "metadata": {
        "colab": {
          "base_uri": "https://localhost:8080/",
          "height": 500
        },
        "id": "B7AG96bmC5Y-",
        "outputId": "5b75fa18-6e18-4b5e-8e6c-08f4641a5a07"
      },
      "outputs": [
        {
          "output_type": "execute_result",
          "data": {
            "text/plain": [
              "<matplotlib.axes._subplots.AxesSubplot at 0x7f4fa42a9810>"
            ]
          },
          "metadata": {},
          "execution_count": 17
        },
        {
          "output_type": "display_data",
          "data": {
            "image/png": "[encoded data removed]",
            "text/plain": [
              "<Figure size 720x504 with 1 Axes>"
            ]
          },
          "metadata": {
            "needs_background": "light"
          }
        }
      ],
      "source": [
        "draw_plot('subject_id','timestamp (s)','timestamp (s)','mean','darkseagreen','Average activity by subject')"
      ]
    },
    {
      "cell_type": "code",
      "execution_count": null,
      "metadata": {
        "colab": {
          "base_uri": "https://localhost:8080/",
          "height": 491
        },
        "id": "VaQN-aPaHdED",
        "outputId": "68ab860f-98db-41ea-98b6-4ef5850a8fc5"
      },
      "outputs": [
        {
          "output_type": "execute_result",
          "data": {
            "text/plain": [
              "<matplotlib.axes._subplots.AxesSubplot at 0x7f4fa4245610>"
            ]
          },
          "metadata": {},
          "execution_count": 18
        },
        {
          "output_type": "display_data",
          "data": {
            "image/png": "[encoded data removed]",
            "text/plain": [
              "<Figure size 720x504 with 1 Axes>"
            ]
          },
          "metadata": {
            "needs_background": "light"
          }
        }
      ],
      "source": [
        "draw_plot('activityID','timestamp (s)','timestamp (s)','mean','darkkhaki','Average activity time by activityID')"
      ]
    },
    {
      "cell_type": "markdown",
      "metadata": {
        "id": "7q2rx8uyY2hB"
      },
      "source": [
        "Few more visualizations are done on hand, chest and ankle temperatures of the subjects, using line graphs. Below are the few observations.\n",
        "\n",
        "1.From `Avg temperatures by Subjects` graph, it was found that chest temperatures are higher for all subjects.\n",
        "\n",
        "2.Subjects 101,102,103,104,109 has less hand temperatures and 105,106,107,108 has overlapping temperatures for ankle and hand.\n",
        "\n",
        "3.`Avg Tempatures by activity` graph shows that for all the activities the chest temperatures are more and hand temperatures are lower."
      ]
    },
    {
      "cell_type": "code",
      "execution_count": null,
      "metadata": {
        "colab": {
          "base_uri": "https://localhost:8080/",
          "height": 554
        },
        "id": "33aUmU-_qcH1",
        "outputId": "d1604a02-7d42-4ec8-b081-42c94dba6fe7"
      },
      "outputs": [
        {
          "output_type": "execute_result",
          "data": {
            "text/plain": [
              "[<matplotlib.axis.XTick at 0x7f4fa416ea10>,\n",
              " <matplotlib.axis.XTick at 0x7f4fa416e9d0>,\n",
              " <matplotlib.axis.XTick at 0x7f4fa4186a90>,\n",
              " <matplotlib.axis.XTick at 0x7f4fa41a3290>,\n",
              " <matplotlib.axis.XTick at 0x7f4fa4138450>,\n",
              " <matplotlib.axis.XTick at 0x7f4fa4138990>,\n",
              " <matplotlib.axis.XTick at 0x7f4fa4138f10>,\n",
              " <matplotlib.axis.XTick at 0x7f4fa413f490>,\n",
              " <matplotlib.axis.XTick at 0x7f4fa413f9d0>]"
            ]
          },
          "metadata": {},
          "execution_count": 19
        },
        {
          "output_type": "display_data",
          "data": {
            "image/png": "[encoded data removed]",
            "text/plain": [
              "<Figure size 1440x432 with 1 Axes>"
            ]
          },
          "metadata": {
            "needs_background": "light"
          }
        }
      ],
      "source": [
        "temperature_df = pd.DataFrame()\n",
        "temperature_df['hand'] = subjectID_df[' hand temperature (°C)']\n",
        "temperature_df['chest'] = subjectID_df[' chest temperature (°C)']\n",
        "temperature_df['ankle'] = subjectID_df[' ankle temperature (°C)']\n",
        "\n",
        "ax = temperature_df.plot(kind='line', figsize=(20,6), title='Avg Tempatures by Subjects')\n",
        "ax.set_xticklabels(subjectID_df['subject_id'])\n",
        "ax.legend(fontsize = 16)\n",
        "ax.set_xticks(np.arange(len(temperature_df)))"
      ]
    },
    {
      "cell_type": "code",
      "execution_count": null,
      "metadata": {
        "colab": {
          "base_uri": "https://localhost:8080/",
          "height": 606
        },
        "id": "-ZfFSnkrTjCG",
        "outputId": "6478ef3a-a55b-4674-b9e6-5a3a245a6bcc"
      },
      "outputs": [
        {
          "output_type": "execute_result",
          "data": {
            "text/plain": [
              "[<matplotlib.axis.XTick at 0x7f4fa4116690>,\n",
              " <matplotlib.axis.XTick at 0x7f4fa4116250>,\n",
              " <matplotlib.axis.XTick at 0x7f4fa40ae8d0>,\n",
              " <matplotlib.axis.XTick at 0x7f4fa40d4790>,\n",
              " <matplotlib.axis.XTick at 0x7f4fa40d4dd0>,\n",
              " <matplotlib.axis.XTick at 0x7f4fa40dc3d0>,\n",
              " <matplotlib.axis.XTick at 0x7f4fa40d4950>,\n",
              " <matplotlib.axis.XTick at 0x7f4fa40cc090>,\n",
              " <matplotlib.axis.XTick at 0x7f4fa421b990>,\n",
              " <matplotlib.axis.XTick at 0x7f4fa406ae10>,\n",
              " <matplotlib.axis.XTick at 0x7f4fa406ab90>,\n",
              " <matplotlib.axis.XTick at 0x7f4fa40dcbd0>]"
            ]
          },
          "metadata": {},
          "execution_count": 20
        },
        {
          "output_type": "display_data",
          "data": {
            "image/png": "[encoded data removed]",
            "text/plain": [
              "<Figure size 1440x432 with 1 Axes>"
            ]
          },
          "metadata": {
            "needs_background": "light"
          }
        }
      ],
      "source": [
        "temperature_df = pd.DataFrame()\n",
        "temperature_df['hand'] = activity_df[' hand temperature (°C)']\n",
        "temperature_df['chest'] = activity_df[' chest temperature (°C)']\n",
        "temperature_df['ankle'] = activity_df[' ankle temperature (°C)']\n",
        "\n",
        "ax = temperature_df.plot(kind='line', figsize=(20,6), title='Avg Tempatures by activity')\n",
        "ax.set_xticklabels(activity_df['activityID'])\n",
        "ax.legend(fontsize = 16)\n",
        "ax.set_xticks(np.arange(len(temperature_df)))"
      ]
    },
    {
      "cell_type": "markdown",
      "metadata": {
        "id": "HvtcN2r3nrT-"
      },
      "source": [
        "### Principal Component Analysis(PCA)"
      ]
    },
    {
      "cell_type": "markdown",
      "metadata": {
        "id": "_qzivn98Y2hC"
      },
      "source": [
        "Principal Component Analysis, or PCA, is a dimensionality-reduction method that is frequently used to reduce the dimensionality of large data sets by transforming a large set of variables into a smaller set that retains the majority of the information in the large set.\n",
        "\n",
        "Obviously, reducing the number of variables in a data set reduces accuracy, but the trick in dimensionality reduction is to trade a little accuracy for simplicity. Because smaller data sets are easier to explore and visualise, and because machine learning algorithms can analyse data much more easily and quickly without having to deal with extraneous variables.\n",
        "\n",
        "To summarise, the idea behind PCA is to reduce the number of variables in a data set while retaining as much information as possible.\n",
        "\n",
        "This PCA is applied on the data using a function called `PCA` which takes, dataframe and number of principal components as input and returns reduced data with less dimensions as an output. This function has total of 5 steps, each step of this function is explained below.\n",
        "\n",
        "### Step by Step Explanation of PCA\n",
        "\n",
        "**1.STANDARDIZATION**\n",
        "\n",
        "This phase is used to normalise the range of continuous beginning variables so that they all contribute equally to the analysis.\n",
        "\n",
        "The importance of standardisation prior to PCA is due to the latter's sensitivity to the variances of the initial variables. That is, if the ranges of initial variables differ significantly, the variables with wider ranges will dominate over those with smaller ranges (for example, a variable ranging from 0 to 100 will dominate over a variable ranging from 0 to 1), resulting in biased results. As a result, converting the data to equivalent scales can help to avoid this issue. Subtracting the mean and dividing by the standard deviation for each value of each variable can be done mathematically.\n",
        "\n",
        "**2.COVARIANCE MATRIX COMPUTATION**\n",
        "\n",
        "The goal of this stage is to figure out how the variables in the input data set differ from the mean in relation to one another, or to discover if there is a link between them. Because variables might be highly connected to the point where they include duplicated data. We compute the covariance matrix in order to find these associations.\n",
        "\n",
        "The covariance matrix is a symmetric pxp matrix (where p is the number of dimensions) with the covariances associated with all possible pairs of the initial variables as entries.\n",
        "\n",
        "\n",
        "**3.COMPUTING THE EIGENVECTORS AND EIGENVALUES OF THE COVARIANCE MATRIX IN ORDER TO DETERMINE THE PRINCIPLES COMPONENTS**\n",
        "\n",
        "The linear algebra notions eigenvectors and eigenvalues that we need to compute from the covariance matrix in order to find the primary components of the data are eigenvectors and eigenvalues.\n",
        "\n",
        "Principal components are new variables that are created by combining or mixing the basic variables in a linear way. The new variables (i.e., principle components) are uncorrelated as a result of these combinations, and the majority of the information from the initial variables is squeezed or compressed into the first components. So, 10-dimensional data yields ten principal components, but PCA attempts to place the most information in the first component, followed by the most remaining information in the second and so on.\n",
        "\n",
        "By rejecting the components with poor information and considering the remaining components as your new variables, you can minimise dimensionality without losing much information by organising information in primary components. This is also known as Dimensionality reduction technique.\n",
        "\n",
        "Because the principal components are generated as linear combinations of the starting variables, it's vital to remember that they're less interpretable and have no meaningful meaning.\n",
        "\n",
        "**4.FEATURE VECTOR**\n",
        "\n",
        "We can identify the primary components in order of significance by computing the eigenvectors and sorting them by their eigenvalues in decreasing order, as we saw in the previous step. In this stage, we decide whether to preserve all of these components or to reject those with low eigenvalues, and then build a matrix of vectors called the Feature vector with the remaining ones.\n",
        "\n",
        "So, the feature vector is just a matrix with the eigenvectors of the components we want to maintain as columns. Because we only keep p eigenvectors (components) out of n, the final data set will only have p dimensions.\n",
        "\n",
        "**5.RECASTING THE DATA ALONG THE AXES OF THE PRIMARY COMPONENTS**\n",
        "\n",
        "Apart from standardisation, there are no changes to the data in the preceding phases; you simply select the primary components and build the feature vector, but the input data set is always in terms of the original axes (i.e., in terms of the initial variables).\n",
        "\n",
        "The goal of this phase, which is the last one, is to reorient the data from the original axes to the ones indicated by the principal components using the feature vector produced using the eigenvectors of the covariance matrix (hence the name Principal Components Analysis). This is accomplished by multiplying the original data set's transpose by the feature vector's transpose."
      ]
    },
    {
      "cell_type": "code",
      "execution_count": null,
      "metadata": {
        "id": "fg6xAK-sy_p0"
      },
      "outputs": [],
      "source": [
        "data = np.vstack([df])"
      ]
    },
    {
      "cell_type": "code",
      "execution_count": null,
      "metadata": {
        "colab": {
          "base_uri": "https://localhost:8080/"
        },
        "id": "OtUhSjyG6vRz",
        "outputId": "e0984122-e947-47c5-d84c-4472e3fd9408"
      },
      "outputs": [
        {
          "output_type": "execute_result",
          "data": {
            "text/plain": [
              "array([[ 0.00000000e+00,  1.00000000e+00,  1.07487925e+02, ...,\n",
              "         0.00000000e+00,  0.00000000e+00,  1.01000000e+02],\n",
              "       [ 1.00000000e-02,  1.00000000e+00,  1.07487925e+02, ...,\n",
              "         0.00000000e+00,  0.00000000e+00,  1.01000000e+02],\n",
              "       [ 2.00000000e-02,  1.00000000e+00,  1.07487925e+02, ...,\n",
              "         0.00000000e+00,  0.00000000e+00,  1.01000000e+02],\n",
              "       ...,\n",
              "       [ 6.38800000e+01,  2.40000000e+01,  1.62000000e+02, ...,\n",
              "         7.06161000e-01, -3.78084000e-01,  1.09000000e+02],\n",
              "       [ 6.38900000e+01,  2.40000000e+01,  1.62000000e+02, ...,\n",
              "         7.06426000e-01, -3.77733000e-01,  1.09000000e+02],\n",
              "       [ 6.39000000e+01,  2.40000000e+01,  1.62000000e+02, ...,\n",
              "         7.06526000e-01, -3.77800000e-01,  1.09000000e+02]])"
            ]
          },
          "metadata": {},
          "execution_count": 22
        }
      ],
      "source": [
        "data"
      ]
    },
    {
      "cell_type": "code",
      "execution_count": null,
      "metadata": {
        "id": "_AxCy1KAEWSJ"
      },
      "outputs": [],
      "source": [
        "def PCA(data , num_components):\n",
        "     \n",
        "    #Step-1\n",
        "    data_mean = data - data.mean(axis=0)\n",
        "     \n",
        "    #Step-2\n",
        "    cov_mat = np.cov(data_mean , rowvar = False)\n",
        "     \n",
        "    #Step-3\n",
        "    eigen_values , eigen_vectors = np.linalg.eigh(cov_mat)\n",
        "     \n",
        "    #Sorting\n",
        "    sorted_index = np.argsort(eigen_values)[::-1]\n",
        "    sorted_eigenvalue = eigen_values[sorted_index]\n",
        "    sorted_eigenvectors = eigen_vectors[:,sorted_index]\n",
        "     \n",
        "    #Step-4\n",
        "    eigenvector_subset = sorted_eigenvectors[:,0:num_components]\n",
        "     \n",
        "    #Step-5\n",
        "    data_reduced = np.dot(eigenvector_subset.transpose(),data_mean.transpose()).transpose()\n",
        "     \n",
        "    return data_reduced"
      ]
    },
    {
      "cell_type": "markdown",
      "metadata": {
        "id": "9pI4s-VlY2hD"
      },
      "source": [
        "Next step is to find out how many PCA components has maximum amount of data, so that the number can be passed to `PCA` function. This can be found out by plotting an elbow curve using `number of components`  and `cumulative explained variance` as its x and y axis. \n",
        "\n",
        "Usually, 90-98 percent of the variance will adequately explain our findings. So we could evaluate how many of those we could employ by displaying the variance ratio against the number of components. From this curve , the number of components having maximum information is determined by finding the point on x axis where the curve bends and remains constant. From the below graph, for the dataset it was found that 55 columns of data is reduced into a 10 components having maximum information of around 99% which is pretty good."
      ]
    },
    {
      "cell_type": "code",
      "execution_count": null,
      "metadata": {
        "colab": {
          "base_uri": "https://localhost:8080/",
          "height": 287
        },
        "id": "v2yKGLqe_gZl",
        "outputId": "497e0239-2796-44a0-d110-d19f0e793691"
      },
      "outputs": [
        {
          "output_type": "display_data",
          "data": {
            "image/png": "[encoded data removed]",
            "text/plain": [
              "<Figure size 432x288 with 1 Axes>"
            ]
          },
          "metadata": {
            "needs_background": "light"
          }
        }
      ],
      "source": [
        "import sklearn.decomposition as decomp\n",
        "pca = decomp.PCA().fit(data)\n",
        "plt.plot(np.cumsum(pca.explained_variance_ratio_))\n",
        "plt.xlabel('number of components')\n",
        "plt.ylabel('cumulative explained variance');"
      ]
    },
    {
      "cell_type": "code",
      "execution_count": null,
      "metadata": {
        "colab": {
          "base_uri": "https://localhost:8080/"
        },
        "id": "0Bofd5W0YAdI",
        "outputId": "18b7c6a3-4dd0-4480-c26a-94fc9c3d8086"
      },
      "outputs": [
        {
          "output_type": "execute_result",
          "data": {
            "text/plain": [
              "array([[-1620.51615567,   -57.76270885,    31.97305848, ...,\n",
              "           28.40257059,    20.06191869,   -28.10699936],\n",
              "       [-1620.51669828,   -56.9707101 ,    31.75030433, ...,\n",
              "           27.81484494,    19.33005904,   -27.7634168 ],\n",
              "       [-1620.50728349,   -56.93242981,    32.10420464, ...,\n",
              "           28.27045371,    20.09887699,   -28.70743227],\n",
              "       ...,\n",
              "       [-1556.4824542 ,   -14.0301248 ,     6.43449923, ...,\n",
              "          -36.24772598,    28.23252685,    -4.55550774],\n",
              "       [-1556.47713782,   -14.13507502,     5.27023015, ...,\n",
              "          -36.29047529,    28.23060981,    -4.83493893],\n",
              "       [-1556.466342  ,   -13.6394507 ,     5.90582292, ...,\n",
              "          -35.20141962,    28.60085468,    -5.21899382]])"
            ]
          },
          "metadata": {},
          "execution_count": 25
        }
      ],
      "source": [
        "PCA(data,10)"
      ]
    },
    {
      "cell_type": "code",
      "execution_count": null,
      "metadata": {
        "id": "CDWtXkYQeo4i"
      },
      "outputs": [],
      "source": [
        "data_reduced=PCA(data,10)"
      ]
    },
    {
      "cell_type": "markdown",
      "metadata": {
        "id": "uReOLqigY2hD"
      },
      "source": [
        "In the next step this reduced data is fed into `principal_df` named dataframe, and columns are named as 'PC1','PC2','PC3','PC4','PC5','PC6','PC7','PC8','PC9','PC10' for 10 columns of principal components. For the ease of analysis, columns 'timestamp (s)','activityID','subject_id'  from original `df` are added to the principal_df."
      ]
    },
    {
      "cell_type": "code",
      "execution_count": null,
      "metadata": {
        "id": "lNUZ8k3IB-kZ"
      },
      "outputs": [],
      "source": [
        "#Creating a Pandas DataFrame of reduced Dataset\n",
        "principal_df = pd.DataFrame(data_reduced , columns = ['PC1','PC2','PC3','PC4','PC5','PC6','PC7','PC8','PC9','PC10'])"
      ]
    },
    {
      "cell_type": "code",
      "execution_count": null,
      "metadata": {
        "id": "OLlb56GoKkv8"
      },
      "outputs": [],
      "source": [
        "principal_df['timestamp (s)'] = df['timestamp (s)'].to_numpy()\n",
        "principal_df['activityID'] = df['activityID'].to_numpy()\n",
        "principal_df['subject_id'] = df['subject_id'].to_numpy()"
      ]
    },
    {
      "cell_type": "code",
      "execution_count": null,
      "metadata": {
        "colab": {
          "base_uri": "https://localhost:8080/",
          "height": 206
        },
        "id": "VkmhYMQELcnv",
        "outputId": "684c6fa6-571c-4a53-af9c-cfeac7a59328"
      },
      "outputs": [
        {
          "output_type": "execute_result",
          "data": {
            "text/html": [
              "\n",
              "  <div id=\"df-a7f94ffb-b849-4207-a155-f547b502892e\">\n",
              "    <div class=\"colab-df-container\">\n",
              "      <div>\n",
              "<style scoped>\n",
              "    .dataframe tbody tr th:only-of-type {\n",
              "        vertical-align: middle;\n",
              "    }\n",
              "\n",
              "    .dataframe tbody tr th {\n",
              "        vertical-align: top;\n",
              "    }\n",
              "\n",
              "    .dataframe thead th {\n",
              "        text-align: right;\n",
              "    }\n",
              "</style>\n",
              "<table border=\"1\" class=\"dataframe\">\n",
              "  <thead>\n",
              "    <tr style=\"text-align: right;\">\n",
              "      <th></th>\n",
              "      <th>PC1</th>\n",
              "      <th>PC2</th>\n",
              "      <th>PC3</th>\n",
              "      <th>PC4</th>\n",
              "      <th>PC5</th>\n",
              "      <th>PC6</th>\n",
              "      <th>PC7</th>\n",
              "      <th>PC8</th>\n",
              "      <th>PC9</th>\n",
              "      <th>PC10</th>\n",
              "      <th>timestamp (s)</th>\n",
              "      <th>activityID</th>\n",
              "      <th>subject_id</th>\n",
              "    </tr>\n",
              "  </thead>\n",
              "  <tbody>\n",
              "    <tr>\n",
              "      <th>0</th>\n",
              "      <td>-1620.516156</td>\n",
              "      <td>-57.762709</td>\n",
              "      <td>31.973058</td>\n",
              "      <td>-81.114155</td>\n",
              "      <td>-55.966733</td>\n",
              "      <td>-34.304929</td>\n",
              "      <td>11.289120</td>\n",
              "      <td>28.402571</td>\n",
              "      <td>20.061919</td>\n",
              "      <td>-28.106999</td>\n",
              "      <td>0.00</td>\n",
              "      <td>1</td>\n",
              "      <td>101</td>\n",
              "    </tr>\n",
              "    <tr>\n",
              "      <th>1</th>\n",
              "      <td>-1620.516698</td>\n",
              "      <td>-56.970710</td>\n",
              "      <td>31.750304</td>\n",
              "      <td>-81.430812</td>\n",
              "      <td>-55.393760</td>\n",
              "      <td>-34.442628</td>\n",
              "      <td>10.840317</td>\n",
              "      <td>27.814845</td>\n",
              "      <td>19.330059</td>\n",
              "      <td>-27.763417</td>\n",
              "      <td>0.01</td>\n",
              "      <td>1</td>\n",
              "      <td>101</td>\n",
              "    </tr>\n",
              "    <tr>\n",
              "      <th>2</th>\n",
              "      <td>-1620.507283</td>\n",
              "      <td>-56.932430</td>\n",
              "      <td>32.104205</td>\n",
              "      <td>-80.261346</td>\n",
              "      <td>-55.178872</td>\n",
              "      <td>-34.653490</td>\n",
              "      <td>11.388406</td>\n",
              "      <td>28.270454</td>\n",
              "      <td>20.098877</td>\n",
              "      <td>-28.707432</td>\n",
              "      <td>0.02</td>\n",
              "      <td>1</td>\n",
              "      <td>101</td>\n",
              "    </tr>\n",
              "    <tr>\n",
              "      <th>3</th>\n",
              "      <td>-1620.491561</td>\n",
              "      <td>-57.291572</td>\n",
              "      <td>32.502239</td>\n",
              "      <td>-80.838640</td>\n",
              "      <td>-55.246411</td>\n",
              "      <td>-33.542292</td>\n",
              "      <td>11.147955</td>\n",
              "      <td>27.836704</td>\n",
              "      <td>19.202395</td>\n",
              "      <td>-27.446356</td>\n",
              "      <td>0.03</td>\n",
              "      <td>1</td>\n",
              "      <td>101</td>\n",
              "    </tr>\n",
              "    <tr>\n",
              "      <th>4</th>\n",
              "      <td>-1620.638780</td>\n",
              "      <td>-56.232906</td>\n",
              "      <td>31.511980</td>\n",
              "      <td>-78.500714</td>\n",
              "      <td>-55.828409</td>\n",
              "      <td>-31.289929</td>\n",
              "      <td>5.805224</td>\n",
              "      <td>31.362596</td>\n",
              "      <td>18.908832</td>\n",
              "      <td>-28.602657</td>\n",
              "      <td>0.04</td>\n",
              "      <td>1</td>\n",
              "      <td>101</td>\n",
              "    </tr>\n",
              "  </tbody>\n",
              "</table>\n",
              "</div>\n",
              "      <button class=\"colab-df-convert\" onclick=\"convertToInteractive('df-a7f94ffb-b849-4207-a155-f547b502892e')\"\n",
              "              title=\"Convert this dataframe to an interactive table.\"\n",
              "              style=\"display:none;\">\n",
              "        \n",
              "  <svg xmlns=\"http://www.w3.org/2000/svg\" height=\"24px\"viewBox=\"0 0 24 24\"\n",
              "       width=\"24px\">\n",
              "    <path d=\"M0 0h24v24H0V0z\" fill=\"none\"/>\n",
              "    <path d=\"M18.56 5.44l.94 2.06.94-2.06 2.06-.94-2.06-.94-.94-2.06-.94 2.06-2.06.94zm-11 1L8.5 8.5l.94-2.06 2.06-.94-2.06-.94L8.5 2.5l-.94 2.06-2.06.94zm10 10l.94 2.06.94-2.06 2.06-.94-2.06-.94-.94-2.06-.94 2.06-2.06.94z\"/><path d=\"M17.41 7.96l-1.37-1.37c-.4-.4-.92-.59-1.43-.59-.52 0-1.04.2-1.43.59L10.3 9.45l-7.72 7.72c-.78.78-.78 2.05 0 2.83L4 21.41c.39.39.9.59 1.41.59.51 0 1.02-.2 1.41-.59l7.78-7.78 2.81-2.81c.8-.78.8-2.07 0-2.86zM5.41 20L4 18.59l7.72-7.72 1.47 1.35L5.41 20z\"/>\n",
              "  </svg>\n",
              "      </button>\n",
              "      \n",
              "  <style>\n",
              "    .colab-df-container {\n",
              "      display:flex;\n",
              "      flex-wrap:wrap;\n",
              "      gap: 12px;\n",
              "    }\n",
              "\n",
              "    .colab-df-convert {\n",
              "      background-color: #E8F0FE;\n",
              "      border: none;\n",
              "      border-radius: 50%;\n",
              "      cursor: pointer;\n",
              "      display: none;\n",
              "      fill: #1967D2;\n",
              "      height: 32px;\n",
              "      padding: 0 0 0 0;\n",
              "      width: 32px;\n",
              "    }\n",
              "\n",
              "    .colab-df-convert:hover {\n",
              "      background-color: #E2EBFA;\n",
              "      box-shadow: 0px 1px 2px rgba(60, 64, 67, 0.3), 0px 1px 3px 1px rgba(60, 64, 67, 0.15);\n",
              "      fill: #174EA6;\n",
              "    }\n",
              "\n",
              "    [theme=dark] .colab-df-convert {\n",
              "      background-color: #3B4455;\n",
              "      fill: #D2E3FC;\n",
              "    }\n",
              "\n",
              "    [theme=dark] .colab-df-convert:hover {\n",
              "      background-color: #434B5C;\n",
              "      box-shadow: 0px 1px 3px 1px rgba(0, 0, 0, 0.15);\n",
              "      filter: drop-shadow(0px 1px 2px rgba(0, 0, 0, 0.3));\n",
              "      fill: #FFFFFF;\n",
              "    }\n",
              "  </style>\n",
              "\n",
              "      <script>\n",
              "        const buttonEl =\n",
              "          document.querySelector('#df-a7f94ffb-b849-4207-a155-f547b502892e button.colab-df-convert');\n",
              "        buttonEl.style.display =\n",
              "          google.colab.kernel.accessAllowed ? 'block' : 'none';\n",
              "\n",
              "        async function convertToInteractive(key) {\n",
              "          const element = document.querySelector('#df-a7f94ffb-b849-4207-a155-f547b502892e');\n",
              "          const dataTable =\n",
              "            await google.colab.kernel.invokeFunction('convertToInteractive',\n",
              "                                                     [key], {});\n",
              "          if (!dataTable) return;\n",
              "\n",
              "          const docLinkHtml = 'Like what you see? Visit the ' +\n",
              "            '<a target=\"_blank\" href=https://colab.research.google.com/notebooks/data_table.ipynb>data table notebook</a>'\n",
              "            + ' to learn more about interactive tables.';\n",
              "          element.innerHTML = '';\n",
              "          dataTable['output_type'] = 'display_data';\n",
              "          await google.colab.output.renderOutput(dataTable, element);\n",
              "          const docLink = document.createElement('div');\n",
              "          docLink.innerHTML = docLinkHtml;\n",
              "          element.appendChild(docLink);\n",
              "        }\n",
              "      </script>\n",
              "    </div>\n",
              "  </div>\n",
              "  "
            ],
            "text/plain": [
              "           PC1        PC2        PC3  ...  timestamp (s)  activityID  subject_id\n",
              "0 -1620.516156 -57.762709  31.973058  ...           0.00           1         101\n",
              "1 -1620.516698 -56.970710  31.750304  ...           0.01           1         101\n",
              "2 -1620.507283 -56.932430  32.104205  ...           0.02           1         101\n",
              "3 -1620.491561 -57.291572  32.502239  ...           0.03           1         101\n",
              "4 -1620.638780 -56.232906  31.511980  ...           0.04           1         101\n",
              "\n",
              "[5 rows x 13 columns]"
            ]
          },
          "metadata": {},
          "execution_count": 29
        }
      ],
      "source": [
        "principal_df.head()"
      ]
    },
    {
      "cell_type": "markdown",
      "metadata": {
        "id": "7hSo3muJY2hE"
      },
      "source": [
        "Next, a function called `split_train_test_activity` is developed which takes dataframe as an input and returns the data as X_train, X_test, y_train, y_test splits. In this function, the subjects_id's 107 and 108 are taken as test data and the rest of the data is considered for the training., from the test and train data, the columns subject_id,activityID and timestamp (s) are dropped, and then MinMaxScaler() transformation is applied on data to convert the data scaled between 0 and 1 and then it is fitted and named as X_train and X_test. y_train and y_test are assigned with activityID values.\n",
        "\n",
        "In a similar way, `split_train_test_time` function is also defined for splitting the data for computing the amount of activity , here y_train_time and y_test_time takes the int values of 'timestamp (s)' column. The timestamp data is taken in int format because, the timestamp values are given for each micro second, and is a continuous data, to make the analysis and predictions easier, all the float timestamp is converted to int. Through this way, the amount of activity can be accurately calculated in seconds(micro seconds are ignored for real world scenario)."
      ]
    },
    {
      "cell_type": "code",
      "execution_count": null,
      "metadata": {
        "colab": {
          "base_uri": "https://localhost:8080/"
        },
        "id": "fhKoJCkAhsNd",
        "outputId": "72d002a3-accd-4bf0-ba9d-cca18ef9a99a"
      },
      "outputs": [
        {
          "output_type": "stream",
          "name": "stdout",
          "text": [
            "Train shape X : (1680770, 10)  y  (1680770,)\n",
            "Test shape X : (494878, 10)  y  (494878,)\n"
          ]
        }
      ],
      "source": [
        "def split_train_test_activity(data1):\n",
        "    # create the test data\n",
        "    subject107 = data1[data1['subject_id'] == 107]\n",
        "    subject108 = data1[data1['subject_id'] == 108]\n",
        "    test = subject107.append(subject108)\n",
        "\n",
        "    # create the train data\n",
        "    train = data1[data1['subject_id'] != 107]\n",
        "    train = data1[data1['subject_id'] != 108]\n",
        "\n",
        "    # drop the columns id and time\n",
        "    test = test.drop([\"subject_id\"], axis=1)\n",
        "    train = train.drop([\"subject_id\"], axis=1)\n",
        "\n",
        "    # split train and test to X and y\n",
        "    X_train = train.drop(['activityID','timestamp (s)'], axis=1).values\n",
        "    X_test = test.drop(['activityID','timestamp (s)'], axis=1).values\n",
        "    \n",
        "    # make data scale to min max beetwin 0 to 1\n",
        "    min_max_scaler = MinMaxScaler()\n",
        "    min_max_scaler.fit(X_train)\n",
        "    min_max_scaler.fit(X_test)\n",
        "    X_train = min_max_scaler.transform(X_train)\n",
        "    X_test = min_max_scaler.transform(X_test)\n",
        "    \n",
        "    y_train = train['activityID'].values\n",
        "    y_test = test['activityID'].values\n",
        "    return X_train, X_test, y_train, y_test\n",
        "\n",
        "X_train, X_test, y_train, y_test = split_train_test_activity(principal_df)\n",
        "print('Train shape X :',X_train.shape,' y ', y_train.shape)\n",
        "print('Test shape X :',X_test.shape,' y ', y_test.shape)"
      ]
    },
    {
      "cell_type": "code",
      "execution_count": null,
      "metadata": {
        "colab": {
          "base_uri": "https://localhost:8080/"
        },
        "id": "RIdv8GCCQNc3",
        "outputId": "ca3bcd41-8f92-42fd-d759-e1fd61a3513b"
      },
      "outputs": [
        {
          "output_type": "execute_result",
          "data": {
            "text/plain": [
              "array([[2.58779485e-04, 2.23812891e-01, 6.19391184e-01, ...,\n",
              "        7.49178137e-01, 6.50879158e-01, 3.29939055e-01],\n",
              "       [2.58637488e-04, 2.28103104e-01, 6.18152181e-01, ...,\n",
              "        7.44533976e-01, 6.44890895e-01, 3.32987432e-01],\n",
              "       [2.61101246e-04, 2.28310467e-01, 6.20120645e-01, ...,\n",
              "        7.48134160e-01, 6.51181560e-01, 3.24611819e-01],\n",
              "       ...,\n",
              "       [1.70157616e-02, 4.60709880e-01, 4.77340673e-01, ...,\n",
              "        2.38316624e-01, 7.17733161e-01, 5.38895547e-01],\n",
              "       [1.70171528e-02, 4.60141371e-01, 4.70864778e-01, ...,\n",
              "        2.37978823e-01, 7.17717475e-01, 5.36416343e-01],\n",
              "       [1.70199780e-02, 4.62826140e-01, 4.74400071e-01, ...,\n",
              "        2.46584454e-01, 7.20746914e-01, 5.33008883e-01]])"
            ]
          },
          "metadata": {},
          "execution_count": 31
        }
      ],
      "source": [
        "X_train"
      ]
    },
    {
      "cell_type": "code",
      "execution_count": null,
      "metadata": {
        "colab": {
          "base_uri": "https://localhost:8080/"
        },
        "id": "Ld0KNVM_QQxa",
        "outputId": "f21907ae-c417-4eae-84ff-7aa48e076615"
      },
      "outputs": [
        {
          "output_type": "execute_result",
          "data": {
            "text/plain": [
              "array([ 1,  1,  1, ..., 24, 24, 24])"
            ]
          },
          "metadata": {},
          "execution_count": 32
        }
      ],
      "source": [
        "y_train"
      ]
    },
    {
      "cell_type": "code",
      "execution_count": null,
      "metadata": {
        "colab": {
          "base_uri": "https://localhost:8080/"
        },
        "id": "KsHenPZo6yZq",
        "outputId": "cfcc0275-32c4-4410-e569-9b65d06e011c"
      },
      "outputs": [
        {
          "output_type": "stream",
          "name": "stdout",
          "text": [
            "Train shape X : (1680770, 10)  y  (1680770,)\n",
            "Test shape X : (494878, 10)  y  (494878,)\n"
          ]
        }
      ],
      "source": [
        "def split_train_test_time(data1):\n",
        "    # create the test data\n",
        "    subject107 = data1[data1['subject_id'] == 107]\n",
        "    subject108 = data1[data1['subject_id'] == 108]\n",
        "    test = subject107.append(subject108)\n",
        "\n",
        "    # create the train data\n",
        "    train = data1[data1['subject_id'] != 107]\n",
        "    train = data1[data1['subject_id'] != 108]\n",
        "\n",
        "    # drop the columns id and time\n",
        "    test = test.drop([\"subject_id\"], axis=1)\n",
        "    train = train.drop([\"subject_id\"], axis=1)\n",
        "\n",
        "    # split train and test to X and y\n",
        "    X_train_time = train.drop(['activityID','timestamp (s)'], axis=1).values\n",
        "    X_test_time = test.drop(['activityID','timestamp (s)'], axis=1).values\n",
        "    \n",
        "    # make data scale to min max beetwin 0 to 1\n",
        "    min_max_scaler = MinMaxScaler()\n",
        "    min_max_scaler.fit(X_train_time)\n",
        "    min_max_scaler.fit(X_test_time)\n",
        "    X_train_time = min_max_scaler.transform(X_train_time)\n",
        "    X_test_time = min_max_scaler.transform(X_test_time)\n",
        "    \n",
        "    y_train_time = train['timestamp (s)'].values\n",
        "    y_train_time=y_train_time.astype(int)\n",
        "    y_test_time = test['timestamp (s)'].values\n",
        "    y_test_time=y_test_time.astype(int)\n",
        "    return X_train_time, X_test_time, y_train_time, y_test_time\n",
        "\n",
        "X_train_time, X_test_time, y_train_time, y_test_time = split_train_test_time(principal_df)\n",
        "print('Train shape X :',X_train_time.shape,' y ', y_train_time.shape)\n",
        "print('Test shape X :',X_test_time.shape,' y ', y_test_time.shape)"
      ]
    },
    {
      "cell_type": "code",
      "execution_count": null,
      "metadata": {
        "colab": {
          "base_uri": "https://localhost:8080/"
        },
        "id": "9MTunxexQVRj",
        "outputId": "ccbf8819-d64d-4bfe-9d8c-c35d8e64a96b"
      },
      "outputs": [
        {
          "output_type": "execute_result",
          "data": {
            "text/plain": [
              "(1680770, 10)"
            ]
          },
          "metadata": {},
          "execution_count": 34
        }
      ],
      "source": [
        "X_train_time.shape"
      ]
    },
    {
      "cell_type": "code",
      "execution_count": null,
      "metadata": {
        "colab": {
          "base_uri": "https://localhost:8080/"
        },
        "id": "lfQearViQa3T",
        "outputId": "2df4de9e-8955-47d6-df7d-701bb367e15e"
      },
      "outputs": [
        {
          "output_type": "execute_result",
          "data": {
            "text/plain": [
              "array([ 0,  0,  0, ..., 63, 63, 63])"
            ]
          },
          "metadata": {},
          "execution_count": 35
        }
      ],
      "source": [
        "y_train_time"
      ]
    },
    {
      "cell_type": "markdown",
      "metadata": {
        "id": "F0diPDXcY2hE"
      },
      "source": [
        "# 2.Develop and test at least one hypothesis for a relationship between a single pair of attributes"
      ]
    },
    {
      "cell_type": "markdown",
      "metadata": {
        "id": "YasUalp3Y2hF"
      },
      "source": [
        "Statistical inference is the process of drawing inferences about a population based on data from a sample of that population. Hypothesis testing is a method for determining how reliably one can extrapolate observed findings in a sample under study to the larger population from which the sample was drawn. It is used to assess the strength of evidence from the sample and provides a framework for making population-related decisions. The investigator develops a specific hypothesis, assesses data from the sample, and determines if the results support the hypothesis.\n",
        "\n",
        "The transformation of the study question into a null hypothesis, H0, and an alternative hypothesis, HA is the first stage in testing hypotheses. The null and alternative hypotheses are short explanations of two possible versions of \"truth\" concerning the relationship between the predictor of interest and the population outcome, usually in mathematical form. The null hypothesis describes the absence of a relationship between the compared variables; the alternative hypothesis describes the existence of a relationship and is often what the investigator wants to show.\n",
        "\n",
        "Statistical testing is used to determine whether there is enough evidence from the sample under investigation to suggest that the alternative hypothesis should be accepted."
      ]
    },
    {
      "cell_type": "markdown",
      "metadata": {
        "id": "Y4HfNkHcY2hF"
      },
      "source": [
        "## Hypothesis Testing"
      ]
    },
    {
      "cell_type": "markdown",
      "metadata": {
        "id": "HdoEVj-GY2hF"
      },
      "source": [
        "Here for the Hypothesis Testing, a new dataframe called `population_df` is created from the original `df`  with columns 'timestamp (s)','heart rate (bpm)','activityID',' hand temperature (°C)',' chest temperature (°C)'. Nan check and duplicate check is done to make sure there are no Nan values and duplicates.\n",
        "\n",
        "Next a sample dataframe called `sample_df` with random sample of 100 records is created from `population_df`. \n",
        "Since sample size is >30, I have used **z-test** for my two hypothesis testing’s below."
      ]
    },
    {
      "cell_type": "code",
      "execution_count": null,
      "metadata": {
        "id": "xEICx4iHbvxa"
      },
      "outputs": [],
      "source": [
        "population_df=df"
      ]
    },
    {
      "cell_type": "code",
      "execution_count": null,
      "metadata": {
        "colab": {
          "base_uri": "https://localhost:8080/"
        },
        "id": "4h7Ya3d9Y2hF",
        "outputId": "dd7b136d-c1a8-4255-8ccd-09d936b05fdd"
      },
      "outputs": [
        {
          "output_type": "execute_result",
          "data": {
            "text/plain": [
              "(1942872, 55)"
            ]
          },
          "metadata": {},
          "execution_count": 37
        }
      ],
      "source": [
        "population_df.shape"
      ]
    },
    {
      "cell_type": "code",
      "execution_count": null,
      "metadata": {
        "colab": {
          "base_uri": "https://localhost:8080/"
        },
        "id": "mZmV-y5gY2hF",
        "outputId": "ae5a02ce-ee2c-4e38-d03b-484162ee96ed"
      },
      "outputs": [
        {
          "output_type": "execute_result",
          "data": {
            "text/plain": [
              "Index(['timestamp (s)', 'activityID', 'heart rate (bpm)',\n",
              "       ' hand temperature (°C)', 'hand 3D acc ±16g x ', ' hand 3D acc ±16g y',\n",
              "       ' hand 3D acc ±16g z', ' hand 3D acc ±6g x', ' hand 3D acc ±6g y',\n",
              "       ' hand 3D acc ±6g z', ' hand 3D-gyr x', ' hand 3D-gyr y',\n",
              "       ' hand 3D-gyr z', ' hand 3D-magn x', ' hand 3D-magn y',\n",
              "       ' hand 3D-magn z', 'hand orientation1', 'hand orientation2',\n",
              "       'hand orientation3', 'hand orientation4', ' chest temperature (°C)',\n",
              "       ' chest 3D acc ±16g x ', ' chest 3D acc ±16g y', ' chest 3D acc ±16g z',\n",
              "       ' chest 3D acc ±6g x', ' chest 3D acc ±6g y', ' chest 3D acc ±6g z',\n",
              "       ' chest 3D-gyr x', ' chest 3D-gyr y', ' chest 3D-gyr z',\n",
              "       ' chest 3D-magn x', ' chest 3D-magn y', ' chest 3D-magn z',\n",
              "       'chest orientation1', 'chest orientation2', 'chest orientation3',\n",
              "       'chest orientation4', ' ankle temperature (°C)',\n",
              "       ' ankle 3D acc ±16g x ', ' ankle 3D acc ±16g y', ' ankle 3D acc ±16g z',\n",
              "       ' ankle 3D acc ±6g x', ' ankle 3D acc ±6g y', ' ankle 3D acc ±6g z',\n",
              "       ' ankle 3D-gyr x', ' ankle 3D-gyr y', ' ankle 3D-gyr z',\n",
              "       ' ankle 3D-magn x', ' ankle 3D-magn y', ' ankle 3D-magn z',\n",
              "       'ankle orientation1', 'ankle orientation2', 'ankle orientation3',\n",
              "       'ankle orientation4', 'subject_id'],\n",
              "      dtype='object')"
            ]
          },
          "metadata": {},
          "execution_count": 38
        }
      ],
      "source": [
        "#column info\n",
        "population_df.columns"
      ]
    },
    {
      "cell_type": "code",
      "execution_count": null,
      "metadata": {
        "colab": {
          "base_uri": "https://localhost:8080/",
          "height": 206
        },
        "id": "V0Ov9gELY2hF",
        "outputId": "f37b8020-8269-4d17-f697-dc79ad03719e"
      },
      "outputs": [
        {
          "output_type": "execute_result",
          "data": {
            "text/html": [
              "\n",
              "  <div id=\"df-15467291-1031-4a20-8903-ab5cf5e3a143\">\n",
              "    <div class=\"colab-df-container\">\n",
              "      <div>\n",
              "<style scoped>\n",
              "    .dataframe tbody tr th:only-of-type {\n",
              "        vertical-align: middle;\n",
              "    }\n",
              "\n",
              "    .dataframe tbody tr th {\n",
              "        vertical-align: top;\n",
              "    }\n",
              "\n",
              "    .dataframe thead th {\n",
              "        text-align: right;\n",
              "    }\n",
              "</style>\n",
              "<table border=\"1\" class=\"dataframe\">\n",
              "  <thead>\n",
              "    <tr style=\"text-align: right;\">\n",
              "      <th></th>\n",
              "      <th>timestamp (s)</th>\n",
              "      <th>heart rate (bpm)</th>\n",
              "      <th>activityID</th>\n",
              "      <th>hand temperature (°C)</th>\n",
              "      <th>chest temperature (°C)</th>\n",
              "    </tr>\n",
              "  </thead>\n",
              "  <tbody>\n",
              "    <tr>\n",
              "      <th>2928</th>\n",
              "      <td>0.00</td>\n",
              "      <td>107.487925</td>\n",
              "      <td>1</td>\n",
              "      <td>30.375</td>\n",
              "      <td>32.1875</td>\n",
              "    </tr>\n",
              "    <tr>\n",
              "      <th>2929</th>\n",
              "      <td>0.01</td>\n",
              "      <td>107.487925</td>\n",
              "      <td>1</td>\n",
              "      <td>30.375</td>\n",
              "      <td>32.1875</td>\n",
              "    </tr>\n",
              "    <tr>\n",
              "      <th>2930</th>\n",
              "      <td>0.02</td>\n",
              "      <td>107.487925</td>\n",
              "      <td>1</td>\n",
              "      <td>30.375</td>\n",
              "      <td>32.1875</td>\n",
              "    </tr>\n",
              "    <tr>\n",
              "      <th>2931</th>\n",
              "      <td>0.03</td>\n",
              "      <td>107.487925</td>\n",
              "      <td>1</td>\n",
              "      <td>30.375</td>\n",
              "      <td>32.1875</td>\n",
              "    </tr>\n",
              "    <tr>\n",
              "      <th>2932</th>\n",
              "      <td>0.04</td>\n",
              "      <td>100.000000</td>\n",
              "      <td>1</td>\n",
              "      <td>30.375</td>\n",
              "      <td>32.1875</td>\n",
              "    </tr>\n",
              "  </tbody>\n",
              "</table>\n",
              "</div>\n",
              "      <button class=\"colab-df-convert\" onclick=\"convertToInteractive('df-15467291-1031-4a20-8903-ab5cf5e3a143')\"\n",
              "              title=\"Convert this dataframe to an interactive table.\"\n",
              "              style=\"display:none;\">\n",
              "        \n",
              "  <svg xmlns=\"http://www.w3.org/2000/svg\" height=\"24px\"viewBox=\"0 0 24 24\"\n",
              "       width=\"24px\">\n",
              "    <path d=\"M0 0h24v24H0V0z\" fill=\"none\"/>\n",
              "    <path d=\"M18.56 5.44l.94 2.06.94-2.06 2.06-.94-2.06-.94-.94-2.06-.94 2.06-2.06.94zm-11 1L8.5 8.5l.94-2.06 2.06-.94-2.06-.94L8.5 2.5l-.94 2.06-2.06.94zm10 10l.94 2.06.94-2.06 2.06-.94-2.06-.94-.94-2.06-.94 2.06-2.06.94z\"/><path d=\"M17.41 7.96l-1.37-1.37c-.4-.4-.92-.59-1.43-.59-.52 0-1.04.2-1.43.59L10.3 9.45l-7.72 7.72c-.78.78-.78 2.05 0 2.83L4 21.41c.39.39.9.59 1.41.59.51 0 1.02-.2 1.41-.59l7.78-7.78 2.81-2.81c.8-.78.8-2.07 0-2.86zM5.41 20L4 18.59l7.72-7.72 1.47 1.35L5.41 20z\"/>\n",
              "  </svg>\n",
              "      </button>\n",
              "      \n",
              "  <style>\n",
              "    .colab-df-container {\n",
              "      display:flex;\n",
              "      flex-wrap:wrap;\n",
              "      gap: 12px;\n",
              "    }\n",
              "\n",
              "    .colab-df-convert {\n",
              "      background-color: #E8F0FE;\n",
              "      border: none;\n",
              "      border-radius: 50%;\n",
              "      cursor: pointer;\n",
              "      display: none;\n",
              "      fill: #1967D2;\n",
              "      height: 32px;\n",
              "      padding: 0 0 0 0;\n",
              "      width: 32px;\n",
              "    }\n",
              "\n",
              "    .colab-df-convert:hover {\n",
              "      background-color: #E2EBFA;\n",
              "      box-shadow: 0px 1px 2px rgba(60, 64, 67, 0.3), 0px 1px 3px 1px rgba(60, 64, 67, 0.15);\n",
              "      fill: #174EA6;\n",
              "    }\n",
              "\n",
              "    [theme=dark] .colab-df-convert {\n",
              "      background-color: #3B4455;\n",
              "      fill: #D2E3FC;\n",
              "    }\n",
              "\n",
              "    [theme=dark] .colab-df-convert:hover {\n",
              "      background-color: #434B5C;\n",
              "      box-shadow: 0px 1px 3px 1px rgba(0, 0, 0, 0.15);\n",
              "      filter: drop-shadow(0px 1px 2px rgba(0, 0, 0, 0.3));\n",
              "      fill: #FFFFFF;\n",
              "    }\n",
              "  </style>\n",
              "\n",
              "      <script>\n",
              "        const buttonEl =\n",
              "          document.querySelector('#df-15467291-1031-4a20-8903-ab5cf5e3a143 button.colab-df-convert');\n",
              "        buttonEl.style.display =\n",
              "          google.colab.kernel.accessAllowed ? 'block' : 'none';\n",
              "\n",
              "        async function convertToInteractive(key) {\n",
              "          const element = document.querySelector('#df-15467291-1031-4a20-8903-ab5cf5e3a143');\n",
              "          const dataTable =\n",
              "            await google.colab.kernel.invokeFunction('convertToInteractive',\n",
              "                                                     [key], {});\n",
              "          if (!dataTable) return;\n",
              "\n",
              "          const docLinkHtml = 'Like what you see? Visit the ' +\n",
              "            '<a target=\"_blank\" href=https://colab.research.google.com/notebooks/data_table.ipynb>data table notebook</a>'\n",
              "            + ' to learn more about interactive tables.';\n",
              "          element.innerHTML = '';\n",
              "          dataTable['output_type'] = 'display_data';\n",
              "          await google.colab.output.renderOutput(dataTable, element);\n",
              "          const docLink = document.createElement('div');\n",
              "          docLink.innerHTML = docLinkHtml;\n",
              "          element.appendChild(docLink);\n",
              "        }\n",
              "      </script>\n",
              "    </div>\n",
              "  </div>\n",
              "  "
            ],
            "text/plain": [
              "      timestamp (s)  ...   chest temperature (°C)\n",
              "2928           0.00  ...                  32.1875\n",
              "2929           0.01  ...                  32.1875\n",
              "2930           0.02  ...                  32.1875\n",
              "2931           0.03  ...                  32.1875\n",
              "2932           0.04  ...                  32.1875\n",
              "\n",
              "[5 rows x 5 columns]"
            ]
          },
          "metadata": {},
          "execution_count": 39
        }
      ],
      "source": [
        "#extracing the columns of interest\n",
        "population_df=population_df[['timestamp (s)','heart rate (bpm)','activityID',' hand temperature (°C)',' chest temperature (°C)']]\n",
        "population_df.head()"
      ]
    },
    {
      "cell_type": "code",
      "execution_count": null,
      "metadata": {
        "colab": {
          "base_uri": "https://localhost:8080/"
        },
        "id": "cbnhLYtFY2hF",
        "outputId": "79b874b4-a255-4734-e43b-c7c8c8eaf1b0"
      },
      "outputs": [
        {
          "output_type": "execute_result",
          "data": {
            "text/plain": [
              "timestamp (s)              0\n",
              "heart rate (bpm)           0\n",
              "activityID                 0\n",
              " hand temperature (°C)     0\n",
              " chest temperature (°C)    0\n",
              "dtype: int64"
            ]
          },
          "metadata": {},
          "execution_count": 40
        }
      ],
      "source": [
        "#NaN check\n",
        "population_df.isnull().sum()"
      ]
    },
    {
      "cell_type": "code",
      "execution_count": null,
      "metadata": {
        "colab": {
          "base_uri": "https://localhost:8080/"
        },
        "id": "ZhtLHEQ8Y2hF",
        "outputId": "1d8aa4c0-e516-4898-fcc0-244123f4fd48"
      },
      "outputs": [
        {
          "output_type": "execute_result",
          "data": {
            "text/plain": [
              "0"
            ]
          },
          "metadata": {},
          "execution_count": 41
        }
      ],
      "source": [
        "#duplicate check\n",
        "population_df.duplicated().sum()"
      ]
    },
    {
      "cell_type": "code",
      "execution_count": null,
      "metadata": {
        "colab": {
          "base_uri": "https://localhost:8080/",
          "height": 206
        },
        "id": "RMcFRfPoY2hF",
        "outputId": "a74dc02e-a69d-4799-a891-7fad219e6426"
      },
      "outputs": [
        {
          "output_type": "execute_result",
          "data": {
            "text/html": [
              "\n",
              "  <div id=\"df-850d35c8-aca3-4b46-89b9-aa052c1aa72a\">\n",
              "    <div class=\"colab-df-container\">\n",
              "      <div>\n",
              "<style scoped>\n",
              "    .dataframe tbody tr th:only-of-type {\n",
              "        vertical-align: middle;\n",
              "    }\n",
              "\n",
              "    .dataframe tbody tr th {\n",
              "        vertical-align: top;\n",
              "    }\n",
              "\n",
              "    .dataframe thead th {\n",
              "        text-align: right;\n",
              "    }\n",
              "</style>\n",
              "<table border=\"1\" class=\"dataframe\">\n",
              "  <thead>\n",
              "    <tr style=\"text-align: right;\">\n",
              "      <th></th>\n",
              "      <th>timestamp (s)</th>\n",
              "      <th>heart rate (bpm)</th>\n",
              "      <th>activityID</th>\n",
              "      <th>hand temperature (°C)</th>\n",
              "      <th>chest temperature (°C)</th>\n",
              "    </tr>\n",
              "  </thead>\n",
              "  <tbody>\n",
              "    <tr>\n",
              "      <th>989005</th>\n",
              "      <td>1495.41</td>\n",
              "      <td>96.000000</td>\n",
              "      <td>13</td>\n",
              "      <td>32.1250</td>\n",
              "      <td>36.5000</td>\n",
              "    </tr>\n",
              "    <tr>\n",
              "      <th>1576548</th>\n",
              "      <td>1608.42</td>\n",
              "      <td>138.545455</td>\n",
              "      <td>12</td>\n",
              "      <td>35.0000</td>\n",
              "      <td>37.8125</td>\n",
              "    </tr>\n",
              "    <tr>\n",
              "      <th>2085686</th>\n",
              "      <td>2954.89</td>\n",
              "      <td>134.000000</td>\n",
              "      <td>6</td>\n",
              "      <td>29.5000</td>\n",
              "      <td>35.1875</td>\n",
              "    </tr>\n",
              "    <tr>\n",
              "      <th>2500219</th>\n",
              "      <td>380.47</td>\n",
              "      <td>71.000000</td>\n",
              "      <td>2</td>\n",
              "      <td>34.3125</td>\n",
              "      <td>37.6250</td>\n",
              "    </tr>\n",
              "    <tr>\n",
              "      <th>882588</th>\n",
              "      <td>431.24</td>\n",
              "      <td>76.000000</td>\n",
              "      <td>2</td>\n",
              "      <td>31.8125</td>\n",
              "      <td>34.7500</td>\n",
              "    </tr>\n",
              "  </tbody>\n",
              "</table>\n",
              "</div>\n",
              "      <button class=\"colab-df-convert\" onclick=\"convertToInteractive('df-850d35c8-aca3-4b46-89b9-aa052c1aa72a')\"\n",
              "              title=\"Convert this dataframe to an interactive table.\"\n",
              "              style=\"display:none;\">\n",
              "        \n",
              "  <svg xmlns=\"http://www.w3.org/2000/svg\" height=\"24px\"viewBox=\"0 0 24 24\"\n",
              "       width=\"24px\">\n",
              "    <path d=\"M0 0h24v24H0V0z\" fill=\"none\"/>\n",
              "    <path d=\"M18.56 5.44l.94 2.06.94-2.06 2.06-.94-2.06-.94-.94-2.06-.94 2.06-2.06.94zm-11 1L8.5 8.5l.94-2.06 2.06-.94-2.06-.94L8.5 2.5l-.94 2.06-2.06.94zm10 10l.94 2.06.94-2.06 2.06-.94-2.06-.94-.94-2.06-.94 2.06-2.06.94z\"/><path d=\"M17.41 7.96l-1.37-1.37c-.4-.4-.92-.59-1.43-.59-.52 0-1.04.2-1.43.59L10.3 9.45l-7.72 7.72c-.78.78-.78 2.05 0 2.83L4 21.41c.39.39.9.59 1.41.59.51 0 1.02-.2 1.41-.59l7.78-7.78 2.81-2.81c.8-.78.8-2.07 0-2.86zM5.41 20L4 18.59l7.72-7.72 1.47 1.35L5.41 20z\"/>\n",
              "  </svg>\n",
              "      </button>\n",
              "      \n",
              "  <style>\n",
              "    .colab-df-container {\n",
              "      display:flex;\n",
              "      flex-wrap:wrap;\n",
              "      gap: 12px;\n",
              "    }\n",
              "\n",
              "    .colab-df-convert {\n",
              "      background-color: #E8F0FE;\n",
              "      border: none;\n",
              "      border-radius: 50%;\n",
              "      cursor: pointer;\n",
              "      display: none;\n",
              "      fill: #1967D2;\n",
              "      height: 32px;\n",
              "      padding: 0 0 0 0;\n",
              "      width: 32px;\n",
              "    }\n",
              "\n",
              "    .colab-df-convert:hover {\n",
              "      background-color: #E2EBFA;\n",
              "      box-shadow: 0px 1px 2px rgba(60, 64, 67, 0.3), 0px 1px 3px 1px rgba(60, 64, 67, 0.15);\n",
              "      fill: #174EA6;\n",
              "    }\n",
              "\n",
              "    [theme=dark] .colab-df-convert {\n",
              "      background-color: #3B4455;\n",
              "      fill: #D2E3FC;\n",
              "    }\n",
              "\n",
              "    [theme=dark] .colab-df-convert:hover {\n",
              "      background-color: #434B5C;\n",
              "      box-shadow: 0px 1px 3px 1px rgba(0, 0, 0, 0.15);\n",
              "      filter: drop-shadow(0px 1px 2px rgba(0, 0, 0, 0.3));\n",
              "      fill: #FFFFFF;\n",
              "    }\n",
              "  </style>\n",
              "\n",
              "      <script>\n",
              "        const buttonEl =\n",
              "          document.querySelector('#df-850d35c8-aca3-4b46-89b9-aa052c1aa72a button.colab-df-convert');\n",
              "        buttonEl.style.display =\n",
              "          google.colab.kernel.accessAllowed ? 'block' : 'none';\n",
              "\n",
              "        async function convertToInteractive(key) {\n",
              "          const element = document.querySelector('#df-850d35c8-aca3-4b46-89b9-aa052c1aa72a');\n",
              "          const dataTable =\n",
              "            await google.colab.kernel.invokeFunction('convertToInteractive',\n",
              "                                                     [key], {});\n",
              "          if (!dataTable) return;\n",
              "\n",
              "          const docLinkHtml = 'Like what you see? Visit the ' +\n",
              "            '<a target=\"_blank\" href=https://colab.research.google.com/notebooks/data_table.ipynb>data table notebook</a>'\n",
              "            + ' to learn more about interactive tables.';\n",
              "          element.innerHTML = '';\n",
              "          dataTable['output_type'] = 'display_data';\n",
              "          await google.colab.output.renderOutput(dataTable, element);\n",
              "          const docLink = document.createElement('div');\n",
              "          docLink.innerHTML = docLinkHtml;\n",
              "          element.appendChild(docLink);\n",
              "        }\n",
              "      </script>\n",
              "    </div>\n",
              "  </div>\n",
              "  "
            ],
            "text/plain": [
              "         timestamp (s)  ...   chest temperature (°C)\n",
              "989005         1495.41  ...                  36.5000\n",
              "1576548        1608.42  ...                  37.8125\n",
              "2085686        2954.89  ...                  35.1875\n",
              "2500219         380.47  ...                  37.6250\n",
              "882588          431.24  ...                  34.7500\n",
              "\n",
              "[5 rows x 5 columns]"
            ]
          },
          "metadata": {},
          "execution_count": 42
        }
      ],
      "source": [
        "#Picking a random sample of 50 records\n",
        "sample_df=population_df.sample(n=100,random_state=15)\n",
        "sample_df.head()"
      ]
    },
    {
      "cell_type": "markdown",
      "metadata": {
        "id": "VsbfEJCuY2hF"
      },
      "source": [
        "Here various functions are defined for bootstrapping the data, and graph creation for the bootstrapped samples, finding the difference between bootstrap means and for calculating observed difference and respective p values."
      ]
    },
    {
      "cell_type": "code",
      "execution_count": null,
      "metadata": {
        "id": "7PQSpTKxY2hF"
      },
      "outputs": [],
      "source": [
        "def sample_creation(arg_df):\n",
        "    empty_df = []\n",
        "    for i in range(10000):\n",
        "        np.random.seed(i)\n",
        "        empty_df.append((resample(arg_df)))\n",
        "\n",
        "    empty_df = np.mean(empty_df, axis=1)\n",
        "    return empty_df"
      ]
    },
    {
      "cell_type": "code",
      "execution_count": null,
      "metadata": {
        "id": "6gdIFam-Y2hF"
      },
      "outputs": [],
      "source": [
        "def graph_creation(arg_df,x_variable,title):\n",
        "    lower_bound = np.percentile(arg_df, 2.5)\n",
        "    upper_bound = np.percentile(arg_df, 97.5)\n",
        "\n",
        "    fig = plt.figure(figsize=(10,3))\n",
        "    ax = plt.hist(arg_df, bins=30)\n",
        "\n",
        "    plt.xlabel(x_variable)\n",
        "    plt.ylabel('Frequency')\n",
        "    plt.title(title)\n",
        "    plt.axvline(lower_bound, color='r')\n",
        "    plt.axvline(upper_bound, color='r')\n",
        "    plt.show()\n",
        "    \n",
        "    return(print('Lower bound: {}'.format(lower_bound)),\n",
        "    print('Upper bound: {}'.format(upper_bound)))\n",
        "\n",
        "    "
      ]
    },
    {
      "cell_type": "code",
      "execution_count": null,
      "metadata": {
        "id": "suU1dArPY2hG"
      },
      "outputs": [],
      "source": [
        "def difference_bootstarp_means(df1,df2):\n",
        "    combined = np.concatenate((df1, df2), axis=0)\n",
        "\n",
        "    perms_1 = []\n",
        "    perms_2 = []\n",
        "\n",
        "    for i in range(10000):\n",
        "        np.random.seed(i)\n",
        "        perms_1.append(resample(combined, n_samples = len(df1)))\n",
        "        perms_2.append(resample(combined, n_samples = len(df2)))\n",
        "    \n",
        "    dif_bootstrap_means = (np.mean(perms_1, axis=1)-np.mean(perms_2, axis=1))\n",
        "    return dif_bootstrap_means"
      ]
    },
    {
      "cell_type": "code",
      "execution_count": null,
      "metadata": {
        "id": "3oJFpLyFY2hG"
      },
      "outputs": [],
      "source": [
        "def plot_fig(dif_btstrap_mean,x_label,obs_dif):\n",
        "    fig = plt.figure(figsize=(10,3))\n",
        "    ax = plt.hist(dif_btstrap_mean, bins=30)\n",
        "\n",
        "    plt.xlabel(x_label)\n",
        "    plt.ylabel('Frequency')\n",
        "    plt.title('Bootstrapped Population (Combined data)')\n",
        "    plt.axvline(obs_dif, color='r')\n",
        "    return plt.show()"
      ]
    },
    {
      "cell_type": "code",
      "execution_count": null,
      "metadata": {
        "id": "jvsEMYc6Y2hG"
      },
      "outputs": [],
      "source": [
        "def obs_difs_and_p_val(df1,df2):\n",
        "    obs_difs = (np.mean(df1) - np.mean(df2))\n",
        "    p_value = dif_bootstrap_means[dif_bootstrap_means >= obs_difs].shape[0]/10000 \n",
        "    return( print('observed difference in means: {}'.format(obs_difs)),\n",
        "           print('p-value: {}'.format(p_value)) )"
      ]
    },
    {
      "cell_type": "markdown",
      "metadata": {
        "id": "_S1keo1eY2hG"
      },
      "source": [
        "### Hypothesis Test1"
      ]
    },
    {
      "cell_type": "markdown",
      "metadata": {
        "id": "4pNF23XuY2hG"
      },
      "source": [
        "Below H0 and Ha are my Null hypothesis and alternative hypothesis, here the relationship between heart rates of activity 24(rope_jumping) and activity 1(lying) is tested.\n",
        "\n",
        "First, `activity1_df` is created from `sample_df` with records having 'activityID'=1, similarly, `activity24_df` is created with records having 'activityID'=24\n",
        "\n",
        "From the `activity1_df` and `activity24_df`, it is evident that, the number of records in activity24_df is comparatively less. This would affect the test result, hence to compensate this bootstrapping is performed on both the dataframes.\n",
        "\n",
        "**Bootstrapping**\n",
        "\n",
        "Bootstrapping is a statistical process for generating multiple simulated samples from a single dataset. For a variety of sample statistics, this procedure allows you to calculate standard errors, generate confidence intervals, and do hypothesis testing. Bootstrap methods are an alternative to standard hypothesis testing that are easy to understand and valid for a wider range of scenarios.\n",
        "\n",
        "\n",
        "To estimate sampling distributions, the bootstrap method takes a totally different approach. This method takes a study's sample data and resamples it multiple times to create a large number of simulated samples. The mean, for example, is unique to each of these simulated samples. The sampling distribution of the mean can be shown when plotting the distribution of these means on a histogram."
      ]
    },
    {
      "cell_type": "markdown",
      "metadata": {
        "id": "w3Crkh5YY2hG"
      },
      "source": [
        "\n",
        "\n",
        "**H0:μ1−μ0=0   Null hypothesis is there is no difference between activity_24(μ1) and activity_1(μ0) heart rate.**\n",
        "\n",
        "\n",
        "**Ha:μ1−μ0>0   The alternative hypothesis is there is an increase in the heart rate for activity_24(μ1) than activity_1(μ0) heart rate.**"
      ]
    },
    {
      "cell_type": "code",
      "execution_count": null,
      "metadata": {
        "colab": {
          "base_uri": "https://localhost:8080/",
          "height": 457
        },
        "id": "1U-RdNtQY2hG",
        "outputId": "1da8f0bd-d8f5-4d9b-af66-a2b6fc5a80a5"
      },
      "outputs": [
        {
          "output_type": "execute_result",
          "data": {
            "text/html": [
              "\n",
              "  <div id=\"df-c0605efc-4315-43b2-8c18-8243216d1ea6\">\n",
              "    <div class=\"colab-df-container\">\n",
              "      <div>\n",
              "<style scoped>\n",
              "    .dataframe tbody tr th:only-of-type {\n",
              "        vertical-align: middle;\n",
              "    }\n",
              "\n",
              "    .dataframe tbody tr th {\n",
              "        vertical-align: top;\n",
              "    }\n",
              "\n",
              "    .dataframe thead th {\n",
              "        text-align: right;\n",
              "    }\n",
              "</style>\n",
              "<table border=\"1\" class=\"dataframe\">\n",
              "  <thead>\n",
              "    <tr style=\"text-align: right;\">\n",
              "      <th></th>\n",
              "      <th>timestamp (s)</th>\n",
              "      <th>heart rate (bpm)</th>\n",
              "      <th>activityID</th>\n",
              "      <th>hand temperature (°C)</th>\n",
              "      <th>chest temperature (°C)</th>\n",
              "    </tr>\n",
              "  </thead>\n",
              "  <tbody>\n",
              "    <tr>\n",
              "      <th>860026</th>\n",
              "      <td>205.62</td>\n",
              "      <td>70.000000</td>\n",
              "      <td>1</td>\n",
              "      <td>31.5000</td>\n",
              "      <td>34.0625</td>\n",
              "    </tr>\n",
              "    <tr>\n",
              "      <th>844313</th>\n",
              "      <td>48.49</td>\n",
              "      <td>75.000000</td>\n",
              "      <td>1</td>\n",
              "      <td>31.1875</td>\n",
              "      <td>33.3125</td>\n",
              "    </tr>\n",
              "    <tr>\n",
              "      <th>843133</th>\n",
              "      <td>36.69</td>\n",
              "      <td>76.000000</td>\n",
              "      <td>1</td>\n",
              "      <td>31.1875</td>\n",
              "      <td>33.2500</td>\n",
              "    </tr>\n",
              "    <tr>\n",
              "      <th>853411</th>\n",
              "      <td>139.47</td>\n",
              "      <td>69.000000</td>\n",
              "      <td>1</td>\n",
              "      <td>31.3750</td>\n",
              "      <td>33.8125</td>\n",
              "    </tr>\n",
              "    <tr>\n",
              "      <th>1428310</th>\n",
              "      <td>126.04</td>\n",
              "      <td>72.000000</td>\n",
              "      <td>1</td>\n",
              "      <td>34.8750</td>\n",
              "      <td>36.5625</td>\n",
              "    </tr>\n",
              "    <tr>\n",
              "      <th>842577</th>\n",
              "      <td>31.13</td>\n",
              "      <td>77.000000</td>\n",
              "      <td>1</td>\n",
              "      <td>31.1250</td>\n",
              "      <td>33.2500</td>\n",
              "    </tr>\n",
              "    <tr>\n",
              "      <th>857777</th>\n",
              "      <td>183.13</td>\n",
              "      <td>76.000000</td>\n",
              "      <td>1</td>\n",
              "      <td>31.4375</td>\n",
              "      <td>33.9375</td>\n",
              "    </tr>\n",
              "    <tr>\n",
              "      <th>397171</th>\n",
              "      <td>157.98</td>\n",
              "      <td>75.000000</td>\n",
              "      <td>1</td>\n",
              "      <td>33.7500</td>\n",
              "      <td>37.0625</td>\n",
              "    </tr>\n",
              "    <tr>\n",
              "      <th>2169017</th>\n",
              "      <td>187.55</td>\n",
              "      <td>61.000000</td>\n",
              "      <td>1</td>\n",
              "      <td>31.1250</td>\n",
              "      <td>33.9375</td>\n",
              "    </tr>\n",
              "    <tr>\n",
              "      <th>403497</th>\n",
              "      <td>221.24</td>\n",
              "      <td>77.000000</td>\n",
              "      <td>1</td>\n",
              "      <td>33.8125</td>\n",
              "      <td>37.1250</td>\n",
              "    </tr>\n",
              "    <tr>\n",
              "      <th>382940</th>\n",
              "      <td>15.67</td>\n",
              "      <td>87.818182</td>\n",
              "      <td>1</td>\n",
              "      <td>33.5000</td>\n",
              "      <td>36.6250</td>\n",
              "    </tr>\n",
              "    <tr>\n",
              "      <th>840249</th>\n",
              "      <td>7.85</td>\n",
              "      <td>89.000000</td>\n",
              "      <td>1</td>\n",
              "      <td>31.0625</td>\n",
              "      <td>33.0625</td>\n",
              "    </tr>\n",
              "    <tr>\n",
              "      <th>2470939</th>\n",
              "      <td>87.67</td>\n",
              "      <td>70.000000</td>\n",
              "      <td>1</td>\n",
              "      <td>34.0000</td>\n",
              "      <td>37.0000</td>\n",
              "    </tr>\n",
              "  </tbody>\n",
              "</table>\n",
              "</div>\n",
              "      <button class=\"colab-df-convert\" onclick=\"convertToInteractive('df-c0605efc-4315-43b2-8c18-8243216d1ea6')\"\n",
              "              title=\"Convert this dataframe to an interactive table.\"\n",
              "              style=\"display:none;\">\n",
              "        \n",
              "  <svg xmlns=\"http://www.w3.org/2000/svg\" height=\"24px\"viewBox=\"0 0 24 24\"\n",
              "       width=\"24px\">\n",
              "    <path d=\"M0 0h24v24H0V0z\" fill=\"none\"/>\n",
              "    <path d=\"M18.56 5.44l.94 2.06.94-2.06 2.06-.94-2.06-.94-.94-2.06-.94 2.06-2.06.94zm-11 1L8.5 8.5l.94-2.06 2.06-.94-2.06-.94L8.5 2.5l-.94 2.06-2.06.94zm10 10l.94 2.06.94-2.06 2.06-.94-2.06-.94-.94-2.06-.94 2.06-2.06.94z\"/><path d=\"M17.41 7.96l-1.37-1.37c-.4-.4-.92-.59-1.43-.59-.52 0-1.04.2-1.43.59L10.3 9.45l-7.72 7.72c-.78.78-.78 2.05 0 2.83L4 21.41c.39.39.9.59 1.41.59.51 0 1.02-.2 1.41-.59l7.78-7.78 2.81-2.81c.8-.78.8-2.07 0-2.86zM5.41 20L4 18.59l7.72-7.72 1.47 1.35L5.41 20z\"/>\n",
              "  </svg>\n",
              "      </button>\n",
              "      \n",
              "  <style>\n",
              "    .colab-df-container {\n",
              "      display:flex;\n",
              "      flex-wrap:wrap;\n",
              "      gap: 12px;\n",
              "    }\n",
              "\n",
              "    .colab-df-convert {\n",
              "      background-color: #E8F0FE;\n",
              "      border: none;\n",
              "      border-radius: 50%;\n",
              "      cursor: pointer;\n",
              "      display: none;\n",
              "      fill: #1967D2;\n",
              "      height: 32px;\n",
              "      padding: 0 0 0 0;\n",
              "      width: 32px;\n",
              "    }\n",
              "\n",
              "    .colab-df-convert:hover {\n",
              "      background-color: #E2EBFA;\n",
              "      box-shadow: 0px 1px 2px rgba(60, 64, 67, 0.3), 0px 1px 3px 1px rgba(60, 64, 67, 0.15);\n",
              "      fill: #174EA6;\n",
              "    }\n",
              "\n",
              "    [theme=dark] .colab-df-convert {\n",
              "      background-color: #3B4455;\n",
              "      fill: #D2E3FC;\n",
              "    }\n",
              "\n",
              "    [theme=dark] .colab-df-convert:hover {\n",
              "      background-color: #434B5C;\n",
              "      box-shadow: 0px 1px 3px 1px rgba(0, 0, 0, 0.15);\n",
              "      filter: drop-shadow(0px 1px 2px rgba(0, 0, 0, 0.3));\n",
              "      fill: #FFFFFF;\n",
              "    }\n",
              "  </style>\n",
              "\n",
              "      <script>\n",
              "        const buttonEl =\n",
              "          document.querySelector('#df-c0605efc-4315-43b2-8c18-8243216d1ea6 button.colab-df-convert');\n",
              "        buttonEl.style.display =\n",
              "          google.colab.kernel.accessAllowed ? 'block' : 'none';\n",
              "\n",
              "        async function convertToInteractive(key) {\n",
              "          const element = document.querySelector('#df-c0605efc-4315-43b2-8c18-8243216d1ea6');\n",
              "          const dataTable =\n",
              "            await google.colab.kernel.invokeFunction('convertToInteractive',\n",
              "                                                     [key], {});\n",
              "          if (!dataTable) return;\n",
              "\n",
              "          const docLinkHtml = 'Like what you see? Visit the ' +\n",
              "            '<a target=\"_blank\" href=https://colab.research.google.com/notebooks/data_table.ipynb>data table notebook</a>'\n",
              "            + ' to learn more about interactive tables.';\n",
              "          element.innerHTML = '';\n",
              "          dataTable['output_type'] = 'display_data';\n",
              "          await google.colab.output.renderOutput(dataTable, element);\n",
              "          const docLink = document.createElement('div');\n",
              "          docLink.innerHTML = docLinkHtml;\n",
              "          element.appendChild(docLink);\n",
              "        }\n",
              "      </script>\n",
              "    </div>\n",
              "  </div>\n",
              "  "
            ],
            "text/plain": [
              "         timestamp (s)  ...   chest temperature (°C)\n",
              "860026          205.62  ...                  34.0625\n",
              "844313           48.49  ...                  33.3125\n",
              "843133           36.69  ...                  33.2500\n",
              "853411          139.47  ...                  33.8125\n",
              "1428310         126.04  ...                  36.5625\n",
              "842577           31.13  ...                  33.2500\n",
              "857777          183.13  ...                  33.9375\n",
              "397171          157.98  ...                  37.0625\n",
              "2169017         187.55  ...                  33.9375\n",
              "403497          221.24  ...                  37.1250\n",
              "382940           15.67  ...                  36.6250\n",
              "840249            7.85  ...                  33.0625\n",
              "2470939          87.67  ...                  37.0000\n",
              "\n",
              "[13 rows x 5 columns]"
            ]
          },
          "metadata": {},
          "execution_count": 48
        }
      ],
      "source": [
        "#creating a dataframe with movies of comedy genre\n",
        "activity1_df=sample_df[sample_df['activityID']==1]\n",
        "activity1_df"
      ]
    },
    {
      "cell_type": "code",
      "execution_count": null,
      "metadata": {
        "colab": {
          "base_uri": "https://localhost:8080/",
          "height": 143
        },
        "id": "jJzE8_eFY2hG",
        "outputId": "1ccd79f9-5dcf-4d99-931c-6e20ac66bc8c"
      },
      "outputs": [
        {
          "output_type": "execute_result",
          "data": {
            "text/html": [
              "\n",
              "  <div id=\"df-8a7192b4-dff9-4626-84d9-d663fd05ec4c\">\n",
              "    <div class=\"colab-df-container\">\n",
              "      <div>\n",
              "<style scoped>\n",
              "    .dataframe tbody tr th:only-of-type {\n",
              "        vertical-align: middle;\n",
              "    }\n",
              "\n",
              "    .dataframe tbody tr th {\n",
              "        vertical-align: top;\n",
              "    }\n",
              "\n",
              "    .dataframe thead th {\n",
              "        text-align: right;\n",
              "    }\n",
              "</style>\n",
              "<table border=\"1\" class=\"dataframe\">\n",
              "  <thead>\n",
              "    <tr style=\"text-align: right;\">\n",
              "      <th></th>\n",
              "      <th>timestamp (s)</th>\n",
              "      <th>heart rate (bpm)</th>\n",
              "      <th>activityID</th>\n",
              "      <th>hand temperature (°C)</th>\n",
              "      <th>chest temperature (°C)</th>\n",
              "    </tr>\n",
              "  </thead>\n",
              "  <tbody>\n",
              "    <tr>\n",
              "      <th>358756</th>\n",
              "      <td>3558.28</td>\n",
              "      <td>181.0</td>\n",
              "      <td>24</td>\n",
              "      <td>30.1875</td>\n",
              "      <td>33.8750</td>\n",
              "    </tr>\n",
              "    <tr>\n",
              "      <th>1774216</th>\n",
              "      <td>3585.10</td>\n",
              "      <td>144.0</td>\n",
              "      <td>24</td>\n",
              "      <td>33.8125</td>\n",
              "      <td>36.4375</td>\n",
              "    </tr>\n",
              "    <tr>\n",
              "      <th>787564</th>\n",
              "      <td>4061.91</td>\n",
              "      <td>122.0</td>\n",
              "      <td>24</td>\n",
              "      <td>28.2500</td>\n",
              "      <td>31.9375</td>\n",
              "    </tr>\n",
              "  </tbody>\n",
              "</table>\n",
              "</div>\n",
              "      <button class=\"colab-df-convert\" onclick=\"convertToInteractive('df-8a7192b4-dff9-4626-84d9-d663fd05ec4c')\"\n",
              "              title=\"Convert this dataframe to an interactive table.\"\n",
              "              style=\"display:none;\">\n",
              "        \n",
              "  <svg xmlns=\"http://www.w3.org/2000/svg\" height=\"24px\"viewBox=\"0 0 24 24\"\n",
              "       width=\"24px\">\n",
              "    <path d=\"M0 0h24v24H0V0z\" fill=\"none\"/>\n",
              "    <path d=\"M18.56 5.44l.94 2.06.94-2.06 2.06-.94-2.06-.94-.94-2.06-.94 2.06-2.06.94zm-11 1L8.5 8.5l.94-2.06 2.06-.94-2.06-.94L8.5 2.5l-.94 2.06-2.06.94zm10 10l.94 2.06.94-2.06 2.06-.94-2.06-.94-.94-2.06-.94 2.06-2.06.94z\"/><path d=\"M17.41 7.96l-1.37-1.37c-.4-.4-.92-.59-1.43-.59-.52 0-1.04.2-1.43.59L10.3 9.45l-7.72 7.72c-.78.78-.78 2.05 0 2.83L4 21.41c.39.39.9.59 1.41.59.51 0 1.02-.2 1.41-.59l7.78-7.78 2.81-2.81c.8-.78.8-2.07 0-2.86zM5.41 20L4 18.59l7.72-7.72 1.47 1.35L5.41 20z\"/>\n",
              "  </svg>\n",
              "      </button>\n",
              "      \n",
              "  <style>\n",
              "    .colab-df-container {\n",
              "      display:flex;\n",
              "      flex-wrap:wrap;\n",
              "      gap: 12px;\n",
              "    }\n",
              "\n",
              "    .colab-df-convert {\n",
              "      background-color: #E8F0FE;\n",
              "      border: none;\n",
              "      border-radius: 50%;\n",
              "      cursor: pointer;\n",
              "      display: none;\n",
              "      fill: #1967D2;\n",
              "      height: 32px;\n",
              "      padding: 0 0 0 0;\n",
              "      width: 32px;\n",
              "    }\n",
              "\n",
              "    .colab-df-convert:hover {\n",
              "      background-color: #E2EBFA;\n",
              "      box-shadow: 0px 1px 2px rgba(60, 64, 67, 0.3), 0px 1px 3px 1px rgba(60, 64, 67, 0.15);\n",
              "      fill: #174EA6;\n",
              "    }\n",
              "\n",
              "    [theme=dark] .colab-df-convert {\n",
              "      background-color: #3B4455;\n",
              "      fill: #D2E3FC;\n",
              "    }\n",
              "\n",
              "    [theme=dark] .colab-df-convert:hover {\n",
              "      background-color: #434B5C;\n",
              "      box-shadow: 0px 1px 3px 1px rgba(0, 0, 0, 0.15);\n",
              "      filter: drop-shadow(0px 1px 2px rgba(0, 0, 0, 0.3));\n",
              "      fill: #FFFFFF;\n",
              "    }\n",
              "  </style>\n",
              "\n",
              "      <script>\n",
              "        const buttonEl =\n",
              "          document.querySelector('#df-8a7192b4-dff9-4626-84d9-d663fd05ec4c button.colab-df-convert');\n",
              "        buttonEl.style.display =\n",
              "          google.colab.kernel.accessAllowed ? 'block' : 'none';\n",
              "\n",
              "        async function convertToInteractive(key) {\n",
              "          const element = document.querySelector('#df-8a7192b4-dff9-4626-84d9-d663fd05ec4c');\n",
              "          const dataTable =\n",
              "            await google.colab.kernel.invokeFunction('convertToInteractive',\n",
              "                                                     [key], {});\n",
              "          if (!dataTable) return;\n",
              "\n",
              "          const docLinkHtml = 'Like what you see? Visit the ' +\n",
              "            '<a target=\"_blank\" href=https://colab.research.google.com/notebooks/data_table.ipynb>data table notebook</a>'\n",
              "            + ' to learn more about interactive tables.';\n",
              "          element.innerHTML = '';\n",
              "          dataTable['output_type'] = 'display_data';\n",
              "          await google.colab.output.renderOutput(dataTable, element);\n",
              "          const docLink = document.createElement('div');\n",
              "          docLink.innerHTML = docLinkHtml;\n",
              "          element.appendChild(docLink);\n",
              "        }\n",
              "      </script>\n",
              "    </div>\n",
              "  </div>\n",
              "  "
            ],
            "text/plain": [
              "         timestamp (s)  ...   chest temperature (°C)\n",
              "358756         3558.28  ...                  33.8750\n",
              "1774216        3585.10  ...                  36.4375\n",
              "787564         4061.91  ...                  31.9375\n",
              "\n",
              "[3 rows x 5 columns]"
            ]
          },
          "metadata": {},
          "execution_count": 49
        }
      ],
      "source": [
        "activity24_df=sample_df[sample_df['activityID']==24]\n",
        "activity24_df"
      ]
    },
    {
      "cell_type": "code",
      "execution_count": null,
      "metadata": {
        "colab": {
          "base_uri": "https://localhost:8080/"
        },
        "id": "xeDcsE3hY2hG",
        "outputId": "8ce19966-bf68-4a2e-b4ea-374af24a37ce"
      },
      "outputs": [
        {
          "output_type": "execute_result",
          "data": {
            "text/plain": [
              "array([74.23076923, 74.61538462, 76.37062937, ..., 77.52447552,\n",
              "       71.61538462, 75.52447552])"
            ]
          },
          "metadata": {},
          "execution_count": 50
        }
      ],
      "source": [
        "smallsample_1=sample_creation(activity1_df['heart rate (bpm)'])\n",
        "smallsample_1"
      ]
    },
    {
      "cell_type": "markdown",
      "metadata": {
        "id": "yuoG_iP1Y2hG"
      },
      "source": [
        "The means of bootstrapped sampling for activity1_df and activity24_df is in the form of normal distribution in the graphs with upper and lower bounds as shown below."
      ]
    },
    {
      "cell_type": "code",
      "execution_count": null,
      "metadata": {
        "colab": {
          "base_uri": "https://localhost:8080/",
          "height": 285
        },
        "id": "UQkja6CZY2hG",
        "outputId": "5401e2c3-348e-402b-dbe7-b8b56ddbeba0"
      },
      "outputs": [
        {
          "output_type": "display_data",
          "data": {
            "image/png": "[encoded data removed]",
            "text/plain": [
              "<Figure size 720x216 with 1 Axes>"
            ]
          },
          "metadata": {
            "needs_background": "light"
          }
        },
        {
          "output_type": "stream",
          "name": "stdout",
          "text": [
            "Lower bound: 71.21678321678321\n",
            "Upper bound: 78.89510489510488\n"
          ]
        },
        {
          "output_type": "execute_result",
          "data": {
            "text/plain": [
              "(None, None)"
            ]
          },
          "metadata": {},
          "execution_count": 51
        }
      ],
      "source": [
        "graph_creation(smallsample_1,'activity_1','')"
      ]
    },
    {
      "cell_type": "code",
      "execution_count": null,
      "metadata": {
        "colab": {
          "base_uri": "https://localhost:8080/"
        },
        "id": "8UIXAcPLY2hG",
        "outputId": "71b67187-6953-4377-d7f8-21390efd1aba"
      },
      "outputs": [
        {
          "output_type": "execute_result",
          "data": {
            "text/plain": [
              "array([168.66666667, 168.66666667, 168.66666667, ..., 129.33333333,\n",
              "       168.66666667, 129.33333333])"
            ]
          },
          "metadata": {},
          "execution_count": 52
        }
      ],
      "source": [
        "smallsample_24=sample_creation(activity24_df['heart rate (bpm)'])\n",
        "smallsample_24"
      ]
    },
    {
      "cell_type": "code",
      "execution_count": null,
      "metadata": {
        "colab": {
          "base_uri": "https://localhost:8080/",
          "height": 285
        },
        "id": "xh6xSbkHY2hG",
        "outputId": "3c26b7f4-bf77-4b76-a075-61d09c0aa1ad"
      },
      "outputs": [
        {
          "output_type": "display_data",
          "data": {
            "image/png": "[encoded data removed]",
            "text/plain": [
              "<Figure size 720x216 with 1 Axes>"
            ]
          },
          "metadata": {
            "needs_background": "light"
          }
        },
        {
          "output_type": "stream",
          "name": "stdout",
          "text": [
            "Lower bound: 122.0\n",
            "Upper bound: 181.0\n"
          ]
        },
        {
          "output_type": "execute_result",
          "data": {
            "text/plain": [
              "(None, None)"
            ]
          },
          "metadata": {},
          "execution_count": 53
        }
      ],
      "source": [
        "graph_creation(smallsample_24,'activity_24','')"
      ]
    },
    {
      "cell_type": "code",
      "execution_count": null,
      "metadata": {
        "colab": {
          "base_uri": "https://localhost:8080/",
          "height": 305
        },
        "id": "6gmLNtG6Y2hH",
        "outputId": "5d54b592-396a-4fb3-854d-a4286be1f2e0"
      },
      "outputs": [
        {
          "output_type": "display_data",
          "data": {
            "image/png": "[encoded data removed]",
            "text/plain": [
              "<Figure size 720x216 with 1 Axes>"
            ]
          },
          "metadata": {
            "needs_background": "light"
          }
        },
        {
          "output_type": "stream",
          "name": "stdout",
          "text": [
            "Lower bound: 46.87377622377623\n",
            "Upper bound: 106.61538461538461\n"
          ]
        },
        {
          "output_type": "execute_result",
          "data": {
            "text/plain": [
              "(None, None)"
            ]
          },
          "metadata": {},
          "execution_count": 54
        }
      ],
      "source": [
        "differences = smallsample_24 - smallsample_1\n",
        "lower_bound = np.percentile(differences, 2.5)\n",
        "upper_bound = np.percentile(differences, 97.5)\n",
        "graph_creation(differences,'Difference in heartrate','Bootstrapped Population (Difference Between 2 Groups)')"
      ]
    },
    {
      "cell_type": "markdown",
      "metadata": {
        "id": "stkGMrb8Y2hH"
      },
      "source": [
        "0 samples out of 10000 were under or equal 0 assuming an increase did not happen. We are 95% confident that the true difference between activity 24 and activity 1 groups is between 46.8 and 106.6."
      ]
    },
    {
      "cell_type": "code",
      "execution_count": null,
      "metadata": {
        "colab": {
          "base_uri": "https://localhost:8080/"
        },
        "id": "CXerX7PXY2hH",
        "outputId": "7af7c328-b9c6-454d-97fc-4a002fb742b9"
      },
      "outputs": [
        {
          "output_type": "execute_result",
          "data": {
            "text/plain": [
              "0"
            ]
          },
          "metadata": {},
          "execution_count": 55
        }
      ],
      "source": [
        "differences[differences <= 0].shape[0]"
      ]
    },
    {
      "cell_type": "code",
      "execution_count": null,
      "metadata": {
        "colab": {
          "base_uri": "https://localhost:8080/"
        },
        "id": "rMOwVVskY2hH",
        "outputId": "b32eefe3-c0f4-4090-9ccc-1aefca94698c"
      },
      "outputs": [
        {
          "output_type": "execute_result",
          "data": {
            "text/plain": [
              "array([-0.61633473,  0.08962867,  0.41722191, ..., -0.31251375,\n",
              "        0.52467319, -0.03115035])"
            ]
          },
          "metadata": {},
          "execution_count": 56
        }
      ],
      "source": [
        "dif_bootstrap_means=difference_bootstarp_means(smallsample_24, smallsample_1)\n",
        "dif_bootstrap_means"
      ]
    },
    {
      "cell_type": "code",
      "execution_count": null,
      "metadata": {
        "colab": {
          "base_uri": "https://localhost:8080/",
          "height": 239
        },
        "id": "3U8juw1fY2hH",
        "outputId": "6eb63109-4654-4c7c-fe8b-a9340f6ff5b6"
      },
      "outputs": [
        {
          "output_type": "display_data",
          "data": {
            "image/png": "[encoded data removed]",
            "text/plain": [
              "<Figure size 720x216 with 1 Axes>"
            ]
          },
          "metadata": {
            "needs_background": "light"
          }
        }
      ],
      "source": [
        "plot_fig(dif_bootstrap_means,'Difference in heartrate','')"
      ]
    },
    {
      "cell_type": "code",
      "execution_count": null,
      "metadata": {
        "colab": {
          "base_uri": "https://localhost:8080/"
        },
        "id": "jw_0rWJBY2hH",
        "outputId": "eaa8cb43-5297-4558-9ed8-d6ac5bff7796"
      },
      "outputs": [
        {
          "output_type": "stream",
          "name": "stdout",
          "text": [
            "observed difference in means: 73.93256293706293\n",
            "p-value: 0.0\n"
          ]
        },
        {
          "output_type": "execute_result",
          "data": {
            "text/plain": [
              "(None, None)"
            ]
          },
          "metadata": {},
          "execution_count": 58
        }
      ],
      "source": [
        "(obs_diff,p_val)=obs_difs_and_p_val(smallsample_24,smallsample_1)\n",
        "(obs_diff,p_val)"
      ]
    },
    {
      "cell_type": "code",
      "execution_count": null,
      "metadata": {
        "colab": {
          "base_uri": "https://localhost:8080/",
          "height": 253
        },
        "id": "nM0pHNoXY2hH",
        "outputId": "3a62ebac-e6ac-473a-f498-78e6757b5d57"
      },
      "outputs": [
        {
          "output_type": "display_data",
          "data": {
            "image/png": "[encoded data removed]",
            "text/plain": [
              "<Figure size 720x216 with 1 Axes>"
            ]
          },
          "metadata": {
            "needs_background": "light"
          }
        }
      ],
      "source": [
        "plot_fig(dif_bootstrap_means,'difference in heart rate',73.93256293706293)"
      ]
    },
    {
      "cell_type": "markdown",
      "metadata": {
        "id": "KySbJPqnY2hH"
      },
      "source": [
        "Out of 10,000 bootstrap samples, none of the samples had a difference in means of 73.9 or higher shown by the red line above. Resulting in a **p-value of 0**. This is not a very likely occurence. As a result, we will **reject the null hypothesis**. This proves that there is an **increase in the heart rate for activity_24(μ1) than activity_1(μ0) heart rate.**"
      ]
    },
    {
      "cell_type": "markdown",
      "metadata": {
        "id": "HPbhSjhaY2hH"
      },
      "source": [
        "### Hypothesis Test2\n"
      ]
    },
    {
      "cell_type": "markdown",
      "metadata": {
        "id": "4U8kuInTY2hH"
      },
      "source": [
        "Below H0 and Ha are my Null hypothesis and alternative hypothesis, here the relationship between IMU chest temperature(μ1)  and IMU hand temperature(μ0) is tested."
      ]
    },
    {
      "cell_type": "markdown",
      "metadata": {
        "id": "h-nZfXPJY2hH"
      },
      "source": [
        "**H0:μ1−μ0=0   Null hypothesis is that No difference between IMU chest temperature(μ1) and IMU hand temperature(μ0).**\n",
        "\n",
        "\n",
        "**Ha:μ1−μ0>0   The alternative hypothesis is that there is an increase in the IMU chest temperature(μ1) than IMU hand temperature(μ0).**"
      ]
    },
    {
      "cell_type": "code",
      "execution_count": null,
      "metadata": {
        "colab": {
          "base_uri": "https://localhost:8080/"
        },
        "id": "tLVB8GnNY2hH",
        "outputId": "11065a23-f9e9-4525-ddbb-f9a310fb3c25"
      },
      "outputs": [
        {
          "output_type": "execute_result",
          "data": {
            "text/plain": [
              "array([35.949375, 36.374375, 36.104375, ..., 36.1175  , 36.3775  ,\n",
              "       36.291875])"
            ]
          },
          "metadata": {},
          "execution_count": 60
        }
      ],
      "source": [
        "smallsample_chest=sample_creation(sample_df[' chest temperature (°C)'])\n",
        "smallsample_chest"
      ]
    },
    {
      "cell_type": "code",
      "execution_count": null,
      "metadata": {
        "colab": {
          "base_uri": "https://localhost:8080/",
          "height": 285
        },
        "id": "gx6eT-zOY2hH",
        "outputId": "29370455-fd4c-4404-bb99-6cc5bf6b0216"
      },
      "outputs": [
        {
          "output_type": "display_data",
          "data": {
            "image/png": "[encoded data removed]",
            "text/plain": [
              "<Figure size 720x216 with 1 Axes>"
            ]
          },
          "metadata": {
            "needs_background": "light"
          }
        },
        {
          "output_type": "stream",
          "name": "stdout",
          "text": [
            "Lower bound: 35.796234375\n",
            "Upper bound: 36.401875\n"
          ]
        },
        {
          "output_type": "execute_result",
          "data": {
            "text/plain": [
              "(None, None)"
            ]
          },
          "metadata": {},
          "execution_count": 61
        }
      ],
      "source": [
        "graph_creation(smallsample_chest,'chest temperature','')"
      ]
    },
    {
      "cell_type": "code",
      "execution_count": null,
      "metadata": {
        "colab": {
          "base_uri": "https://localhost:8080/"
        },
        "id": "4g0nv2gxY2hH",
        "outputId": "9ed14c9f-2f35-4aad-cf1f-53e04bd2078d"
      },
      "outputs": [
        {
          "output_type": "execute_result",
          "data": {
            "text/plain": [
              "array([32.705625, 32.9675  , 32.730625, ..., 32.671875, 32.99125 ,\n",
              "       32.65    ])"
            ]
          },
          "metadata": {},
          "execution_count": 62
        }
      ],
      "source": [
        "smallsample_hand=sample_creation(sample_df[' hand temperature (°C)'])\n",
        "smallsample_hand"
      ]
    },
    {
      "cell_type": "code",
      "execution_count": null,
      "metadata": {
        "colab": {
          "base_uri": "https://localhost:8080/",
          "height": 285
        },
        "id": "YqBnsFESY2hI",
        "outputId": "103a62e0-e09e-4c31-a2e3-d8faf81708b6"
      },
      "outputs": [
        {
          "output_type": "display_data",
          "data": {
            "image/png": "[encoded data removed]",
            "text/plain": [
              "<Figure size 720x216 with 1 Axes>"
            ]
          },
          "metadata": {
            "needs_background": "light"
          }
        },
        {
          "output_type": "stream",
          "name": "stdout",
          "text": [
            "Lower bound: 32.3\n",
            "Upper bound: 33.01\n"
          ]
        },
        {
          "output_type": "execute_result",
          "data": {
            "text/plain": [
              "(None, None)"
            ]
          },
          "metadata": {},
          "execution_count": 63
        }
      ],
      "source": [
        "graph_creation(smallsample_hand,'hand temperature','')"
      ]
    },
    {
      "cell_type": "code",
      "execution_count": null,
      "metadata": {
        "colab": {
          "base_uri": "https://localhost:8080/",
          "height": 305
        },
        "id": "1uPFb13EY2hI",
        "outputId": "6353ccd2-9304-43bb-c554-f1c71e51f460"
      },
      "outputs": [
        {
          "output_type": "display_data",
          "data": {
            "image/png": "[encoded data removed]",
            "text/plain": [
              "<Figure size 720x216 with 1 Axes>"
            ]
          },
          "metadata": {
            "needs_background": "light"
          }
        },
        {
          "output_type": "stream",
          "name": "stdout",
          "text": [
            "Lower bound: 3.21875\n",
            "Upper bound: 3.6793750000000003\n"
          ]
        },
        {
          "output_type": "execute_result",
          "data": {
            "text/plain": [
              "(None, None)"
            ]
          },
          "metadata": {},
          "execution_count": 64
        }
      ],
      "source": [
        "differences = smallsample_chest - smallsample_hand\n",
        "lower_bound = np.percentile(differences, 2.5)\n",
        "upper_bound = np.percentile(differences, 97.5)\n",
        "graph_creation(differences,'Difference in temperature','Bootstrapped Population (Difference Between 2 Groups)')"
      ]
    },
    {
      "cell_type": "markdown",
      "metadata": {
        "id": "XQ5gUN8mY2hI"
      },
      "source": [
        "0 samples out of 10000 were under or equal 0 assuming an increase did not happen. We are 95% confident that the true difference between chest temperature and hand temperature groups is between 3.21 and 3.67."
      ]
    },
    {
      "cell_type": "code",
      "execution_count": null,
      "metadata": {
        "colab": {
          "base_uri": "https://localhost:8080/"
        },
        "id": "3jamLzZjY2hI",
        "outputId": "98dfe316-03b0-48a1-dc77-5e1ca8778e80"
      },
      "outputs": [
        {
          "output_type": "execute_result",
          "data": {
            "text/plain": [
              "0"
            ]
          },
          "metadata": {},
          "execution_count": 65
        }
      ],
      "source": [
        "differences[differences <= 0].shape[0]"
      ]
    },
    {
      "cell_type": "code",
      "execution_count": null,
      "metadata": {
        "colab": {
          "base_uri": "https://localhost:8080/"
        },
        "id": "-wIyoE64Y2hI",
        "outputId": "1630b621-050b-4df2-ffab-d43256e5db08"
      },
      "outputs": [
        {
          "output_type": "execute_result",
          "data": {
            "text/plain": [
              "array([-0.02493713, -0.00475069,  0.02500819, ..., -0.00396463,\n",
              "        0.02651294,  0.00714488])"
            ]
          },
          "metadata": {},
          "execution_count": 66
        }
      ],
      "source": [
        "dif_bootstrap_means=difference_bootstarp_means(smallsample_chest, smallsample_hand)\n",
        "dif_bootstrap_means"
      ]
    },
    {
      "cell_type": "code",
      "execution_count": null,
      "metadata": {
        "colab": {
          "base_uri": "https://localhost:8080/",
          "height": 239
        },
        "id": "Vz-ZOsDqY2hI",
        "outputId": "25449c6b-6b18-4d4b-e547-07f94c474967"
      },
      "outputs": [
        {
          "output_type": "display_data",
          "data": {
            "image/png": "[encoded data removed]",
            "text/plain": [
              "<Figure size 720x216 with 1 Axes>"
            ]
          },
          "metadata": {
            "needs_background": "light"
          }
        }
      ],
      "source": [
        "plot_fig(dif_bootstrap_means,'Difference in temperatures','')"
      ]
    },
    {
      "cell_type": "code",
      "execution_count": null,
      "metadata": {
        "colab": {
          "base_uri": "https://localhost:8080/"
        },
        "id": "KkpC3K9IY2hI",
        "outputId": "ccade22f-a11a-424d-903b-45d7be907247"
      },
      "outputs": [
        {
          "output_type": "stream",
          "name": "stdout",
          "text": [
            "observed difference in means: 3.4452224999999927\n",
            "p-value: 0.0\n"
          ]
        },
        {
          "output_type": "execute_result",
          "data": {
            "text/plain": [
              "(None, None)"
            ]
          },
          "metadata": {},
          "execution_count": 68
        }
      ],
      "source": [
        "obs_difs_and_p_val(smallsample_chest,smallsample_hand)"
      ]
    },
    {
      "cell_type": "code",
      "execution_count": null,
      "metadata": {
        "colab": {
          "base_uri": "https://localhost:8080/",
          "height": 253
        },
        "id": "BI3Pp_24Y2hI",
        "outputId": "2543f6fa-0aae-467c-9ac4-291318b73a97"
      },
      "outputs": [
        {
          "output_type": "display_data",
          "data": {
            "image/png": "[encoded data removed]",
            "text/plain": [
              "<Figure size 720x216 with 1 Axes>"
            ]
          },
          "metadata": {
            "needs_background": "light"
          }
        }
      ],
      "source": [
        "plot_fig(dif_bootstrap_means,'difference in temperatures',3.4452224999999927)"
      ]
    },
    {
      "cell_type": "markdown",
      "metadata": {
        "id": "lnq8NDqqY2hI"
      },
      "source": [
        "Out of 10,000 bootstrap samples, none of the samples had a difference in means of 3.44 or higher shown by the red line above. Resulting in a **p-value of 0**. This is not a very likely occurence. As a result, we will **reject the null hypothesis**. This states that there is an **increase in the IMU chest temperature(μ1) than IMU hand temperature(μ0)**."
      ]
    },
    {
      "cell_type": "markdown",
      "metadata": {
        "id": "zxA__GrDY2hI"
      },
      "source": [
        "# 3.Develop and test at least one model which uses multiple attributes to make predictions"
      ]
    },
    {
      "cell_type": "markdown",
      "metadata": {
        "id": "9l5TxBw7Y2hI"
      },
      "source": [
        "## Machine learning model\n",
        "A machine learning model is a computer programme that has been trained to recognise specific patterns. You train a model on a set of data and give it an algorithm to use to reason about and learn from that data.\n",
        "\n",
        "Once the model has been trained, you can use it to reason over data it hasn't seen before and make predictions about it. Consider the following scenario: you want to create an app that can understand a user's emotions based on their facial expressions. You can train a model by feeding it photos of faces each labelled with a different emotion, and then use that model in an application to recognise any user's emotion.\n",
        "\n",
        "The following are common characteristics of good machine learning scenarios:\n",
        "\n",
        "1.They require consistent results and entail a repeated judgement or evaluation that you want to automate.\n",
        "\n",
        "2.Explicitly describing the solution or criteria that led to a conclusion is difficult, if not impossible.\n",
        "\n",
        "3.You have labelled data or examples of how to characterise a scenario and map it to the correct outcome.\n",
        "\n",
        "\n",
        "## Supervised machine learning \n",
        "\n",
        "In the presence of uncertainty, supervised machine learning creates a model that makes predictions based on evidence. A supervised learning technique trains a model to create plausible predictions for the response to incoming data using a known set of input data and known responses to the data (output).\n",
        "\n",
        "For this problem, supervised machine learning approach is followed, the main reason for choosing this approach is the data used for the analysis is a labelled data, means the target variable is already a part of the data(known data).Hence, supervised machine learning models are utilised.\n",
        "\n",
        "### Steps in Supervised Learning\n",
        "\n",
        "**1.Data preparation**\n",
        "\n",
        "The process of cleaning and altering raw data prior to processing and analysis is known as data preparation. It's a crucial stage before processing that often include reformatting data, making data changes, and integrating data sets to enrich data. This has already been done in the earlier stages on the dataframe `df`.\n",
        "\n",
        "Also, in order to pass the data to a model, the data should be splitted into X_train, X_test, y_train and y_test. X_train, y_train are used to train the model, and is tested using X_test and y_test.\n",
        "\n",
        "**2.Algorithm selection**\n",
        "\n",
        "1.For predicting the type of physical activity, RandomForestClassifier and LogisticRegression is considered.\n",
        "\n",
        "2.Since, the models taught in module, did not prove to be efficient for determining the amount of physical activity and was having higher execution times,  DecisionTreeRegressor, and RegularisedRegression is considered for determining of the amount of physical activity.\n",
        "\n",
        "**3.Fitting a model**\n",
        "\n",
        "Here we need to make sure that data is not overfitted or underfitted, because, over or under fitting may give good accuracy scores, but in real world, they fail(very poor accuracy). Hence, overfitted and underfitted should be avoided for an efficient and effective model.\n",
        "\n",
        "Here the models are fitted with reduced data from the PCA analysis(principal_df).\n",
        "\n",
        "1.For predicting the type of physical activity the data is split into X_train, X_test, y_train and y_test using `split_train_test_activity` function. Here the X_train, X_test contains 12 PC columns and y_train, y_test has activityID columns. The model is fitted with X_train, y_train and is tested using X_test and y_test as shown in the below code.\n",
        "\n",
        "2.For determining the amount of physical activity, the data is studied carefully, and it was found out that the activities are carried by individuals in a sequential manner, that is one activity after the other and the timestamp column indicates a continuous time, for example, if cycling is done from 0 to 10 minutes, next activity standing is started from 10 minutes itself and not recorded from 0 minutes. This gives an understating, that at any particular point, if the model is able to predict the 'timestamp (s)' given the features, the amount of activity done by that individual can be found, which is nothing but the 'timestamp (s)' value. For example, if the model predicts the timestamp value as 35 minutes, it means that the subject has done an activity of 35 minutes.\n",
        "\n",
        "For this prediction similar to predicting the type of physical activity, a function called `split_train_test_time` is used. Here the X_train, X_test contains 12 PC columns and y_train, y_test has timestamp (s) columns. The model is fitted with X_train, y_train and is tested using X_test and y_test as shown in the below code. Here the predicted test values are also converted to int(ignoring micro seconds) for greater accuracy of the model.\n",
        "\n",
        "\n",
        "**4.Using fitted model for predictions on train and test data**\n",
        "\n",
        "Once the model is fitted, it can be used to make predictions. Training predictions are done using X_train and testing predictions are done using X_test, these methods are shown in the below code.\n",
        "\n",
        "**5.Evaluating the chosen model using a evaluation metric**\n",
        "\n",
        "1.Here, accuracy is chosen to be the evaluation metric for the models. \n",
        "\n",
        "2.Train accuracy is calculated by validating values obtained by executing the model against X_train(y_train_pred) against y_train values.\n",
        "\n",
        "3.Test accuracy is obtained by validating values obtained by executing the model against X_test(y_test_pred) against y_test values."
      ]
    },
    {
      "cell_type": "markdown",
      "metadata": {
        "id": "R7c2cAYVY2hI"
      },
      "source": [
        "## Prediction of type of physical activity"
      ]
    },
    {
      "cell_type": "markdown",
      "metadata": {
        "id": "TLirCf1xY2hI"
      },
      "source": [
        "### RandomForestClassifier "
      ]
    },
    {
      "cell_type": "code",
      "execution_count": null,
      "metadata": {
        "id": "7AwlVQ53bvuC",
        "colab": {
          "base_uri": "https://localhost:8080/"
        },
        "outputId": "be23974e-4efb-4164-cbdf-8a280068b1db"
      },
      "outputs": [
        {
          "output_type": "execute_result",
          "data": {
            "text/plain": [
              "RandomForestClassifier()"
            ]
          },
          "metadata": {},
          "execution_count": 70
        }
      ],
      "source": [
        "#Create a Gaussian Classifier\n",
        "clf=RandomForestClassifier(n_estimators=100)\n",
        "\n",
        "#Train the model using the training sets y_pred=clf.predict(X_test)\n",
        "clf.fit(X_train,y_train)"
      ]
    },
    {
      "cell_type": "code",
      "execution_count": null,
      "metadata": {
        "colab": {
          "base_uri": "https://localhost:8080/"
        },
        "id": "lIh0zM2LY2hJ",
        "outputId": "c11e8073-90b0-4ba9-da0b-725b2efe16c7"
      },
      "outputs": [
        {
          "output_type": "stream",
          "name": "stdout",
          "text": [
            "Train Accuracy of RandomForestClassifier is 100.0\n",
            "Test Accuracy of RandomForestClassifier is 84.5808461883535\n"
          ]
        }
      ],
      "source": [
        "# prediction on test set\n",
        "y_pred=clf.predict(X_test)\n",
        "y_pred_train=clf.predict(X_train)\n",
        "print(\"Train Accuracy of RandomForestClassifier is\",metrics.accuracy_score(y_train, y_pred_train)*100)\n",
        "# Model Accuracy, how often is the classifier correct?\n",
        "print(\"Test Accuracy of RandomForestClassifier is\",metrics.accuracy_score(y_test, y_pred)*100)"
      ]
    },
    {
      "cell_type": "markdown",
      "metadata": {
        "id": "a1p9bNazY2hJ"
      },
      "source": [
        "### LogisticRegression"
      ]
    },
    {
      "cell_type": "code",
      "execution_count": null,
      "metadata": {
        "colab": {
          "base_uri": "https://localhost:8080/"
        },
        "id": "VYe4WkfgdTjC",
        "outputId": "619f3bc6-c64b-4a2d-cd01-946f783a7f4b"
      },
      "outputs": [
        {
          "output_type": "stream",
          "name": "stderr",
          "text": [
            "/usr/local/lib/python3.7/dist-packages/sklearn/linear_model/_logistic.py:818: ConvergenceWarning: lbfgs failed to converge (status=1):\n",
            "STOP: TOTAL NO. of ITERATIONS REACHED LIMIT.\n",
            "\n",
            "Increase the number of iterations (max_iter) or scale the data as shown in:\n",
            "    https://scikit-learn.org/stable/modules/preprocessing.html\n",
            "Please also refer to the documentation for alternative solver options:\n",
            "    https://scikit-learn.org/stable/modules/linear_model.html#logistic-regression\n",
            "  extra_warning_msg=_LOGISTIC_SOLVER_CONVERGENCE_MSG,\n"
          ]
        },
        {
          "output_type": "stream",
          "name": "stdout",
          "text": [
            "Logistic regression accuracy on train:  82.14169696032175\n",
            "Logistic regression accuracy on test:  71.37799619300111\n"
          ]
        }
      ],
      "source": [
        "reg = LogisticRegression()\n",
        "reg.fit(X_train, y_train)\n",
        "preds = reg.predict(X_train)\n",
        "print('Logistic regression accuracy on train: ', accuracy_score(y_train,preds)*100)\n",
        "preds = reg.predict(X_test)\n",
        "print('Logistic regression accuracy on test: ', accuracy_score(y_test,preds)*100)"
      ]
    },
    {
      "cell_type": "markdown",
      "metadata": {
        "id": "Swd7kssoY2hJ"
      },
      "source": [
        "After running the model, it was found that RandomForestClassifier gave a test accuracy of 84.58% and Logistic regression accuracy was 71.41% for predicting of type of physical activity . So, ideally, **RandomForestClassifier** is the best method for this problem.\n",
        "\n",
        "Also the **Random Forest technique** is a versatile modelling algorithm that may be used for both classification and regression. Random Forest is a forest of trees, decision trees that are randomly distributed throughout the forest, as the name implies. The algorithms generate and integrate decision trees; the more trees in the forest, the more accurate the algorithm's forecasts will be.\n",
        "\n",
        "Random Forest algorithms are useful because of their high accuracy and flexibility, as they may be used for both classification and regression modelling. Furthermore, Random Forest aids in the performance of datasets with high dimensionality, such as ours, whereas the **Logistic Regression** technique is a straightforward algorithm for binary and multivariate classification applications. It yields a chance that a data point belongs to a class."
      ]
    },
    {
      "cell_type": "markdown",
      "metadata": {
        "id": "LeC1cjBfY2hJ"
      },
      "source": [
        "## Determining of the amount of physical activity"
      ]
    },
    {
      "cell_type": "markdown",
      "metadata": {
        "id": "OMS2G5mOY2hJ"
      },
      "source": [
        "### DecisionTreeRegressor"
      ]
    },
    {
      "cell_type": "code",
      "execution_count": null,
      "metadata": {
        "colab": {
          "base_uri": "https://localhost:8080/"
        },
        "id": "-OMXQEWH2ttl",
        "outputId": "6e3d87e8-cb04-4fc7-ac1e-1d4692611f9c"
      },
      "outputs": [
        {
          "output_type": "stream",
          "name": "stdout",
          "text": [
            "Decision Tree Regressor accuracy on train:  100.0\n",
            "Decision Tree Regressor accuracy on test:  75.86051511685709\n"
          ]
        }
      ],
      "source": [
        "from sklearn.tree import DecisionTreeRegressor\n",
        "dt = DecisionTreeRegressor()\n",
        "dt.fit(X_train_time, y_train_time)\n",
        "# predict on the train and the test\n",
        "train_preds = dt.predict(X_train_time)\n",
        "print('Decision Tree Regressor accuracy on train: ', accuracy_score(y_train_time,train_preds)*100)\n",
        "test_preds = dt.predict(X_test_time)\n",
        "test_preds=test_preds.astype(int)\n",
        "print('Decision Tree Regressor accuracy on test: ', accuracy_score(y_test_time,test_preds)*100)\n",
        "preds = 0"
      ]
    },
    {
      "cell_type": "markdown",
      "metadata": {
        "id": "aOUHhneSY2hJ"
      },
      "source": [
        "### RegularisedRegression"
      ]
    },
    {
      "cell_type": "code",
      "execution_count": null,
      "metadata": {
        "id": "Cw0LdowHID0E"
      },
      "outputs": [],
      "source": [
        "def augmentedx(x,order):\n",
        "    '''\n",
        "    create augmented matrix (for polynomial of order given in argument)\n",
        "    '''\n",
        "    \n",
        "    N = np.size(x)\n",
        "    X=np.zeros((N,order+1))\n",
        "    #X=X.astype(object)\n",
        "    for k in range(order+1):\n",
        "        X[:,k]=np.power(x,k)\n",
        "    return X"
      ]
    },
    {
      "cell_type": "code",
      "execution_count": null,
      "metadata": {
        "id": "0NcZG-JWID2v"
      },
      "outputs": [],
      "source": [
        "def regularisedRegression(x,y,order,lam): # Calculate regularised regression parameters\n",
        "# order: order of the polynomial\n",
        "# lam: value of the regularisation parameter lambda (NB: lambda is a reserved word in Python so don't use as variable name!)\n",
        "    N = np.size(x) # how many samples\n",
        "    X = augmentedx(x,order)\n",
        "    if lam>0: # if there is regularisation\n",
        "        w = np.dot(np.linalg.inv(np.dot(np.transpose(X),X)+N*lam*np.eye(order)),np.dot(np.transpose(X),y)) # formula in the lecture notes\n",
        "    else: # the non-regularised formulation\n",
        "        w = np.dot(np.linalg.inv(np.dot(np.transpose(X),X)),np.dot(np.transpose(X),y)) # formula in the lecture notes\n",
        "    return w,X"
      ]
    },
    {
      "cell_type": "code",
      "execution_count": null,
      "metadata": {
        "id": "LSVQZMCyEci7"
      },
      "outputs": [],
      "source": [
        "def predict(x,w): # Calculate predictions for a given set of observations x and parameters w (either regularised or not!)\n",
        "    order = np.size(w) # extract order of polynomial from size of parameters\n",
        "    X = augmentedx(x,order-1)\n",
        "    y_pred = np.dot(X,w)\n",
        "    return y_pred"
      ]
    },
    {
      "cell_type": "code",
      "execution_count": null,
      "metadata": {
        "id": "AmcvzYR7Y2hK"
      },
      "outputs": [],
      "source": [
        "def accuracy_measure(y_vals,y_preds):\n",
        "    correct=0\n",
        "    index=0\n",
        "    for j in y_vals:\n",
        "      #print(j)\n",
        "      #print(predddd[index])\n",
        "      if int(y_preds[index])==int(j):\n",
        "          correct+=1\n",
        "      index+=1\n",
        "    accuracy=(correct/len(y_preds))*100\n",
        "    return accuracy"
      ]
    },
    {
      "cell_type": "code",
      "execution_count": null,
      "metadata": {
        "id": "qHMTlyz3Y2hK"
      },
      "outputs": [],
      "source": [
        "X_train, X_test, y_train, y_test = train_test_split(principal_df['PC1'],principal_df['timestamp (s)'],test_size=0.33, random_state=42)"
      ]
    },
    {
      "cell_type": "code",
      "execution_count": null,
      "metadata": {
        "id": "EUk_YbfUmsLE",
        "colab": {
          "base_uri": "https://localhost:8080/"
        },
        "outputId": "b6c45680-2881-48dd-e727-87a107d03a4a"
      },
      "outputs": [
        {
          "output_type": "execute_result",
          "data": {
            "text/plain": [
              "(array([1.62196456e+03, 9.99672297e-01]),\n",
              " array([[ 1.00000000e+00, -3.13649448e+02],\n",
              "        [ 1.00000000e+00,  4.54773163e+02],\n",
              "        [ 1.00000000e+00,  1.55538791e+03],\n",
              "        ...,\n",
              "        [ 1.00000000e+00,  1.32181796e+02],\n",
              "        [ 1.00000000e+00,  4.90765718e+02],\n",
              "        [ 1.00000000e+00, -7.71647096e+01]]))"
            ]
          },
          "metadata": {},
          "execution_count": 79
        }
      ],
      "source": [
        "res=regularisedRegression(X_train,y_train,1,0)\n",
        "res"
      ]
    },
    {
      "cell_type": "code",
      "execution_count": null,
      "metadata": {
        "id": "LlePNaWrEcmF",
        "colab": {
          "base_uri": "https://localhost:8080/"
        },
        "outputId": "0322b94e-c5ae-4649-ad24-069887721e20"
      },
      "outputs": [
        {
          "output_type": "execute_result",
          "data": {
            "text/plain": [
              "array([1308.41789427, 2076.58869123, 3176.84276644, ..., 1754.10303825,\n",
              "       2112.56945093, 1544.82513617])"
            ]
          },
          "metadata": {},
          "execution_count": 80
        }
      ],
      "source": [
        "pred1=predict(X_train,res[0])\n",
        "pred1"
      ]
    },
    {
      "cell_type": "code",
      "execution_count": null,
      "metadata": {
        "id": "g_K48IDP8Dbx",
        "colab": {
          "base_uri": "https://localhost:8080/"
        },
        "outputId": "24b25945-bd54-493c-8bfd-9b254168f3de"
      },
      "outputs": [
        {
          "output_type": "stream",
          "name": "stdout",
          "text": [
            "Train accuracy is 57.23717162777977\n"
          ]
        }
      ],
      "source": [
        "print('Train accuracy is', accuracy_measure(y_train,pred1))"
      ]
    },
    {
      "cell_type": "code",
      "execution_count": null,
      "metadata": {
        "colab": {
          "base_uri": "https://localhost:8080/"
        },
        "id": "gubK2rCKY2hK",
        "outputId": "d45c0615-38ca-48b2-ac53-88fd43915617"
      },
      "outputs": [
        {
          "output_type": "execute_result",
          "data": {
            "text/plain": [
              "array([1120.02088126, 1279.35816643, 2704.32111303, ..., 2261.74805871,\n",
              "        475.61397845,  220.90647415])"
            ]
          },
          "metadata": {},
          "execution_count": 82
        }
      ],
      "source": [
        "pred2=predict(X_test,res[0])\n",
        "pred2"
      ]
    },
    {
      "cell_type": "code",
      "execution_count": null,
      "metadata": {
        "colab": {
          "base_uri": "https://localhost:8080/"
        },
        "id": "-tBN4sY1Y2hK",
        "outputId": "f671752b-1eb4-41cd-9d91-7918119b9e55"
      },
      "outputs": [
        {
          "output_type": "stream",
          "name": "stdout",
          "text": [
            "Test accuracy is 57.330444764703316\n"
          ]
        }
      ],
      "source": [
        "print('Test accuracy is', accuracy_measure(y_test,pred2))"
      ]
    },
    {
      "cell_type": "markdown",
      "metadata": {
        "id": "PkupuzQuY2hK"
      },
      "source": [
        "After running the model, it was found that DecisionTreeRegressor gave a test accuracy of 75.86% and RegularisedRegression accuracy was 57.33% for determining the amount of physical activity . So, ideally, **DecisionTreeRegressor** is the best method for this problem.\n",
        "\n",
        "In the shape of a tree structure, a **Decision tree** creates regression or classification models. It incrementally cuts down a dataset into smaller and smaller sections while simultaneously developing a decision tree. A tree containing decision and leaf nodes is the end result."
      ]
    },
    {
      "cell_type": "markdown",
      "metadata": {
        "id": "eU2Dzon4Y2hK"
      },
      "source": [
        "# Actionable insights "
      ]
    },
    {
      "cell_type": "markdown",
      "metadata": {
        "id": "9kBLS818Y2hK"
      },
      "source": [
        "1.For predicting activity type and determing the amount of activity done by a person, a hardware for physical activity can be developed. As, Fitness trackers are now widely used in our regular physical activities, it would be a nice idea to launch a wearable accessory with this technology to predict the activity and amount.\n",
        "\n",
        "2.However, there are better models than the above applied ones. In order to get more accurate results, the models like neural_network MLPClassifier,naive bayes, Support Vector Machine etc can be trained and tested on a trial and error basis and the most accurate model can be chosen.(As there is a restriction on the type of model used, these previously mentioned models are opted out in the report).\n",
        "\n",
        "3.From data perspective, more accurate and efficient IMU sensors should have been used on 9 participants, because the existing ones created a lot of NaN's in the most important 'heart rate(bpm)' column. If this can be fixed, the models trained might be more efficient. \n",
        "\n",
        "4.Since the goal is to develop a hardware/software for a larger population, the dataset used for training should comprise of more number of individuals/subjects from all genders and diverse demographics, unlike PAMAP2(has only 9 subjects and only one women). The subject diversity helps the model to train on real world scenarios, in turn producing an efficient hardware/software."
      ]
    }
  ],
  "metadata": {
    "colab": {
      "collapsed_sections": [],
      "name": "Final PAMAP2 Assignment_244859 .ipynb",
      "provenance": [],
      "include_colab_link": true
    },
    "kernelspec": {
      "display_name": "Python 3",
      "language": "python",
      "name": "python3"
    },
    "language_info": {
      "codemirror_mode": {
        "name": "ipython",
        "version": 3
      },
      "file_extension": ".py",
      "mimetype": "text/x-python",
      "name": "python",
      "nbconvert_exporter": "python",
      "pygments_lexer": "ipython3",
      "version": "3.8.8"
    }
  },
  "nbformat": 4,
  "nbformat_minor": 0
}