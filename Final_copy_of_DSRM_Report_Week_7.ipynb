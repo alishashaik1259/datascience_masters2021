{
 "cells": [
  {
   "cell_type": "markdown",
   "id": "f32d75cd",
   "metadata": {
    "id": "f32d75cd"
   },
   "source": [
    "# **Exploratory Data Analysis of the IMDB Movie data and Recommendations**"
   ]
  },
  {
   "cell_type": "markdown",
   "id": "893f090f",
   "metadata": {
    "id": "893f090f"
   },
   "source": [
    "The purpose of this data analysis is to provide data driven recommendations to the SussexBudgetProductions company. This analysis will help the company to make insightful decisions regarding which movie they should produce in order to make good returns, within their specified budget.\n",
    "\n",
    "As a Data Scientist, I am planning to analysis the hidden trends in the data of the movie_metadata.csv. My approach to this problem is to find which movies have higher Return on Investment(ROI). By which movies, I mean, the genre of the movie, the language, the market in which it should be released within the company’s budget."
   ]
  },
  {
   "cell_type": "code",
   "execution_count": 90,
   "id": "74e77d43",
   "metadata": {
    "id": "74e77d43"
   },
   "outputs": [],
   "source": [
    "#Uncomment this cell if you are running this in jupyter notebook(Anaconda)\n",
    "#update the movie_metadata (1).csv loaction according to your computer location\n",
    "#myfile='/Users/alishashaik/Downloads/movie_metadata (1).csv'"
   ]
  },
  {
   "cell_type": "code",
   "execution_count": 91,
   "id": "Hqcn6aUONZpI",
   "metadata": {
    "colab": {
     "base_uri": "https://localhost:8080/"
    },
    "id": "Hqcn6aUONZpI",
    "outputId": "68bf9c7e-48cd-41ed-8906-4f2f79a18db7"
   },
   "outputs": [
    {
     "name": "stdout",
     "output_type": "stream",
     "text": [
      "Drive already mounted at /content/drive; to attempt to forcibly remount, call drive.mount(\"/content/drive\", force_remount=True).\n"
     ]
    }
   ],
   "source": [
    "#Uncomment this cell if you are working in colab\n",
    "#you don't need it and it will cause a ModuleNotFoundError on Anaconda\n",
    "from google.colab import drive\n",
    "drive.mount('/content/drive')"
   ]
  },
  {
   "cell_type": "code",
   "execution_count": 92,
   "id": "7085d5b5",
   "metadata": {
    "colab": {
     "base_uri": "https://localhost:8080/",
     "height": 360
    },
    "id": "7085d5b5",
    "outputId": "5bb4680c-d1b4-40ec-d993-66099db12aac"
   },
   "outputs": [
    {
     "data": {
      "text/html": [
       "<div>\n",
       "<style scoped>\n",
       "    .dataframe tbody tr th:only-of-type {\n",
       "        vertical-align: middle;\n",
       "    }\n",
       "\n",
       "    .dataframe tbody tr th {\n",
       "        vertical-align: top;\n",
       "    }\n",
       "\n",
       "    .dataframe thead th {\n",
       "        text-align: right;\n",
       "    }\n",
       "</style>\n",
       "<table border=\"1\" class=\"dataframe\">\n",
       "  <thead>\n",
       "    <tr style=\"text-align: right;\">\n",
       "      <th></th>\n",
       "      <th>color</th>\n",
       "      <th>director_name</th>\n",
       "      <th>num_critic_for_reviews</th>\n",
       "      <th>duration</th>\n",
       "      <th>director_facebook_likes</th>\n",
       "      <th>actor_3_facebook_likes</th>\n",
       "      <th>actor_2_name</th>\n",
       "      <th>actor_1_facebook_likes</th>\n",
       "      <th>gross</th>\n",
       "      <th>genres</th>\n",
       "      <th>actor_1_name</th>\n",
       "      <th>movie_title</th>\n",
       "      <th>num_voted_users</th>\n",
       "      <th>cast_total_facebook_likes</th>\n",
       "      <th>actor_3_name</th>\n",
       "      <th>facenumber_in_poster</th>\n",
       "      <th>plot_keywords</th>\n",
       "      <th>movie_imdb_link</th>\n",
       "      <th>num_user_for_reviews</th>\n",
       "      <th>language</th>\n",
       "      <th>country</th>\n",
       "      <th>content_rating</th>\n",
       "      <th>budget</th>\n",
       "      <th>title_year</th>\n",
       "      <th>actor_2_facebook_likes</th>\n",
       "      <th>imdb_score</th>\n",
       "      <th>aspect_ratio</th>\n",
       "      <th>movie_facebook_likes</th>\n",
       "    </tr>\n",
       "  </thead>\n",
       "  <tbody>\n",
       "    <tr>\n",
       "      <th>0</th>\n",
       "      <td>Color</td>\n",
       "      <td>James Cameron</td>\n",
       "      <td>723.0</td>\n",
       "      <td>178.0</td>\n",
       "      <td>0.0</td>\n",
       "      <td>855.0</td>\n",
       "      <td>Joel David Moore</td>\n",
       "      <td>1000.0</td>\n",
       "      <td>760505847.0</td>\n",
       "      <td>Action|Adventure|Fantasy|Sci-Fi</td>\n",
       "      <td>CCH Pounder</td>\n",
       "      <td>Avatar</td>\n",
       "      <td>886204</td>\n",
       "      <td>4834</td>\n",
       "      <td>Wes Studi</td>\n",
       "      <td>0.0</td>\n",
       "      <td>avatar|future|marine|native|paraplegic</td>\n",
       "      <td>http://www.imdb.com/title/tt0499549/?ref_=fn_t...</td>\n",
       "      <td>3054.0</td>\n",
       "      <td>English</td>\n",
       "      <td>USA</td>\n",
       "      <td>PG-13</td>\n",
       "      <td>237000000.0</td>\n",
       "      <td>2009.0</td>\n",
       "      <td>936.0</td>\n",
       "      <td>7.9</td>\n",
       "      <td>1.78</td>\n",
       "      <td>33000</td>\n",
       "    </tr>\n",
       "    <tr>\n",
       "      <th>1</th>\n",
       "      <td>Color</td>\n",
       "      <td>Gore Verbinski</td>\n",
       "      <td>302.0</td>\n",
       "      <td>169.0</td>\n",
       "      <td>563.0</td>\n",
       "      <td>1000.0</td>\n",
       "      <td>Orlando Bloom</td>\n",
       "      <td>40000.0</td>\n",
       "      <td>309404152.0</td>\n",
       "      <td>Action|Adventure|Fantasy</td>\n",
       "      <td>Johnny Depp</td>\n",
       "      <td>Pirates of the Caribbean: At World's End</td>\n",
       "      <td>471220</td>\n",
       "      <td>48350</td>\n",
       "      <td>Jack Davenport</td>\n",
       "      <td>0.0</td>\n",
       "      <td>goddess|marriage ceremony|marriage proposal|pi...</td>\n",
       "      <td>http://www.imdb.com/title/tt0449088/?ref_=fn_t...</td>\n",
       "      <td>1238.0</td>\n",
       "      <td>English</td>\n",
       "      <td>USA</td>\n",
       "      <td>PG-13</td>\n",
       "      <td>300000000.0</td>\n",
       "      <td>2007.0</td>\n",
       "      <td>5000.0</td>\n",
       "      <td>7.1</td>\n",
       "      <td>2.35</td>\n",
       "      <td>0</td>\n",
       "    </tr>\n",
       "    <tr>\n",
       "      <th>2</th>\n",
       "      <td>Color</td>\n",
       "      <td>Sam Mendes</td>\n",
       "      <td>602.0</td>\n",
       "      <td>148.0</td>\n",
       "      <td>0.0</td>\n",
       "      <td>161.0</td>\n",
       "      <td>Rory Kinnear</td>\n",
       "      <td>11000.0</td>\n",
       "      <td>200074175.0</td>\n",
       "      <td>Action|Adventure|Thriller</td>\n",
       "      <td>Christoph Waltz</td>\n",
       "      <td>Spectre</td>\n",
       "      <td>275868</td>\n",
       "      <td>11700</td>\n",
       "      <td>Stephanie Sigman</td>\n",
       "      <td>1.0</td>\n",
       "      <td>bomb|espionage|sequel|spy|terrorist</td>\n",
       "      <td>http://www.imdb.com/title/tt2379713/?ref_=fn_t...</td>\n",
       "      <td>994.0</td>\n",
       "      <td>English</td>\n",
       "      <td>UK</td>\n",
       "      <td>PG-13</td>\n",
       "      <td>245000000.0</td>\n",
       "      <td>2015.0</td>\n",
       "      <td>393.0</td>\n",
       "      <td>6.8</td>\n",
       "      <td>2.35</td>\n",
       "      <td>85000</td>\n",
       "    </tr>\n",
       "    <tr>\n",
       "      <th>3</th>\n",
       "      <td>Color</td>\n",
       "      <td>Christopher Nolan</td>\n",
       "      <td>813.0</td>\n",
       "      <td>164.0</td>\n",
       "      <td>22000.0</td>\n",
       "      <td>23000.0</td>\n",
       "      <td>Christian Bale</td>\n",
       "      <td>27000.0</td>\n",
       "      <td>448130642.0</td>\n",
       "      <td>Action|Thriller</td>\n",
       "      <td>Tom Hardy</td>\n",
       "      <td>The Dark Knight Rises</td>\n",
       "      <td>1144337</td>\n",
       "      <td>106759</td>\n",
       "      <td>Joseph Gordon-Levitt</td>\n",
       "      <td>0.0</td>\n",
       "      <td>deception|imprisonment|lawlessness|police offi...</td>\n",
       "      <td>http://www.imdb.com/title/tt1345836/?ref_=fn_t...</td>\n",
       "      <td>2701.0</td>\n",
       "      <td>English</td>\n",
       "      <td>USA</td>\n",
       "      <td>PG-13</td>\n",
       "      <td>250000000.0</td>\n",
       "      <td>2012.0</td>\n",
       "      <td>23000.0</td>\n",
       "      <td>8.5</td>\n",
       "      <td>2.35</td>\n",
       "      <td>164000</td>\n",
       "    </tr>\n",
       "    <tr>\n",
       "      <th>4</th>\n",
       "      <td>NaN</td>\n",
       "      <td>Doug Walker</td>\n",
       "      <td>NaN</td>\n",
       "      <td>NaN</td>\n",
       "      <td>131.0</td>\n",
       "      <td>NaN</td>\n",
       "      <td>Rob Walker</td>\n",
       "      <td>131.0</td>\n",
       "      <td>NaN</td>\n",
       "      <td>Documentary</td>\n",
       "      <td>Doug Walker</td>\n",
       "      <td>Star Wars: Episode VII - The Force Awakens    ...</td>\n",
       "      <td>8</td>\n",
       "      <td>143</td>\n",
       "      <td>NaN</td>\n",
       "      <td>0.0</td>\n",
       "      <td>NaN</td>\n",
       "      <td>http://www.imdb.com/title/tt5289954/?ref_=fn_t...</td>\n",
       "      <td>NaN</td>\n",
       "      <td>NaN</td>\n",
       "      <td>NaN</td>\n",
       "      <td>NaN</td>\n",
       "      <td>NaN</td>\n",
       "      <td>NaN</td>\n",
       "      <td>12.0</td>\n",
       "      <td>7.1</td>\n",
       "      <td>NaN</td>\n",
       "      <td>0</td>\n",
       "    </tr>\n",
       "  </tbody>\n",
       "</table>\n",
       "</div>"
      ],
      "text/plain": [
       "   color      director_name  ...  aspect_ratio  movie_facebook_likes\n",
       "0  Color      James Cameron  ...          1.78                 33000\n",
       "1  Color     Gore Verbinski  ...          2.35                     0\n",
       "2  Color         Sam Mendes  ...          2.35                 85000\n",
       "3  Color  Christopher Nolan  ...          2.35                164000\n",
       "4    NaN        Doug Walker  ...           NaN                     0\n",
       "\n",
       "[5 rows x 28 columns]"
      ]
     },
     "execution_count": 92,
     "metadata": {},
     "output_type": "execute_result"
    }
   ],
   "source": [
    "#this is a code cell. Write the code that you want to do things in it. Leave some comments with the code to \n",
    "#explain what you are doing, where appropriate. \n",
    "\n",
    "\n",
    "#standard imports for when working with pandas\n",
    "import numpy as np\n",
    "#matplotlib inline\n",
    "from matplotlib import pyplot as plt\n",
    "import pandas as pd\n",
    "\n",
    "# Giving the location from where the data needs to be taken.\n",
    "myfile='/content/drive/MyDrive/Colab Notebooks/Data Science research methods/Assignments/Assignment 3 Report/movie_metadata.csv'\n",
    "\n",
    "#read the movie metadata file into a dataframe in pandas.\n",
    "df = pd.read_csv(myfile,index_col=None)\n",
    "\n",
    "#display the 'head' of the data\n",
    "df.head()"
   ]
  },
  {
   "cell_type": "code",
   "execution_count": 93,
   "id": "fc570416",
   "metadata": {
    "colab": {
     "base_uri": "https://localhost:8080/"
    },
    "id": "fc570416",
    "outputId": "62649d6e-b834-4e6d-c424-affd5a6ef242"
   },
   "outputs": [
    {
     "data": {
      "text/plain": [
       "Index(['color', 'director_name', 'num_critic_for_reviews', 'duration',\n",
       "       'director_facebook_likes', 'actor_3_facebook_likes', 'actor_2_name',\n",
       "       'actor_1_facebook_likes', 'gross', 'genres', 'actor_1_name',\n",
       "       'movie_title', 'num_voted_users', 'cast_total_facebook_likes',\n",
       "       'actor_3_name', 'facenumber_in_poster', 'plot_keywords',\n",
       "       'movie_imdb_link', 'num_user_for_reviews', 'language', 'country',\n",
       "       'content_rating', 'budget', 'title_year', 'actor_2_facebook_likes',\n",
       "       'imdb_score', 'aspect_ratio', 'movie_facebook_likes'],\n",
       "      dtype='object')"
      ]
     },
     "execution_count": 93,
     "metadata": {},
     "output_type": "execute_result"
    }
   ],
   "source": [
    "#Getting the column info\n",
    "df.columns"
   ]
  },
  {
   "cell_type": "markdown",
   "id": "270d611e",
   "metadata": {
    "id": "270d611e"
   },
   "source": [
    "## **Data Pre-processing**"
   ]
  },
  {
   "cell_type": "code",
   "execution_count": 94,
   "id": "4243fd9a",
   "metadata": {
    "colab": {
     "base_uri": "https://localhost:8080/",
     "height": 317
    },
    "id": "4243fd9a",
    "outputId": "4141e031-0543-46bf-a6f2-0add061d094b"
   },
   "outputs": [
    {
     "data": {
      "text/html": [
       "<div>\n",
       "<style scoped>\n",
       "    .dataframe tbody tr th:only-of-type {\n",
       "        vertical-align: middle;\n",
       "    }\n",
       "\n",
       "    .dataframe tbody tr th {\n",
       "        vertical-align: top;\n",
       "    }\n",
       "\n",
       "    .dataframe thead th {\n",
       "        text-align: right;\n",
       "    }\n",
       "</style>\n",
       "<table border=\"1\" class=\"dataframe\">\n",
       "  <thead>\n",
       "    <tr style=\"text-align: right;\">\n",
       "      <th></th>\n",
       "      <th>num_critic_for_reviews</th>\n",
       "      <th>duration</th>\n",
       "      <th>director_facebook_likes</th>\n",
       "      <th>actor_3_facebook_likes</th>\n",
       "      <th>actor_1_facebook_likes</th>\n",
       "      <th>gross</th>\n",
       "      <th>num_voted_users</th>\n",
       "      <th>cast_total_facebook_likes</th>\n",
       "      <th>facenumber_in_poster</th>\n",
       "      <th>num_user_for_reviews</th>\n",
       "      <th>budget</th>\n",
       "      <th>title_year</th>\n",
       "      <th>actor_2_facebook_likes</th>\n",
       "      <th>imdb_score</th>\n",
       "      <th>aspect_ratio</th>\n",
       "      <th>movie_facebook_likes</th>\n",
       "    </tr>\n",
       "  </thead>\n",
       "  <tbody>\n",
       "    <tr>\n",
       "      <th>count</th>\n",
       "      <td>4993.000000</td>\n",
       "      <td>5028.000000</td>\n",
       "      <td>4939.000000</td>\n",
       "      <td>5020.000000</td>\n",
       "      <td>5036.000000</td>\n",
       "      <td>4.159000e+03</td>\n",
       "      <td>5.043000e+03</td>\n",
       "      <td>5043.000000</td>\n",
       "      <td>5030.000000</td>\n",
       "      <td>5022.000000</td>\n",
       "      <td>4.551000e+03</td>\n",
       "      <td>4935.000000</td>\n",
       "      <td>5030.000000</td>\n",
       "      <td>5043.000000</td>\n",
       "      <td>4714.000000</td>\n",
       "      <td>5043.000000</td>\n",
       "    </tr>\n",
       "    <tr>\n",
       "      <th>mean</th>\n",
       "      <td>140.194272</td>\n",
       "      <td>107.201074</td>\n",
       "      <td>686.509212</td>\n",
       "      <td>645.009761</td>\n",
       "      <td>6560.047061</td>\n",
       "      <td>4.846841e+07</td>\n",
       "      <td>8.366816e+04</td>\n",
       "      <td>9699.063851</td>\n",
       "      <td>1.371173</td>\n",
       "      <td>272.770808</td>\n",
       "      <td>3.975262e+07</td>\n",
       "      <td>2002.470517</td>\n",
       "      <td>1651.754473</td>\n",
       "      <td>6.442138</td>\n",
       "      <td>2.220403</td>\n",
       "      <td>7525.964505</td>\n",
       "    </tr>\n",
       "    <tr>\n",
       "      <th>std</th>\n",
       "      <td>121.601675</td>\n",
       "      <td>25.197441</td>\n",
       "      <td>2813.328607</td>\n",
       "      <td>1665.041728</td>\n",
       "      <td>15020.759120</td>\n",
       "      <td>6.845299e+07</td>\n",
       "      <td>1.384853e+05</td>\n",
       "      <td>18163.799124</td>\n",
       "      <td>2.013576</td>\n",
       "      <td>377.982886</td>\n",
       "      <td>2.061149e+08</td>\n",
       "      <td>12.474599</td>\n",
       "      <td>4042.438863</td>\n",
       "      <td>1.125116</td>\n",
       "      <td>1.385113</td>\n",
       "      <td>19320.445110</td>\n",
       "    </tr>\n",
       "    <tr>\n",
       "      <th>min</th>\n",
       "      <td>1.000000</td>\n",
       "      <td>7.000000</td>\n",
       "      <td>0.000000</td>\n",
       "      <td>0.000000</td>\n",
       "      <td>0.000000</td>\n",
       "      <td>1.620000e+02</td>\n",
       "      <td>5.000000e+00</td>\n",
       "      <td>0.000000</td>\n",
       "      <td>0.000000</td>\n",
       "      <td>1.000000</td>\n",
       "      <td>2.180000e+02</td>\n",
       "      <td>1916.000000</td>\n",
       "      <td>0.000000</td>\n",
       "      <td>1.600000</td>\n",
       "      <td>1.180000</td>\n",
       "      <td>0.000000</td>\n",
       "    </tr>\n",
       "    <tr>\n",
       "      <th>25%</th>\n",
       "      <td>50.000000</td>\n",
       "      <td>93.000000</td>\n",
       "      <td>7.000000</td>\n",
       "      <td>133.000000</td>\n",
       "      <td>614.000000</td>\n",
       "      <td>5.340988e+06</td>\n",
       "      <td>8.593500e+03</td>\n",
       "      <td>1411.000000</td>\n",
       "      <td>0.000000</td>\n",
       "      <td>65.000000</td>\n",
       "      <td>6.000000e+06</td>\n",
       "      <td>1999.000000</td>\n",
       "      <td>281.000000</td>\n",
       "      <td>5.800000</td>\n",
       "      <td>1.850000</td>\n",
       "      <td>0.000000</td>\n",
       "    </tr>\n",
       "    <tr>\n",
       "      <th>50%</th>\n",
       "      <td>110.000000</td>\n",
       "      <td>103.000000</td>\n",
       "      <td>49.000000</td>\n",
       "      <td>371.500000</td>\n",
       "      <td>988.000000</td>\n",
       "      <td>2.551750e+07</td>\n",
       "      <td>3.435900e+04</td>\n",
       "      <td>3090.000000</td>\n",
       "      <td>1.000000</td>\n",
       "      <td>156.000000</td>\n",
       "      <td>2.000000e+07</td>\n",
       "      <td>2005.000000</td>\n",
       "      <td>595.000000</td>\n",
       "      <td>6.600000</td>\n",
       "      <td>2.350000</td>\n",
       "      <td>166.000000</td>\n",
       "    </tr>\n",
       "    <tr>\n",
       "      <th>75%</th>\n",
       "      <td>195.000000</td>\n",
       "      <td>118.000000</td>\n",
       "      <td>194.500000</td>\n",
       "      <td>636.000000</td>\n",
       "      <td>11000.000000</td>\n",
       "      <td>6.230944e+07</td>\n",
       "      <td>9.630900e+04</td>\n",
       "      <td>13756.500000</td>\n",
       "      <td>2.000000</td>\n",
       "      <td>326.000000</td>\n",
       "      <td>4.500000e+07</td>\n",
       "      <td>2011.000000</td>\n",
       "      <td>918.000000</td>\n",
       "      <td>7.200000</td>\n",
       "      <td>2.350000</td>\n",
       "      <td>3000.000000</td>\n",
       "    </tr>\n",
       "    <tr>\n",
       "      <th>max</th>\n",
       "      <td>813.000000</td>\n",
       "      <td>511.000000</td>\n",
       "      <td>23000.000000</td>\n",
       "      <td>23000.000000</td>\n",
       "      <td>640000.000000</td>\n",
       "      <td>7.605058e+08</td>\n",
       "      <td>1.689764e+06</td>\n",
       "      <td>656730.000000</td>\n",
       "      <td>43.000000</td>\n",
       "      <td>5060.000000</td>\n",
       "      <td>1.221550e+10</td>\n",
       "      <td>2016.000000</td>\n",
       "      <td>137000.000000</td>\n",
       "      <td>9.500000</td>\n",
       "      <td>16.000000</td>\n",
       "      <td>349000.000000</td>\n",
       "    </tr>\n",
       "  </tbody>\n",
       "</table>\n",
       "</div>"
      ],
      "text/plain": [
       "       num_critic_for_reviews     duration  ...  aspect_ratio  movie_facebook_likes\n",
       "count             4993.000000  5028.000000  ...   4714.000000           5043.000000\n",
       "mean               140.194272   107.201074  ...      2.220403           7525.964505\n",
       "std                121.601675    25.197441  ...      1.385113          19320.445110\n",
       "min                  1.000000     7.000000  ...      1.180000              0.000000\n",
       "25%                 50.000000    93.000000  ...      1.850000              0.000000\n",
       "50%                110.000000   103.000000  ...      2.350000            166.000000\n",
       "75%                195.000000   118.000000  ...      2.350000           3000.000000\n",
       "max                813.000000   511.000000  ...     16.000000         349000.000000\n",
       "\n",
       "[8 rows x 16 columns]"
      ]
     },
     "execution_count": 94,
     "metadata": {},
     "output_type": "execute_result"
    }
   ],
   "source": [
    "#a quick statistic summary of numeric data\n",
    "df.describe()"
   ]
  },
  {
   "cell_type": "code",
   "execution_count": 95,
   "id": "ed4daaf5",
   "metadata": {
    "colab": {
     "base_uri": "https://localhost:8080/"
    },
    "id": "ed4daaf5",
    "outputId": "60bd3e7f-722f-45b2-f5e1-94fe3c20368f"
   },
   "outputs": [
    {
     "data": {
      "text/plain": [
       "(5043, 28)"
      ]
     },
     "execution_count": 95,
     "metadata": {},
     "output_type": "execute_result"
    }
   ],
   "source": [
    "df.shape"
   ]
  },
  {
   "cell_type": "code",
   "execution_count": 96,
   "id": "6053cfdf",
   "metadata": {
    "colab": {
     "base_uri": "https://localhost:8080/"
    },
    "id": "6053cfdf",
    "outputId": "d8619a04-3b39-4d55-9c64-46afb909d2a4"
   },
   "outputs": [
    {
     "data": {
      "text/plain": [
       "color                         object\n",
       "director_name                 object\n",
       "num_critic_for_reviews       float64\n",
       "duration                     float64\n",
       "director_facebook_likes      float64\n",
       "actor_3_facebook_likes       float64\n",
       "actor_2_name                  object\n",
       "actor_1_facebook_likes       float64\n",
       "gross                        float64\n",
       "genres                        object\n",
       "actor_1_name                  object\n",
       "movie_title                   object\n",
       "num_voted_users                int64\n",
       "cast_total_facebook_likes      int64\n",
       "actor_3_name                  object\n",
       "facenumber_in_poster         float64\n",
       "plot_keywords                 object\n",
       "movie_imdb_link               object\n",
       "num_user_for_reviews         float64\n",
       "language                      object\n",
       "country                       object\n",
       "content_rating                object\n",
       "budget                       float64\n",
       "title_year                   float64\n",
       "actor_2_facebook_likes       float64\n",
       "imdb_score                   float64\n",
       "aspect_ratio                 float64\n",
       "movie_facebook_likes           int64\n",
       "dtype: object"
      ]
     },
     "execution_count": 96,
     "metadata": {},
     "output_type": "execute_result"
    }
   ],
   "source": [
    "#Checking the datatype of each column\n",
    "df.dtypes"
   ]
  },
  {
   "cell_type": "code",
   "execution_count": 97,
   "id": "79981cc5",
   "metadata": {
    "colab": {
     "base_uri": "https://localhost:8080/"
    },
    "id": "79981cc5",
    "outputId": "103c90f2-8b36-45c6-c0af-30dce818e5de"
   },
   "outputs": [
    {
     "name": "stdout",
     "output_type": "stream",
     "text": [
      "color, 19 \n",
      "director_name, 104 \n",
      "num_critic_for_reviews, 50 \n",
      "duration, 15 \n",
      "director_facebook_likes, 104 \n",
      "actor_3_facebook_likes, 23 \n",
      "actor_2_name, 13 \n",
      "actor_1_facebook_likes, 7 \n",
      "gross, 884 \n",
      "genres, 0 \n",
      "actor_1_name, 7 \n",
      "movie_title, 0 \n",
      "num_voted_users, 0 \n",
      "cast_total_facebook_likes, 0 \n",
      "actor_3_name, 23 \n",
      "facenumber_in_poster, 13 \n",
      "plot_keywords, 153 \n",
      "movie_imdb_link, 0 \n",
      "num_user_for_reviews, 21 \n",
      "language, 12 \n",
      "country, 5 \n",
      "content_rating, 303 \n",
      "budget, 492 \n",
      "title_year, 108 \n",
      "actor_2_facebook_likes, 13 \n",
      "imdb_score, 0 \n",
      "aspect_ratio, 329 \n",
      "movie_facebook_likes, 0 \n"
     ]
    }
   ],
   "source": [
    "#Checking the columns for NaN values\n",
    "list1=df.columns\n",
    "for i in list1:\n",
    "    output=df[i].isnull().sum()\n",
    "    print( \"{}, {} \".format(i,output))\n",
    "    "
   ]
  },
  {
   "cell_type": "code",
   "execution_count": 98,
   "id": "2d79917f",
   "metadata": {
    "id": "2d79917f"
   },
   "outputs": [],
   "source": [
    "#Dropping the NaN values in gross and budget columns, because replacing them with median will be creating outliers.\n",
    "df.dropna(subset=[\"gross\",\"budget\"],inplace=True)"
   ]
  },
  {
   "cell_type": "code",
   "execution_count": 99,
   "id": "64336e03",
   "metadata": {
    "colab": {
     "base_uri": "https://localhost:8080/"
    },
    "id": "64336e03",
    "outputId": "2a055d0f-2c9e-445c-ff8e-0481cd01461c"
   },
   "outputs": [
    {
     "name": "stdout",
     "output_type": "stream",
     "text": [
      "['color', 'director_name', 'actor_2_name', 'genres', 'actor_1_name', 'movie_title', 'actor_3_name', 'plot_keywords', 'movie_imdb_link', 'language', 'country', 'content_rating']\n",
      "['num_critic_for_reviews', 'duration', 'director_facebook_likes', 'actor_3_facebook_likes', 'actor_1_facebook_likes', 'gross', 'num_voted_users', 'cast_total_facebook_likes', 'facenumber_in_poster', 'num_user_for_reviews', 'budget', 'title_year', 'actor_2_facebook_likes', 'imdb_score', 'aspect_ratio', 'movie_facebook_likes']\n"
     ]
    }
   ],
   "source": [
    "#Creating two list for Categorical columns and Interger/float columns.\n",
    "Object_list=[]\n",
    "interger_list=[]\n",
    "for  i in list1:\n",
    "    output=df[i].dtype\n",
    "    if output=='object':\n",
    "       Object_list=Object_list+[i]\n",
    "    else:\n",
    "       interger_list.append(i)\n",
    "\n",
    "#Seperating string columns and interger columns into 2 different lists\n",
    "print(Object_list)\n",
    "print(interger_list)"
   ]
  },
  {
   "cell_type": "code",
   "execution_count": 100,
   "id": "a45d5747",
   "metadata": {
    "colab": {
     "base_uri": "https://localhost:8080/"
    },
    "id": "a45d5747",
    "outputId": "a06d9315-d892-47e4-b35b-3b29821102bb"
   },
   "outputs": [
    {
     "name": "stdout",
     "output_type": "stream",
     "text": [
      "12\n",
      "16\n"
     ]
    }
   ],
   "source": [
    "#Checking their lenghts\n",
    "print(len(Object_list))\n",
    "print(len(interger_list))"
   ]
  },
  {
   "cell_type": "code",
   "execution_count": 101,
   "id": "cae793c1",
   "metadata": {
    "colab": {
     "base_uri": "https://localhost:8080/"
    },
    "id": "cae793c1",
    "outputId": "48aa959c-2311-4ea9-dff7-aba0bb048462"
   },
   "outputs": [
    {
     "name": "stdout",
     "output_type": "stream",
     "text": [
      "color, 2 \n",
      "actor_2_name, 5 \n",
      "actor_1_name, 3 \n",
      "actor_3_name, 10 \n",
      "plot_keywords, 31 \n",
      "language, 3 \n",
      "content_rating, 51 \n"
     ]
    }
   ],
   "source": [
    "#Getting the counts of NaN values, for columns in Object_list\n",
    "object_list_Nan=[]\n",
    "for i in Object_list:\n",
    "    output1=df[i].isnull().sum()\n",
    "    if output1 !=0:\n",
    "       object_list_Nan.append(i)\n",
    "       print( \"{}, {} \".format(i,output1))"
   ]
  },
  {
   "cell_type": "code",
   "execution_count": 102,
   "id": "ea78fd0d",
   "metadata": {
    "colab": {
     "base_uri": "https://localhost:8080/",
     "height": 266
    },
    "id": "ea78fd0d",
    "outputId": "689d80ed-9020-4bea-fb7b-0085447829ae"
   },
   "outputs": [
    {
     "data": {
      "text/html": [
       "<div>\n",
       "<style scoped>\n",
       "    .dataframe tbody tr th:only-of-type {\n",
       "        vertical-align: middle;\n",
       "    }\n",
       "\n",
       "    .dataframe tbody tr th {\n",
       "        vertical-align: top;\n",
       "    }\n",
       "\n",
       "    .dataframe thead th {\n",
       "        text-align: right;\n",
       "    }\n",
       "</style>\n",
       "<table border=\"1\" class=\"dataframe\">\n",
       "  <thead>\n",
       "    <tr style=\"text-align: right;\">\n",
       "      <th></th>\n",
       "      <th>Mode</th>\n",
       "    </tr>\n",
       "  </thead>\n",
       "  <tbody>\n",
       "    <tr>\n",
       "      <th>color</th>\n",
       "      <td>Color</td>\n",
       "    </tr>\n",
       "    <tr>\n",
       "      <th>actor_2_name</th>\n",
       "      <td>Morgan Freeman</td>\n",
       "    </tr>\n",
       "    <tr>\n",
       "      <th>actor_1_name</th>\n",
       "      <td>Robert De Niro</td>\n",
       "    </tr>\n",
       "    <tr>\n",
       "      <th>actor_3_name</th>\n",
       "      <td>Steve Coogan</td>\n",
       "    </tr>\n",
       "    <tr>\n",
       "      <th>plot_keywords</th>\n",
       "      <td>1940s|child hero|fantasy world|orphan|referenc...</td>\n",
       "    </tr>\n",
       "    <tr>\n",
       "      <th>language</th>\n",
       "      <td>English</td>\n",
       "    </tr>\n",
       "    <tr>\n",
       "      <th>content_rating</th>\n",
       "      <td>R</td>\n",
       "    </tr>\n",
       "  </tbody>\n",
       "</table>\n",
       "</div>"
      ],
      "text/plain": [
       "                                                             Mode\n",
       "color                                                       Color\n",
       "actor_2_name                                       Morgan Freeman\n",
       "actor_1_name                                       Robert De Niro\n",
       "actor_3_name                                         Steve Coogan\n",
       "plot_keywords   1940s|child hero|fantasy world|orphan|referenc...\n",
       "language                                                  English\n",
       "content_rating                                                  R"
      ]
     },
     "execution_count": 102,
     "metadata": {},
     "output_type": "execute_result"
    }
   ],
   "source": [
    "#Creating dictionary with each key pairs as column name and their mode value.\n",
    "dict1={}\n",
    "for i in object_list_Nan:\n",
    "    dict1[i]=df[i].mode().values[0]\n",
    "    my_series = pd.Series(dict1)\n",
    "    object_df=my_series.to_frame('Mode')\n",
    "    \n",
    "object_df"
   ]
  },
  {
   "cell_type": "code",
   "execution_count": 103,
   "id": "85d9c4d8",
   "metadata": {
    "colab": {
     "base_uri": "https://localhost:8080/"
    },
    "id": "85d9c4d8",
    "outputId": "0aa76d83-e5e2-44fe-e7bd-78d4da3afacc"
   },
   "outputs": [
    {
     "name": "stdout",
     "output_type": "stream",
     "text": [
      "num_critic_for_reviews, 1 \n",
      "duration, 1 \n",
      "actor_3_facebook_likes, 10 \n",
      "actor_1_facebook_likes, 3 \n",
      "facenumber_in_poster, 6 \n",
      "actor_2_facebook_likes, 5 \n",
      "aspect_ratio, 75 \n"
     ]
    }
   ],
   "source": [
    "# Finding the total sum of int/float datatype columns which have NaN values\n",
    "for i in interger_list:\n",
    "    output2=df[i].isnull().sum()\n",
    "    if output2 !=0:\n",
    "      print( \"{}, {} \".format(i,output2))"
   ]
  },
  {
   "cell_type": "code",
   "execution_count": 104,
   "id": "e1a88690",
   "metadata": {
    "colab": {
     "base_uri": "https://localhost:8080/",
     "height": 545
    },
    "id": "e1a88690",
    "outputId": "0993244a-d0e1-433b-e992-4264d21a69fa"
   },
   "outputs": [
    {
     "data": {
      "text/html": [
       "<div>\n",
       "<style scoped>\n",
       "    .dataframe tbody tr th:only-of-type {\n",
       "        vertical-align: middle;\n",
       "    }\n",
       "\n",
       "    .dataframe tbody tr th {\n",
       "        vertical-align: top;\n",
       "    }\n",
       "\n",
       "    .dataframe thead th {\n",
       "        text-align: right;\n",
       "    }\n",
       "</style>\n",
       "<table border=\"1\" class=\"dataframe\">\n",
       "  <thead>\n",
       "    <tr style=\"text-align: right;\">\n",
       "      <th></th>\n",
       "      <th>Median</th>\n",
       "    </tr>\n",
       "  </thead>\n",
       "  <tbody>\n",
       "    <tr>\n",
       "      <th>num_critic_for_reviews</th>\n",
       "      <td>134.00</td>\n",
       "    </tr>\n",
       "    <tr>\n",
       "      <th>duration</th>\n",
       "      <td>106.00</td>\n",
       "    </tr>\n",
       "    <tr>\n",
       "      <th>director_facebook_likes</th>\n",
       "      <td>58.00</td>\n",
       "    </tr>\n",
       "    <tr>\n",
       "      <th>actor_3_facebook_likes</th>\n",
       "      <td>427.00</td>\n",
       "    </tr>\n",
       "    <tr>\n",
       "      <th>actor_1_facebook_likes</th>\n",
       "      <td>1000.00</td>\n",
       "    </tr>\n",
       "    <tr>\n",
       "      <th>gross</th>\n",
       "      <td>27979400.00</td>\n",
       "    </tr>\n",
       "    <tr>\n",
       "      <th>num_voted_users</th>\n",
       "      <td>50415.00</td>\n",
       "    </tr>\n",
       "    <tr>\n",
       "      <th>cast_total_facebook_likes</th>\n",
       "      <td>3888.00</td>\n",
       "    </tr>\n",
       "    <tr>\n",
       "      <th>facenumber_in_poster</th>\n",
       "      <td>1.00</td>\n",
       "    </tr>\n",
       "    <tr>\n",
       "      <th>num_user_for_reviews</th>\n",
       "      <td>203.00</td>\n",
       "    </tr>\n",
       "    <tr>\n",
       "      <th>budget</th>\n",
       "      <td>24000000.00</td>\n",
       "    </tr>\n",
       "    <tr>\n",
       "      <th>title_year</th>\n",
       "      <td>2005.00</td>\n",
       "    </tr>\n",
       "    <tr>\n",
       "      <th>actor_2_facebook_likes</th>\n",
       "      <td>664.00</td>\n",
       "    </tr>\n",
       "    <tr>\n",
       "      <th>imdb_score</th>\n",
       "      <td>6.60</td>\n",
       "    </tr>\n",
       "    <tr>\n",
       "      <th>aspect_ratio</th>\n",
       "      <td>2.35</td>\n",
       "    </tr>\n",
       "    <tr>\n",
       "      <th>movie_facebook_likes</th>\n",
       "      <td>209.00</td>\n",
       "    </tr>\n",
       "  </tbody>\n",
       "</table>\n",
       "</div>"
      ],
      "text/plain": [
       "                                Median\n",
       "num_critic_for_reviews          134.00\n",
       "duration                        106.00\n",
       "director_facebook_likes          58.00\n",
       "actor_3_facebook_likes          427.00\n",
       "actor_1_facebook_likes         1000.00\n",
       "gross                      27979400.00\n",
       "num_voted_users               50415.00\n",
       "cast_total_facebook_likes      3888.00\n",
       "facenumber_in_poster              1.00\n",
       "num_user_for_reviews            203.00\n",
       "budget                     24000000.00\n",
       "title_year                     2005.00\n",
       "actor_2_facebook_likes          664.00\n",
       "imdb_score                        6.60\n",
       "aspect_ratio                      2.35\n",
       "movie_facebook_likes            209.00"
      ]
     },
     "execution_count": 104,
     "metadata": {},
     "output_type": "execute_result"
    }
   ],
   "source": [
    "#Creating dictionary with each key pairs as column name and their median value.\n",
    "dict2={}\n",
    "for i in interger_list:\n",
    "    dict2[i]=df[i].median()\n",
    "    my_series = pd.Series(dict2)\n",
    "    integer_df=my_series.to_frame('Median')\n",
    "    \n",
    "integer_df"
   ]
  },
  {
   "cell_type": "code",
   "execution_count": 105,
   "id": "057cafee",
   "metadata": {
    "id": "057cafee"
   },
   "outputs": [],
   "source": [
    "#Replacing Nan values with mode and medain for categorical and numerical data\n",
    "for column in df:\n",
    "    if df[column].isnull().any():\n",
    "        if(column in Object_list):\n",
    "            df[column]=df[column].fillna(df[column].mode()[0])\n",
    "        else:\n",
    "            df[column].fillna(df[column].median(), inplace=True)"
   ]
  },
  {
   "cell_type": "code",
   "execution_count": 106,
   "id": "7089328d",
   "metadata": {
    "id": "7089328d"
   },
   "outputs": [],
   "source": [
    "#converting gross and budget columns into million format for easy readability\n",
    "df['gross (in millions)']=df['gross']/1000000\n",
    "df['budget (in millions)']=df['budget']/1000000\n",
    "df.drop(['gross','budget'], axis=1, inplace=True)"
   ]
  },
  {
   "cell_type": "code",
   "execution_count": 107,
   "id": "da21562e",
   "metadata": {
    "colab": {
     "base_uri": "https://localhost:8080/",
     "height": 448
    },
    "id": "da21562e",
    "outputId": "533f5ed4-2e8a-42c3-81e6-aad3af1f9b92"
   },
   "outputs": [
    {
     "data": {
      "text/plain": [
       "<matplotlib.axes._subplots.AxesSubplot at 0x7f0208b5e5d0>"
      ]
     },
     "execution_count": 107,
     "metadata": {},
     "output_type": "execute_result"
    },
    {
     "data": {
      "image/png": "[encoded data removed]",
      "text/plain": [
       "<Figure size 720x504 with 1 Axes>"
      ]
     },
     "metadata": {},
     "output_type": "display_data"
    }
   ],
   "source": [
    "#boxplot showing outliers\n",
    "fig=plt.figure(figsize=(10,7))\n",
    "plt.yscale(\"log\")\n",
    "boxplot=df.boxplot(column=['gross (in millions)','budget (in millions)'])\n",
    "boxplot"
   ]
  },
  {
   "cell_type": "code",
   "execution_count": 108,
   "id": "Ve5zqkbgZxa5",
   "metadata": {
    "id": "Ve5zqkbgZxa5"
   },
   "outputs": [],
   "source": [
    "#filtering ouliers in gross column\n",
    "q_low = df[\"gross (in millions)\"].quantile(0.01)\n",
    "q_hi  = df[\"gross (in millions)\"].quantile(0.99)"
   ]
  },
  {
   "cell_type": "code",
   "execution_count": 109,
   "id": "IZHWhRXQadmr",
   "metadata": {
    "colab": {
     "base_uri": "https://localhost:8080/"
    },
    "id": "IZHWhRXQadmr",
    "outputId": "3521fddc-654b-4d9f-8b24-fbb4bc80cc7b"
   },
   "outputs": [
    {
     "name": "stdout",
     "output_type": "stream",
     "text": [
      "0.0106772 336.07963429999995\n"
     ]
    }
   ],
   "source": [
    "print(q_low, q_hi)"
   ]
  },
  {
   "cell_type": "code",
   "execution_count": 110,
   "id": "hgbf7dJQb9o3",
   "metadata": {
    "id": "hgbf7dJQb9o3"
   },
   "outputs": [],
   "source": [
    "#removing outliers\n",
    "df_filtered_gross = df[(df[\"gross (in millions)\"] < q_hi) & (df[\"gross (in millions)\"] > q_low)]"
   ]
  },
  {
   "cell_type": "code",
   "execution_count": 111,
   "id": "GWKqqyrKcCMH",
   "metadata": {
    "colab": {
     "base_uri": "https://localhost:8080/"
    },
    "id": "GWKqqyrKcCMH",
    "outputId": "e73b69f9-9163-4927-f296-41318780cd20"
   },
   "outputs": [
    {
     "data": {
      "text/plain": [
       "(3813, 28)"
      ]
     },
     "execution_count": 111,
     "metadata": {},
     "output_type": "execute_result"
    }
   ],
   "source": [
    "df_filtered_gross.shape"
   ]
  },
  {
   "cell_type": "code",
   "execution_count": 112,
   "id": "Ybf7vr-4eCyW",
   "metadata": {
    "id": "Ybf7vr-4eCyW"
   },
   "outputs": [],
   "source": [
    "#checking for ouliers in budget column\n",
    "q_low = df_filtered_gross[\"budget (in millions)\"].quantile(0.01)\n",
    "q_hi  = df_filtered_gross[\"budget (in millions)\"].quantile(0.99)"
   ]
  },
  {
   "cell_type": "code",
   "execution_count": 113,
   "id": "5TN09gS_eKxc",
   "metadata": {
    "colab": {
     "base_uri": "https://localhost:8080/"
    },
    "id": "5TN09gS_eKxc",
    "outputId": "e6275ae7-d833-415b-915d-9bcb9d195a27"
   },
   "outputs": [
    {
     "name": "stdout",
     "output_type": "stream",
     "text": [
      "0.15 200.0\n"
     ]
    }
   ],
   "source": [
    "print(q_low, q_hi)"
   ]
  },
  {
   "cell_type": "code",
   "execution_count": 114,
   "id": "dGiEP2ySeNmD",
   "metadata": {
    "id": "dGiEP2ySeNmD"
   },
   "outputs": [],
   "source": [
    "#removing outliers\n",
    "df_filtered_budget = df[(df[\"budget (in millions)\"] < q_hi) & (df[\"budget (in millions)\"] > q_low)]"
   ]
  },
  {
   "cell_type": "code",
   "execution_count": 115,
   "id": "mwUT7YWIeW4u",
   "metadata": {
    "colab": {
     "base_uri": "https://localhost:8080/"
    },
    "id": "mwUT7YWIeW4u",
    "outputId": "e70bc312-2080-4644-dde9-7691c9174aae"
   },
   "outputs": [
    {
     "data": {
      "text/plain": [
       "(3778, 28)"
      ]
     },
     "execution_count": 115,
     "metadata": {},
     "output_type": "execute_result"
    }
   ],
   "source": [
    "df_filtered_budget.shape"
   ]
  },
  {
   "cell_type": "code",
   "execution_count": 116,
   "id": "5a01bd23",
   "metadata": {
    "id": "5a01bd23"
   },
   "outputs": [],
   "source": [
    "df_filtered=df_filtered_budget"
   ]
  },
  {
   "cell_type": "code",
   "execution_count": 117,
   "id": "T2yuNgDoD5eo",
   "metadata": {
    "colab": {
     "base_uri": "https://localhost:8080/",
     "height": 343
    },
    "id": "T2yuNgDoD5eo",
    "outputId": "9416d7b6-9d13-4535-fe4a-4a182a0eadca"
   },
   "outputs": [
    {
     "data": {
      "text/html": [
       "<div>\n",
       "<style scoped>\n",
       "    .dataframe tbody tr th:only-of-type {\n",
       "        vertical-align: middle;\n",
       "    }\n",
       "\n",
       "    .dataframe tbody tr th {\n",
       "        vertical-align: top;\n",
       "    }\n",
       "\n",
       "    .dataframe thead th {\n",
       "        text-align: right;\n",
       "    }\n",
       "</style>\n",
       "<table border=\"1\" class=\"dataframe\">\n",
       "  <thead>\n",
       "    <tr style=\"text-align: right;\">\n",
       "      <th></th>\n",
       "      <th>color</th>\n",
       "      <th>director_name</th>\n",
       "      <th>num_critic_for_reviews</th>\n",
       "      <th>duration</th>\n",
       "      <th>director_facebook_likes</th>\n",
       "      <th>actor_3_facebook_likes</th>\n",
       "      <th>actor_2_name</th>\n",
       "      <th>actor_1_facebook_likes</th>\n",
       "      <th>genres</th>\n",
       "      <th>actor_1_name</th>\n",
       "      <th>movie_title</th>\n",
       "      <th>num_voted_users</th>\n",
       "      <th>cast_total_facebook_likes</th>\n",
       "      <th>actor_3_name</th>\n",
       "      <th>facenumber_in_poster</th>\n",
       "      <th>plot_keywords</th>\n",
       "      <th>movie_imdb_link</th>\n",
       "      <th>num_user_for_reviews</th>\n",
       "      <th>language</th>\n",
       "      <th>country</th>\n",
       "      <th>content_rating</th>\n",
       "      <th>title_year</th>\n",
       "      <th>actor_2_facebook_likes</th>\n",
       "      <th>imdb_score</th>\n",
       "      <th>aspect_ratio</th>\n",
       "      <th>movie_facebook_likes</th>\n",
       "      <th>gross (in millions)</th>\n",
       "      <th>budget (in millions)</th>\n",
       "    </tr>\n",
       "  </thead>\n",
       "  <tbody>\n",
       "    <tr>\n",
       "      <th>24</th>\n",
       "      <td>Color</td>\n",
       "      <td>Chris Weitz</td>\n",
       "      <td>251.0</td>\n",
       "      <td>113.0</td>\n",
       "      <td>129.0</td>\n",
       "      <td>1000.0</td>\n",
       "      <td>Eva Green</td>\n",
       "      <td>16000.0</td>\n",
       "      <td>Adventure|Family|Fantasy</td>\n",
       "      <td>Christopher Lee</td>\n",
       "      <td>The Golden Compass</td>\n",
       "      <td>149019</td>\n",
       "      <td>24106</td>\n",
       "      <td>Kristin Scott Thomas</td>\n",
       "      <td>2.0</td>\n",
       "      <td>children|epic|friend|girl|quest</td>\n",
       "      <td>http://www.imdb.com/title/tt0385752/?ref_=fn_t...</td>\n",
       "      <td>666.0</td>\n",
       "      <td>English</td>\n",
       "      <td>USA</td>\n",
       "      <td>PG-13</td>\n",
       "      <td>2007.0</td>\n",
       "      <td>6000.0</td>\n",
       "      <td>6.1</td>\n",
       "      <td>2.35</td>\n",
       "      <td>0</td>\n",
       "      <td>70.083519</td>\n",
       "      <td>180.0</td>\n",
       "    </tr>\n",
       "    <tr>\n",
       "      <th>29</th>\n",
       "      <td>Color</td>\n",
       "      <td>Colin Trevorrow</td>\n",
       "      <td>644.0</td>\n",
       "      <td>124.0</td>\n",
       "      <td>365.0</td>\n",
       "      <td>1000.0</td>\n",
       "      <td>Judy Greer</td>\n",
       "      <td>3000.0</td>\n",
       "      <td>Action|Adventure|Sci-Fi|Thriller</td>\n",
       "      <td>Bryce Dallas Howard</td>\n",
       "      <td>Jurassic World</td>\n",
       "      <td>418214</td>\n",
       "      <td>8458</td>\n",
       "      <td>Omar Sy</td>\n",
       "      <td>0.0</td>\n",
       "      <td>dinosaur|disaster film|experiment gone wrong|j...</td>\n",
       "      <td>http://www.imdb.com/title/tt0369610/?ref_=fn_t...</td>\n",
       "      <td>1290.0</td>\n",
       "      <td>English</td>\n",
       "      <td>USA</td>\n",
       "      <td>PG-13</td>\n",
       "      <td>2015.0</td>\n",
       "      <td>2000.0</td>\n",
       "      <td>7.0</td>\n",
       "      <td>2.00</td>\n",
       "      <td>150000</td>\n",
       "      <td>652.177271</td>\n",
       "      <td>150.0</td>\n",
       "    </tr>\n",
       "    <tr>\n",
       "      <th>40</th>\n",
       "      <td>Color</td>\n",
       "      <td>Joseph Kosinski</td>\n",
       "      <td>469.0</td>\n",
       "      <td>125.0</td>\n",
       "      <td>364.0</td>\n",
       "      <td>1000.0</td>\n",
       "      <td>Olivia Wilde</td>\n",
       "      <td>12000.0</td>\n",
       "      <td>Action|Adventure|Sci-Fi</td>\n",
       "      <td>Jeff Bridges</td>\n",
       "      <td>TRON: Legacy</td>\n",
       "      <td>264183</td>\n",
       "      <td>25550</td>\n",
       "      <td>James Frain</td>\n",
       "      <td>0.0</td>\n",
       "      <td>arcade|bridge|disappearance|escape|warrior</td>\n",
       "      <td>http://www.imdb.com/title/tt1104001/?ref_=fn_t...</td>\n",
       "      <td>665.0</td>\n",
       "      <td>English</td>\n",
       "      <td>USA</td>\n",
       "      <td>PG</td>\n",
       "      <td>2010.0</td>\n",
       "      <td>10000.0</td>\n",
       "      <td>6.8</td>\n",
       "      <td>2.35</td>\n",
       "      <td>30000</td>\n",
       "      <td>172.051787</td>\n",
       "      <td>170.0</td>\n",
       "    </tr>\n",
       "    <tr>\n",
       "      <th>45</th>\n",
       "      <td>Color</td>\n",
       "      <td>James Wan</td>\n",
       "      <td>424.0</td>\n",
       "      <td>140.0</td>\n",
       "      <td>0.0</td>\n",
       "      <td>14000.0</td>\n",
       "      <td>Paul Walker</td>\n",
       "      <td>26000.0</td>\n",
       "      <td>Action|Crime|Thriller</td>\n",
       "      <td>Jason Statham</td>\n",
       "      <td>Furious 7</td>\n",
       "      <td>278232</td>\n",
       "      <td>79150</td>\n",
       "      <td>Vin Diesel</td>\n",
       "      <td>0.0</td>\n",
       "      <td>car falling off a cliff|hospital|revenge|star ...</td>\n",
       "      <td>http://www.imdb.com/title/tt2820852/?ref_=fn_t...</td>\n",
       "      <td>657.0</td>\n",
       "      <td>English</td>\n",
       "      <td>USA</td>\n",
       "      <td>PG-13</td>\n",
       "      <td>2015.0</td>\n",
       "      <td>23000.0</td>\n",
       "      <td>7.2</td>\n",
       "      <td>2.35</td>\n",
       "      <td>94000</td>\n",
       "      <td>350.034110</td>\n",
       "      <td>190.0</td>\n",
       "    </tr>\n",
       "    <tr>\n",
       "      <th>46</th>\n",
       "      <td>Color</td>\n",
       "      <td>Marc Forster</td>\n",
       "      <td>654.0</td>\n",
       "      <td>123.0</td>\n",
       "      <td>395.0</td>\n",
       "      <td>1000.0</td>\n",
       "      <td>Brad Pitt</td>\n",
       "      <td>17000.0</td>\n",
       "      <td>Action|Adventure|Horror|Sci-Fi|Thriller</td>\n",
       "      <td>Peter Capaldi</td>\n",
       "      <td>World War Z</td>\n",
       "      <td>465019</td>\n",
       "      <td>32392</td>\n",
       "      <td>Mireille Enos</td>\n",
       "      <td>0.0</td>\n",
       "      <td>chaos|disease|infection|pandemic|zombie</td>\n",
       "      <td>http://www.imdb.com/title/tt0816711/?ref_=fn_t...</td>\n",
       "      <td>995.0</td>\n",
       "      <td>English</td>\n",
       "      <td>USA</td>\n",
       "      <td>PG-13</td>\n",
       "      <td>2013.0</td>\n",
       "      <td>11000.0</td>\n",
       "      <td>7.0</td>\n",
       "      <td>2.35</td>\n",
       "      <td>129000</td>\n",
       "      <td>202.351611</td>\n",
       "      <td>190.0</td>\n",
       "    </tr>\n",
       "  </tbody>\n",
       "</table>\n",
       "</div>"
      ],
      "text/plain": [
       "    color    director_name  ...  gross (in millions)  budget (in millions)\n",
       "24  Color      Chris Weitz  ...            70.083519                 180.0\n",
       "29  Color  Colin Trevorrow  ...           652.177271                 150.0\n",
       "40  Color  Joseph Kosinski  ...           172.051787                 170.0\n",
       "45  Color        James Wan  ...           350.034110                 190.0\n",
       "46  Color     Marc Forster  ...           202.351611                 190.0\n",
       "\n",
       "[5 rows x 28 columns]"
      ]
     },
     "execution_count": 117,
     "metadata": {},
     "output_type": "execute_result"
    }
   ],
   "source": [
    "df_filtered.head()"
   ]
  },
  {
   "cell_type": "code",
   "execution_count": 118,
   "id": "0b6adb64",
   "metadata": {
    "colab": {
     "base_uri": "https://localhost:8080/"
    },
    "id": "0b6adb64",
    "outputId": "d9a52bcc-ba33-47ce-e2a7-be21b3505b51"
   },
   "outputs": [
    {
     "name": "stderr",
     "output_type": "stream",
     "text": [
      "/usr/local/lib/python3.7/dist-packages/pandas/core/frame.py:4174: SettingWithCopyWarning: \n",
      "A value is trying to be set on a copy of a slice from a DataFrame\n",
      "\n",
      "See the caveats in the documentation: https://pandas.pydata.org/pandas-docs/stable/user_guide/indexing.html#returning-a-view-versus-a-copy\n",
      "  errors=errors,\n"
     ]
    }
   ],
   "source": [
    "#dropping columns which has less information \n",
    "df_filtered.drop(['color'],axis=1, inplace=True)\n",
    "df_filtered.drop(['movie_imdb_link'],axis=1, inplace=True)"
   ]
  },
  {
   "cell_type": "code",
   "execution_count": 119,
   "id": "d2ca41e2",
   "metadata": {
    "colab": {
     "base_uri": "https://localhost:8080/"
    },
    "id": "d2ca41e2",
    "outputId": "55fe3847-fc8c-4540-996d-91943f0f25e1"
   },
   "outputs": [
    {
     "data": {
      "text/plain": [
       "director_name                3778\n",
       "num_critic_for_reviews       3778\n",
       "duration                     3778\n",
       "director_facebook_likes      3778\n",
       "actor_3_facebook_likes       3778\n",
       "actor_2_name                 3778\n",
       "actor_1_facebook_likes       3778\n",
       "genres                       3778\n",
       "actor_1_name                 3778\n",
       "movie_title                  3778\n",
       "num_voted_users              3778\n",
       "cast_total_facebook_likes    3778\n",
       "actor_3_name                 3778\n",
       "facenumber_in_poster         3778\n",
       "plot_keywords                3778\n",
       "num_user_for_reviews         3778\n",
       "language                     3778\n",
       "country                      3778\n",
       "content_rating               3778\n",
       "title_year                   3778\n",
       "actor_2_facebook_likes       3778\n",
       "imdb_score                   3778\n",
       "aspect_ratio                 3778\n",
       "movie_facebook_likes         3778\n",
       "gross (in millions)          3778\n",
       "budget (in millions)         3778\n",
       "dtype: int64"
      ]
     },
     "execution_count": 119,
     "metadata": {},
     "output_type": "execute_result"
    }
   ],
   "source": [
    "#checking counts after NaN replacement\n",
    "df_filtered.count()"
   ]
  },
  {
   "cell_type": "code",
   "execution_count": 120,
   "id": "cd7fc906",
   "metadata": {
    "colab": {
     "base_uri": "https://localhost:8080/"
    },
    "id": "cd7fc906",
    "outputId": "d8083e4b-3273-429a-897a-e9ef151ee4f5"
   },
   "outputs": [
    {
     "data": {
      "text/plain": [
       "director_name                 object\n",
       "num_critic_for_reviews       float64\n",
       "duration                     float64\n",
       "director_facebook_likes      float64\n",
       "actor_3_facebook_likes       float64\n",
       "actor_2_name                  object\n",
       "actor_1_facebook_likes       float64\n",
       "genres                        object\n",
       "actor_1_name                  object\n",
       "movie_title                   object\n",
       "num_voted_users                int64\n",
       "cast_total_facebook_likes      int64\n",
       "actor_3_name                  object\n",
       "facenumber_in_poster         float64\n",
       "plot_keywords                 object\n",
       "num_user_for_reviews         float64\n",
       "language                      object\n",
       "country                       object\n",
       "content_rating                object\n",
       "title_year                   float64\n",
       "actor_2_facebook_likes       float64\n",
       "imdb_score                   float64\n",
       "aspect_ratio                 float64\n",
       "movie_facebook_likes           int64\n",
       "gross (in millions)          float64\n",
       "budget (in millions)         float64\n",
       "dtype: object"
      ]
     },
     "execution_count": 120,
     "metadata": {},
     "output_type": "execute_result"
    }
   ],
   "source": [
    "#checking datatypes after NaN replacement in columns\n",
    "df_filtered.dtypes"
   ]
  },
  {
   "cell_type": "code",
   "execution_count": 121,
   "id": "82ee77ab",
   "metadata": {
    "colab": {
     "base_uri": "https://localhost:8080/"
    },
    "id": "82ee77ab",
    "outputId": "ecfbab7c-2487-4f32-aee9-1c849d8fe267"
   },
   "outputs": [
    {
     "data": {
      "text/plain": [
       "director_name                False\n",
       "num_critic_for_reviews       False\n",
       "duration                     False\n",
       "director_facebook_likes      False\n",
       "actor_3_facebook_likes       False\n",
       "actor_2_name                 False\n",
       "actor_1_facebook_likes       False\n",
       "genres                       False\n",
       "actor_1_name                 False\n",
       "movie_title                  False\n",
       "num_voted_users              False\n",
       "cast_total_facebook_likes    False\n",
       "actor_3_name                 False\n",
       "facenumber_in_poster         False\n",
       "plot_keywords                False\n",
       "num_user_for_reviews         False\n",
       "language                     False\n",
       "country                      False\n",
       "content_rating               False\n",
       "title_year                   False\n",
       "actor_2_facebook_likes       False\n",
       "imdb_score                   False\n",
       "aspect_ratio                 False\n",
       "movie_facebook_likes         False\n",
       "gross (in millions)          False\n",
       "budget (in millions)         False\n",
       "dtype: bool"
      ]
     },
     "execution_count": 121,
     "metadata": {},
     "output_type": "execute_result"
    }
   ],
   "source": [
    "#ensuring there are no Nan values after replacement\n",
    "df_filtered.isnull().any()"
   ]
  },
  {
   "cell_type": "code",
   "execution_count": 122,
   "id": "YyHzEhoVOU9e",
   "metadata": {
    "colab": {
     "base_uri": "https://localhost:8080/"
    },
    "id": "YyHzEhoVOU9e",
    "outputId": "2a3607b5-399d-4c17-ca44-0fb35357bc4c"
   },
   "outputs": [
    {
     "data": {
      "text/plain": [
       "33"
      ]
     },
     "execution_count": 122,
     "metadata": {},
     "output_type": "execute_result"
    }
   ],
   "source": [
    "#Checking for duplicates\n",
    "df_filtered.duplicated().sum()"
   ]
  },
  {
   "cell_type": "code",
   "execution_count": 123,
   "id": "iuhSkoPTOwK6",
   "metadata": {
    "colab": {
     "base_uri": "https://localhost:8080/",
     "height": 377
    },
    "id": "iuhSkoPTOwK6",
    "outputId": "57b41a25-d57b-4a10-b45c-bd49ff71a565"
   },
   "outputs": [
    {
     "data": {
      "text/html": [
       "<div>\n",
       "<style scoped>\n",
       "    .dataframe tbody tr th:only-of-type {\n",
       "        vertical-align: middle;\n",
       "    }\n",
       "\n",
       "    .dataframe tbody tr th {\n",
       "        vertical-align: top;\n",
       "    }\n",
       "\n",
       "    .dataframe thead th {\n",
       "        text-align: right;\n",
       "    }\n",
       "</style>\n",
       "<table border=\"1\" class=\"dataframe\">\n",
       "  <thead>\n",
       "    <tr style=\"text-align: right;\">\n",
       "      <th></th>\n",
       "      <th>director_name</th>\n",
       "      <th>num_critic_for_reviews</th>\n",
       "      <th>duration</th>\n",
       "      <th>director_facebook_likes</th>\n",
       "      <th>actor_3_facebook_likes</th>\n",
       "      <th>actor_2_name</th>\n",
       "      <th>actor_1_facebook_likes</th>\n",
       "      <th>genres</th>\n",
       "      <th>actor_1_name</th>\n",
       "      <th>movie_title</th>\n",
       "      <th>num_voted_users</th>\n",
       "      <th>cast_total_facebook_likes</th>\n",
       "      <th>actor_3_name</th>\n",
       "      <th>facenumber_in_poster</th>\n",
       "      <th>plot_keywords</th>\n",
       "      <th>num_user_for_reviews</th>\n",
       "      <th>language</th>\n",
       "      <th>country</th>\n",
       "      <th>content_rating</th>\n",
       "      <th>title_year</th>\n",
       "      <th>actor_2_facebook_likes</th>\n",
       "      <th>imdb_score</th>\n",
       "      <th>aspect_ratio</th>\n",
       "      <th>movie_facebook_likes</th>\n",
       "      <th>gross (in millions)</th>\n",
       "      <th>budget (in millions)</th>\n",
       "    </tr>\n",
       "  </thead>\n",
       "  <tbody>\n",
       "    <tr>\n",
       "      <th>137</th>\n",
       "      <td>David Yates</td>\n",
       "      <td>248.0</td>\n",
       "      <td>110.0</td>\n",
       "      <td>282.0</td>\n",
       "      <td>103.0</td>\n",
       "      <td>Alexander Skarsgård</td>\n",
       "      <td>11000.0</td>\n",
       "      <td>Action|Adventure|Drama|Romance</td>\n",
       "      <td>Christoph Waltz</td>\n",
       "      <td>The Legend of Tarzan</td>\n",
       "      <td>42372</td>\n",
       "      <td>21175</td>\n",
       "      <td>Casper Crump</td>\n",
       "      <td>2.0</td>\n",
       "      <td>africa|capture|jungle|male objectification|tarzan</td>\n",
       "      <td>239.0</td>\n",
       "      <td>English</td>\n",
       "      <td>USA</td>\n",
       "      <td>PG-13</td>\n",
       "      <td>2016.0</td>\n",
       "      <td>10000.0</td>\n",
       "      <td>6.6</td>\n",
       "      <td>2.35</td>\n",
       "      <td>29000</td>\n",
       "      <td>124.051759</td>\n",
       "      <td>180.0</td>\n",
       "    </tr>\n",
       "    <tr>\n",
       "      <th>187</th>\n",
       "      <td>Bill Condon</td>\n",
       "      <td>322.0</td>\n",
       "      <td>115.0</td>\n",
       "      <td>386.0</td>\n",
       "      <td>12000.0</td>\n",
       "      <td>Kristen Stewart</td>\n",
       "      <td>21000.0</td>\n",
       "      <td>Adventure|Drama|Fantasy|Romance</td>\n",
       "      <td>Robert Pattinson</td>\n",
       "      <td>The Twilight Saga: Breaking Dawn - Part 2</td>\n",
       "      <td>185394</td>\n",
       "      <td>59177</td>\n",
       "      <td>Taylor Lautner</td>\n",
       "      <td>3.0</td>\n",
       "      <td>battle|friend|super strength|vampire|vision</td>\n",
       "      <td>329.0</td>\n",
       "      <td>English</td>\n",
       "      <td>USA</td>\n",
       "      <td>PG-13</td>\n",
       "      <td>2012.0</td>\n",
       "      <td>17000.0</td>\n",
       "      <td>5.5</td>\n",
       "      <td>2.35</td>\n",
       "      <td>65000</td>\n",
       "      <td>292.298923</td>\n",
       "      <td>120.0</td>\n",
       "    </tr>\n",
       "    <tr>\n",
       "      <th>303</th>\n",
       "      <td>Joe Wright</td>\n",
       "      <td>256.0</td>\n",
       "      <td>111.0</td>\n",
       "      <td>456.0</td>\n",
       "      <td>394.0</td>\n",
       "      <td>Cara Delevingne</td>\n",
       "      <td>20000.0</td>\n",
       "      <td>Adventure|Family|Fantasy</td>\n",
       "      <td>Hugh Jackman</td>\n",
       "      <td>Pan</td>\n",
       "      <td>39956</td>\n",
       "      <td>21393</td>\n",
       "      <td>Nonso Anozie</td>\n",
       "      <td>4.0</td>\n",
       "      <td>1940s|child hero|fantasy world|orphan|referenc...</td>\n",
       "      <td>186.0</td>\n",
       "      <td>English</td>\n",
       "      <td>USA</td>\n",
       "      <td>PG</td>\n",
       "      <td>2015.0</td>\n",
       "      <td>548.0</td>\n",
       "      <td>5.8</td>\n",
       "      <td>2.35</td>\n",
       "      <td>24000</td>\n",
       "      <td>34.964818</td>\n",
       "      <td>150.0</td>\n",
       "    </tr>\n",
       "    <tr>\n",
       "      <th>389</th>\n",
       "      <td>Josh Trank</td>\n",
       "      <td>369.0</td>\n",
       "      <td>100.0</td>\n",
       "      <td>128.0</td>\n",
       "      <td>78.0</td>\n",
       "      <td>Reg E. Cathey</td>\n",
       "      <td>596.0</td>\n",
       "      <td>Action|Adventure|Sci-Fi</td>\n",
       "      <td>Tim Blake Nelson</td>\n",
       "      <td>Fantastic Four</td>\n",
       "      <td>110486</td>\n",
       "      <td>1261</td>\n",
       "      <td>Tim Heidecker</td>\n",
       "      <td>3.0</td>\n",
       "      <td>box office flop|critically bashed|portal|telep...</td>\n",
       "      <td>695.0</td>\n",
       "      <td>English</td>\n",
       "      <td>USA</td>\n",
       "      <td>PG-13</td>\n",
       "      <td>2015.0</td>\n",
       "      <td>360.0</td>\n",
       "      <td>4.3</td>\n",
       "      <td>2.35</td>\n",
       "      <td>41000</td>\n",
       "      <td>56.114221</td>\n",
       "      <td>120.0</td>\n",
       "    </tr>\n",
       "    <tr>\n",
       "      <th>395</th>\n",
       "      <td>Rob Cohen</td>\n",
       "      <td>187.0</td>\n",
       "      <td>106.0</td>\n",
       "      <td>357.0</td>\n",
       "      <td>4000.0</td>\n",
       "      <td>Vin Diesel</td>\n",
       "      <td>23000.0</td>\n",
       "      <td>Action|Crime|Thriller</td>\n",
       "      <td>Paul Walker</td>\n",
       "      <td>The Fast and the Furious</td>\n",
       "      <td>272223</td>\n",
       "      <td>45327</td>\n",
       "      <td>Jordana Brewster</td>\n",
       "      <td>2.0</td>\n",
       "      <td>eighteen wheeler|illegal street racing|truck|t...</td>\n",
       "      <td>988.0</td>\n",
       "      <td>English</td>\n",
       "      <td>USA</td>\n",
       "      <td>PG-13</td>\n",
       "      <td>2001.0</td>\n",
       "      <td>14000.0</td>\n",
       "      <td>6.7</td>\n",
       "      <td>2.35</td>\n",
       "      <td>14000</td>\n",
       "      <td>144.512310</td>\n",
       "      <td>38.0</td>\n",
       "    </tr>\n",
       "  </tbody>\n",
       "</table>\n",
       "</div>"
      ],
      "text/plain": [
       "    director_name  ...  budget (in millions)\n",
       "137   David Yates  ...                 180.0\n",
       "187   Bill Condon  ...                 120.0\n",
       "303    Joe Wright  ...                 150.0\n",
       "389    Josh Trank  ...                 120.0\n",
       "395     Rob Cohen  ...                  38.0\n",
       "\n",
       "[5 rows x 26 columns]"
      ]
     },
     "execution_count": 123,
     "metadata": {},
     "output_type": "execute_result"
    }
   ],
   "source": [
    "#examining the duplicates\n",
    "df_filtered.loc[df_filtered.duplicated(), :].head()"
   ]
  },
  {
   "cell_type": "code",
   "execution_count": 124,
   "id": "gzeJti1IO5t-",
   "metadata": {
    "colab": {
     "base_uri": "https://localhost:8080/"
    },
    "id": "gzeJti1IO5t-",
    "outputId": "9191e7f9-f77b-4915-e040-c8296374474c"
   },
   "outputs": [
    {
     "data": {
      "text/plain": [
       "(33, 26)"
      ]
     },
     "execution_count": 124,
     "metadata": {},
     "output_type": "execute_result"
    }
   ],
   "source": [
    "(df_filtered.loc[df_filtered.duplicated(), :]).shape"
   ]
  },
  {
   "cell_type": "code",
   "execution_count": 125,
   "id": "anz2fJdtYNZU",
   "metadata": {
    "colab": {
     "base_uri": "https://localhost:8080/"
    },
    "id": "anz2fJdtYNZU",
    "outputId": "cc2545f6-e147-4617-fb70-392023f3f3fe"
   },
   "outputs": [
    {
     "name": "stderr",
     "output_type": "stream",
     "text": [
      "/usr/local/lib/python3.7/dist-packages/ipykernel_launcher.py:2: SettingWithCopyWarning: \n",
      "A value is trying to be set on a copy of a slice from a DataFrame\n",
      "\n",
      "See the caveats in the documentation: https://pandas.pydata.org/pandas-docs/stable/user_guide/indexing.html#returning-a-view-versus-a-copy\n",
      "  \n"
     ]
    }
   ],
   "source": [
    "#dropping the duplicates\n",
    "df_filtered.drop_duplicates(inplace=True)"
   ]
  },
  {
   "cell_type": "code",
   "execution_count": 126,
   "id": "7FzPOu-TYUPT",
   "metadata": {
    "colab": {
     "base_uri": "https://localhost:8080/"
    },
    "id": "7FzPOu-TYUPT",
    "outputId": "f24f8202-98ab-40b0-8885-376dcf5f9fda"
   },
   "outputs": [
    {
     "data": {
      "text/plain": [
       "0"
      ]
     },
     "execution_count": 126,
     "metadata": {},
     "output_type": "execute_result"
    }
   ],
   "source": [
    "#ensuring no duplicates after dropping duplicates\n",
    "df_filtered.duplicated().sum()"
   ]
  },
  {
   "cell_type": "code",
   "execution_count": 127,
   "id": "gOQfkwDnYZ4d",
   "metadata": {
    "colab": {
     "base_uri": "https://localhost:8080/"
    },
    "id": "gOQfkwDnYZ4d",
    "outputId": "3e194d31-7090-4394-c8b8-f0d6e4e35cf2"
   },
   "outputs": [
    {
     "data": {
      "text/plain": [
       "director_name                3745\n",
       "num_critic_for_reviews       3745\n",
       "duration                     3745\n",
       "director_facebook_likes      3745\n",
       "actor_3_facebook_likes       3745\n",
       "actor_2_name                 3745\n",
       "actor_1_facebook_likes       3745\n",
       "genres                       3745\n",
       "actor_1_name                 3745\n",
       "movie_title                  3745\n",
       "num_voted_users              3745\n",
       "cast_total_facebook_likes    3745\n",
       "actor_3_name                 3745\n",
       "facenumber_in_poster         3745\n",
       "plot_keywords                3745\n",
       "num_user_for_reviews         3745\n",
       "language                     3745\n",
       "country                      3745\n",
       "content_rating               3745\n",
       "title_year                   3745\n",
       "actor_2_facebook_likes       3745\n",
       "imdb_score                   3745\n",
       "aspect_ratio                 3745\n",
       "movie_facebook_likes         3745\n",
       "gross (in millions)          3745\n",
       "budget (in millions)         3745\n",
       "dtype: int64"
      ]
     },
     "execution_count": 127,
     "metadata": {},
     "output_type": "execute_result"
    }
   ],
   "source": [
    "#count check after duplicate removal\n",
    "df_filtered.count()"
   ]
  },
  {
   "cell_type": "markdown",
   "id": "d7517f03",
   "metadata": {
    "id": "d7517f03"
   },
   "source": [
    "## **Exploratory Data Analysis (EDA)**"
   ]
  },
  {
   "cell_type": "code",
   "execution_count": 128,
   "id": "3c5649a4",
   "metadata": {
    "id": "3c5649a4"
   },
   "outputs": [],
   "source": [
    "#importing label encoding\n",
    "from sklearn.preprocessing import LabelEncoder\n",
    "le=LabelEncoder()"
   ]
  },
  {
   "cell_type": "code",
   "execution_count": 129,
   "id": "170b5cd8",
   "metadata": {
    "colab": {
     "base_uri": "https://localhost:8080/"
    },
    "id": "170b5cd8",
    "outputId": "20ba25db-b12d-4521-95c9-e8eb6bd14ab0"
   },
   "outputs": [
    {
     "name": "stderr",
     "output_type": "stream",
     "text": [
      "/usr/local/lib/python3.7/dist-packages/ipykernel_launcher.py:8: SettingWithCopyWarning: \n",
      "A value is trying to be set on a copy of a slice from a DataFrame.\n",
      "Try using .loc[row_indexer,col_indexer] = value instead\n",
      "\n",
      "See the caveats in the documentation: https://pandas.pydata.org/pandas-docs/stable/user_guide/indexing.html#returning-a-view-versus-a-copy\n",
      "  \n"
     ]
    }
   ],
   "source": [
    "#label encoding all the categorical columns \n",
    "label_object = {}\n",
    "for i in Object_list:\n",
    "    le=''\n",
    "    if i not in ('color','movie_imdb_link'):\n",
    "        #le=le+'_'+'i'\n",
    "        le=LabelEncoder()\n",
    "        df_filtered[i]=le.fit_transform(df_filtered[i]) \n",
    "        label_object[i]=le"
   ]
  },
  {
   "cell_type": "code",
   "execution_count": 130,
   "id": "dMoC48zdMkU-",
   "metadata": {
    "colab": {
     "base_uri": "https://localhost:8080/",
     "height": 258
    },
    "id": "dMoC48zdMkU-",
    "outputId": "243366dd-4011-4c13-c6c5-3837a9598418"
   },
   "outputs": [
    {
     "data": {
      "text/html": [
       "<div>\n",
       "<style scoped>\n",
       "    .dataframe tbody tr th:only-of-type {\n",
       "        vertical-align: middle;\n",
       "    }\n",
       "\n",
       "    .dataframe tbody tr th {\n",
       "        vertical-align: top;\n",
       "    }\n",
       "\n",
       "    .dataframe thead th {\n",
       "        text-align: right;\n",
       "    }\n",
       "</style>\n",
       "<table border=\"1\" class=\"dataframe\">\n",
       "  <thead>\n",
       "    <tr style=\"text-align: right;\">\n",
       "      <th></th>\n",
       "      <th>director_name</th>\n",
       "      <th>num_critic_for_reviews</th>\n",
       "      <th>duration</th>\n",
       "      <th>director_facebook_likes</th>\n",
       "      <th>actor_3_facebook_likes</th>\n",
       "      <th>actor_2_name</th>\n",
       "      <th>actor_1_facebook_likes</th>\n",
       "      <th>genres</th>\n",
       "      <th>actor_1_name</th>\n",
       "      <th>movie_title</th>\n",
       "      <th>num_voted_users</th>\n",
       "      <th>cast_total_facebook_likes</th>\n",
       "      <th>actor_3_name</th>\n",
       "      <th>facenumber_in_poster</th>\n",
       "      <th>plot_keywords</th>\n",
       "      <th>num_user_for_reviews</th>\n",
       "      <th>language</th>\n",
       "      <th>country</th>\n",
       "      <th>content_rating</th>\n",
       "      <th>title_year</th>\n",
       "      <th>actor_2_facebook_likes</th>\n",
       "      <th>imdb_score</th>\n",
       "      <th>aspect_ratio</th>\n",
       "      <th>movie_facebook_likes</th>\n",
       "      <th>gross (in millions)</th>\n",
       "      <th>budget (in millions)</th>\n",
       "    </tr>\n",
       "  </thead>\n",
       "  <tbody>\n",
       "    <tr>\n",
       "      <th>24</th>\n",
       "      <td>239</td>\n",
       "      <td>251.0</td>\n",
       "      <td>113.0</td>\n",
       "      <td>129.0</td>\n",
       "      <td>1000.0</td>\n",
       "      <td>690</td>\n",
       "      <td>16000.0</td>\n",
       "      <td>372</td>\n",
       "      <td>260</td>\n",
       "      <td>2850</td>\n",
       "      <td>149019</td>\n",
       "      <td>24106</td>\n",
       "      <td>1435</td>\n",
       "      <td>2.0</td>\n",
       "      <td>2189</td>\n",
       "      <td>666.0</td>\n",
       "      <td>10</td>\n",
       "      <td>43</td>\n",
       "      <td>7</td>\n",
       "      <td>2007.0</td>\n",
       "      <td>6000.0</td>\n",
       "      <td>6.1</td>\n",
       "      <td>2.35</td>\n",
       "      <td>0</td>\n",
       "      <td>70.083519</td>\n",
       "      <td>180.0</td>\n",
       "    </tr>\n",
       "    <tr>\n",
       "      <th>29</th>\n",
       "      <td>276</td>\n",
       "      <td>644.0</td>\n",
       "      <td>124.0</td>\n",
       "      <td>365.0</td>\n",
       "      <td>1000.0</td>\n",
       "      <td>1093</td>\n",
       "      <td>3000.0</td>\n",
       "      <td>107</td>\n",
       "      <td>185</td>\n",
       "      <td>1471</td>\n",
       "      <td>418214</td>\n",
       "      <td>8458</td>\n",
       "      <td>1898</td>\n",
       "      <td>0.0</td>\n",
       "      <td>2801</td>\n",
       "      <td>1290.0</td>\n",
       "      <td>10</td>\n",
       "      <td>43</td>\n",
       "      <td>7</td>\n",
       "      <td>2015.0</td>\n",
       "      <td>2000.0</td>\n",
       "      <td>7.0</td>\n",
       "      <td>2.00</td>\n",
       "      <td>150000</td>\n",
       "      <td>652.177271</td>\n",
       "      <td>150.0</td>\n",
       "    </tr>\n",
       "    <tr>\n",
       "      <th>40</th>\n",
       "      <td>852</td>\n",
       "      <td>469.0</td>\n",
       "      <td>125.0</td>\n",
       "      <td>364.0</td>\n",
       "      <td>1000.0</td>\n",
       "      <td>1614</td>\n",
       "      <td>12000.0</td>\n",
       "      <td>106</td>\n",
       "      <td>616</td>\n",
       "      <td>2570</td>\n",
       "      <td>264183</td>\n",
       "      <td>25550</td>\n",
       "      <td>1048</td>\n",
       "      <td>0.0</td>\n",
       "      <td>797</td>\n",
       "      <td>665.0</td>\n",
       "      <td>10</td>\n",
       "      <td>43</td>\n",
       "      <td>6</td>\n",
       "      <td>2010.0</td>\n",
       "      <td>10000.0</td>\n",
       "      <td>6.8</td>\n",
       "      <td>2.35</td>\n",
       "      <td>30000</td>\n",
       "      <td>172.051787</td>\n",
       "      <td>170.0</td>\n",
       "    </tr>\n",
       "    <tr>\n",
       "      <th>45</th>\n",
       "      <td>662</td>\n",
       "      <td>424.0</td>\n",
       "      <td>140.0</td>\n",
       "      <td>0.0</td>\n",
       "      <td>14000.0</td>\n",
       "      <td>1667</td>\n",
       "      <td>26000.0</td>\n",
       "      <td>187</td>\n",
       "      <td>606</td>\n",
       "      <td>1072</td>\n",
       "      <td>278232</td>\n",
       "      <td>79150</td>\n",
       "      <td>2532</td>\n",
       "      <td>0.0</td>\n",
       "      <td>2001</td>\n",
       "      <td>657.0</td>\n",
       "      <td>10</td>\n",
       "      <td>43</td>\n",
       "      <td>7</td>\n",
       "      <td>2015.0</td>\n",
       "      <td>23000.0</td>\n",
       "      <td>7.2</td>\n",
       "      <td>2.35</td>\n",
       "      <td>94000</td>\n",
       "      <td>350.034110</td>\n",
       "      <td>190.0</td>\n",
       "    </tr>\n",
       "    <tr>\n",
       "      <th>46</th>\n",
       "      <td>1001</td>\n",
       "      <td>654.0</td>\n",
       "      <td>123.0</td>\n",
       "      <td>395.0</td>\n",
       "      <td>1000.0</td>\n",
       "      <td>253</td>\n",
       "      <td>17000.0</td>\n",
       "      <td>98</td>\n",
       "      <td>1096</td>\n",
       "      <td>3638</td>\n",
       "      <td>465019</td>\n",
       "      <td>32392</td>\n",
       "      <td>1785</td>\n",
       "      <td>0.0</td>\n",
       "      <td>2117</td>\n",
       "      <td>995.0</td>\n",
       "      <td>10</td>\n",
       "      <td>43</td>\n",
       "      <td>7</td>\n",
       "      <td>2013.0</td>\n",
       "      <td>11000.0</td>\n",
       "      <td>7.0</td>\n",
       "      <td>2.35</td>\n",
       "      <td>129000</td>\n",
       "      <td>202.351611</td>\n",
       "      <td>190.0</td>\n",
       "    </tr>\n",
       "  </tbody>\n",
       "</table>\n",
       "</div>"
      ],
      "text/plain": [
       "    director_name  ...  budget (in millions)\n",
       "24            239  ...                 180.0\n",
       "29            276  ...                 150.0\n",
       "40            852  ...                 170.0\n",
       "45            662  ...                 190.0\n",
       "46           1001  ...                 190.0\n",
       "\n",
       "[5 rows x 26 columns]"
      ]
     },
     "execution_count": 130,
     "metadata": {},
     "output_type": "execute_result"
    }
   ],
   "source": [
    "#checking head after label encoding\n",
    "df_filtered.head()"
   ]
  },
  {
   "cell_type": "code",
   "execution_count": 131,
   "id": "3Mx4ztGYSWdx",
   "metadata": {
    "colab": {
     "base_uri": "https://localhost:8080/"
    },
    "id": "3Mx4ztGYSWdx",
    "outputId": "e010302f-333a-49b2-a136-dc3a98cb5dc2"
   },
   "outputs": [
    {
     "name": "stdout",
     "output_type": "stream",
     "text": [
      "['Chris Weitz'] ['Paulo Costanzo']\n"
     ]
    }
   ],
   "source": [
    "#checking inverse transform feature to decode original values\n",
    "print(label_object['director_name'].inverse_transform([239]),label_object['actor_2_name'].inverse_transform([1670]))"
   ]
  },
  {
   "cell_type": "code",
   "execution_count": 132,
   "id": "abc48feb",
   "metadata": {
    "colab": {
     "base_uri": "https://localhost:8080/"
    },
    "id": "abc48feb",
    "outputId": "6d014b11-80f8-419e-8e6e-f9d1f590b807"
   },
   "outputs": [
    {
     "name": "stderr",
     "output_type": "stream",
     "text": [
      "/usr/local/lib/python3.7/dist-packages/ipykernel_launcher.py:2: SettingWithCopyWarning: \n",
      "A value is trying to be set on a copy of a slice from a DataFrame.\n",
      "Try using .loc[row_indexer,col_indexer] = value instead\n",
      "\n",
      "See the caveats in the documentation: https://pandas.pydata.org/pandas-docs/stable/user_guide/indexing.html#returning-a-view-versus-a-copy\n",
      "  \n"
     ]
    }
   ],
   "source": [
    "#creating new column ROI(Return on Investment)\n",
    "df_filtered['ROI(%)']=((df_filtered['gross (in millions)']-df_filtered['budget (in millions)'])/df_filtered['budget (in millions)'])*100"
   ]
  },
  {
   "cell_type": "code",
   "execution_count": 133,
   "id": "DTkdtMDqerc9",
   "metadata": {
    "colab": {
     "base_uri": "https://localhost:8080/",
     "height": 204
    },
    "id": "DTkdtMDqerc9",
    "outputId": "f5e55420-087e-4cb6-e782-dd0256677390"
   },
   "outputs": [
    {
     "data": {
      "text/html": [
       "<div>\n",
       "<style scoped>\n",
       "    .dataframe tbody tr th:only-of-type {\n",
       "        vertical-align: middle;\n",
       "    }\n",
       "\n",
       "    .dataframe tbody tr th {\n",
       "        vertical-align: top;\n",
       "    }\n",
       "\n",
       "    .dataframe thead th {\n",
       "        text-align: right;\n",
       "    }\n",
       "</style>\n",
       "<table border=\"1\" class=\"dataframe\">\n",
       "  <thead>\n",
       "    <tr style=\"text-align: right;\">\n",
       "      <th></th>\n",
       "      <th>ROI(%)</th>\n",
       "    </tr>\n",
       "  </thead>\n",
       "  <tbody>\n",
       "    <tr>\n",
       "      <th>24</th>\n",
       "      <td>-61.064712</td>\n",
       "    </tr>\n",
       "    <tr>\n",
       "      <th>29</th>\n",
       "      <td>334.784847</td>\n",
       "    </tr>\n",
       "    <tr>\n",
       "      <th>40</th>\n",
       "      <td>1.206934</td>\n",
       "    </tr>\n",
       "    <tr>\n",
       "      <th>45</th>\n",
       "      <td>84.228479</td>\n",
       "    </tr>\n",
       "    <tr>\n",
       "      <th>46</th>\n",
       "      <td>6.500848</td>\n",
       "    </tr>\n",
       "  </tbody>\n",
       "</table>\n",
       "</div>"
      ],
      "text/plain": [
       "        ROI(%)\n",
       "24  -61.064712\n",
       "29  334.784847\n",
       "40    1.206934\n",
       "45   84.228479\n",
       "46    6.500848"
      ]
     },
     "execution_count": 133,
     "metadata": {},
     "output_type": "execute_result"
    }
   ],
   "source": [
    "df_filtered[['ROI(%)']].head()"
   ]
  },
  {
   "cell_type": "code",
   "execution_count": 134,
   "id": "a3267396",
   "metadata": {
    "colab": {
     "base_uri": "https://localhost:8080/",
     "height": 1000
    },
    "id": "a3267396",
    "outputId": "e870f19b-e5cf-4a57-ad94-69ca4cf9f825"
   },
   "outputs": [
    {
     "data": {
      "text/plain": [
       "<matplotlib.axes._subplots.AxesSubplot at 0x7f0208b432d0>"
      ]
     },
     "execution_count": 134,
     "metadata": {},
     "output_type": "execute_result"
    },
    {
     "data": {
      "image/png": "[encoded data removed]",
      "text/plain": [
       "<Figure size 1800x1800 with 2 Axes>"
      ]
     },
     "metadata": {},
     "output_type": "display_data"
    }
   ],
   "source": [
    "#Importing seaborn\n",
    "#Using a heatmap for understanding the correlation between columns\n",
    "import matplotlib.pyplot as plt\n",
    "import seaborn as sns\n",
    "sns.set(rc={'figure.figsize':(11,8.27)})\n",
    "fig, ax = plt.subplots(figsize=(25,25))\n",
    "sns.heatmap(df_filtered.corr(method ='pearson'), annot = True)"
   ]
  },
  {
   "cell_type": "code",
   "execution_count": 135,
   "id": "oGXMMC0ouGSb",
   "metadata": {
    "colab": {
     "base_uri": "https://localhost:8080/",
     "height": 390
    },
    "id": "oGXMMC0ouGSb",
    "outputId": "34edd682-afd2-48f3-a401-68775a1e5507"
   },
   "outputs": [
    {
     "data": {
      "text/html": [
       "<div>\n",
       "<style scoped>\n",
       "    .dataframe tbody tr th:only-of-type {\n",
       "        vertical-align: middle;\n",
       "    }\n",
       "\n",
       "    .dataframe tbody tr th {\n",
       "        vertical-align: top;\n",
       "    }\n",
       "\n",
       "    .dataframe thead th {\n",
       "        text-align: right;\n",
       "    }\n",
       "</style>\n",
       "<table border=\"1\" class=\"dataframe\">\n",
       "  <thead>\n",
       "    <tr style=\"text-align: right;\">\n",
       "      <th></th>\n",
       "      <th></th>\n",
       "      <th>corr_values</th>\n",
       "    </tr>\n",
       "  </thead>\n",
       "  <tbody>\n",
       "    <tr>\n",
       "      <th>actor_1_facebook_likes</th>\n",
       "      <th>cast_total_facebook_likes</th>\n",
       "      <td>0.952268</td>\n",
       "    </tr>\n",
       "    <tr>\n",
       "      <th>num_voted_users</th>\n",
       "      <th>num_user_for_reviews</th>\n",
       "      <td>0.786125</td>\n",
       "    </tr>\n",
       "    <tr>\n",
       "      <th>movie_facebook_likes</th>\n",
       "      <th>num_critic_for_reviews</th>\n",
       "      <td>0.693281</td>\n",
       "    </tr>\n",
       "    <tr>\n",
       "      <th>actor_2_facebook_likes</th>\n",
       "      <th>cast_total_facebook_likes</th>\n",
       "      <td>0.622028</td>\n",
       "    </tr>\n",
       "    <tr>\n",
       "      <th>gross (in millions)</th>\n",
       "      <th>num_voted_users</th>\n",
       "      <td>0.598643</td>\n",
       "    </tr>\n",
       "    <tr>\n",
       "      <th>budget (in millions)</th>\n",
       "      <th>gross (in millions)</th>\n",
       "      <td>0.594531</td>\n",
       "    </tr>\n",
       "    <tr>\n",
       "      <th>num_voted_users</th>\n",
       "      <th>num_critic_for_reviews</th>\n",
       "      <td>0.573134</td>\n",
       "    </tr>\n",
       "    <tr>\n",
       "      <th>num_user_for_reviews</th>\n",
       "      <th>num_critic_for_reviews</th>\n",
       "      <td>0.543548</td>\n",
       "    </tr>\n",
       "    <tr>\n",
       "      <th>actor_2_facebook_likes</th>\n",
       "      <th>actor_3_facebook_likes</th>\n",
       "      <td>0.523560</td>\n",
       "    </tr>\n",
       "    <tr>\n",
       "      <th>num_user_for_reviews</th>\n",
       "      <th>gross (in millions)</th>\n",
       "      <td>0.507281</td>\n",
       "    </tr>\n",
       "    <tr>\n",
       "      <th>movie_facebook_likes</th>\n",
       "      <th>num_voted_users</th>\n",
       "      <td>0.503646</td>\n",
       "    </tr>\n",
       "  </tbody>\n",
       "</table>\n",
       "</div>"
      ],
      "text/plain": [
       "                                                  corr_values\n",
       "actor_1_facebook_likes cast_total_facebook_likes     0.952268\n",
       "num_voted_users        num_user_for_reviews          0.786125\n",
       "movie_facebook_likes   num_critic_for_reviews        0.693281\n",
       "actor_2_facebook_likes cast_total_facebook_likes     0.622028\n",
       "gross (in millions)    num_voted_users               0.598643\n",
       "budget (in millions)   gross (in millions)           0.594531\n",
       "num_voted_users        num_critic_for_reviews        0.573134\n",
       "num_user_for_reviews   num_critic_for_reviews        0.543548\n",
       "actor_2_facebook_likes actor_3_facebook_likes        0.523560\n",
       "num_user_for_reviews   gross (in millions)           0.507281\n",
       "movie_facebook_likes   num_voted_users               0.503646"
      ]
     },
     "execution_count": 135,
     "metadata": {},
     "output_type": "execute_result"
    }
   ],
   "source": [
    "#extracting the highest correlated pairs\n",
    "corr = df_filtered.corr(method ='pearson').abs()\n",
    "s = corr.unstack()\n",
    "sorts = s.sort_values(kind=\"quicksort\", ascending=False)\n",
    "df_filtered_budget_corr_values=sorts.to_frame('corr_values')\n",
    "df_filtered_budget_corr_values.sort_values('corr_values', ascending=False)\n",
    "df_filtered_budget_corr_values=df_filtered_budget_corr_values.iloc[27:49]\n",
    "df_filtered_budget_corr_values.drop_duplicates(inplace=True)\n",
    "df_filtered_budget_corr_values"
   ]
  },
  {
   "cell_type": "code",
   "execution_count": 136,
   "id": "99e6f8d2",
   "metadata": {
    "colab": {
     "base_uri": "https://localhost:8080/",
     "height": 741
    },
    "id": "99e6f8d2",
    "outputId": "12125982-321b-4de1-a323-8b33cb870eb6"
   },
   "outputs": [
    {
     "data": {
      "text/plain": [
       "<seaborn.axisgrid.PairGrid at 0x7f0208a051d0>"
      ]
     },
     "execution_count": 136,
     "metadata": {},
     "output_type": "execute_result"
    },
    {
     "data": {
      "image/png": "[encoded data removed]",
      "text/plain": [
       "<Figure size 720x720 with 20 Axes>"
      ]
     },
     "metadata": {},
     "output_type": "display_data"
    }
   ],
   "source": [
    "#plotting plots between correlated columns using pairplot\n",
    "sns.pairplot(df_filtered[['num_user_for_reviews','num_voted_users','gross (in millions)','budget (in millions)']])"
   ]
  },
  {
   "cell_type": "code",
   "execution_count": 137,
   "id": "DH48Vp1jcu6t",
   "metadata": {
    "colab": {
     "base_uri": "https://localhost:8080/"
    },
    "id": "DH48Vp1jcu6t",
    "outputId": "af8bc391-a295-4ec3-97a9-ce82d8ac44ca"
   },
   "outputs": [
    {
     "name": "stderr",
     "output_type": "stream",
     "text": [
      "/usr/local/lib/python3.7/dist-packages/ipykernel_launcher.py:5: SettingWithCopyWarning: \n",
      "A value is trying to be set on a copy of a slice from a DataFrame.\n",
      "Try using .loc[row_indexer,col_indexer] = value instead\n",
      "\n",
      "See the caveats in the documentation: https://pandas.pydata.org/pandas-docs/stable/user_guide/indexing.html#returning-a-view-versus-a-copy\n",
      "  \"\"\"\n"
     ]
    }
   ],
   "source": [
    "#decoding all the encoded categorical columns\n",
    "for i in Object_list:\n",
    "    le=''\n",
    "    if i not in ('color','movie_imdb_link'):\n",
    "        df_filtered[i]=label_object[i].inverse_transform([i for i in df_filtered[i]])"
   ]
  },
  {
   "cell_type": "code",
   "execution_count": 138,
   "id": "-GXaVLUjcfKG",
   "metadata": {
    "colab": {
     "base_uri": "https://localhost:8080/",
     "height": 326
    },
    "id": "-GXaVLUjcfKG",
    "outputId": "9f44ec77-9802-46a8-ed28-6a179f472dc9"
   },
   "outputs": [
    {
     "data": {
      "text/html": [
       "<div>\n",
       "<style scoped>\n",
       "    .dataframe tbody tr th:only-of-type {\n",
       "        vertical-align: middle;\n",
       "    }\n",
       "\n",
       "    .dataframe tbody tr th {\n",
       "        vertical-align: top;\n",
       "    }\n",
       "\n",
       "    .dataframe thead th {\n",
       "        text-align: right;\n",
       "    }\n",
       "</style>\n",
       "<table border=\"1\" class=\"dataframe\">\n",
       "  <thead>\n",
       "    <tr style=\"text-align: right;\">\n",
       "      <th></th>\n",
       "      <th>director_name</th>\n",
       "      <th>num_critic_for_reviews</th>\n",
       "      <th>duration</th>\n",
       "      <th>director_facebook_likes</th>\n",
       "      <th>actor_3_facebook_likes</th>\n",
       "      <th>actor_2_name</th>\n",
       "      <th>actor_1_facebook_likes</th>\n",
       "      <th>genres</th>\n",
       "      <th>actor_1_name</th>\n",
       "      <th>movie_title</th>\n",
       "      <th>num_voted_users</th>\n",
       "      <th>cast_total_facebook_likes</th>\n",
       "      <th>actor_3_name</th>\n",
       "      <th>facenumber_in_poster</th>\n",
       "      <th>plot_keywords</th>\n",
       "      <th>num_user_for_reviews</th>\n",
       "      <th>language</th>\n",
       "      <th>country</th>\n",
       "      <th>content_rating</th>\n",
       "      <th>title_year</th>\n",
       "      <th>actor_2_facebook_likes</th>\n",
       "      <th>imdb_score</th>\n",
       "      <th>aspect_ratio</th>\n",
       "      <th>movie_facebook_likes</th>\n",
       "      <th>gross (in millions)</th>\n",
       "      <th>budget (in millions)</th>\n",
       "      <th>ROI(%)</th>\n",
       "    </tr>\n",
       "  </thead>\n",
       "  <tbody>\n",
       "    <tr>\n",
       "      <th>24</th>\n",
       "      <td>Chris Weitz</td>\n",
       "      <td>251.0</td>\n",
       "      <td>113.0</td>\n",
       "      <td>129.0</td>\n",
       "      <td>1000.0</td>\n",
       "      <td>Eva Green</td>\n",
       "      <td>16000.0</td>\n",
       "      <td>Adventure|Family|Fantasy</td>\n",
       "      <td>Christopher Lee</td>\n",
       "      <td>The Golden Compass</td>\n",
       "      <td>149019</td>\n",
       "      <td>24106</td>\n",
       "      <td>Kristin Scott Thomas</td>\n",
       "      <td>2.0</td>\n",
       "      <td>children|epic|friend|girl|quest</td>\n",
       "      <td>666.0</td>\n",
       "      <td>English</td>\n",
       "      <td>USA</td>\n",
       "      <td>PG-13</td>\n",
       "      <td>2007.0</td>\n",
       "      <td>6000.0</td>\n",
       "      <td>6.1</td>\n",
       "      <td>2.35</td>\n",
       "      <td>0</td>\n",
       "      <td>70.083519</td>\n",
       "      <td>180.0</td>\n",
       "      <td>-61.064712</td>\n",
       "    </tr>\n",
       "    <tr>\n",
       "      <th>29</th>\n",
       "      <td>Colin Trevorrow</td>\n",
       "      <td>644.0</td>\n",
       "      <td>124.0</td>\n",
       "      <td>365.0</td>\n",
       "      <td>1000.0</td>\n",
       "      <td>Judy Greer</td>\n",
       "      <td>3000.0</td>\n",
       "      <td>Action|Adventure|Sci-Fi|Thriller</td>\n",
       "      <td>Bryce Dallas Howard</td>\n",
       "      <td>Jurassic World</td>\n",
       "      <td>418214</td>\n",
       "      <td>8458</td>\n",
       "      <td>Omar Sy</td>\n",
       "      <td>0.0</td>\n",
       "      <td>dinosaur|disaster film|experiment gone wrong|j...</td>\n",
       "      <td>1290.0</td>\n",
       "      <td>English</td>\n",
       "      <td>USA</td>\n",
       "      <td>PG-13</td>\n",
       "      <td>2015.0</td>\n",
       "      <td>2000.0</td>\n",
       "      <td>7.0</td>\n",
       "      <td>2.00</td>\n",
       "      <td>150000</td>\n",
       "      <td>652.177271</td>\n",
       "      <td>150.0</td>\n",
       "      <td>334.784847</td>\n",
       "    </tr>\n",
       "    <tr>\n",
       "      <th>40</th>\n",
       "      <td>Joseph Kosinski</td>\n",
       "      <td>469.0</td>\n",
       "      <td>125.0</td>\n",
       "      <td>364.0</td>\n",
       "      <td>1000.0</td>\n",
       "      <td>Olivia Wilde</td>\n",
       "      <td>12000.0</td>\n",
       "      <td>Action|Adventure|Sci-Fi</td>\n",
       "      <td>Jeff Bridges</td>\n",
       "      <td>TRON: Legacy</td>\n",
       "      <td>264183</td>\n",
       "      <td>25550</td>\n",
       "      <td>James Frain</td>\n",
       "      <td>0.0</td>\n",
       "      <td>arcade|bridge|disappearance|escape|warrior</td>\n",
       "      <td>665.0</td>\n",
       "      <td>English</td>\n",
       "      <td>USA</td>\n",
       "      <td>PG</td>\n",
       "      <td>2010.0</td>\n",
       "      <td>10000.0</td>\n",
       "      <td>6.8</td>\n",
       "      <td>2.35</td>\n",
       "      <td>30000</td>\n",
       "      <td>172.051787</td>\n",
       "      <td>170.0</td>\n",
       "      <td>1.206934</td>\n",
       "    </tr>\n",
       "    <tr>\n",
       "      <th>45</th>\n",
       "      <td>James Wan</td>\n",
       "      <td>424.0</td>\n",
       "      <td>140.0</td>\n",
       "      <td>0.0</td>\n",
       "      <td>14000.0</td>\n",
       "      <td>Paul Walker</td>\n",
       "      <td>26000.0</td>\n",
       "      <td>Action|Crime|Thriller</td>\n",
       "      <td>Jason Statham</td>\n",
       "      <td>Furious 7</td>\n",
       "      <td>278232</td>\n",
       "      <td>79150</td>\n",
       "      <td>Vin Diesel</td>\n",
       "      <td>0.0</td>\n",
       "      <td>car falling off a cliff|hospital|revenge|star ...</td>\n",
       "      <td>657.0</td>\n",
       "      <td>English</td>\n",
       "      <td>USA</td>\n",
       "      <td>PG-13</td>\n",
       "      <td>2015.0</td>\n",
       "      <td>23000.0</td>\n",
       "      <td>7.2</td>\n",
       "      <td>2.35</td>\n",
       "      <td>94000</td>\n",
       "      <td>350.034110</td>\n",
       "      <td>190.0</td>\n",
       "      <td>84.228479</td>\n",
       "    </tr>\n",
       "    <tr>\n",
       "      <th>46</th>\n",
       "      <td>Marc Forster</td>\n",
       "      <td>654.0</td>\n",
       "      <td>123.0</td>\n",
       "      <td>395.0</td>\n",
       "      <td>1000.0</td>\n",
       "      <td>Brad Pitt</td>\n",
       "      <td>17000.0</td>\n",
       "      <td>Action|Adventure|Horror|Sci-Fi|Thriller</td>\n",
       "      <td>Peter Capaldi</td>\n",
       "      <td>World War Z</td>\n",
       "      <td>465019</td>\n",
       "      <td>32392</td>\n",
       "      <td>Mireille Enos</td>\n",
       "      <td>0.0</td>\n",
       "      <td>chaos|disease|infection|pandemic|zombie</td>\n",
       "      <td>995.0</td>\n",
       "      <td>English</td>\n",
       "      <td>USA</td>\n",
       "      <td>PG-13</td>\n",
       "      <td>2013.0</td>\n",
       "      <td>11000.0</td>\n",
       "      <td>7.0</td>\n",
       "      <td>2.35</td>\n",
       "      <td>129000</td>\n",
       "      <td>202.351611</td>\n",
       "      <td>190.0</td>\n",
       "      <td>6.500848</td>\n",
       "    </tr>\n",
       "  </tbody>\n",
       "</table>\n",
       "</div>"
      ],
      "text/plain": [
       "      director_name  num_critic_for_reviews  ...  budget (in millions)      ROI(%)\n",
       "24      Chris Weitz                   251.0  ...                 180.0  -61.064712\n",
       "29  Colin Trevorrow                   644.0  ...                 150.0  334.784847\n",
       "40  Joseph Kosinski                   469.0  ...                 170.0    1.206934\n",
       "45        James Wan                   424.0  ...                 190.0   84.228479\n",
       "46     Marc Forster                   654.0  ...                 190.0    6.500848\n",
       "\n",
       "[5 rows x 27 columns]"
      ]
     },
     "execution_count": 138,
     "metadata": {},
     "output_type": "execute_result"
    }
   ],
   "source": [
    "#ensuring decoding of categorical columns\n",
    "df_filtered.head()"
   ]
  },
  {
   "cell_type": "markdown",
   "id": "48784ea8",
   "metadata": {
    "id": "48784ea8"
   },
   "source": [
    "### **Grouping by one of the highest correlated column 'num_voted_users' with gross**"
   ]
  },
  {
   "cell_type": "code",
   "execution_count": 139,
   "id": "CRjN-vOFhVj1",
   "metadata": {
    "colab": {
     "base_uri": "https://localhost:8080/",
     "height": 289
    },
    "id": "CRjN-vOFhVj1",
    "outputId": "4ed2790b-7fda-4d19-e82e-d183913ef0f0"
   },
   "outputs": [
    {
     "name": "stderr",
     "output_type": "stream",
     "text": [
      "/usr/local/lib/python3.7/dist-packages/ipykernel_launcher.py:2: FutureWarning: Indexing with multiple keys (implicitly converted to a tuple of keys) will be deprecated, use a list instead.\n",
      "  \n"
     ]
    },
    {
     "data": {
      "text/html": [
       "<div>\n",
       "<style scoped>\n",
       "    .dataframe tbody tr th:only-of-type {\n",
       "        vertical-align: middle;\n",
       "    }\n",
       "\n",
       "    .dataframe tbody tr th {\n",
       "        vertical-align: top;\n",
       "    }\n",
       "\n",
       "    .dataframe thead th {\n",
       "        text-align: right;\n",
       "    }\n",
       "</style>\n",
       "<table border=\"1\" class=\"dataframe\">\n",
       "  <thead>\n",
       "    <tr style=\"text-align: right;\">\n",
       "      <th></th>\n",
       "      <th>imdb_score</th>\n",
       "      <th>budget (in millions)</th>\n",
       "      <th>gross (in millions)</th>\n",
       "      <th>ROI(%)</th>\n",
       "    </tr>\n",
       "    <tr>\n",
       "      <th>num_voted_users</th>\n",
       "      <th></th>\n",
       "      <th></th>\n",
       "      <th></th>\n",
       "      <th></th>\n",
       "    </tr>\n",
       "  </thead>\n",
       "  <tbody>\n",
       "    <tr>\n",
       "      <th>1689764</th>\n",
       "      <td>9.3</td>\n",
       "      <td>25.0</td>\n",
       "      <td>28.341469</td>\n",
       "      <td>13.365876</td>\n",
       "    </tr>\n",
       "    <tr>\n",
       "      <th>1155770</th>\n",
       "      <td>9.2</td>\n",
       "      <td>6.0</td>\n",
       "      <td>134.821952</td>\n",
       "      <td>2147.032533</td>\n",
       "    </tr>\n",
       "    <tr>\n",
       "      <th>1676169</th>\n",
       "      <td>9.0</td>\n",
       "      <td>185.0</td>\n",
       "      <td>533.316061</td>\n",
       "      <td>188.278952</td>\n",
       "    </tr>\n",
       "    <tr>\n",
       "      <th>790926</th>\n",
       "      <td>9.0</td>\n",
       "      <td>13.0</td>\n",
       "      <td>57.300000</td>\n",
       "      <td>340.769231</td>\n",
       "    </tr>\n",
       "    <tr>\n",
       "      <th>1215718</th>\n",
       "      <td>8.9</td>\n",
       "      <td>94.0</td>\n",
       "      <td>377.019252</td>\n",
       "      <td>301.084311</td>\n",
       "    </tr>\n",
       "  </tbody>\n",
       "</table>\n",
       "</div>"
      ],
      "text/plain": [
       "                 imdb_score  ...       ROI(%)\n",
       "num_voted_users              ...             \n",
       "1689764                 9.3  ...    13.365876\n",
       "1155770                 9.2  ...  2147.032533\n",
       "1676169                 9.0  ...   188.278952\n",
       "790926                  9.0  ...   340.769231\n",
       "1215718                 8.9  ...   301.084311\n",
       "\n",
       "[5 rows x 4 columns]"
      ]
     },
     "execution_count": 139,
     "metadata": {},
     "output_type": "execute_result"
    }
   ],
   "source": [
    "#Grouping by one of the highest correlated column 'num_voted_users' with gross\n",
    "genreseries=df_filtered.groupby('num_voted_users')['imdb_score','budget (in millions)','gross (in millions)','ROI(%)'].mean()\n",
    "#set the minimum imdb score that I care about to 8\n",
    "min_imdb_score=8 \n",
    "top_imdb_user_votes = genreseries[genreseries['imdb_score']>min_imdb_score]\n",
    "top_imdb_user_votes = top_imdb_user_votes.sort_values('imdb_score', ascending=False)\n",
    "#print the genres for inspection\n",
    "top_imdb_user_votes.head()"
   ]
  },
  {
   "cell_type": "code",
   "execution_count": 140,
   "id": "jEFwsTzp08D4",
   "metadata": {
    "colab": {
     "base_uri": "https://localhost:8080/"
    },
    "id": "jEFwsTzp08D4",
    "outputId": "c3ce6049-cd26-498a-8211-1f278a44cb8f"
   },
   "outputs": [
    {
     "data": {
      "text/plain": [
       "(152, 4)"
      ]
     },
     "execution_count": 140,
     "metadata": {},
     "output_type": "execute_result"
    }
   ],
   "source": [
    "top_imdb_user_votes.shape"
   ]
  },
  {
   "cell_type": "code",
   "execution_count": 141,
   "id": "KrsnPsw90_xR",
   "metadata": {
    "colab": {
     "base_uri": "https://localhost:8080/",
     "height": 514
    },
    "id": "KrsnPsw90_xR",
    "outputId": "60b88465-a47b-423d-d092-a2e83ff7bce8"
   },
   "outputs": [
    {
     "data": {
      "text/html": [
       "<div>\n",
       "<style scoped>\n",
       "    .dataframe tbody tr th:only-of-type {\n",
       "        vertical-align: middle;\n",
       "    }\n",
       "\n",
       "    .dataframe tbody tr th {\n",
       "        vertical-align: top;\n",
       "    }\n",
       "\n",
       "    .dataframe thead th {\n",
       "        text-align: right;\n",
       "    }\n",
       "</style>\n",
       "<table border=\"1\" class=\"dataframe\">\n",
       "  <thead>\n",
       "    <tr style=\"text-align: right;\">\n",
       "      <th></th>\n",
       "      <th>imdb_score</th>\n",
       "      <th>budget (in millions)</th>\n",
       "      <th>gross (in millions)</th>\n",
       "      <th>ROI(%)</th>\n",
       "    </tr>\n",
       "    <tr>\n",
       "      <th>num_voted_users</th>\n",
       "      <th></th>\n",
       "      <th></th>\n",
       "      <th></th>\n",
       "      <th></th>\n",
       "    </tr>\n",
       "  </thead>\n",
       "  <tbody>\n",
       "    <tr>\n",
       "      <th>891</th>\n",
       "      <td>8.1</td>\n",
       "      <td>0.160000</td>\n",
       "      <td>0.012438</td>\n",
       "      <td>-92.226250</td>\n",
       "    </tr>\n",
       "    <tr>\n",
       "      <th>382240</th>\n",
       "      <td>8.3</td>\n",
       "      <td>0.229575</td>\n",
       "      <td>1.229197</td>\n",
       "      <td>435.422847</td>\n",
       "    </tr>\n",
       "    <tr>\n",
       "      <th>3086</th>\n",
       "      <td>8.4</td>\n",
       "      <td>0.500000</td>\n",
       "      <td>0.133778</td>\n",
       "      <td>-73.244400</td>\n",
       "    </tr>\n",
       "    <tr>\n",
       "      <th>12631</th>\n",
       "      <td>8.1</td>\n",
       "      <td>0.600000</td>\n",
       "      <td>13.300000</td>\n",
       "      <td>2116.666667</td>\n",
       "    </tr>\n",
       "    <tr>\n",
       "      <th>18980</th>\n",
       "      <td>8.3</td>\n",
       "      <td>0.700000</td>\n",
       "      <td>7.830611</td>\n",
       "      <td>1018.658714</td>\n",
       "    </tr>\n",
       "    <tr>\n",
       "      <th>422432</th>\n",
       "      <td>8.5</td>\n",
       "      <td>0.806947</td>\n",
       "      <td>32.000000</td>\n",
       "      <td>3865.564033</td>\n",
       "    </tr>\n",
       "    <tr>\n",
       "      <th>100890</th>\n",
       "      <td>8.2</td>\n",
       "      <td>0.910000</td>\n",
       "      <td>9.600000</td>\n",
       "      <td>954.945055</td>\n",
       "    </tr>\n",
       "    <tr>\n",
       "      <th>414976</th>\n",
       "      <td>8.2</td>\n",
       "      <td>0.960000</td>\n",
       "      <td>3.650677</td>\n",
       "      <td>280.278854</td>\n",
       "    </tr>\n",
       "    <tr>\n",
       "      <th>375240</th>\n",
       "      <td>8.1</td>\n",
       "      <td>0.960000</td>\n",
       "      <td>117.235247</td>\n",
       "      <td>12112.004896</td>\n",
       "    </tr>\n",
       "    <tr>\n",
       "      <th>23836</th>\n",
       "      <td>8.2</td>\n",
       "      <td>1.000000</td>\n",
       "      <td>0.484221</td>\n",
       "      <td>-51.577900</td>\n",
       "    </tr>\n",
       "    <tr>\n",
       "      <th>503509</th>\n",
       "      <td>8.9</td>\n",
       "      <td>1.200000</td>\n",
       "      <td>6.100000</td>\n",
       "      <td>408.333333</td>\n",
       "    </tr>\n",
       "    <tr>\n",
       "      <th>664719</th>\n",
       "      <td>8.4</td>\n",
       "      <td>1.200000</td>\n",
       "      <td>2.812029</td>\n",
       "      <td>134.335750</td>\n",
       "    </tr>\n",
       "    <tr>\n",
       "      <th>65951</th>\n",
       "      <td>8.1</td>\n",
       "      <td>1.300000</td>\n",
       "      <td>1.647780</td>\n",
       "      <td>26.752308</td>\n",
       "    </tr>\n",
       "    <tr>\n",
       "      <th>143086</th>\n",
       "      <td>8.6</td>\n",
       "      <td>1.500000</td>\n",
       "      <td>0.163245</td>\n",
       "      <td>-89.117000</td>\n",
       "    </tr>\n",
       "  </tbody>\n",
       "</table>\n",
       "</div>"
      ],
      "text/plain": [
       "                 imdb_score  ...        ROI(%)\n",
       "num_voted_users              ...              \n",
       "891                     8.1  ...    -92.226250\n",
       "382240                  8.3  ...    435.422847\n",
       "3086                    8.4  ...    -73.244400\n",
       "12631                   8.1  ...   2116.666667\n",
       "18980                   8.3  ...   1018.658714\n",
       "422432                  8.5  ...   3865.564033\n",
       "100890                  8.2  ...    954.945055\n",
       "414976                  8.2  ...    280.278854\n",
       "375240                  8.1  ...  12112.004896\n",
       "23836                   8.2  ...    -51.577900\n",
       "503509                  8.9  ...    408.333333\n",
       "664719                  8.4  ...    134.335750\n",
       "65951                   8.1  ...     26.752308\n",
       "143086                  8.6  ...    -89.117000\n",
       "\n",
       "[14 rows x 4 columns]"
      ]
     },
     "execution_count": 141,
     "metadata": {},
     "output_type": "execute_result"
    }
   ],
   "source": [
    "#extracting rows within the budget of 1.5 million\n",
    "top_imdb_user_votes.sort_values('budget (in millions)').head(14)"
   ]
  },
  {
   "cell_type": "code",
   "execution_count": 142,
   "id": "0gT_5GN919m0",
   "metadata": {
    "colab": {
     "base_uri": "https://localhost:8080/",
     "height": 390
    },
    "id": "0gT_5GN919m0",
    "outputId": "ff925569-d291-4f97-c202-6f8c6b2db19d"
   },
   "outputs": [
    {
     "data": {
      "text/html": [
       "<div>\n",
       "<style scoped>\n",
       "    .dataframe tbody tr th:only-of-type {\n",
       "        vertical-align: middle;\n",
       "    }\n",
       "\n",
       "    .dataframe tbody tr th {\n",
       "        vertical-align: top;\n",
       "    }\n",
       "\n",
       "    .dataframe thead th {\n",
       "        text-align: right;\n",
       "    }\n",
       "</style>\n",
       "<table border=\"1\" class=\"dataframe\">\n",
       "  <thead>\n",
       "    <tr style=\"text-align: right;\">\n",
       "      <th></th>\n",
       "      <th>imdb_score</th>\n",
       "      <th>budget (in millions)</th>\n",
       "      <th>gross (in millions)</th>\n",
       "      <th>ROI(%)</th>\n",
       "    </tr>\n",
       "    <tr>\n",
       "      <th>num_voted_users</th>\n",
       "      <th></th>\n",
       "      <th></th>\n",
       "      <th></th>\n",
       "      <th></th>\n",
       "    </tr>\n",
       "  </thead>\n",
       "  <tbody>\n",
       "    <tr>\n",
       "      <th>375240</th>\n",
       "      <td>8.1</td>\n",
       "      <td>0.960000</td>\n",
       "      <td>117.235247</td>\n",
       "      <td>12112.004896</td>\n",
       "    </tr>\n",
       "    <tr>\n",
       "      <th>422432</th>\n",
       "      <td>8.5</td>\n",
       "      <td>0.806947</td>\n",
       "      <td>32.000000</td>\n",
       "      <td>3865.564033</td>\n",
       "    </tr>\n",
       "    <tr>\n",
       "      <th>12631</th>\n",
       "      <td>8.1</td>\n",
       "      <td>0.600000</td>\n",
       "      <td>13.300000</td>\n",
       "      <td>2116.666667</td>\n",
       "    </tr>\n",
       "    <tr>\n",
       "      <th>18980</th>\n",
       "      <td>8.3</td>\n",
       "      <td>0.700000</td>\n",
       "      <td>7.830611</td>\n",
       "      <td>1018.658714</td>\n",
       "    </tr>\n",
       "    <tr>\n",
       "      <th>100890</th>\n",
       "      <td>8.2</td>\n",
       "      <td>0.910000</td>\n",
       "      <td>9.600000</td>\n",
       "      <td>954.945055</td>\n",
       "    </tr>\n",
       "    <tr>\n",
       "      <th>382240</th>\n",
       "      <td>8.3</td>\n",
       "      <td>0.229575</td>\n",
       "      <td>1.229197</td>\n",
       "      <td>435.422847</td>\n",
       "    </tr>\n",
       "    <tr>\n",
       "      <th>503509</th>\n",
       "      <td>8.9</td>\n",
       "      <td>1.200000</td>\n",
       "      <td>6.100000</td>\n",
       "      <td>408.333333</td>\n",
       "    </tr>\n",
       "    <tr>\n",
       "      <th>414976</th>\n",
       "      <td>8.2</td>\n",
       "      <td>0.960000</td>\n",
       "      <td>3.650677</td>\n",
       "      <td>280.278854</td>\n",
       "    </tr>\n",
       "    <tr>\n",
       "      <th>664719</th>\n",
       "      <td>8.4</td>\n",
       "      <td>1.200000</td>\n",
       "      <td>2.812029</td>\n",
       "      <td>134.335750</td>\n",
       "    </tr>\n",
       "    <tr>\n",
       "      <th>65951</th>\n",
       "      <td>8.1</td>\n",
       "      <td>1.300000</td>\n",
       "      <td>1.647780</td>\n",
       "      <td>26.752308</td>\n",
       "    </tr>\n",
       "  </tbody>\n",
       "</table>\n",
       "</div>"
      ],
      "text/plain": [
       "                 imdb_score  ...        ROI(%)\n",
       "num_voted_users              ...              \n",
       "375240                  8.1  ...  12112.004896\n",
       "422432                  8.5  ...   3865.564033\n",
       "12631                   8.1  ...   2116.666667\n",
       "18980                   8.3  ...   1018.658714\n",
       "100890                  8.2  ...    954.945055\n",
       "382240                  8.3  ...    435.422847\n",
       "503509                  8.9  ...    408.333333\n",
       "414976                  8.2  ...    280.278854\n",
       "664719                  8.4  ...    134.335750\n",
       "65951                   8.1  ...     26.752308\n",
       "\n",
       "[10 rows x 4 columns]"
      ]
     },
     "execution_count": 142,
     "metadata": {},
     "output_type": "execute_result"
    }
   ],
   "source": [
    "#assigning the output to a new dataframe named 'Best_ROI'\n",
    "Best_ROI=top_imdb_user_votes.sort_values('budget (in millions)').head(14)\n",
    "#sorting the dataframe on 'ROI'\n",
    "Best_ROI=Best_ROI.sort_values('ROI(%)', ascending=False).head(10)\n",
    "Best_ROI"
   ]
  },
  {
   "cell_type": "code",
   "execution_count": 143,
   "id": "VWikwEiC27jt",
   "metadata": {
    "colab": {
     "base_uri": "https://localhost:8080/",
     "height": 634
    },
    "id": "VWikwEiC27jt",
    "outputId": "563f7057-4d4b-43d5-dd15-3c728997fa3e"
   },
   "outputs": [
    {
     "data": {
      "text/html": [
       "<div>\n",
       "<style scoped>\n",
       "    .dataframe tbody tr th:only-of-type {\n",
       "        vertical-align: middle;\n",
       "    }\n",
       "\n",
       "    .dataframe tbody tr th {\n",
       "        vertical-align: top;\n",
       "    }\n",
       "\n",
       "    .dataframe thead th {\n",
       "        text-align: right;\n",
       "    }\n",
       "</style>\n",
       "<table border=\"1\" class=\"dataframe\">\n",
       "  <thead>\n",
       "    <tr style=\"text-align: right;\">\n",
       "      <th></th>\n",
       "      <th>num_voted_users</th>\n",
       "      <th>director_name</th>\n",
       "      <th>num_critic_for_reviews</th>\n",
       "      <th>duration</th>\n",
       "      <th>director_facebook_likes</th>\n",
       "      <th>actor_3_facebook_likes</th>\n",
       "      <th>actor_2_name</th>\n",
       "      <th>actor_1_facebook_likes</th>\n",
       "      <th>genres</th>\n",
       "      <th>actor_1_name</th>\n",
       "      <th>movie_title</th>\n",
       "      <th>cast_total_facebook_likes</th>\n",
       "      <th>actor_3_name</th>\n",
       "      <th>facenumber_in_poster</th>\n",
       "      <th>plot_keywords</th>\n",
       "      <th>num_user_for_reviews</th>\n",
       "      <th>language</th>\n",
       "      <th>country</th>\n",
       "      <th>content_rating</th>\n",
       "      <th>title_year</th>\n",
       "      <th>actor_2_facebook_likes</th>\n",
       "      <th>aspect_ratio</th>\n",
       "      <th>movie_facebook_likes</th>\n",
       "      <th>imdb_score</th>\n",
       "      <th>gross (in millions)</th>\n",
       "      <th>budget (in millions)</th>\n",
       "      <th>ROI(%)</th>\n",
       "    </tr>\n",
       "  </thead>\n",
       "  <tbody>\n",
       "    <tr>\n",
       "      <th>0</th>\n",
       "      <td>375240</td>\n",
       "      <td>John G. Avildsen</td>\n",
       "      <td>141.0</td>\n",
       "      <td>145.0</td>\n",
       "      <td>80.0</td>\n",
       "      <td>794.0</td>\n",
       "      <td>Burgess Meredith</td>\n",
       "      <td>13000.0</td>\n",
       "      <td>Drama|Sport</td>\n",
       "      <td>Sylvester Stallone</td>\n",
       "      <td>Rocky</td>\n",
       "      <td>16094</td>\n",
       "      <td>Carl Weathers</td>\n",
       "      <td>0.0</td>\n",
       "      <td>boxer|hometown hero|philadelphia pennsylvania|...</td>\n",
       "      <td>542.0</td>\n",
       "      <td>English</td>\n",
       "      <td>USA</td>\n",
       "      <td>PG</td>\n",
       "      <td>1976.0</td>\n",
       "      <td>1000.0</td>\n",
       "      <td>1.33</td>\n",
       "      <td>0</td>\n",
       "      <td>8.1</td>\n",
       "      <td>117.235247</td>\n",
       "      <td>0.960000</td>\n",
       "      <td>12112.004896</td>\n",
       "    </tr>\n",
       "    <tr>\n",
       "      <th>1</th>\n",
       "      <td>422432</td>\n",
       "      <td>Alfred Hitchcock</td>\n",
       "      <td>290.0</td>\n",
       "      <td>108.0</td>\n",
       "      <td>13000.0</td>\n",
       "      <td>285.0</td>\n",
       "      <td>Vera Miles</td>\n",
       "      <td>606.0</td>\n",
       "      <td>Horror|Mystery|Thriller</td>\n",
       "      <td>Janet Leigh</td>\n",
       "      <td>Psycho</td>\n",
       "      <td>1885</td>\n",
       "      <td>John Gavin</td>\n",
       "      <td>2.0</td>\n",
       "      <td>money|motel|rain|shower|theft</td>\n",
       "      <td>1040.0</td>\n",
       "      <td>English</td>\n",
       "      <td>USA</td>\n",
       "      <td>R</td>\n",
       "      <td>1960.0</td>\n",
       "      <td>332.0</td>\n",
       "      <td>1.85</td>\n",
       "      <td>18000</td>\n",
       "      <td>8.5</td>\n",
       "      <td>32.000000</td>\n",
       "      <td>0.806947</td>\n",
       "      <td>3865.564033</td>\n",
       "    </tr>\n",
       "    <tr>\n",
       "      <th>2</th>\n",
       "      <td>12631</td>\n",
       "      <td>Michael Wadleigh</td>\n",
       "      <td>53.0</td>\n",
       "      <td>215.0</td>\n",
       "      <td>14.0</td>\n",
       "      <td>136.0</td>\n",
       "      <td>Jimi Hendrix</td>\n",
       "      <td>262.0</td>\n",
       "      <td>Documentary|History|Music</td>\n",
       "      <td>Joe Cocker</td>\n",
       "      <td>Woodstock</td>\n",
       "      <td>778</td>\n",
       "      <td>Joan Baez</td>\n",
       "      <td>0.0</td>\n",
       "      <td>drugs|hippie|music festival|the who|woodstock</td>\n",
       "      <td>63.0</td>\n",
       "      <td>English</td>\n",
       "      <td>USA</td>\n",
       "      <td>R</td>\n",
       "      <td>1970.0</td>\n",
       "      <td>227.0</td>\n",
       "      <td>2.20</td>\n",
       "      <td>0</td>\n",
       "      <td>8.1</td>\n",
       "      <td>13.300000</td>\n",
       "      <td>0.600000</td>\n",
       "      <td>2116.666667</td>\n",
       "    </tr>\n",
       "    <tr>\n",
       "      <th>3</th>\n",
       "      <td>18980</td>\n",
       "      <td>Steve James</td>\n",
       "      <td>53.0</td>\n",
       "      <td>170.0</td>\n",
       "      <td>23.0</td>\n",
       "      <td>2.0</td>\n",
       "      <td>Arthur Agee</td>\n",
       "      <td>7.0</td>\n",
       "      <td>Documentary|Drama|Sport</td>\n",
       "      <td>William Gates</td>\n",
       "      <td>Hoop Dreams</td>\n",
       "      <td>15</td>\n",
       "      <td>Isiah Thomas</td>\n",
       "      <td>0.0</td>\n",
       "      <td>athlete|basketball|high school|high school stu...</td>\n",
       "      <td>74.0</td>\n",
       "      <td>English</td>\n",
       "      <td>USA</td>\n",
       "      <td>PG-13</td>\n",
       "      <td>1994.0</td>\n",
       "      <td>6.0</td>\n",
       "      <td>1.33</td>\n",
       "      <td>0</td>\n",
       "      <td>8.3</td>\n",
       "      <td>7.830611</td>\n",
       "      <td>0.700000</td>\n",
       "      <td>1018.658714</td>\n",
       "    </tr>\n",
       "    <tr>\n",
       "      <th>4</th>\n",
       "      <td>100890</td>\n",
       "      <td>Elia Kazan</td>\n",
       "      <td>134.0</td>\n",
       "      <td>108.0</td>\n",
       "      <td>603.0</td>\n",
       "      <td>279.0</td>\n",
       "      <td>Karl Malden</td>\n",
       "      <td>10000.0</td>\n",
       "      <td>Crime|Drama|Romance</td>\n",
       "      <td>Marlon Brando</td>\n",
       "      <td>On the Waterfront</td>\n",
       "      <td>11094</td>\n",
       "      <td>Rod Steiger</td>\n",
       "      <td>2.0</td>\n",
       "      <td>death|dock|longshoreman|murder|union</td>\n",
       "      <td>281.0</td>\n",
       "      <td>English</td>\n",
       "      <td>USA</td>\n",
       "      <td>Not Rated</td>\n",
       "      <td>1954.0</td>\n",
       "      <td>416.0</td>\n",
       "      <td>1.85</td>\n",
       "      <td>0</td>\n",
       "      <td>8.2</td>\n",
       "      <td>9.600000</td>\n",
       "      <td>0.910000</td>\n",
       "      <td>954.945055</td>\n",
       "    </tr>\n",
       "    <tr>\n",
       "      <th>5</th>\n",
       "      <td>382240</td>\n",
       "      <td>Terry Gilliam</td>\n",
       "      <td>131.0</td>\n",
       "      <td>91.0</td>\n",
       "      <td>0.0</td>\n",
       "      <td>332.0</td>\n",
       "      <td>Michael Palin</td>\n",
       "      <td>795.0</td>\n",
       "      <td>Adventure|Comedy|Fantasy</td>\n",
       "      <td>Eric Idle</td>\n",
       "      <td>Monty Python and the Holy Grail</td>\n",
       "      <td>2158</td>\n",
       "      <td>Terry Jones</td>\n",
       "      <td>0.0</td>\n",
       "      <td>camelot|holy grail|king arthur|knight|lancelot</td>\n",
       "      <td>660.0</td>\n",
       "      <td>English</td>\n",
       "      <td>UK</td>\n",
       "      <td>PG</td>\n",
       "      <td>1975.0</td>\n",
       "      <td>561.0</td>\n",
       "      <td>1.66</td>\n",
       "      <td>14000</td>\n",
       "      <td>8.3</td>\n",
       "      <td>1.229197</td>\n",
       "      <td>0.229575</td>\n",
       "      <td>435.422847</td>\n",
       "    </tr>\n",
       "    <tr>\n",
       "      <th>6</th>\n",
       "      <td>503509</td>\n",
       "      <td>Sergio Leone</td>\n",
       "      <td>181.0</td>\n",
       "      <td>142.0</td>\n",
       "      <td>0.0</td>\n",
       "      <td>24.0</td>\n",
       "      <td>Luigi Pistilli</td>\n",
       "      <td>16000.0</td>\n",
       "      <td>Western</td>\n",
       "      <td>Clint Eastwood</td>\n",
       "      <td>The Good, the Bad and the Ugly</td>\n",
       "      <td>16089</td>\n",
       "      <td>Enzo Petito</td>\n",
       "      <td>3.0</td>\n",
       "      <td>civil war|hitman|outlaw|shootout|spaghetti wes...</td>\n",
       "      <td>780.0</td>\n",
       "      <td>Italian</td>\n",
       "      <td>Italy</td>\n",
       "      <td>Approved</td>\n",
       "      <td>1966.0</td>\n",
       "      <td>34.0</td>\n",
       "      <td>2.35</td>\n",
       "      <td>20000</td>\n",
       "      <td>8.9</td>\n",
       "      <td>6.100000</td>\n",
       "      <td>1.200000</td>\n",
       "      <td>408.333333</td>\n",
       "    </tr>\n",
       "    <tr>\n",
       "      <th>7</th>\n",
       "      <td>414976</td>\n",
       "      <td>Guy Ritchie</td>\n",
       "      <td>116.0</td>\n",
       "      <td>120.0</td>\n",
       "      <td>0.0</td>\n",
       "      <td>452.0</td>\n",
       "      <td>Jason Flemyng</td>\n",
       "      <td>26000.0</td>\n",
       "      <td>Comedy|Crime</td>\n",
       "      <td>Jason Statham</td>\n",
       "      <td>Lock, Stock and Two Smoking Barrels</td>\n",
       "      <td>28294</td>\n",
       "      <td>Dexter Fletcher</td>\n",
       "      <td>1.0</td>\n",
       "      <td>antique|cockney accent|hatchet|money|shotgun</td>\n",
       "      <td>523.0</td>\n",
       "      <td>English</td>\n",
       "      <td>UK</td>\n",
       "      <td>R</td>\n",
       "      <td>1998.0</td>\n",
       "      <td>1000.0</td>\n",
       "      <td>1.85</td>\n",
       "      <td>21000</td>\n",
       "      <td>8.2</td>\n",
       "      <td>3.650677</td>\n",
       "      <td>0.960000</td>\n",
       "      <td>280.278854</td>\n",
       "    </tr>\n",
       "    <tr>\n",
       "      <th>8</th>\n",
       "      <td>664719</td>\n",
       "      <td>Quentin Tarantino</td>\n",
       "      <td>173.0</td>\n",
       "      <td>99.0</td>\n",
       "      <td>16000.0</td>\n",
       "      <td>455.0</td>\n",
       "      <td>Steve Buscemi</td>\n",
       "      <td>16000.0</td>\n",
       "      <td>Crime|Drama|Thriller</td>\n",
       "      <td>Quentin Tarantino</td>\n",
       "      <td>Reservoir Dogs</td>\n",
       "      <td>28994</td>\n",
       "      <td>Chris Penn</td>\n",
       "      <td>0.0</td>\n",
       "      <td>gang|heist|heist gone wrong|nonlinear timeline...</td>\n",
       "      <td>931.0</td>\n",
       "      <td>English</td>\n",
       "      <td>USA</td>\n",
       "      <td>R</td>\n",
       "      <td>1992.0</td>\n",
       "      <td>12000.0</td>\n",
       "      <td>2.35</td>\n",
       "      <td>19000</td>\n",
       "      <td>8.4</td>\n",
       "      <td>2.812029</td>\n",
       "      <td>1.200000</td>\n",
       "      <td>134.335750</td>\n",
       "    </tr>\n",
       "    <tr>\n",
       "      <th>9</th>\n",
       "      <td>65951</td>\n",
       "      <td>Thomas Vinterberg</td>\n",
       "      <td>98.0</td>\n",
       "      <td>105.0</td>\n",
       "      <td>346.0</td>\n",
       "      <td>141.0</td>\n",
       "      <td>Paprika Steen</td>\n",
       "      <td>280.0</td>\n",
       "      <td>Drama</td>\n",
       "      <td>Ulrich Thomsen</td>\n",
       "      <td>The Celebration</td>\n",
       "      <td>821</td>\n",
       "      <td>Trine Dyrholm</td>\n",
       "      <td>1.0</td>\n",
       "      <td>dogme 95|family secret|haunted by the past|sec...</td>\n",
       "      <td>258.0</td>\n",
       "      <td>Danish</td>\n",
       "      <td>Denmark</td>\n",
       "      <td>R</td>\n",
       "      <td>1998.0</td>\n",
       "      <td>278.0</td>\n",
       "      <td>1.33</td>\n",
       "      <td>5000</td>\n",
       "      <td>8.1</td>\n",
       "      <td>1.647780</td>\n",
       "      <td>1.300000</td>\n",
       "      <td>26.752308</td>\n",
       "    </tr>\n",
       "  </tbody>\n",
       "</table>\n",
       "</div>"
      ],
      "text/plain": [
       "   num_voted_users      director_name  ...  budget (in millions)        ROI(%)\n",
       "0           375240   John G. Avildsen  ...              0.960000  12112.004896\n",
       "1           422432   Alfred Hitchcock  ...              0.806947   3865.564033\n",
       "2            12631   Michael Wadleigh  ...              0.600000   2116.666667\n",
       "3            18980        Steve James  ...              0.700000   1018.658714\n",
       "4           100890         Elia Kazan  ...              0.910000    954.945055\n",
       "5           382240      Terry Gilliam  ...              0.229575    435.422847\n",
       "6           503509       Sergio Leone  ...              1.200000    408.333333\n",
       "7           414976        Guy Ritchie  ...              0.960000    280.278854\n",
       "8           664719  Quentin Tarantino  ...              1.200000    134.335750\n",
       "9            65951  Thomas Vinterberg  ...              1.300000     26.752308\n",
       "\n",
       "[10 rows x 27 columns]"
      ]
     },
     "execution_count": 143,
     "metadata": {},
     "output_type": "execute_result"
    }
   ],
   "source": [
    "#merging the dataframes to get other columns data using key 'num_voted_users'\n",
    "df3=pd.merge(Best_ROI,df_filtered, left_on='num_voted_users', right_on='num_voted_users')\n",
    "df3.drop(['imdb_score_x','budget (in millions)_x','gross (in millions)_x','ROI(%)_x'],axis=1,inplace=True)\n",
    "df3[['imdb_score','gross (in millions)','budget (in millions)','ROI(%)']]=df3[['imdb_score_y','gross (in millions)_y','budget (in millions)_y','ROI(%)_y']]\n",
    "df3.drop(['imdb_score_y','gross (in millions)_y','budget (in millions)_y','ROI(%)_y'], axis=1, inplace=True)\n",
    "df3"
   ]
  },
  {
   "cell_type": "markdown",
   "id": "a0b3fe72",
   "metadata": {
    "id": "a0b3fe72"
   },
   "source": [
    "## **My Recommendations**"
   ]
  },
  {
   "cell_type": "code",
   "execution_count": 144,
   "id": "9ed2b67e",
   "metadata": {
    "colab": {
     "base_uri": "https://localhost:8080/",
     "height": 359
    },
    "id": "9ed2b67e",
    "outputId": "a1920467-e56c-433c-8f11-770130befd70"
   },
   "outputs": [
    {
     "data": {
      "text/html": [
       "<div>\n",
       "<style scoped>\n",
       "    .dataframe tbody tr th:only-of-type {\n",
       "        vertical-align: middle;\n",
       "    }\n",
       "\n",
       "    .dataframe tbody tr th {\n",
       "        vertical-align: top;\n",
       "    }\n",
       "\n",
       "    .dataframe thead th {\n",
       "        text-align: right;\n",
       "    }\n",
       "</style>\n",
       "<table border=\"1\" class=\"dataframe\">\n",
       "  <thead>\n",
       "    <tr style=\"text-align: right;\">\n",
       "      <th></th>\n",
       "      <th>genres</th>\n",
       "      <th>country</th>\n",
       "      <th>language</th>\n",
       "      <th>imdb_score</th>\n",
       "      <th>gross (in millions)</th>\n",
       "      <th>budget (in millions)</th>\n",
       "      <th>ROI(%)</th>\n",
       "    </tr>\n",
       "  </thead>\n",
       "  <tbody>\n",
       "    <tr>\n",
       "      <th>0</th>\n",
       "      <td>Drama|Sport</td>\n",
       "      <td>USA</td>\n",
       "      <td>English</td>\n",
       "      <td>8.1</td>\n",
       "      <td>117.235247</td>\n",
       "      <td>0.960000</td>\n",
       "      <td>12112.004896</td>\n",
       "    </tr>\n",
       "    <tr>\n",
       "      <th>1</th>\n",
       "      <td>Horror|Mystery|Thriller</td>\n",
       "      <td>USA</td>\n",
       "      <td>English</td>\n",
       "      <td>8.5</td>\n",
       "      <td>32.000000</td>\n",
       "      <td>0.806947</td>\n",
       "      <td>3865.564033</td>\n",
       "    </tr>\n",
       "    <tr>\n",
       "      <th>2</th>\n",
       "      <td>Documentary|History|Music</td>\n",
       "      <td>USA</td>\n",
       "      <td>English</td>\n",
       "      <td>8.1</td>\n",
       "      <td>13.300000</td>\n",
       "      <td>0.600000</td>\n",
       "      <td>2116.666667</td>\n",
       "    </tr>\n",
       "    <tr>\n",
       "      <th>3</th>\n",
       "      <td>Documentary|Drama|Sport</td>\n",
       "      <td>USA</td>\n",
       "      <td>English</td>\n",
       "      <td>8.3</td>\n",
       "      <td>7.830611</td>\n",
       "      <td>0.700000</td>\n",
       "      <td>1018.658714</td>\n",
       "    </tr>\n",
       "    <tr>\n",
       "      <th>4</th>\n",
       "      <td>Crime|Drama|Romance</td>\n",
       "      <td>USA</td>\n",
       "      <td>English</td>\n",
       "      <td>8.2</td>\n",
       "      <td>9.600000</td>\n",
       "      <td>0.910000</td>\n",
       "      <td>954.945055</td>\n",
       "    </tr>\n",
       "    <tr>\n",
       "      <th>5</th>\n",
       "      <td>Adventure|Comedy|Fantasy</td>\n",
       "      <td>UK</td>\n",
       "      <td>English</td>\n",
       "      <td>8.3</td>\n",
       "      <td>1.229197</td>\n",
       "      <td>0.229575</td>\n",
       "      <td>435.422847</td>\n",
       "    </tr>\n",
       "    <tr>\n",
       "      <th>6</th>\n",
       "      <td>Western</td>\n",
       "      <td>Italy</td>\n",
       "      <td>Italian</td>\n",
       "      <td>8.9</td>\n",
       "      <td>6.100000</td>\n",
       "      <td>1.200000</td>\n",
       "      <td>408.333333</td>\n",
       "    </tr>\n",
       "    <tr>\n",
       "      <th>7</th>\n",
       "      <td>Comedy|Crime</td>\n",
       "      <td>UK</td>\n",
       "      <td>English</td>\n",
       "      <td>8.2</td>\n",
       "      <td>3.650677</td>\n",
       "      <td>0.960000</td>\n",
       "      <td>280.278854</td>\n",
       "    </tr>\n",
       "    <tr>\n",
       "      <th>8</th>\n",
       "      <td>Crime|Drama|Thriller</td>\n",
       "      <td>USA</td>\n",
       "      <td>English</td>\n",
       "      <td>8.4</td>\n",
       "      <td>2.812029</td>\n",
       "      <td>1.200000</td>\n",
       "      <td>134.335750</td>\n",
       "    </tr>\n",
       "    <tr>\n",
       "      <th>9</th>\n",
       "      <td>Drama</td>\n",
       "      <td>Denmark</td>\n",
       "      <td>Danish</td>\n",
       "      <td>8.1</td>\n",
       "      <td>1.647780</td>\n",
       "      <td>1.300000</td>\n",
       "      <td>26.752308</td>\n",
       "    </tr>\n",
       "  </tbody>\n",
       "</table>\n",
       "</div>"
      ],
      "text/plain": [
       "                      genres  country  ... budget (in millions)        ROI(%)\n",
       "0                Drama|Sport      USA  ...             0.960000  12112.004896\n",
       "1    Horror|Mystery|Thriller      USA  ...             0.806947   3865.564033\n",
       "2  Documentary|History|Music      USA  ...             0.600000   2116.666667\n",
       "3    Documentary|Drama|Sport      USA  ...             0.700000   1018.658714\n",
       "4        Crime|Drama|Romance      USA  ...             0.910000    954.945055\n",
       "5   Adventure|Comedy|Fantasy       UK  ...             0.229575    435.422847\n",
       "6                    Western    Italy  ...             1.200000    408.333333\n",
       "7               Comedy|Crime       UK  ...             0.960000    280.278854\n",
       "8       Crime|Drama|Thriller      USA  ...             1.200000    134.335750\n",
       "9                      Drama  Denmark  ...             1.300000     26.752308\n",
       "\n",
       "[10 rows x 7 columns]"
      ]
     },
     "execution_count": 144,
     "metadata": {},
     "output_type": "execute_result"
    }
   ],
   "source": [
    "#Displaying recommendations which are in the budget of 1.5 million and high ROI\n",
    "df3[['genres','country','language','imdb_score','gross (in millions)','budget (in millions)','ROI(%)']].sort_values('ROI(%)',ascending=False)"
   ]
  },
  {
   "cell_type": "code",
   "execution_count": 145,
   "id": "48c7b793",
   "metadata": {
    "colab": {
     "base_uri": "https://localhost:8080/"
    },
    "id": "48c7b793",
    "outputId": "e307b304-8b23-44f1-c4a5-72edbfb7c716"
   },
   "outputs": [
    {
     "data": {
      "text/plain": [
       "['Drama|Sport',\n",
       " 'Horror|Mystery|Thriller',\n",
       " 'Documentary|History|Music',\n",
       " 'Documentary|Drama|Sport',\n",
       " 'Crime|Drama|Romance',\n",
       " 'Adventure|Comedy|Fantasy',\n",
       " 'Western',\n",
       " 'Comedy|Crime',\n",
       " 'Crime|Drama|Thriller',\n",
       " 'Drama']"
      ]
     },
     "execution_count": 145,
     "metadata": {},
     "output_type": "execute_result"
    }
   ],
   "source": [
    "#Creating a list with obtained genres\n",
    "genre_list=df3['genres'].to_list()\n",
    "genre_list"
   ]
  },
  {
   "cell_type": "code",
   "execution_count": 146,
   "id": "3d518a43",
   "metadata": {
    "colab": {
     "base_uri": "https://localhost:8080/"
    },
    "id": "3d518a43",
    "outputId": "bc0fb7ed-2cc3-4c88-e7d5-5346b78533e0"
   },
   "outputs": [
    {
     "name": "stdout",
     "output_type": "stream",
     "text": [
      "The mean ROI of Drama|Sport is  635.0201464490561\n",
      "The mean ROI of Horror|Mystery|Thriller is  583.2587245578686\n",
      "The mean ROI of Documentary|History|Music is  1062.1295833333336\n",
      "The mean ROI of Documentary|Drama|Sport is  1018.6587142857144\n",
      "The mean ROI of Crime|Drama|Romance is  431.1455968223443\n",
      "The mean ROI of Adventure|Comedy|Fantasy is  115.15644677594355\n",
      "The mean ROI of Western is  454.16666666666663\n",
      "The mean ROI of Comedy|Crime is  87.04277650156116\n",
      "The mean ROI of Crime|Drama|Thriller is  72.37819933892258\n",
      "The mean ROI of Drama is  132.3437409624667\n"
     ]
    }
   ],
   "source": [
    "#calculating the mean ROI for all the movies in that particular genre\n",
    "for i in genre_list:\n",
    "     Mean_ROI=df_filtered[df_filtered['genres']==i]['ROI(%)'].mean()\n",
    "     print('The mean ROI of {} is  {}'.format(i,Mean_ROI))"
   ]
  },
  {
   "cell_type": "code",
   "execution_count": 147,
   "id": "ac6ed879",
   "metadata": {
    "colab": {
     "base_uri": "https://localhost:8080/"
    },
    "id": "ac6ed879",
    "outputId": "ca07604f-f93b-4761-dad5-689988f6f9a0"
   },
   "outputs": [
    {
     "name": "stdout",
     "output_type": "stream",
     "text": [
      "Number of movies in Drama|Sport is  22\n",
      "Number of movies in Horror|Mystery|Thriller is  33\n",
      "Number of movies in Documentary|History|Music is  2\n",
      "Number of movies in Documentary|Drama|Sport is  1\n",
      "Number of movies in Crime|Drama|Romance is  5\n",
      "Number of movies in Adventure|Comedy|Fantasy is  3\n",
      "Number of movies in Western is  3\n",
      "Number of movies in Comedy|Crime is  47\n",
      "Number of movies in Crime|Drama|Thriller is  83\n",
      "Number of movies in Drama is  154\n"
     ]
    }
   ],
   "source": [
    "#Finding out number of movies in that genre\n",
    "for i in genre_list:\n",
    "    Nm=df[df['genres']==i]['movie_title'].count()\n",
    "    print('Number of movies in {} is  {}'.format(i,Nm))"
   ]
  },
  {
   "cell_type": "code",
   "execution_count": 148,
   "id": "cf106cff",
   "metadata": {
    "colab": {
     "base_uri": "https://localhost:8080/"
    },
    "id": "cf106cff",
    "outputId": "f9e6a31d-7d73-417c-bc3c-72364cc4c7a5"
   },
   "outputs": [
    {
     "name": "stdout",
     "output_type": "stream",
     "text": [
      "From the observed outcome of the analysis, there are 3 recommendations in which the CEO of the SussexBudgetProductions company should consider investing for good returns.\n",
      "The genres like  Horror|Mystery|Thriller, Comedy|Crime, Crime|Drama|Thriller, Drama|Sport, Drama  will really perform well at box office.\n",
      "The market of release for good returns is USA market.\n",
      "The language in which the film is made should be English\n"
     ]
    }
   ],
   "source": [
    "print('From the observed outcome of the analysis, there are 3 recommendations in which the CEO of the SussexBudgetProductions company should consider investing for good returns.\\nThe genres like  Horror|Mystery|Thriller, Comedy|Crime, Crime|Drama|Thriller, Drama|Sport, Drama  will really perform well at box office.\\nThe market of release for good returns is USA market.\\nThe language in which the film is made should be English')"
   ]
  },
  {
   "cell_type": "markdown",
   "id": "f01ebd8a",
   "metadata": {
    "id": "f01ebd8a"
   },
   "source": [
    "## **Hypothesis Test 1**"
   ]
  },
  {
   "cell_type": "markdown",
   "id": "bfe24d72",
   "metadata": {
    "id": "bfe24d72"
   },
   "source": [
    "### **The gross returns for 'Drama' genre is more than 'Comedy' genre**"
   ]
  },
  {
   "cell_type": "code",
   "execution_count": 149,
   "id": "ed82fde0",
   "metadata": {
    "id": "ed82fde0"
   },
   "outputs": [],
   "source": [
    "#creating a df and loading data\n",
    "Population_df = pd.read_csv(myfile,index_col=None)"
   ]
  },
  {
   "cell_type": "code",
   "execution_count": 150,
   "id": "dae07385",
   "metadata": {
    "colab": {
     "base_uri": "https://localhost:8080/"
    },
    "id": "dae07385",
    "outputId": "32def97d-74f9-4396-f654-61c73a687a6a"
   },
   "outputs": [
    {
     "data": {
      "text/plain": [
       "(5043, 28)"
      ]
     },
     "execution_count": 150,
     "metadata": {},
     "output_type": "execute_result"
    }
   ],
   "source": [
    "Population_df.shape"
   ]
  },
  {
   "cell_type": "code",
   "execution_count": 151,
   "id": "7be4516f",
   "metadata": {
    "colab": {
     "base_uri": "https://localhost:8080/"
    },
    "id": "7be4516f",
    "outputId": "962afe14-14d5-4d53-9c9f-ba958ce6840c"
   },
   "outputs": [
    {
     "data": {
      "text/plain": [
       "Index(['color', 'director_name', 'num_critic_for_reviews', 'duration',\n",
       "       'director_facebook_likes', 'actor_3_facebook_likes', 'actor_2_name',\n",
       "       'actor_1_facebook_likes', 'gross', 'genres', 'actor_1_name',\n",
       "       'movie_title', 'num_voted_users', 'cast_total_facebook_likes',\n",
       "       'actor_3_name', 'facenumber_in_poster', 'plot_keywords',\n",
       "       'movie_imdb_link', 'num_user_for_reviews', 'language', 'country',\n",
       "       'content_rating', 'budget', 'title_year', 'actor_2_facebook_likes',\n",
       "       'imdb_score', 'aspect_ratio', 'movie_facebook_likes'],\n",
       "      dtype='object')"
      ]
     },
     "execution_count": 151,
     "metadata": {},
     "output_type": "execute_result"
    }
   ],
   "source": [
    "#column info\n",
    "Population_df.columns"
   ]
  },
  {
   "cell_type": "code",
   "execution_count": 152,
   "id": "d6a50e5d",
   "metadata": {
    "id": "d6a50e5d"
   },
   "outputs": [],
   "source": [
    "#extracing the columns of interest\n",
    "Population_df=Population_df[['movie_title','genres','gross']]"
   ]
  },
  {
   "cell_type": "code",
   "execution_count": 153,
   "id": "4d84cf19",
   "metadata": {
    "colab": {
     "base_uri": "https://localhost:8080/"
    },
    "id": "4d84cf19",
    "outputId": "d780f19c-88fa-4a0a-f88c-2fc53848e537"
   },
   "outputs": [
    {
     "data": {
      "text/plain": [
       "movie_title      0\n",
       "genres           0\n",
       "gross          884\n",
       "dtype: int64"
      ]
     },
     "execution_count": 153,
     "metadata": {},
     "output_type": "execute_result"
    }
   ],
   "source": [
    "#NaN check\n",
    "Population_df.isnull().sum()"
   ]
  },
  {
   "cell_type": "code",
   "execution_count": 154,
   "id": "97e6164b",
   "metadata": {
    "id": "97e6164b"
   },
   "outputs": [],
   "source": [
    "#dropping NaN\n",
    "Population_df.dropna(inplace=True)"
   ]
  },
  {
   "cell_type": "code",
   "execution_count": 155,
   "id": "d089a2bc",
   "metadata": {
    "colab": {
     "base_uri": "https://localhost:8080/"
    },
    "id": "d089a2bc",
    "outputId": "6c6b9518-44fd-470a-92c8-b82198ff035a"
   },
   "outputs": [
    {
     "data": {
      "text/plain": [
       "movie_title    0\n",
       "genres         0\n",
       "gross          0\n",
       "dtype: int64"
      ]
     },
     "execution_count": 155,
     "metadata": {},
     "output_type": "execute_result"
    }
   ],
   "source": [
    "#ensuring no NaN values\n",
    "Population_df.isnull().sum()"
   ]
  },
  {
   "cell_type": "code",
   "execution_count": 156,
   "id": "88d06913",
   "metadata": {
    "colab": {
     "base_uri": "https://localhost:8080/"
    },
    "id": "88d06913",
    "outputId": "2811418e-798f-4a50-d54e-b2d5ff7c9af0"
   },
   "outputs": [
    {
     "data": {
      "text/plain": [
       "103"
      ]
     },
     "execution_count": 156,
     "metadata": {},
     "output_type": "execute_result"
    }
   ],
   "source": [
    "#duplicate check\n",
    "Population_df.duplicated().sum()"
   ]
  },
  {
   "cell_type": "code",
   "execution_count": 157,
   "id": "e48cc9b9",
   "metadata": {
    "id": "e48cc9b9"
   },
   "outputs": [],
   "source": [
    "#dropping duplicates\n",
    "Population_df.drop_duplicates(inplace=True)"
   ]
  },
  {
   "cell_type": "code",
   "execution_count": 158,
   "id": "dd771251",
   "metadata": {
    "colab": {
     "base_uri": "https://localhost:8080/"
    },
    "id": "dd771251",
    "outputId": "319660d6-0772-421a-b7e8-31f31f0c2782"
   },
   "outputs": [
    {
     "data": {
      "text/plain": [
       "0"
      ]
     },
     "execution_count": 158,
     "metadata": {},
     "output_type": "execute_result"
    }
   ],
   "source": [
    "#ensuring no duplicates\n",
    "Population_df.duplicated().sum()"
   ]
  },
  {
   "cell_type": "code",
   "execution_count": 159,
   "id": "74f39e25",
   "metadata": {
    "colab": {
     "base_uri": "https://localhost:8080/"
    },
    "id": "74f39e25",
    "outputId": "90705303-d60e-435e-983f-9be54c945513"
   },
   "outputs": [
    {
     "data": {
      "text/plain": [
       "(4056, 3)"
      ]
     },
     "execution_count": 159,
     "metadata": {},
     "output_type": "execute_result"
    }
   ],
   "source": [
    "Population_df.shape"
   ]
  },
  {
   "cell_type": "code",
   "execution_count": 160,
   "id": "361d7c69",
   "metadata": {
    "colab": {
     "base_uri": "https://localhost:8080/",
     "height": 204
    },
    "id": "361d7c69",
    "outputId": "81b47936-f2b4-49b4-93e1-d02a63d8ed67"
   },
   "outputs": [
    {
     "data": {
      "text/html": [
       "<div>\n",
       "<style scoped>\n",
       "    .dataframe tbody tr th:only-of-type {\n",
       "        vertical-align: middle;\n",
       "    }\n",
       "\n",
       "    .dataframe tbody tr th {\n",
       "        vertical-align: top;\n",
       "    }\n",
       "\n",
       "    .dataframe thead th {\n",
       "        text-align: right;\n",
       "    }\n",
       "</style>\n",
       "<table border=\"1\" class=\"dataframe\">\n",
       "  <thead>\n",
       "    <tr style=\"text-align: right;\">\n",
       "      <th></th>\n",
       "      <th>movie_title</th>\n",
       "      <th>genres</th>\n",
       "      <th>gross</th>\n",
       "    </tr>\n",
       "  </thead>\n",
       "  <tbody>\n",
       "    <tr>\n",
       "      <th>4344</th>\n",
       "      <td>Northfork</td>\n",
       "      <td>Drama|Fantasy</td>\n",
       "      <td>1420578.0</td>\n",
       "    </tr>\n",
       "    <tr>\n",
       "      <th>3103</th>\n",
       "      <td>The Grudge</td>\n",
       "      <td>Horror|Mystery|Thriller</td>\n",
       "      <td>110175871.0</td>\n",
       "    </tr>\n",
       "    <tr>\n",
       "      <th>3750</th>\n",
       "      <td>No Escape</td>\n",
       "      <td>Action|Thriller</td>\n",
       "      <td>27285953.0</td>\n",
       "    </tr>\n",
       "    <tr>\n",
       "      <th>672</th>\n",
       "      <td>Annie</td>\n",
       "      <td>Comedy|Drama|Family|Musical</td>\n",
       "      <td>85911262.0</td>\n",
       "    </tr>\n",
       "    <tr>\n",
       "      <th>747</th>\n",
       "      <td>The Shaggy Dog</td>\n",
       "      <td>Comedy|Family|Fantasy</td>\n",
       "      <td>61112916.0</td>\n",
       "    </tr>\n",
       "  </tbody>\n",
       "</table>\n",
       "</div>"
      ],
      "text/plain": [
       "          movie_title                       genres        gross\n",
       "4344       Northfork                 Drama|Fantasy    1420578.0\n",
       "3103      The Grudge       Horror|Mystery|Thriller  110175871.0\n",
       "3750       No Escape               Action|Thriller   27285953.0\n",
       "672            Annie   Comedy|Drama|Family|Musical   85911262.0\n",
       "747   The Shaggy Dog         Comedy|Family|Fantasy   61112916.0"
      ]
     },
     "execution_count": 160,
     "metadata": {},
     "output_type": "execute_result"
    }
   ],
   "source": [
    "#Picking a random sample of 50 records\n",
    "sample_df=Population_df.sample(n=50, random_state=50)\n",
    "sample_df.head()"
   ]
  },
  {
   "cell_type": "code",
   "execution_count": 161,
   "id": "26cf6a58",
   "metadata": {
    "colab": {
     "base_uri": "https://localhost:8080/",
     "height": 111
    },
    "id": "26cf6a58",
    "outputId": "09450324-44f0-4e0a-c2e1-3bf16d020385"
   },
   "outputs": [
    {
     "data": {
      "text/html": [
       "<div>\n",
       "<style scoped>\n",
       "    .dataframe tbody tr th:only-of-type {\n",
       "        vertical-align: middle;\n",
       "    }\n",
       "\n",
       "    .dataframe tbody tr th {\n",
       "        vertical-align: top;\n",
       "    }\n",
       "\n",
       "    .dataframe thead th {\n",
       "        text-align: right;\n",
       "    }\n",
       "</style>\n",
       "<table border=\"1\" class=\"dataframe\">\n",
       "  <thead>\n",
       "    <tr style=\"text-align: right;\">\n",
       "      <th></th>\n",
       "      <th>movie_title</th>\n",
       "      <th>genres</th>\n",
       "      <th>gross</th>\n",
       "    </tr>\n",
       "  </thead>\n",
       "  <tbody>\n",
       "    <tr>\n",
       "      <th>2805</th>\n",
       "      <td>A Walk on the Moon</td>\n",
       "      <td>Drama</td>\n",
       "      <td>4741987.0</td>\n",
       "    </tr>\n",
       "    <tr>\n",
       "      <th>3534</th>\n",
       "      <td>Wah-Wah</td>\n",
       "      <td>Drama</td>\n",
       "      <td>233103.0</td>\n",
       "    </tr>\n",
       "  </tbody>\n",
       "</table>\n",
       "</div>"
      ],
      "text/plain": [
       "              movie_title genres      gross\n",
       "2805  A Walk on the Moon   Drama  4741987.0\n",
       "3534             Wah-Wah   Drama   233103.0"
      ]
     },
     "execution_count": 161,
     "metadata": {},
     "output_type": "execute_result"
    }
   ],
   "source": [
    "#creating a dataframe with movies of comedy genre\n",
    "drama_df=sample_df[sample_df['genres']=='Drama']\n",
    "drama_df"
   ]
  },
  {
   "cell_type": "code",
   "execution_count": 162,
   "id": "f2bf2dbe",
   "metadata": {
    "colab": {
     "base_uri": "https://localhost:8080/",
     "height": 142
    },
    "id": "f2bf2dbe",
    "outputId": "f44eae31-b934-4ec4-dd01-3a3070981965"
   },
   "outputs": [
    {
     "data": {
      "text/html": [
       "<div>\n",
       "<style scoped>\n",
       "    .dataframe tbody tr th:only-of-type {\n",
       "        vertical-align: middle;\n",
       "    }\n",
       "\n",
       "    .dataframe tbody tr th {\n",
       "        vertical-align: top;\n",
       "    }\n",
       "\n",
       "    .dataframe thead th {\n",
       "        text-align: right;\n",
       "    }\n",
       "</style>\n",
       "<table border=\"1\" class=\"dataframe\">\n",
       "  <thead>\n",
       "    <tr style=\"text-align: right;\">\n",
       "      <th></th>\n",
       "      <th>movie_title</th>\n",
       "      <th>genres</th>\n",
       "      <th>gross</th>\n",
       "    </tr>\n",
       "  </thead>\n",
       "  <tbody>\n",
       "    <tr>\n",
       "      <th>828</th>\n",
       "      <td>That's My Boy</td>\n",
       "      <td>Comedy</td>\n",
       "      <td>36931089.0</td>\n",
       "    </tr>\n",
       "    <tr>\n",
       "      <th>2391</th>\n",
       "      <td>Neighbors</td>\n",
       "      <td>Comedy</td>\n",
       "      <td>150056505.0</td>\n",
       "    </tr>\n",
       "    <tr>\n",
       "      <th>2972</th>\n",
       "      <td>Sorority Boys</td>\n",
       "      <td>Comedy</td>\n",
       "      <td>10198766.0</td>\n",
       "    </tr>\n",
       "  </tbody>\n",
       "</table>\n",
       "</div>"
      ],
      "text/plain": [
       "         movie_title  genres        gross\n",
       "828   That's My Boy   Comedy   36931089.0\n",
       "2391      Neighbors   Comedy  150056505.0\n",
       "2972  Sorority Boys   Comedy   10198766.0"
      ]
     },
     "execution_count": 162,
     "metadata": {},
     "output_type": "execute_result"
    }
   ],
   "source": [
    "#creating a dataframe with movies of drama genre\n",
    "Comedy_df=sample_df[sample_df['genres']=='Comedy']\n",
    "Comedy_df"
   ]
  },
  {
   "cell_type": "markdown",
   "id": "bf7fc4d2",
   "metadata": {
    "id": "bf7fc4d2"
   },
   "source": [
    "**My Null and Alternative Hypothesis**\n",
    "\n",
    "\n",
    "*H0: U1>U2  The gross returns for 'Drama'(U1) genre is more than 'Comedy'(U2)*\n",
    "   \n",
    "   *H1: U1<=U2 The gross returns for 'Drama'(U1) genre is less than or equal to'Comedy'(U2)*"
   ]
  },
  {
   "cell_type": "code",
   "execution_count": 163,
   "id": "7e8456a1",
   "metadata": {
    "id": "7e8456a1"
   },
   "outputs": [],
   "source": [
    "#imports\n",
    "from scipy import stats\n",
    "from statsmodels.stats import weightstats as stests"
   ]
  },
  {
   "cell_type": "code",
   "execution_count": 164,
   "id": "b08f9c57",
   "metadata": {
    "colab": {
     "base_uri": "https://localhost:8080/"
    },
    "id": "b08f9c57",
    "outputId": "e8064467-206c-42e9-adc0-6e09d66058d1"
   },
   "outputs": [
    {
     "name": "stdout",
     "output_type": "stream",
     "text": [
      "0.25332863227701885\n",
      "The gross returns for 'Drama'(U1) genre is more than 'Comedy'(U2)(Accept null hypothesis)\n"
     ]
    }
   ],
   "source": [
    "#Performing z-test\n",
    "ztest, pval1=stests.ztest(drama_df['gross'],x2=Comedy_df['gross'], value=0 )\n",
    "print(float(pval1))\n",
    "\n",
    "if pval1<0.05:\n",
    "    print(\"The gross returns for 'Drama'(U1) genre is less than or equal to'Comedy'(U2)(reject null hypothesis)\")\n",
    "else:\n",
    "    print(\"The gross returns for 'Drama'(U1) genre is more than 'Comedy'(U2)(Accept null hypothesis)\")"
   ]
  },
  {
   "cell_type": "markdown",
   "id": "2c0f8147",
   "metadata": {
    "id": "2c0f8147"
   },
   "source": [
    "## **Hypothesis Test 2**\n",
    "## **The gross returns for USA movies is greater than gross returns for UK movies** "
   ]
  },
  {
   "cell_type": "code",
   "execution_count": 165,
   "id": "3150f9ca",
   "metadata": {
    "id": "3150f9ca"
   },
   "outputs": [],
   "source": [
    "#creating a df and loading data\n",
    "Population_df1 = pd.read_csv(myfile,index_col=None)"
   ]
  },
  {
   "cell_type": "code",
   "execution_count": 166,
   "id": "cd762c3d",
   "metadata": {
    "colab": {
     "base_uri": "https://localhost:8080/"
    },
    "id": "cd762c3d",
    "outputId": "5caa22c6-9072-497a-f28f-59d6f52edd84"
   },
   "outputs": [
    {
     "data": {
      "text/plain": [
       "Index(['color', 'director_name', 'num_critic_for_reviews', 'duration',\n",
       "       'director_facebook_likes', 'actor_3_facebook_likes', 'actor_2_name',\n",
       "       'actor_1_facebook_likes', 'gross', 'genres', 'actor_1_name',\n",
       "       'movie_title', 'num_voted_users', 'cast_total_facebook_likes',\n",
       "       'actor_3_name', 'facenumber_in_poster', 'plot_keywords',\n",
       "       'movie_imdb_link', 'num_user_for_reviews', 'language', 'country',\n",
       "       'content_rating', 'budget', 'title_year', 'actor_2_facebook_likes',\n",
       "       'imdb_score', 'aspect_ratio', 'movie_facebook_likes'],\n",
       "      dtype='object')"
      ]
     },
     "execution_count": 166,
     "metadata": {},
     "output_type": "execute_result"
    }
   ],
   "source": [
    "#column info\n",
    "Population_df1.columns"
   ]
  },
  {
   "cell_type": "code",
   "execution_count": 167,
   "id": "2e869cbb",
   "metadata": {
    "id": "2e869cbb"
   },
   "outputs": [],
   "source": [
    "#extracing the columns of interest\n",
    "Population_df1=Population_df1[['country','gross','movie_title']]"
   ]
  },
  {
   "cell_type": "code",
   "execution_count": 168,
   "id": "3a8be5b9",
   "metadata": {
    "colab": {
     "base_uri": "https://localhost:8080/"
    },
    "id": "3a8be5b9",
    "outputId": "4f7c7048-c0dd-4d59-ce62-f6f241ee9ed7"
   },
   "outputs": [
    {
     "data": {
      "text/plain": [
       "124"
      ]
     },
     "execution_count": 168,
     "metadata": {},
     "output_type": "execute_result"
    }
   ],
   "source": [
    "#duplicate check\n",
    "Population_df1.duplicated().sum()"
   ]
  },
  {
   "cell_type": "code",
   "execution_count": 169,
   "id": "deaa5dc7",
   "metadata": {
    "id": "deaa5dc7"
   },
   "outputs": [],
   "source": [
    "#dropping duplicates\n",
    "Population_df1.drop_duplicates(inplace=True)"
   ]
  },
  {
   "cell_type": "code",
   "execution_count": 170,
   "id": "cd4c3df0",
   "metadata": {
    "colab": {
     "base_uri": "https://localhost:8080/"
    },
    "id": "cd4c3df0",
    "outputId": "35dfaffc-4b1a-48da-b6cd-3fb407979389"
   },
   "outputs": [
    {
     "data": {
      "text/plain": [
       "0"
      ]
     },
     "execution_count": 170,
     "metadata": {},
     "output_type": "execute_result"
    }
   ],
   "source": [
    "#ensuring no duplicates\n",
    "Population_df1.duplicated().sum()"
   ]
  },
  {
   "cell_type": "code",
   "execution_count": 171,
   "id": "479f72e8",
   "metadata": {
    "colab": {
     "base_uri": "https://localhost:8080/"
    },
    "id": "479f72e8",
    "outputId": "fcf5b391-eeec-407c-9119-9340efa09f21"
   },
   "outputs": [
    {
     "data": {
      "text/plain": [
       "country          5\n",
       "gross          863\n",
       "movie_title      0\n",
       "dtype: int64"
      ]
     },
     "execution_count": 171,
     "metadata": {},
     "output_type": "execute_result"
    }
   ],
   "source": [
    "#NaN check\n",
    "Population_df1.isnull().sum()"
   ]
  },
  {
   "cell_type": "code",
   "execution_count": 172,
   "id": "3ef4cebc",
   "metadata": {
    "id": "3ef4cebc"
   },
   "outputs": [],
   "source": [
    "#dropping NaN values\n",
    "Population_df1.dropna(inplace=True)"
   ]
  },
  {
   "cell_type": "code",
   "execution_count": 173,
   "id": "20b8da17",
   "metadata": {
    "colab": {
     "base_uri": "https://localhost:8080/"
    },
    "id": "20b8da17",
    "outputId": "458f47df-31ac-43c9-9f78-d586ba3eaecd"
   },
   "outputs": [
    {
     "data": {
      "text/plain": [
       "country        0\n",
       "gross          0\n",
       "movie_title    0\n",
       "dtype: int64"
      ]
     },
     "execution_count": 173,
     "metadata": {},
     "output_type": "execute_result"
    }
   ],
   "source": [
    "#ensuring no NaN values\n",
    "Population_df1.isnull().sum()"
   ]
  },
  {
   "cell_type": "code",
   "execution_count": 174,
   "id": "26b1ac3e",
   "metadata": {
    "colab": {
     "base_uri": "https://localhost:8080/",
     "height": 204
    },
    "id": "26b1ac3e",
    "outputId": "a2bff282-3914-4c1f-966c-bd6066f5a0ef"
   },
   "outputs": [
    {
     "data": {
      "text/html": [
       "<div>\n",
       "<style scoped>\n",
       "    .dataframe tbody tr th:only-of-type {\n",
       "        vertical-align: middle;\n",
       "    }\n",
       "\n",
       "    .dataframe tbody tr th {\n",
       "        vertical-align: top;\n",
       "    }\n",
       "\n",
       "    .dataframe thead th {\n",
       "        text-align: right;\n",
       "    }\n",
       "</style>\n",
       "<table border=\"1\" class=\"dataframe\">\n",
       "  <thead>\n",
       "    <tr style=\"text-align: right;\">\n",
       "      <th></th>\n",
       "      <th>country</th>\n",
       "      <th>gross</th>\n",
       "      <th>movie_title</th>\n",
       "    </tr>\n",
       "  </thead>\n",
       "  <tbody>\n",
       "    <tr>\n",
       "      <th>1845</th>\n",
       "      <td>USA</td>\n",
       "      <td>46455802.0</td>\n",
       "      <td>Final Destination 2</td>\n",
       "    </tr>\n",
       "    <tr>\n",
       "      <th>2925</th>\n",
       "      <td>USA</td>\n",
       "      <td>79568000.0</td>\n",
       "      <td>WarGames</td>\n",
       "    </tr>\n",
       "    <tr>\n",
       "      <th>4247</th>\n",
       "      <td>UK</td>\n",
       "      <td>24800000.0</td>\n",
       "      <td>From Russia with Love</td>\n",
       "    </tr>\n",
       "    <tr>\n",
       "      <th>2553</th>\n",
       "      <td>USA</td>\n",
       "      <td>33357476.0</td>\n",
       "      <td>See Spot Run</td>\n",
       "    </tr>\n",
       "    <tr>\n",
       "      <th>2274</th>\n",
       "      <td>USA</td>\n",
       "      <td>13630226.0</td>\n",
       "      <td>Crank: High Voltage</td>\n",
       "    </tr>\n",
       "  </tbody>\n",
       "</table>\n",
       "</div>"
      ],
      "text/plain": [
       "     country       gross             movie_title\n",
       "1845     USA  46455802.0    Final Destination 2 \n",
       "2925     USA  79568000.0               WarGames \n",
       "4247      UK  24800000.0  From Russia with Love \n",
       "2553     USA  33357476.0           See Spot Run \n",
       "2274     USA  13630226.0    Crank: High Voltage "
      ]
     },
     "execution_count": 174,
     "metadata": {},
     "output_type": "execute_result"
    }
   ],
   "source": [
    "#Picking a random sample of 30 records\n",
    "sample_df1=Population_df1.sample(n=30, random_state=60)\n",
    "sample_df1.head()"
   ]
  },
  {
   "cell_type": "code",
   "execution_count": 175,
   "id": "379aee33",
   "metadata": {
    "colab": {
     "base_uri": "https://localhost:8080/",
     "height": 204
    },
    "id": "379aee33",
    "outputId": "96690a41-d7c1-4530-e9d8-1ba05ab0a6b7"
   },
   "outputs": [
    {
     "data": {
      "text/html": [
       "<div>\n",
       "<style scoped>\n",
       "    .dataframe tbody tr th:only-of-type {\n",
       "        vertical-align: middle;\n",
       "    }\n",
       "\n",
       "    .dataframe tbody tr th {\n",
       "        vertical-align: top;\n",
       "    }\n",
       "\n",
       "    .dataframe thead th {\n",
       "        text-align: right;\n",
       "    }\n",
       "</style>\n",
       "<table border=\"1\" class=\"dataframe\">\n",
       "  <thead>\n",
       "    <tr style=\"text-align: right;\">\n",
       "      <th></th>\n",
       "      <th>country</th>\n",
       "      <th>gross</th>\n",
       "      <th>movie_title</th>\n",
       "    </tr>\n",
       "  </thead>\n",
       "  <tbody>\n",
       "    <tr>\n",
       "      <th>1845</th>\n",
       "      <td>USA</td>\n",
       "      <td>46455802.0</td>\n",
       "      <td>Final Destination 2</td>\n",
       "    </tr>\n",
       "    <tr>\n",
       "      <th>2925</th>\n",
       "      <td>USA</td>\n",
       "      <td>79568000.0</td>\n",
       "      <td>WarGames</td>\n",
       "    </tr>\n",
       "    <tr>\n",
       "      <th>2553</th>\n",
       "      <td>USA</td>\n",
       "      <td>33357476.0</td>\n",
       "      <td>See Spot Run</td>\n",
       "    </tr>\n",
       "    <tr>\n",
       "      <th>2274</th>\n",
       "      <td>USA</td>\n",
       "      <td>13630226.0</td>\n",
       "      <td>Crank: High Voltage</td>\n",
       "    </tr>\n",
       "    <tr>\n",
       "      <th>679</th>\n",
       "      <td>USA</td>\n",
       "      <td>36064910.0</td>\n",
       "      <td>Death Race</td>\n",
       "    </tr>\n",
       "  </tbody>\n",
       "</table>\n",
       "</div>"
      ],
      "text/plain": [
       "     country       gross           movie_title\n",
       "1845     USA  46455802.0  Final Destination 2 \n",
       "2925     USA  79568000.0             WarGames \n",
       "2553     USA  33357476.0         See Spot Run \n",
       "2274     USA  13630226.0  Crank: High Voltage \n",
       "679      USA  36064910.0           Death Race "
      ]
     },
     "execution_count": 175,
     "metadata": {},
     "output_type": "execute_result"
    }
   ],
   "source": [
    "#creating a dataframe with movies from USA\n",
    "USA_df=sample_df1[sample_df1['country']=='USA']\n",
    "USA_df.head()"
   ]
  },
  {
   "cell_type": "code",
   "execution_count": 176,
   "id": "dfe0ec13",
   "metadata": {
    "colab": {
     "base_uri": "https://localhost:8080/",
     "height": 173
    },
    "id": "dfe0ec13",
    "outputId": "b6f73c4c-1883-48a4-b54d-31ab4446b935"
   },
   "outputs": [
    {
     "data": {
      "text/html": [
       "<div>\n",
       "<style scoped>\n",
       "    .dataframe tbody tr th:only-of-type {\n",
       "        vertical-align: middle;\n",
       "    }\n",
       "\n",
       "    .dataframe tbody tr th {\n",
       "        vertical-align: top;\n",
       "    }\n",
       "\n",
       "    .dataframe thead th {\n",
       "        text-align: right;\n",
       "    }\n",
       "</style>\n",
       "<table border=\"1\" class=\"dataframe\">\n",
       "  <thead>\n",
       "    <tr style=\"text-align: right;\">\n",
       "      <th></th>\n",
       "      <th>country</th>\n",
       "      <th>gross</th>\n",
       "      <th>movie_title</th>\n",
       "    </tr>\n",
       "  </thead>\n",
       "  <tbody>\n",
       "    <tr>\n",
       "      <th>4247</th>\n",
       "      <td>UK</td>\n",
       "      <td>24800000.0</td>\n",
       "      <td>From Russia with Love</td>\n",
       "    </tr>\n",
       "    <tr>\n",
       "      <th>2811</th>\n",
       "      <td>UK</td>\n",
       "      <td>3958500.0</td>\n",
       "      <td>Mr. Turner</td>\n",
       "    </tr>\n",
       "    <tr>\n",
       "      <th>2858</th>\n",
       "      <td>UK</td>\n",
       "      <td>25440971.0</td>\n",
       "      <td>Ex Machina</td>\n",
       "    </tr>\n",
       "    <tr>\n",
       "      <th>2308</th>\n",
       "      <td>UK</td>\n",
       "      <td>6201757.0</td>\n",
       "      <td>Topsy-Turvy</td>\n",
       "    </tr>\n",
       "  </tbody>\n",
       "</table>\n",
       "</div>"
      ],
      "text/plain": [
       "     country       gross             movie_title\n",
       "4247      UK  24800000.0  From Russia with Love \n",
       "2811      UK   3958500.0             Mr. Turner \n",
       "2858      UK  25440971.0             Ex Machina \n",
       "2308      UK   6201757.0            Topsy-Turvy "
      ]
     },
     "execution_count": 176,
     "metadata": {},
     "output_type": "execute_result"
    }
   ],
   "source": [
    "#creating a dataframe with movies from UK\n",
    "UK_df=sample_df1[sample_df1['country']=='UK']\n",
    "UK_df"
   ]
  },
  {
   "cell_type": "markdown",
   "id": "0917c4e8",
   "metadata": {
    "id": "0917c4e8"
   },
   "source": [
    "**My Null and Alternative Hypothesis**\n",
    "\n",
    "\n",
    "*H0: U1>U2  The gross returns for USA movies is greater than gross returns for UK movies*\n",
    "   \n",
    "   *H1: U1<=U2 The gross returns for USA movies is less than or equal to gross returns for UK movies*"
   ]
  },
  {
   "cell_type": "code",
   "execution_count": 177,
   "id": "d6675d4a",
   "metadata": {
    "colab": {
     "base_uri": "https://localhost:8080/"
    },
    "id": "d6675d4a",
    "outputId": "981b68cb-496b-4f89-eb2a-00b4a221659b"
   },
   "outputs": [
    {
     "name": "stdout",
     "output_type": "stream",
     "text": [
      "0.30251259925150065\n",
      "The gross returns for USA movies is greater than gross returns for UK movies (Accept null hypothesis)\n"
     ]
    }
   ],
   "source": [
    "#performing z-test\n",
    "ztest, pval1=stests.ztest(USA_df['gross'],x2=UK_df['gross'], value=0 )\n",
    "print(float(pval1))\n",
    "\n",
    "if pval1<0.05:\n",
    "    print('The gross returns for USA movies is less than or equal to gross returns for UK movies(reject null hypothesis)')\n",
    "else:\n",
    "    print('The gross returns for USA movies is greater than gross returns for UK movies (Accept null hypothesis)')"
   ]
  },
  {
   "cell_type": "markdown",
   "id": "f90fe9f5",
   "metadata": {
    "id": "f90fe9f5"
   },
   "source": [
    "# **Summary**"
   ]
  },
  {
   "cell_type": "markdown",
   "id": "39f83138",
   "metadata": {
    "id": "39f83138"
   },
   "source": [
    "The purpose of this data analysis is to provide data driven recommendations to the SussexBudgetProductions company. This analysis will help the company to make insightful decisions regarding which movie they should produce in order to make good returns, within their specified budget."
   ]
  },
  {
   "cell_type": "markdown",
   "id": "c9d1905d",
   "metadata": {
    "id": "c9d1905d"
   },
   "source": [
    "## **Data Pre-processing**\n",
    "\n",
    "The column datatypes were checked to ensure columns are in their proper datatype i.e. strings/categorical values in object datatype and continuous values in int/float datatype. For an effective analysis the data should be free from null/NaN values. The data was screened for NaN values and found that it has Nan's in most of its columns. To avoid data loss the categorical null values are replaced by Mode and continuous values by their Median of their respective columns. The nulls in the budget and gross columns were dropped because replacing them with median would create outliers in the data. From a quick statistic summary of numeric data, the budget and gross columns were found to be with huge amounts of outliers which would affect the analysis, so the higher and lower quartiles were calculated and outliers were removed. Proceeding further, columns like 'color', and 'movie_imdb_link' were dropped from dataframe, which has less information and has very low impact on the analysis output. Now, the dataset is screened for duplicates and found there were few, and hence they were dropped for better analysis."
   ]
  },
  {
   "cell_type": "markdown",
   "id": "dc0ea2db",
   "metadata": {
    "id": "dc0ea2db"
   },
   "source": [
    "## **Exploratory Data Analysis**\n",
    "\n",
    "To understand which column/feature is impacting the return on investment of a movie, the correlation between the features is studied.**Correlation** refers to statistical relationship between two features. It tells us how a feature is changing with respect to change in another feature. Two features are said to be **positively correlated** if an increase/decrease in one causes increase/decrease in another. In the same way, two features are **negatively correlated**, when an increase in one feature causes decrease in another feature and vice versa. The relation between different features is found out by calculating their **Correlation Coefficient**. The Correlation Coefficient has a range from -1 to +1. A correlation coefficient value of +1 indicates a perfect positive correlation, -1 indicates a perfect negative correlation and 0 indicated no relation between the features evaluated. \n",
    "\n",
    "To analyse further, a column called **'ROI(%)'**(Return on Investment) is derived from the gross and budget columns and was added to the dataframe. The ROI is calculated as Net profit/loss to the initial investment(budget) multiplied by 100. Now, the categorical values correlation is a bit challenging to study, because they are in the string/object format. In order to tackle this, all the categorical values in the dataframe are converted into traceable numerical values using **LabelEncoder()** from sklearn.preprocessing. This LabelEncoder automatically assigns a unique value to all the unique data points in the column to which it is applied on. Since, the data has many categorical columns, Multiple column label encoding is done. \n",
    "\n",
    "After this, the dataframe is completely converted into numerical data points. Now, the correlation between the columns/features is visualised using seaborn **Heatmap**. The highest correlation feature pairs are extracted and it was found that column **'num_voted_users'** is positively correlated with **'gross'**, stating that the movies with higher user votes has higher gross returns. From this discovery, I sorted mean 'imdb_score','budget (in millions)','gross (in millions)', and 'ROI' across films by 'num_voted_users'. Set a minimum imdb_score of 8 and filtered the dataset according to that as we are interested in high rated movies. The resultant dataframe was again sorted by 'budget (in millions)'in order to get films which are in budget of 1.5 million. This output was finally sorted by 'ROI' which gave the movies with highest rates of return. \n",
    "\n",
    "Now, the data in the dataframe is encoded, in order to get the actual content of all categorical values. The dataframe was decoded into its original form using inverse_transform method, which assigns original categorical values to the datapoints. After this decoding, the columns like 'genres','country','imdb_score','language','title_year','gross (in millions)','budget (in millions)','ROI(%)' are added with final output which was sorted out by 'ROI' earlier. Now, the mean ROI and the number of movies in that genre of the final output is computed. The genres which have more films and good mean ROI are deemed to perform well at box office and bring the production company good returns. This gives the recommendations in which the production should invest in the upcoming financial year for greater return on investments."
   ]
  },
  {
   "cell_type": "markdown",
   "id": "6e9f5b4e",
   "metadata": {
    "id": "6e9f5b4e"
   },
   "source": [
    "## **Conclusion**\n",
    "\n",
    "From the observed outcome of the analysis, there are 3 recommendations in which the CEO of the SussexBudgetProductions company should consider investing for good returns.\n",
    "\n",
    "1.The genres like  ***Horror|Mystery|Thriller, Comedy|Crime, Crime|Drama|Thriller, Drama|Sport, Drama***  will really perform well at box office.\n",
    "\n",
    "2.The market of release for good returns is ***USA market***.\n",
    "\n",
    "3.The language in which the film is made should be ***'English'***\n",
    "\n",
    "And also to verify these recommendations hypothesis testing is done upon the top 2 above suggestions on a sample using a ztest, the outcome supports the analysis.\n"
   ]
  }
 ],
 "metadata": {
  "colab": {
   "collapsed_sections": [],
   "name": "Final copy of DSRM Report Week 7.ipynb",
   "provenance": []
  },
  "kernelspec": {
   "display_name": "Python 3",
   "language": "python",
   "name": "python3"
  },
  "language_info": {
   "codemirror_mode": {
    "name": "ipython",
    "version": 3
   },
   "file_extension": ".py",
   "mimetype": "text/x-python",
   "name": "python",
   "nbconvert_exporter": "python",
   "pygments_lexer": "ipython3",
   "version": "3.8.8"
  }
 },
 "nbformat": 4,
 "nbformat_minor": 5
}
